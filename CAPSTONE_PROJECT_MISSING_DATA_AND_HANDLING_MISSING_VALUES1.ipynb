{
  "cells": [
    {
      "cell_type": "markdown",
      "metadata": {
        "id": "view-in-github",
        "colab_type": "text"
      },
      "source": [
        "<a href=\"https://colab.research.google.com/github/Veyis1/Hello/blob/main/CAPSTONE_PROJECT_MISSING_DATA_AND_HANDLING_MISSING_VALUES1.ipynb\" target=\"_parent\"><img src=\"https://colab.research.google.com/assets/colab-badge.svg\" alt=\"Open In Colab\"/></a>"
      ]
    },
    {
      "cell_type": "markdown",
      "metadata": {
        "id": "Bkw3_pB0s1L-"
      },
      "source": [
        "___\n",
        "\n",
        "<p style=\"text-align: center;\"><img src=\"https://docs.google.com/uc?id=1lY0Uj5R04yMY3-ZppPWxqCr5pvBLYPnV\" class=\"img-fluid\"\n",
        "alt=\"CLRSWY\"></p>\n",
        "\n",
        "## <p style=\"background-color:#FDFEFE; font-family:newtimeroman; color:#9d4f8c; font-size:100%; text-align:center; border-radius:10px 10px;\">WAY TO REINVENT YOURSELF</p>\n",
        "\n",
        "## <p style=\"background-color:#FDFEFE; font-family:newtimeroman; color:#060108; font-size:200%; text-align:center; border-radius:10px 10px;\">DA & DVwPY</p>\n",
        "\n",
        "## <p style=\"background-color:#FDFEFE; font-family:newtimeroman; color:#060108; font-size:200%; text-align:center; border-radius:10px 10px;\">The Exploratory Data Analysis (EDA) Project</p>\n",
        "\n",
        "<img src=https://i.ibb.co/wJW61Y2/Used-cars.jpg width=\"700\" height=\"200\">\n",
        "\n",
        "## <p style=\"background-color:#FDFEFE; font-family:newtimeroman; color:#060108; font-size:200%; text-align:center; border-radius:10px 10px;\">AutoScout Car Price Prediction EDA</p>\n",
        "\n"
      ]
    },
    {
      "cell_type": "markdown",
      "metadata": {
        "id": "Z_oWczxZs1MA"
      },
      "source": [
        "## Introduction\n",
        "Welcome to \"***AutoScout Exploratory Data Analysis (EDA) Project***\". This is the project of completing ***Data Analysis & Data Visualization*** Courses and a successful hand-over is mandatory for getting certification for both courses. **Auto Scout** data used in this project scraped from the Website of an online car trading company in 2022, and contains many features of 13 different car makes including 594 models. In this project, you will have the opportunity to apply many commonly used algorithms for Data Cleaning and Exploratory Data Analysis by using a variety of Python libraries, such as Numpy, Pandas, Matplotlib, Seaborn, Scipy, and then you will get a clean dataset for your analysis and pretictive modelling in Machine Learning Path. So you will have the chance to use all the skills you have already learned in the Data Analysis and Visualization courses.\n",
        "\n",
        "**``In this context, the project consists of 3 parts in general:``**\n",
        "* **The first part** is related to ``'Data Cleaning'``. It deals with Incorrect Headers, Incorrect Format, Anomalies, and Dropping useless columns.\n",
        "* **The second part** is related to ``'Filling Data'``, in other words 'Imputation'. It deals with Missing Values. Categorical to numeric transformation, Encoding, is done as well.\n",
        "* **The third part** is related to ``'Handling Outliers of Data'`` via Visualization libraries. So, some insights will be extracted.\n",
        "\n",
        "**``SPECIAL NOTE:``**  However, you are ``free to create your own style``. You do ``NOT`` have to stick to the steps above. Nevertheless, we, the DA & DV instructors, recommend you study each part separately to create a source notebook for your further studies.\n",
        "\n",
        "In order to build your Portfolio in terms of the GitHub account, you need to push your solution file up to your own repository.\n",
        "\n",
        "Please after solving the task, commit your notebook to GitHub and submit its link to LMS page where the project is settled down.\n",
        "\n",
        "**BE NOTED:** Please ``DO NOT FORGET`` to click the submit button.\n",
        "\n",
        "### Some Reminders on Exploratory data analysis (EDA)\n",
        "\n",
        "Exploratory data analysis (EDA) is an especially important activity in the routine of a data analyst or scientist. It enables an in depth understanding of the dataset, define or discard hypotheses and create predictive models on a solid basis. It uses data manipulation techniques and several statistical tools to describe and understand the relationship between variables and how these can impact business. By means of EDA, we can obtain meaningful insights that can impact analysis under the following questions (If a checklist is good enough for pilots to use every flight, it’s good enough for data scientists to use with every dataset).\n",
        "1. What question are you trying to solve (or prove wrong)?\n",
        "2. What kind of data do you have?\n",
        "3. What’s missing from the data?\n",
        "4. Where are the outliers?\n",
        "5. How can you add, change or remove features to get more out of your data?\n",
        "\n",
        "**``Exploratory data analysis (EDA)``** is often an **iterative brainstorming process** where you pose a question, review the data, and develop further questions to investigate before beginning model development work. The image below shows how the brainstorming phase is connected with that of understanding the variables and how this in turn is connected again with the brainstorming phase.<br>\n",
        "\n",
        "<img src=https://i.ibb.co/k0MC950/EDA-Process.png width=\"300\" height=\"100\">\n",
        "\n",
        "[Image Credit: Andrew D.](https://towardsdatascience.com/exploratory-data-analysis-in-python-a-step-by-step-process-d0dfa6bf94ee)\n",
        "\n"
      ]
    },
    {
      "cell_type": "markdown",
      "metadata": {
        "id": "vvgJ5KWTs1MB"
      },
      "source": [
        "# PART- 1 `( Data Cleaning )`"
      ]
    },
    {
      "cell_type": "code",
      "execution_count": null,
      "metadata": {
        "id": "Y13_gId7s1MC"
      },
      "outputs": [],
      "source": [
        "import numpy as np\n",
        "import pandas as pd\n",
        "\n",
        "import seaborn as sns\n",
        "import matplotlib.pyplot as plt\n",
        "%matplotlib inline\n",
        "from collections import Counter\n",
        "import warnings\n",
        "warnings.filterwarnings('ignore')\n",
        "from matplotlib.patches import Patch\n",
        "from matplotlib.lines import Line2D\n",
        "\n",
        "from tqdm import tqdm\n",
        "tqdm.pandas()"
      ]
    },
    {
      "cell_type": "code",
      "execution_count": null,
      "metadata": {
        "id": "FMeobtQmT0eE"
      },
      "outputs": [],
      "source": [
        "import zipfile\n",
        "\n",
        "# Sıkıştırılmış dosyanın adı ve yolu\n",
        "zip_file_path = \"as24_cars.zip\"\n",
        "\n",
        "# ZIP dosyasını açma\n",
        "with zipfile.ZipFile(zip_file_path, 'r') as zip_ref:\n",
        "    # ZIP dosyasındaki JSON dosyasının adını al\n",
        "    json_file_name = zip_ref.namelist()[0]\n",
        "\n",
        "    # JSON dosyasını oku ve veri çerçevesine at\n",
        "    df0 = pd.read_json(zip_ref.open(json_file_name))\n",
        "\n",
        "# Veri çerçevesini df değişkenine kopyala\n",
        "df = df0.copy()"
      ]
    },
    {
      "cell_type": "code",
      "execution_count": null,
      "metadata": {
        "id": "CsKKSOqVT0eF"
      },
      "outputs": [],
      "source": []
    },
    {
      "cell_type": "code",
      "execution_count": null,
      "metadata": {
        "id": "NL8fDYamT0eF"
      },
      "outputs": [],
      "source": [
        "df0 = pd.read_json(\"as24_cars.zip\")\n",
        "df = df0.copy()"
      ]
    },
    {
      "cell_type": "code",
      "execution_count": null,
      "metadata": {
        "id": "1SD26P1XT0eF",
        "outputId": "411f4e93-be96-47e4-b334-4d885a585155"
      },
      "outputs": [
        {
          "name": "stdout",
          "output_type": "stream",
          "text": [
            "<class 'pandas.core.frame.DataFrame'>\n",
            "RangeIndex: 29480 entries, 0 to 29479\n",
            "Data columns (total 58 columns):\n",
            " #   Column                    Non-Null Count  Dtype  \n",
            "---  ------                    --------------  -----  \n",
            " 0   make_model                28630 non-null  object \n",
            " 1   short_description         28630 non-null  object \n",
            " 2   make                      28630 non-null  object \n",
            " 3   model                     28630 non-null  object \n",
            " 4   location                  28630 non-null  object \n",
            " 5   price                     28630 non-null  object \n",
            " 6   Body type                 28630 non-null  object \n",
            " 7   Type                      28630 non-null  object \n",
            " 8   Doors                     28271 non-null  object \n",
            " 9   Country version           16889 non-null  object \n",
            " 10  Offer number              23100 non-null  object \n",
            " 11  Warranty                  15784 non-null  object \n",
            " 12  Mileage                   28629 non-null  object \n",
            " 13  First registration        28628 non-null  object \n",
            " 14  Gearbox                   28382 non-null  object \n",
            " 15  Fuel type                 26843 non-null  object \n",
            " 16  Colour                    26906 non-null  object \n",
            " 17  Paint                     14495 non-null  object \n",
            " 18  desc                      28047 non-null  object \n",
            " 19  seller                    28630 non-null  object \n",
            " 20  Seats                     25505 non-null  object \n",
            " 21  Power                     28058 non-null  object \n",
            " 22  Engine size               27227 non-null  object \n",
            " 23  Gears                     18954 non-null  object \n",
            " 24  CO₂-emissions             18594 non-null  object \n",
            " 25  Manufacturer colour       21787 non-null  object \n",
            " 26  Drivetrain                16893 non-null  object \n",
            " 27  Cylinders                 18852 non-null  object \n",
            " 28  Fuel consumption          23385 non-null  object \n",
            " 29  \n",
            "Comfort & Convenience\n",
            "   25433 non-null  object \n",
            " 30  \n",
            "Entertainment & Media\n",
            "   23644 non-null  object \n",
            " 31  \n",
            "Safety & Security\n",
            "       25415 non-null  object \n",
            " 32  \n",
            "Extras\n",
            "                  23480 non-null  object \n",
            " 33  Empty weight              17758 non-null  object \n",
            " 34  Model code                8367 non-null   object \n",
            " 35  General inspection        12254 non-null  object \n",
            " 36  Last service              2003 non-null   object \n",
            " 37  Full service history      12565 non-null  object \n",
            " 38  Non-smoker vehicle        11594 non-null  object \n",
            " 39  Emission class            17859 non-null  object \n",
            " 40  Emissions sticker         9414 non-null   object \n",
            " 41  Upholstery colour         14569 non-null  object \n",
            " 42  Upholstery                18610 non-null  object \n",
            " 43  Production date           5908 non-null   float64\n",
            " 44  Previous owner            14015 non-null  object \n",
            " 45  Other fuel types          2313 non-null   object \n",
            " 46  Power consumption         515 non-null    object \n",
            " 47  Energy efficiency class   7804 non-null   object \n",
            " 48  CO₂-efficiency            7804 non-null   object \n",
            " 49  Fuel consumption (WLTP)   100 non-null    object \n",
            " 50  CO₂-emissions (WLTP)      116 non-null    object \n",
            " 51  Available from            393 non-null    object \n",
            " 52  Taxi or rental car        422 non-null    object \n",
            " 53  Availability              301 non-null    object \n",
            " 54  Last timing belt change   572 non-null    object \n",
            " 55  Electric Range (WLTP)     16 non-null     object \n",
            " 56  Power consumption (WLTP)  16 non-null     object \n",
            " 57  Battery Ownership         7 non-null      object \n",
            "dtypes: float64(1), object(57)\n",
            "memory usage: 13.0+ MB\n"
          ]
        }
      ],
      "source": [
        "df.info()"
      ]
    },
    {
      "cell_type": "code",
      "execution_count": null,
      "metadata": {
        "id": "LGzaLaqYT0eF",
        "outputId": "eafea8f6-4555-496e-ea85-062cbb0cee68"
      },
      "outputs": [
        {
          "data": {
            "text/html": [
              "<div>\n",
              "<style scoped>\n",
              "    .dataframe tbody tr th:only-of-type {\n",
              "        vertical-align: middle;\n",
              "    }\n",
              "\n",
              "    .dataframe tbody tr th {\n",
              "        vertical-align: top;\n",
              "    }\n",
              "\n",
              "    .dataframe thead th {\n",
              "        text-align: right;\n",
              "    }\n",
              "</style>\n",
              "<table border=\"1\" class=\"dataframe\">\n",
              "  <thead>\n",
              "    <tr style=\"text-align: right;\">\n",
              "      <th></th>\n",
              "      <th>0</th>\n",
              "      <th>1</th>\n",
              "      <th>2</th>\n",
              "    </tr>\n",
              "  </thead>\n",
              "  <tbody>\n",
              "    <tr>\n",
              "      <th>make_model</th>\n",
              "      <td>Mercedes-Benz A 160</td>\n",
              "      <td>Mercedes-Benz EQE 350</td>\n",
              "      <td>Mercedes-Benz A 45 AMG</td>\n",
              "    </tr>\n",
              "    <tr>\n",
              "      <th>short_description</th>\n",
              "      <td>CDi</td>\n",
              "      <td>350+</td>\n",
              "      <td>S 4Matic+ 8G-DCT</td>\n",
              "    </tr>\n",
              "    <tr>\n",
              "      <th>make</th>\n",
              "      <td>\\nMercedes-Benz\\n</td>\n",
              "      <td>\\nMercedes-Benz\\n</td>\n",
              "      <td>\\nMercedes-Benz\\n</td>\n",
              "    </tr>\n",
              "    <tr>\n",
              "      <th>model</th>\n",
              "      <td>[\\n, A 160 ,\\n]</td>\n",
              "      <td>[\\n, EQE 350 ,\\n]</td>\n",
              "      <td>[\\n, A 45 AMG ,\\n]</td>\n",
              "    </tr>\n",
              "    <tr>\n",
              "      <th>location</th>\n",
              "      <td>P.I. EL PALMAR C/FORJA 6,  11500 PUERTO DE SAN...</td>\n",
              "      <td>APARTADO DE CORREOS 1032,  26140 LOGROÑO, ES</td>\n",
              "      <td>PORT. TARRACO, MOLL DE LLEVANT, Nº 5, LOC. 6-8...</td>\n",
              "    </tr>\n",
              "    <tr>\n",
              "      <th>price</th>\n",
              "      <td>€ 16,950.-</td>\n",
              "      <td>€ 80,900.-</td>\n",
              "      <td>€ 69,900.-</td>\n",
              "    </tr>\n",
              "    <tr>\n",
              "      <th>Body type</th>\n",
              "      <td>[\\n, Compact, \\n]</td>\n",
              "      <td>[\\n, Compact, \\n]</td>\n",
              "      <td>[\\n, Compact, \\n]</td>\n",
              "    </tr>\n",
              "    <tr>\n",
              "      <th>Type</th>\n",
              "      <td>[\\n, Used, \\n]</td>\n",
              "      <td>[\\n, Pre-registered, \\n]</td>\n",
              "      <td>[\\n, Used, \\n]</td>\n",
              "    </tr>\n",
              "    <tr>\n",
              "      <th>Doors</th>\n",
              "      <td>[\\n, 5, \\n]</td>\n",
              "      <td>[\\n, 4, \\n]</td>\n",
              "      <td>[\\n, 5, \\n]</td>\n",
              "    </tr>\n",
              "    <tr>\n",
              "      <th>Country version</th>\n",
              "      <td>[\\n, Spain, \\n]</td>\n",
              "      <td>[\\n, Spain, \\n]</td>\n",
              "      <td>[\\n, Spain, \\n]</td>\n",
              "    </tr>\n",
              "    <tr>\n",
              "      <th>Offer number</th>\n",
              "      <td>[\\n, 7468157, \\n]</td>\n",
              "      <td>[\\n, 7054863, \\n]</td>\n",
              "      <td>[\\n, 7410454, \\n]</td>\n",
              "    </tr>\n",
              "    <tr>\n",
              "      <th>Warranty</th>\n",
              "      <td>[\\n, 24 months, \\n]</td>\n",
              "      <td>[\\n, 24 months, \\n]</td>\n",
              "      <td>[\\n, 12 months, \\n]</td>\n",
              "    </tr>\n",
              "    <tr>\n",
              "      <th>Mileage</th>\n",
              "      <td>120,200 km</td>\n",
              "      <td>5,000 km</td>\n",
              "      <td>18,900 km</td>\n",
              "    </tr>\n",
              "    <tr>\n",
              "      <th>First registration</th>\n",
              "      <td>06/2016</td>\n",
              "      <td>06/2022</td>\n",
              "      <td>07/2020</td>\n",
              "    </tr>\n",
              "    <tr>\n",
              "      <th>Gearbox</th>\n",
              "      <td>[\\nManual\\n]</td>\n",
              "      <td>[\\nAutomatic\\n]</td>\n",
              "      <td>[\\nAutomatic\\n]</td>\n",
              "    </tr>\n",
              "    <tr>\n",
              "      <th>Fuel type</th>\n",
              "      <td>Diesel</td>\n",
              "      <td>Electric</td>\n",
              "      <td>Gasoline</td>\n",
              "    </tr>\n",
              "    <tr>\n",
              "      <th>Colour</th>\n",
              "      <td>Black</td>\n",
              "      <td>NaN</td>\n",
              "      <td>Grey</td>\n",
              "    </tr>\n",
              "    <tr>\n",
              "      <th>Paint</th>\n",
              "      <td>Metallic</td>\n",
              "      <td>NaN</td>\n",
              "      <td>NaN</td>\n",
              "    </tr>\n",
              "    <tr>\n",
              "      <th>desc</th>\n",
              "      <td>[ , Precio al contado: 16950 euros,  ,  , Vehí...</td>\n",
              "      <td>[ , Precio al contado: 88900 euros,  , AUTO OJ...</td>\n",
              "      <td>[Gris MANUFAKTUR mountaingrau magno,  , Linea/...</td>\n",
              "    </tr>\n",
              "    <tr>\n",
              "      <th>seller</th>\n",
              "      <td>Dealer</td>\n",
              "      <td>Dealer</td>\n",
              "      <td>Dealer</td>\n",
              "    </tr>\n",
              "    <tr>\n",
              "      <th>Seats</th>\n",
              "      <td>NaN</td>\n",
              "      <td>[\\n, 5, \\n]</td>\n",
              "      <td>[\\n, 5, \\n]</td>\n",
              "    </tr>\n",
              "    <tr>\n",
              "      <th>Power</th>\n",
              "      <td>NaN</td>\n",
              "      <td>[\\n215 kW (292 hp)\\n]</td>\n",
              "      <td>[\\n310 kW (421 hp)\\n]</td>\n",
              "    </tr>\n",
              "    <tr>\n",
              "      <th>Engine size</th>\n",
              "      <td>NaN</td>\n",
              "      <td>[\\n1 cc\\n]</td>\n",
              "      <td>[\\n1,991 cc\\n]</td>\n",
              "    </tr>\n",
              "    <tr>\n",
              "      <th>Gears</th>\n",
              "      <td>NaN</td>\n",
              "      <td>[\\n9\\n]</td>\n",
              "      <td>[\\n8\\n]</td>\n",
              "    </tr>\n",
              "    <tr>\n",
              "      <th>CO₂-emissions</th>\n",
              "      <td>NaN</td>\n",
              "      <td>0 g/km (comb.)</td>\n",
              "      <td>NaN</td>\n",
              "    </tr>\n",
              "    <tr>\n",
              "      <th>Manufacturer colour</th>\n",
              "      <td>NaN</td>\n",
              "      <td>Negro Obsidiana</td>\n",
              "      <td>Mountaingrau magno</td>\n",
              "    </tr>\n",
              "    <tr>\n",
              "      <th>Drivetrain</th>\n",
              "      <td>NaN</td>\n",
              "      <td>NaN</td>\n",
              "      <td>[\\n, 4WD, \\n]</td>\n",
              "    </tr>\n",
              "    <tr>\n",
              "      <th>Cylinders</th>\n",
              "      <td>NaN</td>\n",
              "      <td>NaN</td>\n",
              "      <td>[\\n4\\n]</td>\n",
              "    </tr>\n",
              "    <tr>\n",
              "      <th>Fuel consumption</th>\n",
              "      <td>NaN</td>\n",
              "      <td>NaN</td>\n",
              "      <td>[[8.4 l/100 km (comb.)], [10.9 l/100 km (city)...</td>\n",
              "    </tr>\n",
              "    <tr>\n",
              "      <th>\\nComfort &amp; Convenience\\n</th>\n",
              "      <td>NaN</td>\n",
              "      <td>NaN</td>\n",
              "      <td>NaN</td>\n",
              "    </tr>\n",
              "    <tr>\n",
              "      <th>\\nEntertainment &amp; Media\\n</th>\n",
              "      <td>NaN</td>\n",
              "      <td>NaN</td>\n",
              "      <td>NaN</td>\n",
              "    </tr>\n",
              "    <tr>\n",
              "      <th>\\nSafety &amp; Security\\n</th>\n",
              "      <td>NaN</td>\n",
              "      <td>NaN</td>\n",
              "      <td>NaN</td>\n",
              "    </tr>\n",
              "    <tr>\n",
              "      <th>\\nExtras\\n</th>\n",
              "      <td>NaN</td>\n",
              "      <td>NaN</td>\n",
              "      <td>NaN</td>\n",
              "    </tr>\n",
              "    <tr>\n",
              "      <th>Empty weight</th>\n",
              "      <td>NaN</td>\n",
              "      <td>NaN</td>\n",
              "      <td>NaN</td>\n",
              "    </tr>\n",
              "    <tr>\n",
              "      <th>Model code</th>\n",
              "      <td>NaN</td>\n",
              "      <td>NaN</td>\n",
              "      <td>NaN</td>\n",
              "    </tr>\n",
              "    <tr>\n",
              "      <th>General inspection</th>\n",
              "      <td>NaN</td>\n",
              "      <td>NaN</td>\n",
              "      <td>NaN</td>\n",
              "    </tr>\n",
              "    <tr>\n",
              "      <th>Last service</th>\n",
              "      <td>NaN</td>\n",
              "      <td>NaN</td>\n",
              "      <td>NaN</td>\n",
              "    </tr>\n",
              "    <tr>\n",
              "      <th>Full service history</th>\n",
              "      <td>NaN</td>\n",
              "      <td>NaN</td>\n",
              "      <td>NaN</td>\n",
              "    </tr>\n",
              "    <tr>\n",
              "      <th>Non-smoker vehicle</th>\n",
              "      <td>NaN</td>\n",
              "      <td>NaN</td>\n",
              "      <td>NaN</td>\n",
              "    </tr>\n",
              "    <tr>\n",
              "      <th>Emission class</th>\n",
              "      <td>NaN</td>\n",
              "      <td>NaN</td>\n",
              "      <td>NaN</td>\n",
              "    </tr>\n",
              "    <tr>\n",
              "      <th>Emissions sticker</th>\n",
              "      <td>NaN</td>\n",
              "      <td>NaN</td>\n",
              "      <td>NaN</td>\n",
              "    </tr>\n",
              "    <tr>\n",
              "      <th>Upholstery colour</th>\n",
              "      <td>NaN</td>\n",
              "      <td>NaN</td>\n",
              "      <td>NaN</td>\n",
              "    </tr>\n",
              "    <tr>\n",
              "      <th>Upholstery</th>\n",
              "      <td>NaN</td>\n",
              "      <td>NaN</td>\n",
              "      <td>NaN</td>\n",
              "    </tr>\n",
              "    <tr>\n",
              "      <th>Production date</th>\n",
              "      <td>NaN</td>\n",
              "      <td>NaN</td>\n",
              "      <td>NaN</td>\n",
              "    </tr>\n",
              "    <tr>\n",
              "      <th>Previous owner</th>\n",
              "      <td>NaN</td>\n",
              "      <td>NaN</td>\n",
              "      <td>NaN</td>\n",
              "    </tr>\n",
              "    <tr>\n",
              "      <th>Other fuel types</th>\n",
              "      <td>NaN</td>\n",
              "      <td>NaN</td>\n",
              "      <td>NaN</td>\n",
              "    </tr>\n",
              "    <tr>\n",
              "      <th>Power consumption</th>\n",
              "      <td>NaN</td>\n",
              "      <td>NaN</td>\n",
              "      <td>NaN</td>\n",
              "    </tr>\n",
              "    <tr>\n",
              "      <th>Energy efficiency class</th>\n",
              "      <td>NaN</td>\n",
              "      <td>NaN</td>\n",
              "      <td>NaN</td>\n",
              "    </tr>\n",
              "    <tr>\n",
              "      <th>CO₂-efficiency</th>\n",
              "      <td>NaN</td>\n",
              "      <td>NaN</td>\n",
              "      <td>NaN</td>\n",
              "    </tr>\n",
              "    <tr>\n",
              "      <th>Fuel consumption (WLTP)</th>\n",
              "      <td>NaN</td>\n",
              "      <td>NaN</td>\n",
              "      <td>NaN</td>\n",
              "    </tr>\n",
              "    <tr>\n",
              "      <th>CO₂-emissions (WLTP)</th>\n",
              "      <td>NaN</td>\n",
              "      <td>NaN</td>\n",
              "      <td>NaN</td>\n",
              "    </tr>\n",
              "    <tr>\n",
              "      <th>Available from</th>\n",
              "      <td>NaN</td>\n",
              "      <td>NaN</td>\n",
              "      <td>NaN</td>\n",
              "    </tr>\n",
              "    <tr>\n",
              "      <th>Taxi or rental car</th>\n",
              "      <td>NaN</td>\n",
              "      <td>NaN</td>\n",
              "      <td>NaN</td>\n",
              "    </tr>\n",
              "    <tr>\n",
              "      <th>Availability</th>\n",
              "      <td>NaN</td>\n",
              "      <td>NaN</td>\n",
              "      <td>NaN</td>\n",
              "    </tr>\n",
              "    <tr>\n",
              "      <th>Last timing belt change</th>\n",
              "      <td>NaN</td>\n",
              "      <td>NaN</td>\n",
              "      <td>NaN</td>\n",
              "    </tr>\n",
              "    <tr>\n",
              "      <th>Electric Range (WLTP)</th>\n",
              "      <td>NaN</td>\n",
              "      <td>NaN</td>\n",
              "      <td>NaN</td>\n",
              "    </tr>\n",
              "    <tr>\n",
              "      <th>Power consumption (WLTP)</th>\n",
              "      <td>NaN</td>\n",
              "      <td>NaN</td>\n",
              "      <td>NaN</td>\n",
              "    </tr>\n",
              "    <tr>\n",
              "      <th>Battery Ownership</th>\n",
              "      <td>NaN</td>\n",
              "      <td>NaN</td>\n",
              "      <td>NaN</td>\n",
              "    </tr>\n",
              "  </tbody>\n",
              "</table>\n",
              "</div>"
            ],
            "text/plain": [
              "                                                                           0  \\\n",
              "make_model                                               Mercedes-Benz A 160   \n",
              "short_description                                                        CDi   \n",
              "make                                                       \\nMercedes-Benz\\n   \n",
              "model                                                        [\\n, A 160 ,\\n]   \n",
              "location                   P.I. EL PALMAR C/FORJA 6,  11500 PUERTO DE SAN...   \n",
              "price                                                             € 16,950.-   \n",
              "Body type                                                  [\\n, Compact, \\n]   \n",
              "Type                                                          [\\n, Used, \\n]   \n",
              "Doors                                                            [\\n, 5, \\n]   \n",
              "Country version                                              [\\n, Spain, \\n]   \n",
              "Offer number                                               [\\n, 7468157, \\n]   \n",
              "Warranty                                                 [\\n, 24 months, \\n]   \n",
              "Mileage                                                           120,200 km   \n",
              "First registration                                                   06/2016   \n",
              "Gearbox                                                         [\\nManual\\n]   \n",
              "Fuel type                                                             Diesel   \n",
              "Colour                                                                 Black   \n",
              "Paint                                                               Metallic   \n",
              "desc                       [ , Precio al contado: 16950 euros,  ,  , Vehí...   \n",
              "seller                                                                Dealer   \n",
              "Seats                                                                    NaN   \n",
              "Power                                                                    NaN   \n",
              "Engine size                                                              NaN   \n",
              "Gears                                                                    NaN   \n",
              "CO₂-emissions                                                            NaN   \n",
              "Manufacturer colour                                                      NaN   \n",
              "Drivetrain                                                               NaN   \n",
              "Cylinders                                                                NaN   \n",
              "Fuel consumption                                                         NaN   \n",
              "\\nComfort & Convenience\\n                                                NaN   \n",
              "\\nEntertainment & Media\\n                                                NaN   \n",
              "\\nSafety & Security\\n                                                    NaN   \n",
              "\\nExtras\\n                                                               NaN   \n",
              "Empty weight                                                             NaN   \n",
              "Model code                                                               NaN   \n",
              "General inspection                                                       NaN   \n",
              "Last service                                                             NaN   \n",
              "Full service history                                                     NaN   \n",
              "Non-smoker vehicle                                                       NaN   \n",
              "Emission class                                                           NaN   \n",
              "Emissions sticker                                                        NaN   \n",
              "Upholstery colour                                                        NaN   \n",
              "Upholstery                                                               NaN   \n",
              "Production date                                                          NaN   \n",
              "Previous owner                                                           NaN   \n",
              "Other fuel types                                                         NaN   \n",
              "Power consumption                                                        NaN   \n",
              "Energy efficiency class                                                  NaN   \n",
              "CO₂-efficiency                                                           NaN   \n",
              "Fuel consumption (WLTP)                                                  NaN   \n",
              "CO₂-emissions (WLTP)                                                     NaN   \n",
              "Available from                                                           NaN   \n",
              "Taxi or rental car                                                       NaN   \n",
              "Availability                                                             NaN   \n",
              "Last timing belt change                                                  NaN   \n",
              "Electric Range (WLTP)                                                    NaN   \n",
              "Power consumption (WLTP)                                                 NaN   \n",
              "Battery Ownership                                                        NaN   \n",
              "\n",
              "                                                                           1  \\\n",
              "make_model                                             Mercedes-Benz EQE 350   \n",
              "short_description                                                       350+   \n",
              "make                                                       \\nMercedes-Benz\\n   \n",
              "model                                                      [\\n, EQE 350 ,\\n]   \n",
              "location                        APARTADO DE CORREOS 1032,  26140 LOGROÑO, ES   \n",
              "price                                                             € 80,900.-   \n",
              "Body type                                                  [\\n, Compact, \\n]   \n",
              "Type                                                [\\n, Pre-registered, \\n]   \n",
              "Doors                                                            [\\n, 4, \\n]   \n",
              "Country version                                              [\\n, Spain, \\n]   \n",
              "Offer number                                               [\\n, 7054863, \\n]   \n",
              "Warranty                                                 [\\n, 24 months, \\n]   \n",
              "Mileage                                                             5,000 km   \n",
              "First registration                                                   06/2022   \n",
              "Gearbox                                                      [\\nAutomatic\\n]   \n",
              "Fuel type                                                           Electric   \n",
              "Colour                                                                   NaN   \n",
              "Paint                                                                    NaN   \n",
              "desc                       [ , Precio al contado: 88900 euros,  , AUTO OJ...   \n",
              "seller                                                                Dealer   \n",
              "Seats                                                            [\\n, 5, \\n]   \n",
              "Power                                                  [\\n215 kW (292 hp)\\n]   \n",
              "Engine size                                                       [\\n1 cc\\n]   \n",
              "Gears                                                                [\\n9\\n]   \n",
              "CO₂-emissions                                                 0 g/km (comb.)   \n",
              "Manufacturer colour                                          Negro Obsidiana   \n",
              "Drivetrain                                                               NaN   \n",
              "Cylinders                                                                NaN   \n",
              "Fuel consumption                                                         NaN   \n",
              "\\nComfort & Convenience\\n                                                NaN   \n",
              "\\nEntertainment & Media\\n                                                NaN   \n",
              "\\nSafety & Security\\n                                                    NaN   \n",
              "\\nExtras\\n                                                               NaN   \n",
              "Empty weight                                                             NaN   \n",
              "Model code                                                               NaN   \n",
              "General inspection                                                       NaN   \n",
              "Last service                                                             NaN   \n",
              "Full service history                                                     NaN   \n",
              "Non-smoker vehicle                                                       NaN   \n",
              "Emission class                                                           NaN   \n",
              "Emissions sticker                                                        NaN   \n",
              "Upholstery colour                                                        NaN   \n",
              "Upholstery                                                               NaN   \n",
              "Production date                                                          NaN   \n",
              "Previous owner                                                           NaN   \n",
              "Other fuel types                                                         NaN   \n",
              "Power consumption                                                        NaN   \n",
              "Energy efficiency class                                                  NaN   \n",
              "CO₂-efficiency                                                           NaN   \n",
              "Fuel consumption (WLTP)                                                  NaN   \n",
              "CO₂-emissions (WLTP)                                                     NaN   \n",
              "Available from                                                           NaN   \n",
              "Taxi or rental car                                                       NaN   \n",
              "Availability                                                             NaN   \n",
              "Last timing belt change                                                  NaN   \n",
              "Electric Range (WLTP)                                                    NaN   \n",
              "Power consumption (WLTP)                                                 NaN   \n",
              "Battery Ownership                                                        NaN   \n",
              "\n",
              "                                                                           2  \n",
              "make_model                                            Mercedes-Benz A 45 AMG  \n",
              "short_description                                           S 4Matic+ 8G-DCT  \n",
              "make                                                       \\nMercedes-Benz\\n  \n",
              "model                                                     [\\n, A 45 AMG ,\\n]  \n",
              "location                   PORT. TARRACO, MOLL DE LLEVANT, Nº 5, LOC. 6-8...  \n",
              "price                                                             € 69,900.-  \n",
              "Body type                                                  [\\n, Compact, \\n]  \n",
              "Type                                                          [\\n, Used, \\n]  \n",
              "Doors                                                            [\\n, 5, \\n]  \n",
              "Country version                                              [\\n, Spain, \\n]  \n",
              "Offer number                                               [\\n, 7410454, \\n]  \n",
              "Warranty                                                 [\\n, 12 months, \\n]  \n",
              "Mileage                                                            18,900 km  \n",
              "First registration                                                   07/2020  \n",
              "Gearbox                                                      [\\nAutomatic\\n]  \n",
              "Fuel type                                                           Gasoline  \n",
              "Colour                                                                  Grey  \n",
              "Paint                                                                    NaN  \n",
              "desc                       [Gris MANUFAKTUR mountaingrau magno,  , Linea/...  \n",
              "seller                                                                Dealer  \n",
              "Seats                                                            [\\n, 5, \\n]  \n",
              "Power                                                  [\\n310 kW (421 hp)\\n]  \n",
              "Engine size                                                   [\\n1,991 cc\\n]  \n",
              "Gears                                                                [\\n8\\n]  \n",
              "CO₂-emissions                                                            NaN  \n",
              "Manufacturer colour                                       Mountaingrau magno  \n",
              "Drivetrain                                                     [\\n, 4WD, \\n]  \n",
              "Cylinders                                                            [\\n4\\n]  \n",
              "Fuel consumption           [[8.4 l/100 km (comb.)], [10.9 l/100 km (city)...  \n",
              "\\nComfort & Convenience\\n                                                NaN  \n",
              "\\nEntertainment & Media\\n                                                NaN  \n",
              "\\nSafety & Security\\n                                                    NaN  \n",
              "\\nExtras\\n                                                               NaN  \n",
              "Empty weight                                                             NaN  \n",
              "Model code                                                               NaN  \n",
              "General inspection                                                       NaN  \n",
              "Last service                                                             NaN  \n",
              "Full service history                                                     NaN  \n",
              "Non-smoker vehicle                                                       NaN  \n",
              "Emission class                                                           NaN  \n",
              "Emissions sticker                                                        NaN  \n",
              "Upholstery colour                                                        NaN  \n",
              "Upholstery                                                               NaN  \n",
              "Production date                                                          NaN  \n",
              "Previous owner                                                           NaN  \n",
              "Other fuel types                                                         NaN  \n",
              "Power consumption                                                        NaN  \n",
              "Energy efficiency class                                                  NaN  \n",
              "CO₂-efficiency                                                           NaN  \n",
              "Fuel consumption (WLTP)                                                  NaN  \n",
              "CO₂-emissions (WLTP)                                                     NaN  \n",
              "Available from                                                           NaN  \n",
              "Taxi or rental car                                                       NaN  \n",
              "Availability                                                             NaN  \n",
              "Last timing belt change                                                  NaN  \n",
              "Electric Range (WLTP)                                                    NaN  \n",
              "Power consumption (WLTP)                                                 NaN  \n",
              "Battery Ownership                                                        NaN  "
            ]
          },
          "execution_count": 1713,
          "metadata": {},
          "output_type": "execute_result"
        }
      ],
      "source": [
        "df.head(3).T"
      ]
    },
    {
      "cell_type": "code",
      "execution_count": null,
      "metadata": {
        "id": "gI53-0PiT0eG",
        "outputId": "d1499b42-948b-4e60-8b9b-23ce8ec7404a"
      },
      "outputs": [
        {
          "data": {
            "text/html": [
              "<div>\n",
              "<style scoped>\n",
              "    .dataframe tbody tr th:only-of-type {\n",
              "        vertical-align: middle;\n",
              "    }\n",
              "\n",
              "    .dataframe tbody tr th {\n",
              "        vertical-align: top;\n",
              "    }\n",
              "\n",
              "    .dataframe thead th {\n",
              "        text-align: right;\n",
              "    }\n",
              "</style>\n",
              "<table border=\"1\" class=\"dataframe\">\n",
              "  <thead>\n",
              "    <tr style=\"text-align: right;\">\n",
              "      <th></th>\n",
              "      <th>Production date</th>\n",
              "    </tr>\n",
              "  </thead>\n",
              "  <tbody>\n",
              "    <tr>\n",
              "      <th>count</th>\n",
              "      <td>5908.000000</td>\n",
              "    </tr>\n",
              "    <tr>\n",
              "      <th>mean</th>\n",
              "      <td>2017.998307</td>\n",
              "    </tr>\n",
              "    <tr>\n",
              "      <th>std</th>\n",
              "      <td>6.492980</td>\n",
              "    </tr>\n",
              "    <tr>\n",
              "      <th>min</th>\n",
              "      <td>1954.000000</td>\n",
              "    </tr>\n",
              "    <tr>\n",
              "      <th>25%</th>\n",
              "      <td>2018.000000</td>\n",
              "    </tr>\n",
              "    <tr>\n",
              "      <th>50%</th>\n",
              "      <td>2019.000000</td>\n",
              "    </tr>\n",
              "    <tr>\n",
              "      <th>75%</th>\n",
              "      <td>2021.000000</td>\n",
              "    </tr>\n",
              "    <tr>\n",
              "      <th>max</th>\n",
              "      <td>2022.000000</td>\n",
              "    </tr>\n",
              "  </tbody>\n",
              "</table>\n",
              "</div>"
            ],
            "text/plain": [
              "       Production date\n",
              "count      5908.000000\n",
              "mean       2017.998307\n",
              "std           6.492980\n",
              "min        1954.000000\n",
              "25%        2018.000000\n",
              "50%        2019.000000\n",
              "75%        2021.000000\n",
              "max        2022.000000"
            ]
          },
          "execution_count": 1073,
          "metadata": {},
          "output_type": "execute_result"
        }
      ],
      "source": [
        "df.describe()\n"
      ]
    },
    {
      "cell_type": "code",
      "execution_count": null,
      "metadata": {
        "id": "G2Km3BU8T0eG",
        "outputId": "b4b092d7-5861-40ad-de1d-981fbbec9aa1"
      },
      "outputs": [
        {
          "data": {
            "text/plain": [
              "make_model                   0.028833\n",
              "short_description            0.028833\n",
              "make                         0.028833\n",
              "model                        0.028833\n",
              "location                     0.028833\n",
              "price                        0.028833\n",
              "Body type                    0.028833\n",
              "Type                         0.028833\n",
              "Doors                        0.041011\n",
              "Country version              0.427103\n",
              "Offer number                 0.216418\n",
              "Warranty                     0.464586\n",
              "Mileage                      0.028867\n",
              "First registration           0.028901\n",
              "Gearbox                      0.037246\n",
              "Fuel type                    0.089450\n",
              "Colour                       0.087313\n",
              "Paint                        0.508311\n",
              "desc                         0.048609\n",
              "seller                       0.028833\n",
              "Seats                        0.134837\n",
              "Power                        0.048236\n",
              "Engine size                  0.076425\n",
              "Gears                        0.357056\n",
              "CO₂-emissions                0.369267\n",
              "Manufacturer colour          0.260957\n",
              "Drivetrain                   0.426967\n",
              "Cylinders                    0.360516\n",
              "Fuel consumption             0.206750\n",
              "\\nComfort & Convenience\\n    0.137280\n",
              "\\nEntertainment & Media\\n    0.197965\n",
              "\\nSafety & Security\\n        0.137890\n",
              "\\nExtras\\n                   0.203528\n",
              "Empty weight                 0.397626\n",
              "Model code                   0.716180\n",
              "General inspection           0.584328\n",
              "Last service                 0.932056\n",
              "Full service history         0.573779\n",
              "Non-smoker vehicle           0.606716\n",
              "Emission class               0.394199\n",
              "Emissions sticker            0.680665\n",
              "Upholstery colour            0.505801\n",
              "Upholstery                   0.368725\n",
              "Production date              0.799593\n",
              "Previous owner               0.524593\n",
              "Other fuel types             0.921540\n",
              "Power consumption            0.982531\n",
              "Energy efficiency class      0.735278\n",
              "CO₂-efficiency               0.735278\n",
              "Fuel consumption (WLTP)      0.996608\n",
              "CO₂-emissions (WLTP)         0.996065\n",
              "Available from               0.986669\n",
              "Taxi or rental car           0.985685\n",
              "Availability                 0.989790\n",
              "Last timing belt change      0.980597\n",
              "Electric Range (WLTP)        0.999457\n",
              "Power consumption (WLTP)     0.999457\n",
              "Battery Ownership            0.999763\n",
              "dtype: float64"
            ]
          },
          "execution_count": 1714,
          "metadata": {},
          "output_type": "execute_result"
        }
      ],
      "source": [
        "df.isnull().mean() #df deki eksik sütünlarin % desini hesaplar"
      ]
    },
    {
      "cell_type": "code",
      "execution_count": null,
      "metadata": {
        "id": "hZh8xm5WT0eG"
      },
      "outputs": [],
      "source": [
        "def show_nulls(data):\n",
        "    plt.figure(figsize=(16, 15))\n",
        "   # missing_counts = data.isnull().sum()\n",
        "    #missing_percentages = (missing_counts / len(data)) * 100\n",
        "    #missing_data = pd.DataFrame({'Variable': missing_counts.index, 'Missing': missing_percentages.values})\n",
        "\n",
        "    sns.barplot(x=data.isnull().mean().values, y=data.isnull().sum().index)\n",
        "    plt.xlabel('Missing Percentage')\n",
        "    plt.ylabel('Variable')\n",
        "    plt.title('Missing Values')\n",
        "    plt.show()"
      ]
    },
    {
      "cell_type": "code",
      "execution_count": null,
      "metadata": {
        "id": "EwLQb1PzT0eG",
        "outputId": "c430d735-dad7-4177-da74-7344f089228a"
      },
      "outputs": [
        {
          "data": {
            "image/png": "[encoded data removed]",
            "text/plain": [
              "<Figure size 1152x1080 with 1 Axes>"
            ]
          },
          "metadata": {
            "needs_background": "light"
          },
          "output_type": "display_data"
        }
      ],
      "source": [
        "  show_nulls(df)"
      ]
    },
    {
      "cell_type": "code",
      "execution_count": null,
      "metadata": {
        "id": "eMwSlKXAT0eG"
      },
      "outputs": [],
      "source": []
    },
    {
      "cell_type": "code",
      "execution_count": null,
      "metadata": {
        "id": "z_1CCHawT0eG"
      },
      "outputs": [],
      "source": [
        "#df.isnull().melt() ifadesi, DataFrame'deki eksik değerlerin tablo şeklinde gösterilmesini sağlar."
      ]
    },
    {
      "cell_type": "code",
      "execution_count": null,
      "metadata": {
        "id": "HLwaR7kqT0eH"
      },
      "outputs": [],
      "source": []
    },
    {
      "cell_type": "code",
      "execution_count": null,
      "metadata": {
        "id": "Ke67MaqJT0eH"
      },
      "outputs": [],
      "source": [
        "def show_nulls1(data):\n",
        "    plt.figure(figsize=(16, 15))\n",
        "\n",
        "    melted_data = data.isnull().melt(value_name=\"missing\")\n",
        "\n",
        "    sns.countplot(data=melted_data,\n",
        "                  y=\"variable\",\n",
        "                  hue=\"missing\",\n",
        "                  palette=[\"turquoise\", \"blue\"])\n",
        "\n",
        "    plt.show()"
      ]
    },
    {
      "cell_type": "code",
      "execution_count": null,
      "metadata": {
        "id": "1LMOAXhST0eH"
      },
      "outputs": [],
      "source": []
    },
    {
      "cell_type": "code",
      "execution_count": null,
      "metadata": {
        "id": "E0hoqYTuT0eH"
      },
      "outputs": [],
      "source": []
    },
    {
      "cell_type": "code",
      "execution_count": null,
      "metadata": {
        "id": "xPwRlhCrT0eH"
      },
      "outputs": [],
      "source": []
    },
    {
      "cell_type": "code",
      "execution_count": null,
      "metadata": {
        "id": "4vrpN0j8T0eH"
      },
      "outputs": [],
      "source": [
        "# KAYIP DATALARIN % DE LIK ORANLARI"
      ]
    },
    {
      "cell_type": "code",
      "execution_count": null,
      "metadata": {
        "id": "3KLR36iDT0eH"
      },
      "outputs": [],
      "source": [
        "\n",
        "def kayip_yuzde(data):\n",
        "\n",
        "      return pd.DataFrame({'missing_value' :df.isnull().sum(), 'missing_value %':df.isnull().mean()*100}).head(58)"
      ]
    },
    {
      "cell_type": "code",
      "execution_count": null,
      "metadata": {
        "id": "uRYN73dPT0eH",
        "outputId": "22de060b-1719-42e3-c38a-08bd36b4ac42"
      },
      "outputs": [
        {
          "data": {
            "text/html": [
              "<div>\n",
              "<style scoped>\n",
              "    .dataframe tbody tr th:only-of-type {\n",
              "        vertical-align: middle;\n",
              "    }\n",
              "\n",
              "    .dataframe tbody tr th {\n",
              "        vertical-align: top;\n",
              "    }\n",
              "\n",
              "    .dataframe thead th {\n",
              "        text-align: right;\n",
              "    }\n",
              "</style>\n",
              "<table border=\"1\" class=\"dataframe\">\n",
              "  <thead>\n",
              "    <tr style=\"text-align: right;\">\n",
              "      <th></th>\n",
              "      <th>missing_value</th>\n",
              "      <th>missing_value %</th>\n",
              "    </tr>\n",
              "  </thead>\n",
              "  <tbody>\n",
              "    <tr>\n",
              "      <th>make_model</th>\n",
              "      <td>850</td>\n",
              "      <td>2.883311</td>\n",
              "    </tr>\n",
              "    <tr>\n",
              "      <th>short_description</th>\n",
              "      <td>850</td>\n",
              "      <td>2.883311</td>\n",
              "    </tr>\n",
              "    <tr>\n",
              "      <th>make</th>\n",
              "      <td>850</td>\n",
              "      <td>2.883311</td>\n",
              "    </tr>\n",
              "    <tr>\n",
              "      <th>model</th>\n",
              "      <td>850</td>\n",
              "      <td>2.883311</td>\n",
              "    </tr>\n",
              "    <tr>\n",
              "      <th>location</th>\n",
              "      <td>850</td>\n",
              "      <td>2.883311</td>\n",
              "    </tr>\n",
              "    <tr>\n",
              "      <th>price</th>\n",
              "      <td>850</td>\n",
              "      <td>2.883311</td>\n",
              "    </tr>\n",
              "    <tr>\n",
              "      <th>Body type</th>\n",
              "      <td>850</td>\n",
              "      <td>2.883311</td>\n",
              "    </tr>\n",
              "    <tr>\n",
              "      <th>Type</th>\n",
              "      <td>850</td>\n",
              "      <td>2.883311</td>\n",
              "    </tr>\n",
              "    <tr>\n",
              "      <th>Doors</th>\n",
              "      <td>1209</td>\n",
              "      <td>4.101085</td>\n",
              "    </tr>\n",
              "    <tr>\n",
              "      <th>Country version</th>\n",
              "      <td>12591</td>\n",
              "      <td>42.710312</td>\n",
              "    </tr>\n",
              "    <tr>\n",
              "      <th>Offer number</th>\n",
              "      <td>6380</td>\n",
              "      <td>21.641791</td>\n",
              "    </tr>\n",
              "    <tr>\n",
              "      <th>Warranty</th>\n",
              "      <td>13696</td>\n",
              "      <td>46.458616</td>\n",
              "    </tr>\n",
              "    <tr>\n",
              "      <th>Mileage</th>\n",
              "      <td>851</td>\n",
              "      <td>2.886703</td>\n",
              "    </tr>\n",
              "    <tr>\n",
              "      <th>First registration</th>\n",
              "      <td>852</td>\n",
              "      <td>2.890095</td>\n",
              "    </tr>\n",
              "    <tr>\n",
              "      <th>Gearbox</th>\n",
              "      <td>1098</td>\n",
              "      <td>3.724559</td>\n",
              "    </tr>\n",
              "    <tr>\n",
              "      <th>Fuel type</th>\n",
              "      <td>2637</td>\n",
              "      <td>8.945047</td>\n",
              "    </tr>\n",
              "    <tr>\n",
              "      <th>Colour</th>\n",
              "      <td>2574</td>\n",
              "      <td>8.731343</td>\n",
              "    </tr>\n",
              "    <tr>\n",
              "      <th>Paint</th>\n",
              "      <td>14985</td>\n",
              "      <td>50.831072</td>\n",
              "    </tr>\n",
              "    <tr>\n",
              "      <th>desc</th>\n",
              "      <td>1433</td>\n",
              "      <td>4.860923</td>\n",
              "    </tr>\n",
              "    <tr>\n",
              "      <th>seller</th>\n",
              "      <td>850</td>\n",
              "      <td>2.883311</td>\n",
              "    </tr>\n",
              "    <tr>\n",
              "      <th>Seats</th>\n",
              "      <td>3975</td>\n",
              "      <td>13.483718</td>\n",
              "    </tr>\n",
              "    <tr>\n",
              "      <th>Power</th>\n",
              "      <td>1422</td>\n",
              "      <td>4.823609</td>\n",
              "    </tr>\n",
              "    <tr>\n",
              "      <th>Engine size</th>\n",
              "      <td>2253</td>\n",
              "      <td>7.642469</td>\n",
              "    </tr>\n",
              "    <tr>\n",
              "      <th>Gears</th>\n",
              "      <td>10526</td>\n",
              "      <td>35.705563</td>\n",
              "    </tr>\n",
              "    <tr>\n",
              "      <th>CO₂-emissions</th>\n",
              "      <td>10886</td>\n",
              "      <td>36.926730</td>\n",
              "    </tr>\n",
              "    <tr>\n",
              "      <th>Manufacturer colour</th>\n",
              "      <td>7693</td>\n",
              "      <td>26.095658</td>\n",
              "    </tr>\n",
              "    <tr>\n",
              "      <th>Drivetrain</th>\n",
              "      <td>12587</td>\n",
              "      <td>42.696744</td>\n",
              "    </tr>\n",
              "    <tr>\n",
              "      <th>Cylinders</th>\n",
              "      <td>10628</td>\n",
              "      <td>36.051560</td>\n",
              "    </tr>\n",
              "    <tr>\n",
              "      <th>Fuel consumption</th>\n",
              "      <td>6095</td>\n",
              "      <td>20.675034</td>\n",
              "    </tr>\n",
              "    <tr>\n",
              "      <th>\\nComfort &amp; Convenience\\n</th>\n",
              "      <td>4047</td>\n",
              "      <td>13.727951</td>\n",
              "    </tr>\n",
              "    <tr>\n",
              "      <th>\\nEntertainment &amp; Media\\n</th>\n",
              "      <td>5836</td>\n",
              "      <td>19.796472</td>\n",
              "    </tr>\n",
              "    <tr>\n",
              "      <th>\\nSafety &amp; Security\\n</th>\n",
              "      <td>4065</td>\n",
              "      <td>13.789009</td>\n",
              "    </tr>\n",
              "    <tr>\n",
              "      <th>\\nExtras\\n</th>\n",
              "      <td>6000</td>\n",
              "      <td>20.352782</td>\n",
              "    </tr>\n",
              "    <tr>\n",
              "      <th>Empty weight</th>\n",
              "      <td>11722</td>\n",
              "      <td>39.762551</td>\n",
              "    </tr>\n",
              "    <tr>\n",
              "      <th>Model code</th>\n",
              "      <td>21113</td>\n",
              "      <td>71.618046</td>\n",
              "    </tr>\n",
              "    <tr>\n",
              "      <th>General inspection</th>\n",
              "      <td>17226</td>\n",
              "      <td>58.432836</td>\n",
              "    </tr>\n",
              "    <tr>\n",
              "      <th>Last service</th>\n",
              "      <td>27477</td>\n",
              "      <td>93.205563</td>\n",
              "    </tr>\n",
              "    <tr>\n",
              "      <th>Full service history</th>\n",
              "      <td>16915</td>\n",
              "      <td>57.377883</td>\n",
              "    </tr>\n",
              "    <tr>\n",
              "      <th>Non-smoker vehicle</th>\n",
              "      <td>17886</td>\n",
              "      <td>60.671642</td>\n",
              "    </tr>\n",
              "    <tr>\n",
              "      <th>Emission class</th>\n",
              "      <td>11621</td>\n",
              "      <td>39.419946</td>\n",
              "    </tr>\n",
              "    <tr>\n",
              "      <th>Emissions sticker</th>\n",
              "      <td>20066</td>\n",
              "      <td>68.066486</td>\n",
              "    </tr>\n",
              "    <tr>\n",
              "      <th>Upholstery colour</th>\n",
              "      <td>14911</td>\n",
              "      <td>50.580054</td>\n",
              "    </tr>\n",
              "    <tr>\n",
              "      <th>Upholstery</th>\n",
              "      <td>10870</td>\n",
              "      <td>36.872456</td>\n",
              "    </tr>\n",
              "    <tr>\n",
              "      <th>Production date</th>\n",
              "      <td>23572</td>\n",
              "      <td>79.959294</td>\n",
              "    </tr>\n",
              "    <tr>\n",
              "      <th>Previous owner</th>\n",
              "      <td>15465</td>\n",
              "      <td>52.459294</td>\n",
              "    </tr>\n",
              "    <tr>\n",
              "      <th>Other fuel types</th>\n",
              "      <td>27167</td>\n",
              "      <td>92.154003</td>\n",
              "    </tr>\n",
              "    <tr>\n",
              "      <th>Power consumption</th>\n",
              "      <td>28965</td>\n",
              "      <td>98.253053</td>\n",
              "    </tr>\n",
              "    <tr>\n",
              "      <th>Energy efficiency class</th>\n",
              "      <td>21676</td>\n",
              "      <td>73.527815</td>\n",
              "    </tr>\n",
              "    <tr>\n",
              "      <th>CO₂-efficiency</th>\n",
              "      <td>21676</td>\n",
              "      <td>73.527815</td>\n",
              "    </tr>\n",
              "    <tr>\n",
              "      <th>Fuel consumption (WLTP)</th>\n",
              "      <td>29380</td>\n",
              "      <td>99.660787</td>\n",
              "    </tr>\n",
              "    <tr>\n",
              "      <th>CO₂-emissions (WLTP)</th>\n",
              "      <td>29364</td>\n",
              "      <td>99.606513</td>\n",
              "    </tr>\n",
              "    <tr>\n",
              "      <th>Available from</th>\n",
              "      <td>29087</td>\n",
              "      <td>98.666893</td>\n",
              "    </tr>\n",
              "    <tr>\n",
              "      <th>Taxi or rental car</th>\n",
              "      <td>29058</td>\n",
              "      <td>98.568521</td>\n",
              "    </tr>\n",
              "    <tr>\n",
              "      <th>Availability</th>\n",
              "      <td>29179</td>\n",
              "      <td>98.978969</td>\n",
              "    </tr>\n",
              "    <tr>\n",
              "      <th>Last timing belt change</th>\n",
              "      <td>28908</td>\n",
              "      <td>98.059701</td>\n",
              "    </tr>\n",
              "    <tr>\n",
              "      <th>Electric Range (WLTP)</th>\n",
              "      <td>29464</td>\n",
              "      <td>99.945726</td>\n",
              "    </tr>\n",
              "    <tr>\n",
              "      <th>Power consumption (WLTP)</th>\n",
              "      <td>29464</td>\n",
              "      <td>99.945726</td>\n",
              "    </tr>\n",
              "    <tr>\n",
              "      <th>Battery Ownership</th>\n",
              "      <td>29473</td>\n",
              "      <td>99.976255</td>\n",
              "    </tr>\n",
              "  </tbody>\n",
              "</table>\n",
              "</div>"
            ],
            "text/plain": [
              "                           missing_value  missing_value %\n",
              "make_model                           850         2.883311\n",
              "short_description                    850         2.883311\n",
              "make                                 850         2.883311\n",
              "model                                850         2.883311\n",
              "location                             850         2.883311\n",
              "price                                850         2.883311\n",
              "Body type                            850         2.883311\n",
              "Type                                 850         2.883311\n",
              "Doors                               1209         4.101085\n",
              "Country version                    12591        42.710312\n",
              "Offer number                        6380        21.641791\n",
              "Warranty                           13696        46.458616\n",
              "Mileage                              851         2.886703\n",
              "First registration                   852         2.890095\n",
              "Gearbox                             1098         3.724559\n",
              "Fuel type                           2637         8.945047\n",
              "Colour                              2574         8.731343\n",
              "Paint                              14985        50.831072\n",
              "desc                                1433         4.860923\n",
              "seller                               850         2.883311\n",
              "Seats                               3975        13.483718\n",
              "Power                               1422         4.823609\n",
              "Engine size                         2253         7.642469\n",
              "Gears                              10526        35.705563\n",
              "CO₂-emissions                      10886        36.926730\n",
              "Manufacturer colour                 7693        26.095658\n",
              "Drivetrain                         12587        42.696744\n",
              "Cylinders                          10628        36.051560\n",
              "Fuel consumption                    6095        20.675034\n",
              "\\nComfort & Convenience\\n           4047        13.727951\n",
              "\\nEntertainment & Media\\n           5836        19.796472\n",
              "\\nSafety & Security\\n               4065        13.789009\n",
              "\\nExtras\\n                          6000        20.352782\n",
              "Empty weight                       11722        39.762551\n",
              "Model code                         21113        71.618046\n",
              "General inspection                 17226        58.432836\n",
              "Last service                       27477        93.205563\n",
              "Full service history               16915        57.377883\n",
              "Non-smoker vehicle                 17886        60.671642\n",
              "Emission class                     11621        39.419946\n",
              "Emissions sticker                  20066        68.066486\n",
              "Upholstery colour                  14911        50.580054\n",
              "Upholstery                         10870        36.872456\n",
              "Production date                    23572        79.959294\n",
              "Previous owner                     15465        52.459294\n",
              "Other fuel types                   27167        92.154003\n",
              "Power consumption                  28965        98.253053\n",
              "Energy efficiency class            21676        73.527815\n",
              "CO₂-efficiency                     21676        73.527815\n",
              "Fuel consumption (WLTP)            29380        99.660787\n",
              "CO₂-emissions (WLTP)               29364        99.606513\n",
              "Available from                     29087        98.666893\n",
              "Taxi or rental car                 29058        98.568521\n",
              "Availability                       29179        98.978969\n",
              "Last timing belt change            28908        98.059701\n",
              "Electric Range (WLTP)              29464        99.945726\n",
              "Power consumption (WLTP)           29464        99.945726\n",
              "Battery Ownership                  29473        99.976255"
            ]
          },
          "execution_count": 29,
          "metadata": {},
          "output_type": "execute_result"
        }
      ],
      "source": [
        "kayip_yuzde(df)"
      ]
    },
    {
      "cell_type": "code",
      "execution_count": null,
      "metadata": {
        "id": "JSSk77w3T0eH"
      },
      "outputs": [],
      "source": []
    },
    {
      "cell_type": "code",
      "execution_count": null,
      "metadata": {
        "id": "yKp2ZPf1T0eH"
      },
      "outputs": [],
      "source": []
    },
    {
      "cell_type": "markdown",
      "metadata": {
        "id": "1i8HgoZkT0eH"
      },
      "source": [
        "# ** SÜTÜNLRDAKI  NAN DEGERLERIN SAYISI  NAN DEGERLERIN %' DE LIK GÖSTERIMI   ve SÜTÜNLARIN value_counts() lari **"
      ]
    },
    {
      "cell_type": "code",
      "execution_count": null,
      "metadata": {
        "scrolled": true,
        "id": "-jdM7sclT0eI",
        "outputId": "60a0284b-7ac3-4eb9-a644-fff800c779c4"
      },
      "outputs": [
        {
          "name": "stdout",
          "output_type": "stream",
          "text": [
            "Sütun ismi: make_model\n",
            "Sutundaki NaN degerlerin sayisi: 850\n",
            "Eksik Değer Yüzdesi: 2.88%\n",
            "value_counts :  Renault Megane     863\n",
            "SEAT Leon          787\n",
            "Volvo V40          740\n",
            "Dacia Sandero      730\n",
            "Hyundai i30        706\n",
            "                  ... \n",
            "Toyota GR86          1\n",
            "Toyota Tacoma        1\n",
            "Toyota Tundra        1\n",
            "Toyota 4-Runner      1\n",
            "Volvo 244            1\n",
            "Name: make_model, Length: 611, dtype: int64\n",
            "--------------------\n",
            "Sütun ismi: short_description\n",
            "Sutundaki NaN degerlerin sayisi: 850\n",
            "Eksik Değer Yüzdesi: 2.88%\n",
            "value_counts :                                                        213\n",
            "D2 Momentum 120                                        88\n",
            "D2 Kinetic 120                                         87\n",
            "Cabrio 1.4T S&S Excellence                             85\n",
            "Extreme+ 7-Sitzer TCe 110                              57\n",
            "                                                     ... \n",
            "PureTech  EAT8 Allure Pack...DISP. PER NOLEGGIO         1\n",
            "BlueHDi 130 S&S EAT8 Business                           1\n",
            "2.0 BlueHDi 180ch S\\u0026S GT Line EAT8                 1\n",
            "1.2 PureTech Première AUT. NAVI PANO                    1\n",
            "2.9 Executive G. NETTE AUTO! LEER! NAVI! CRUISE! L      1\n",
            "Name: short_description, Length: 20947, dtype: int64\n",
            "--------------------\n",
            "Sütun ismi: make\n",
            "Sutundaki NaN degerlerin sayisi: 850\n",
            "Eksik Değer Yüzdesi: 2.88%\n",
            "value_counts :  \\nVolvo\\n            3659\n",
            "\\nMercedes-Benz\\n    2398\n",
            "\\nOpel\\n             2385\n",
            "\\nPeugeot\\n          2360\n",
            "\\nRenault\\n          2351\n",
            "\\nFiat\\n             2338\n",
            "\\nFord\\n             2324\n",
            "\\nNissan\\n           2064\n",
            "\\nToyota\\n           2038\n",
            "\\nHyundai\\n          1867\n",
            "\\nSEAT\\n             1743\n",
            "\\nSkoda\\n            1566\n",
            "\\nDacia\\n            1537\n",
            "Name: make, dtype: int64\n",
            "--------------------\n",
            "Sütun ismi: model\n",
            "Sutundaki NaN degerlerin sayisi: 850\n",
            "Eksik Değer Yüzdesi: 2.88%\n",
            "value_counts :  [\\n, Megane ,\\n]        863\n",
            "[\\n, Leon ,\\n]          787\n",
            "[\\n, V40 ,\\n]           740\n",
            "[\\n, Sandero ,\\n]       730\n",
            "[\\n, i30 ,\\n]           706\n",
            "                       ... \n",
            "[\\n, GLA 35 AMG ,\\n]      1\n",
            "[\\n, G 55 AMG ,\\n]        1\n",
            "[\\n, Ariya ,\\n]           1\n",
            "[\\n, 105 ,\\n]             1\n",
            "[\\n, 244 ,\\n]             1\n",
            "Name: model, Length: 594, dtype: int64\n",
            "--------------------\n",
            "Sütun ismi: location\n",
            "Sutundaki NaN degerlerin sayisi: 850\n",
            "Eksik Değer Yüzdesi: 2.88%\n",
            "value_counts :  Av. Laboral, 10,  28021 MADRID, ES                          306\n",
            "Luckenwalder Berg 5,  14913 Jüterbog, DE                    170\n",
            "Ctra. del Mig, 96,,  08097 L'Hospitalet de Llobregat, ES    146\n",
            "9 boulevard Jules Ferry,  75011 Paris, FR                   142\n",
            "Neuenhofstr. 77,  52078 Aachen, DE                          135\n",
            "                                                           ... \n",
            "2727CT ZOETERMEER, NL                                         1\n",
            "Rosendaalsestraat 437-439,  6824 CK ARNHEM, NL                1\n",
            "5751VH DEURNE, NL                                             1\n",
            "00148 roma, IT                                                1\n",
            "Sur rendez-vous,  5060 Sambreville, BE                        1\n",
            "Name: location, Length: 8181, dtype: int64\n",
            "--------------------\n",
            "Sütun ismi: price\n",
            "Sutundaki NaN degerlerin sayisi: 850\n",
            "Eksik Değer Yüzdesi: 2.88%\n",
            "value_counts :  € 14,990.-    222\n",
            "€ 12,990.-    219\n",
            "€ 16,990.-    186\n",
            "€ 19,990.-    166\n",
            "€ 9,990.-     160\n",
            "             ... \n",
            "€ 19,112.-      1\n",
            "€ 30,465.-      1\n",
            "€ 18,461.-      1\n",
            "€ 22,649.-      1\n",
            "€ 4,440.-       1\n",
            "Name: price, Length: 5021, dtype: int64\n",
            "--------------------\n",
            "Sütun ismi: Body type\n",
            "Sutundaki NaN degerlerin sayisi: 850\n",
            "Eksik Değer Yüzdesi: 2.88%\n",
            "value_counts :  [\\n, Station wagon, \\n]       5448\n",
            "[\\n, Off-Road/Pick-up, \\n]    5415\n",
            "[\\n, Compact, \\n]             5387\n",
            "[\\n, Sedan, \\n]               5043\n",
            "[\\n, Coupe, \\n]               4009\n",
            "[\\n, Convertible, \\n]         3328\n",
            "Name: Body type, dtype: int64\n",
            "--------------------\n",
            "Sütun ismi: Type\n",
            "Sutundaki NaN degerlerin sayisi: 850\n",
            "Eksik Değer Yüzdesi: 2.88%\n",
            "value_counts :  [\\n, Used, \\n]              25251\n",
            "[\\n, Demonstration, \\n]      1433\n",
            "[\\n, Pre-registered, \\n]     1377\n",
            "[\\n, Employee's car, \\n]      569\n",
            "Name: Type, dtype: int64\n",
            "--------------------\n",
            "Sütun ismi: Doors\n",
            "Sutundaki NaN degerlerin sayisi: 1209\n",
            "Eksik Değer Yüzdesi: 4.10%\n",
            "value_counts :  [\\n, 5, \\n]    17481\n",
            "[\\n, 2, \\n]     5523\n",
            "[\\n, 4, \\n]     3001\n",
            "[\\n, 3, \\n]     2259\n",
            "[\\n, 6, \\n]        5\n",
            "[\\n, 1, \\n]        2\n",
            "Name: Doors, dtype: int64\n",
            "--------------------\n",
            "Sütun ismi: Country version\n",
            "Sutundaki NaN degerlerin sayisi: 12591\n",
            "Eksik Değer Yüzdesi: 42.71%\n",
            "value_counts :  [\\n, Germany, \\n]           7939\n",
            "[\\n, Spain, \\n]             6376\n",
            "[\\n, Italy, \\n]              679\n",
            "[\\n, Belgium, \\n]            641\n",
            "[\\n, European Union, \\n]     340\n",
            "[\\n, Netherlands, \\n]        306\n",
            "[\\n, Austria, \\n]            266\n",
            "[\\n, France, \\n]             101\n",
            "[\\n, United States, \\n]       57\n",
            "[\\n, Czechia, \\n]             47\n",
            "[\\n, Poland, \\n]              31\n",
            "[\\n, Hungary, \\n]             21\n",
            "[\\n, Denmark, \\n]             21\n",
            "[\\n, Romania, \\n]             12\n",
            "[\\n, Japan, \\n]               12\n",
            "[\\n, Switzerland, \\n]          9\n",
            "[\\n, Luxembourg, \\n]           9\n",
            "[\\n, Sweden, \\n]               6\n",
            "[\\n, Slovenia, \\n]             5\n",
            "[\\n, Slovakia, \\n]             4\n",
            "[\\n, Croatia, \\n]              3\n",
            "[\\n, Bulgaria, \\n]             1\n",
            "[\\n, Malta, \\n]                1\n",
            "[\\n, Canada, \\n]               1\n",
            "[\\n, Mexico, \\n]               1\n",
            "Name: Country version, dtype: int64\n",
            "--------------------\n",
            "Sütun ismi: Offer number\n",
            "Sutundaki NaN degerlerin sayisi: 6380\n",
            "Eksik Değer Yüzdesi: 21.64%\n",
            "value_counts :  [\\n, 1, \\n]                        28\n",
            "[\\n, L-Vorlauf 2023, \\n]           10\n",
            "[\\n, 20, \\n]                        9\n",
            "[\\n, 30, \\n]                        9\n",
            "[\\n, RE82542, \\n]                   8\n",
            "                                   ..\n",
            "[\\n, ggp-EP-880-ZS, \\n]             1\n",
            "[\\n, 7475319, \\n]                   1\n",
            "[\\n, abci-EZ-260-PS_130291, \\n]     1\n",
            "[\\n, 7407611, \\n]                   1\n",
            "[\\n, 43-JR-LR, \\n]                  1\n",
            "Name: Offer number, Length: 20945, dtype: int64\n",
            "--------------------\n",
            "Sütun ismi: Warranty\n",
            "Sutundaki NaN degerlerin sayisi: 13696\n",
            "Eksik Değer Yüzdesi: 46.46%\n",
            "value_counts :  [\\n, 12 months, \\n]     9545\n",
            "[\\n, Yes, \\n]           2319\n",
            "[\\n, 24 months, \\n]     1515\n",
            "[\\n, 60 months, \\n]      968\n",
            "[\\n, 6 months, \\n]       398\n",
            "                        ... \n",
            "[\\n, 55 months, \\n]        1\n",
            "[\\n, 99 months, \\n]        1\n",
            "[\\n, 122 months, \\n]       1\n",
            "[\\n, 44 months, \\n]        1\n",
            "[\\n, 4 months, \\n]         1\n",
            "Name: Warranty, Length: 65, dtype: int64\n",
            "--------------------\n",
            "Sütun ismi: Mileage\n",
            "Sutundaki NaN degerlerin sayisi: 851\n",
            "Eksik Değer Yüzdesi: 2.89%\n",
            "value_counts :  10 km         586\n",
            "1 km          172\n",
            "50 km         133\n",
            "100 km        119\n",
            "5,000 km      118\n",
            "             ... \n",
            "141,589 km      1\n",
            "59,821 km       1\n",
            "123,500 km      1\n",
            "29,781 km       1\n",
            "230,047 km      1\n",
            "Name: Mileage, Length: 14183, dtype: int64\n",
            "--------------------\n",
            "Sütun ismi: First registration\n",
            "Sutundaki NaN degerlerin sayisi: 852\n",
            "Eksik Değer Yüzdesi: 2.89%\n",
            "value_counts :  08/2022    454\n",
            "06/2022    428\n",
            "05/2019    420\n",
            "06/2019    418\n",
            "07/2019    416\n",
            "          ... \n",
            "08/1980      1\n",
            "06/1980      1\n",
            "09/1970      1\n",
            "06/1963      1\n",
            "10/1979      1\n",
            "Name: First registration, Length: 655, dtype: int64\n",
            "--------------------\n",
            "Sütun ismi: Gearbox\n",
            "Sutundaki NaN degerlerin sayisi: 1098\n",
            "Eksik Değer Yüzdesi: 3.72%\n",
            "value_counts :  [\\nManual\\n]            17023\n",
            "[\\nAutomatic\\n]         11287\n",
            "[\\nSemi-automatic\\n]       72\n",
            "Name: Gearbox, dtype: int64\n",
            "--------------------\n",
            "Sütun ismi: Fuel type\n",
            "Sutundaki NaN degerlerin sayisi: 2637\n",
            "Eksik Değer Yüzdesi: 8.95%\n",
            "value_counts :  Gasoline                                                                                              8532\n",
            "Diesel                                                                                                5911\n",
            "Super 95                                                                                              3557\n",
            "Diesel (Particle filter)                                                                              2816\n",
            "Regular/Benzine 91                                                                                    2065\n",
            "Super E10 95                                                                                          1016\n",
            "Regular/Benzine 91 (Particle filter)                                                                   555\n",
            "Super 95 (Particle filter)                                                                             537\n",
            "Super E10 95 (Particle filter)                                                                         324\n",
            "Regular/Benzine E10 91                                                                                 278\n",
            "Others                                                                                                 197\n",
            "Gasoline (Particle filter)                                                                             196\n",
            "Electric                                                                                               185\n",
            "Super Plus 98                                                                                          170\n",
            "Liquid petroleum gas (LPG)                                                                             148\n",
            "CNG                                                                                                     87\n",
            "LPG                                                                                                     73\n",
            "Super Plus E10 98                                                                                       42\n",
            "Super Plus E10 98 (Particle filter)                                                                     35\n",
            "Domestic gas H                                                                                          24\n",
            "Others (Particle filter)                                                                                16\n",
            "Super Plus 98 (Particle filter)                                                                         15\n",
            "Domestic gas L                                                                                          10\n",
            "Regular/Benzine E10 91 (Particle filter)                                                                 8\n",
            "CNG (Particle filter)                                                                                    8\n",
            "LPG (Particle filter)                                                                                    4\n",
            "Hydrogen                                                                                                 3\n",
            "Liquid petroleum gas (LPG) (Particle filter) / Super 95 / Super E10 95                                   3\n",
            "Electric (Particle filter)                                                                               3\n",
            "Ethanol                                                                                                  3\n",
            "Liquid petroleum gas (LPG) / Super 95 / Super Plus 98 / Super Plus E10 98 / Super E10 95                 2\n",
            "Liquid petroleum gas (LPG) / Super 95 / Super E10 95 / Super Plus 98                                     2\n",
            "Liquid petroleum gas (LPG) / Super 95                                                                    2\n",
            "Liquid petroleum gas (LPG) (Particle filter)                                                             2\n",
            "Domestic gas L (Particle filter)                                                                         2\n",
            "Liquid petroleum gas (LPG) / Super 95 / Super E10 95                                                     2\n",
            "Domestic gas H / Super E10 95 / Super Plus E10 98 / Super 95 / Super Plus 98 / Domestic gas L            1\n",
            "Domestic gas L / Super 95 / Domestic gas H                                                               1\n",
            "Super 95 / Super Plus 98 / Liquid petroleum gas (LPG)                                                    1\n",
            "Biogas                                                                                                   1\n",
            "Liquid petroleum gas (LPG) / Super 95 / Super Plus 98                                                    1\n",
            "Liquid petroleum gas (LPG) / Super E10 95                                                                1\n",
            "Liquid petroleum gas (LPG) / Super E10 95 / Super Plus E10 98 / Super Plus 98 / Super 95                 1\n",
            "Liquid petroleum gas (LPG) / Super E10 95 / Regular/Benzine 91 / Super 95 / Super Plus 98 / Biogas       1\n",
            "Super 95 (Particle filter) / Super E10 95 / Ethanol                                                      1\n",
            "Super 95 / Liquid petroleum gas (LPG)                                                                    1\n",
            "Name: Fuel type, dtype: int64\n",
            "--------------------\n",
            "Sütun ismi: Colour\n",
            "Sutundaki NaN degerlerin sayisi: 2574\n",
            "Eksik Değer Yüzdesi: 8.73%\n",
            "value_counts :  Black     6473\n",
            "Grey      5998\n",
            "White     5185\n",
            "Blue      3478\n",
            "Red       2242\n",
            "Silver    1622\n",
            "Green      450\n",
            "Brown      437\n",
            "Orange     288\n",
            "Beige      278\n",
            "Yellow     230\n",
            "Violet      98\n",
            "Bronze      65\n",
            "Gold        62\n",
            "Name: Colour, dtype: int64\n",
            "--------------------\n",
            "Sütun ismi: Paint\n",
            "Sutundaki NaN degerlerin sayisi: 14985\n",
            "Eksik Değer Yüzdesi: 50.83%\n",
            "value_counts :  Metallic     14494\n",
            "Uni/basic        1\n",
            "Name: Paint, dtype: int64\n",
            "--------------------\n",
            "Sütun ismi: desc\n",
            "Sutundaki NaN degerlerin sayisi: 1433\n",
            "Eksik Değer Yüzdesi: 4.86%\n"
          ]
        },
        {
          "name": "stdout",
          "output_type": "stream",
          "text": [
            "value_counts :  []                                                                                                                                                                                                                                                                                                                                                                                                                                                                                                                                                                                                                                                                                                                                                                                                                                                                                                                                                                                                                                                                                                                                                                                                                                                                                                                                                                                                                                                                                                                                                                                                                                                                                                                                                                                                                                                                                                                                                                                                                                                                                                                                                                                                                                                                                                                                                                                                                                                                                                                                                                                                                                                                                                                                                                                                                                                                                                                                                                                                                                                                                                                                                                                                                                                                                                                                                                                                                                                                                                                                                                                                                                                                                                                                                                                                                                                                                                                                                                                                                                                                                                                                                                   88\n",
            "[Genaue Angaben zu der Serienausstattung, finden Sie auf unsere Homepage., Gerne nehmen wir Ihr Aktuelles Fahrzeug zurück!, Der Verkäufer übernimmt keine Haftung für Tipp und Datenübermittlungsfehler., Angeführte Ausstattungen sind ggfs. gesondert vor Ort zu prüfen., Alle Angaben in den Inseraten sind unverbindlich und ohne Gewähr.,  , Dacia Jogger TCe 110 Extreme+ 7-Sitzer,  , Sonderausstattung,  , City-Paket,  , - elektrische Parkbremse, - erhöhte Mittelkonsole, - Einparkhilfe vorne und hinten, - Rückfahrkamera, - Toter-Winkel-Warner,  , Sitzheizung für Vordersitze,  , Klimaautomatik,  , Scheiben hinten abgedunkelt,  , 7-Sitzer,  , Serienausstattung,  ,  , Eco LED-Scheinwerfer,  , Reserverad,  , Notbremsassistent,  , ECO-Mode,  , 12V Steckdose,  , Klapptische für zweite Sitzreihe,  , El. Parkbremse,  , Sonnenblenden mit Make-up-Spiegel,  , Beifahrersonnenblende mit Make-up-Spiegel,  , Fahrersitz höhenverstellbar,  , Lenkrad höhen- und längsverstellbar,  , Rücksitzbank 60/40 umklappbar,  , Servolenkung,  , Zentralverriegelung,  , El. Fensterheber vorne und hinten,  , El. Seitenspiegel,  , Schlüssellose Zentralverriegelung,  , Armlehne,  , Lenkrad in Lederoptik mit Multifunktion,  , Dachreling modular,  , Leichtmetallfelgen in schwarz mit Sommerreifen,  , Reifendruck-Kontrolle,  , Dacia Media Nav Multimediasystem,  , DAB-Radio,  , MP3 fähig,  , Bluetooth,  , USB-Anschluss,  , Touchscreen,  , CarPlay,  , Android Auto,  , Sprachsteuerung,  , Navigationssystem,  , Tempomat,  , Freisprecheinrichtung,  , Bordcomputer Check-Control,  , Geschwindigkeitsbegrenzungsanlage, ...]                                                                                                                                                                                                                                                                                                                                                                                                                                                                                                                                                                                                                                                                                                                                                                                                                                                                                                                                                                                                                                                                                                                                                                                                                                                                                                                                                                                                                                                                                                                                                                                                                                                                                                                                                                                                                                                                                                                                                                                                                                                                                                                                                                                                                                                                                                                                                                                                                                                                                                          51\n",
            "[Ref.  4236LFG,            OCASIONPLUS, SÓLO ESTE MES MEJOR PRECIO GARANTIZADO, COMPRA CON TOTAL CONFIANZA - 15 DÍAS O 1000 KMs DE PRUEBA, OCASIONPLUS - Nº1 Calidad/Precio, 5000 COCHES - 50 centros en toda la península , Elige tu coche y te lo llevamos a tu provincia, Hasta 2350€ de descuento en este coche, ADEMÁS HACEMOS FINANCIACIONES A MEDIDA, PREGÚNTANOS!!, Equipamiento destacado: Techo panorámico, Tapicería de piel, Asistente de aparcamiento, Navegador, Encendido automático de faros, Arranque por botón, Start/Stop automático, Control de velocidad, Volante multifunción, Bluetooth, Aire Acondicionado (Climatizador), Control de tracción, Llantas de aleación (18\")., - Garantía total 1 año, con cobertura nacional, ampliable a 24 meses., - Certificado de Kilómetros y ausencia de golpes estructurales., - Sobrevaloramos tu coche en operaciones de cambio. Tásalo ahora en ocasionplus.com, - Entregamos cualquier coche en cualquier centro por 100€, - Abierto Domingo y Festivos.,  , Extras,  ,  , Equipamiento destacado seleccionado por el usuario,  ,  , - Llantas de aleación de 18\", - Techo panorámico, - Navegador, - Start/Stop automático, - Control de velocidad, - Volante multifunción, - Bluetooth, - Control de tracción, - Climatizador, - Llantas de aleación, - Aire Acondicionado, - Tapicería de piel, - Asistente de aparcamiento, - Encendido automático de faros, - Arranque por botón, See more]                                                                                                                                                                                                                                                                                                                                                                                                                                                                                                                                                                                                                                                                                                                                                                                                                                                                                                                                                                                                                                                                                                                                                                                                                                                                                                                                                                                                                                                                                                                                                                                                                                                                                                                                                                                                                                                                                                                                                                                                                                                                                                                                                                                                                                                                                                                                                                                                                                                                                                                                                                                                                                                                                                    34\n",
            "[ , Precio al contado: 15200 euros,  , Ref.  6710KJS,            \"OCASIONPLUS, SÓLO ESTE MES MEJOR PRECIO GARANTIZADO, COMPRA CON TOTAL CONFIANZA - 15 DÍAS O 1000 KMs DE PRUEBA, OCASIONPLUS - Nº1 Calidad/Precio, 5000 COCHES - 50 centros en toda la península , Elige tu coche y te lo llevamos a tu provincia, Hasta 1382€ de descuento en este coche, Precio oferta financiado: 13818€ (202€/mes) financiando la totalidad a un plazo mínimo de 60 meses, Precio al contado: 15200€ ADEMÁS HACEMOS FINANCIACIONES A MEDIDA, PREGÚNTANOS!!\", Equipamiento destacado: Faros traseros led, Bluetooth, Arranque por botón, Aire Acondicionado (Climatizador), Isofix, Llantas de aleación (16\")., - Coche Nacional., - Garantía total 1 año, con cobertura nacional, ampliable a 24 meses., - Certificado de Kilómetros y ausencia de golpes estructurales., - Sobrevaloramos tu coche en operaciones de cambio. Tásalo ahora en ocasionplus.com, - Entregamos cualquier coche en cualquier centro por 100€, - Abierto Domingo y Festivos.,  , Extras,  ,  , Equipamiento destacado seleccionado por el usuario,  ,  , - Bluetooth, - Climatizador, - Llantas de aleación, - Aire Acondicionado, - Llantas de aleación de 16\", - Faros traseros led, - Isofi, x- Arranque por botón,  , Condiciones de la financiación,  , \"OCASIONPLUS, SÓLO ESTE MES MEJOR PRECIO GARANTIZADO, COMPRA CON TOTAL CONFIANZA - 15 DÍAS O 1000 KMs DE PRUEBA, OCASIONPLUS - Nº1 Calidad/Precio, 5000 COCHES - 50 centros en toda la península , Elige tu coche y te lo llevamos a tu provincia, Hasta 1382€ de descuento en este coche, Precio oferta financiado: 13818€ (202€/mes) financiando la totalidad a un plazo mínimo de 60 meses, Precio al contado: 15200€ ADEMÁS HACEMOS FINANCIACIONES A MEDIDA, PREGÚNTANOS!!\", See more]                                                                                                                                                                                                                                                                                                                                                                                                                                                                                                                                                                                                                                                                                                                                                                                                                                                                                                                                                                                                                                                                                                                                                                                                                                                                                                                                                                                                                                                                                                                                                                                                                                                                                                                                                                                                                                                                                                                                                                                                                                                                                                                                                                                                                                                                                                                                              34\n",
            "[ , Precio al contado: 16650 euros,  , Ref.  3967KKW,            \"OCASIONPLUS, SÓLO ESTE MES MEJOR PRECIO GARANTIZADO, COMPRA CON TOTAL CONFIANZA - 15 DÍAS O 1000 KMs DE PRUEBA, OCASIONPLUS - Nº1 Calidad/Precio, 5000 COCHES - 50 centros en toda la península , Elige tu coche y te lo llevamos a tu provincia, Hasta 1514€ de descuento en este coche, Precio oferta financiado: 15136€ (221€/mes) financiando la totalidad a un plazo mínimo de 60 meses, Precio al contado: 16650€ ADEMÁS HACEMOS FINANCIACIONES A MEDIDA, PREGÚNTANOS!!\",             Equipamiento destacado: Asistente de aparcamiento, Faros delanteros led, Bluetooth, Control de velocidad, Encendido automático de faros, Llantas de aleación (16\").,                 - Coche Nacional, Historial Mantenimiento.,                 - Garantía total 1 año, con cobertura nacional, ampliable a 24 meses.,                 - Certificado de Kilómetros y ausencia de golpes estructurales.,             - Sobrevaloramos tu coche en operaciones de cambio. Tásalo ahora en ocasionplus.com,             - Entregamos cualquier coche en cualquier centro por 100€,             - Abierto Domingo y Festivos.,  , Extras,  ,  , Equipamiento destacado seleccionado por el usuario,  ,  , - Control de velocidad, - Bluetooth, - Llantas de aleación, - Llantas de aleación de 16\", - Asistente de aparcamiento, - Faros delanteros led, - Encendido automático de faros,  , Condiciones de la financiación,  , \"OCASIONPLUS, SÓLO ESTE MES MEJOR PRECIO GARANTIZADO, COMPRA CON TOTAL CONFIANZA - 15 DÍAS O 1000 KMs DE PRUEBA, OCASIONPLUS - Nº1 Calidad/Precio, 5000 COCHES - 50 centros en toda la península , Elige tu coche y te lo llevamos a tu provincia, Hasta 1514€ de descuento en este coche, Precio oferta financiado: 15136€ (221€/mes) financiando la totalidad a un plazo mínimo de 60 meses, Precio al contado: 16650€ ADEMÁS HACEMOS FINANCIACIONES A MEDIDA, PREGÚNTANOS!!\", See more]                                                                                                                                                                                                                                                                                                                                                                                                                                                                                                                                                                                                                                                                                                                                                                                                                                                                                                                                                                                                                                                                                                                                                                                                                                                                                                                                                                                                                                                                                                                                                                                                                                                                                                                                                                                                                                                                                                                                                                                                                                                                                                                                                                                30\n",
            "                                                                                                                                                                                                                                                                                                                                                                                                                                                                                                                                                                                                                                                                                                                                                                                                                                                                                                                                                                                                                                                                                                                                                                                                                                                                                                                                                                                                                                                                                                                                                                                                                                                                                                                                                                                                                                                                                                                                                                                                                                                                                                                                                                                                                                                                                                                                                                                                                                                                                                                                                                                                                                                                                                                                                                                                                                                                                                                                                                                                                                                                                                                                                                                                                                                                                                                                                                                                                                                                                                                                                                                                                                                                                                                                                                                                                                                                                                                                                                                                                                                                                                                                                                     ..\n",
            "[PEUGEOT 3008 BUSINESS 3008 1.6 BlueHDi 120ch S&S EAT6 Active Business]                                                                                                                                                                                                                                                                                                                                                                                                                                                                                                                                                                                                                                                                                                                                                                                                                                                                                                                                                                                                                                                                                                                                                                                                                                                                                                                                                                                                                                                                                                                                                                                                                                                                                                                                                                                                                                                                                                                                                                                                                                                                                                                                                                                                                                                                                                                                                                                                                                                                                                                                                                                                                                                                                                                                                                                                                                                                                                                                                                                                                                                                                                                                                                                                                                                                                                                                                                                                                                                                                                                                                                                                                                                                                                                                                                                                                                                                                                                                                                                                                                                                                               1\n",
            "[ , Precio al contado: 27900 euros,  , Concesionario oficial Peugeot en Valencia con más de 50 Años de experiencia. Vehículo revisado en más de 100 puntos con el programa Spoticar de Peugeot. Posibilidad de financiar hasta 120 meses sin entrada. Garantizado 12 meses ampliable hasta 36 meses. Gestionamos también su seguro de coche a los mejores precios. Vehículo publicado con 3.400-€ de descuento al financiar con nuestra entidad financiera colaboradora una cantidad mínima de 10.000.-€ a 60 meses y entregando coche de más de 10 años., Este anuncio no es contractual y está sujeto a las condiciones de la campaña mensual. Le animamos, a consultar condiciones., EQUIPAMIENTOS:, Asientos de tela (material principal) y de cuero sintético (material secundario), Navegador con datos vía memoria interna/disco duro y pantalla a color de 10,0 \" con información en 3D y con voz, control mediante pantalla táctil y información de tráfico 25,4 y 36, Volante multi-función revestido de cuero ajustable en altura y en profundidad,  , Condiciones de la financiación,  , Consultar condiciones de financiación en este anuncio o contactando con el anunciante, See more]                                                                                                                                                                                                                                                                                                                                                                                                                                                                                                                                                                                                                                                                                                                                                                                                                                                                                                                                                                                                                                                                                                                                                                                                                                                                                                                                                                                                                                                                                                                                                                                                                                                                                                                                                                                                                                                                                                                                                                                                                                                                                                                                                                                                                                                                                                                                                                                                                                                                                                                                                                                                                                                                                                                                                                                                                                                                                                                                                                 1\n",
            "[Concessionaria Burnout che fa parte della Community NON PRENDERMI PER IL CHILOMETRO e da più di 10 anni sul mercato E' LIETA DI PRESENTARVI . Stupenda Peugeot 5008 1.6 hdi 120 cv 7 posti , Vettura tagliandata, garantita ,sanificata e ricondizionamento interni., SCOPRITE I NOSTRI VANTAGGI USATO GARANTITO E RICONDIZIONATO , * POSSIBILITA' PERMUTA USATO CON USATO, * FINANZIAMENTI PERSONALIZZATI. , * POSSIBILITA' DI ESTENDERE LA GARANZIA A 24 / 36 / 48 MESI , Optional:, specchi elettrici , Apple Car play, Cruise control, Completa cronologia tagliandi, vetri elettrici, Sensore pioggia , sensore luci, Unico proprietario, Sensori di parcheggio, E tanto altro ancora, Ci scusiamo per l'inconveniente ma a causa della non uniformità dei dati pubblicati dai diversi portali,vi invitiamo a verificare le caratteristiche dello specifico veicolo , * I nostri Consulenti sono a Sua disposizione tutti i giorni, dal lunedì al sabato, dalle 9.00 alle19 , WhatsApp Messenger  3473007167, See more]                                                                                                                                                                                                                                                                                                                                                                                                                                                                                                                                                                                                                                                                                                                                                                                                                                                                                                                                                                                                                                                                                                                                                                                                                                                                                                                                                                                                                                                                                                                                                                                                                                                                                                                                                                                                                                                                                                                                                                                                                                                                                                                                                                                                                                                                                                                                                                                                                                                                                                                                                                                                                                                                                                                                                                                                                                                                                                                                                                                                                                                                                                                                         1\n",
            "[Equipements supplémentaires : 2 sieges escamotables et extractibles pour les passagers du 3eme rang, Acces et demarrage mains libres, Accoudoir central AV a ouverture papillon, avec compartiment de rangement eclaire et refrigerable, Aide graphique et sonore au stationnement AR, Aide graphique et sonore au stationnement AV, Air conditionne automatique bi-zone avec aerateurs aux places AR, Airbags frontaux conducteur et passager adaptatifs (passager neutralisable par cle), airbags lateraux conducteur et passager AV, airbags rideaux de tete aux places AV et AR, Appuis-tete a securite optimisee reglables en hauteur sur les sieges conducteur et passager AV ainsi que sur les places laterales AR, Avertisseur de temps de conduite, Barres de toit longitudinales profilee en Aluminium, Boite a gants floquee et eclairee, Boitiers de retroviseurs exterieurs dans la couleur de la carrosserie, Calandre avec jonc peripherique et ailettes chromes, Ceintures de securite 3 points a enrouleur (x2) au 3eme rang, Ceintures de securite 3 points a enrouleur (x3) au 2eme rang, avec pretensionneurs et limiteurs d'effort aux places laterales, Ceintures de securite AV 3 points a enrouleur, reglables en hauteur avec pretensionneurs et limiteurs d'effort, Commande de verrouillage a distance (2 plips), Console centrale AV avec 2 porte-gobelets, Controle dynamique de stabilite CDS avec antipatinage electronique ASR, Decors de planche de bord et panneaux de portes en maille 'Brumeo', Decors interieurs (baguettes de planche de bord et panneaux de portes, enjoliveur de console) chromes, Detection de sous-gonflage indirecte, Direction assistee electrique, colonne de direction reglable en hauteur et profondeur (mecanique), Ecran tactile capacitif 8' et 'Toggles Switches', Enjoliveur d'arc de pavillon en inox, Enjoliveur de seuil d'entree de coffre chrome, Enjoliveur en inox sur les protecteurs de bas de portes, Essuie-vitre AR avec enclenchement automatique en marche AR, Essuie-vitre AV avec systeme de lavage 'Magic Wash', Fixations pour 3 sieges enfants suivant norme ISOFIX aux places du 2eme rang, Fonction 'Mirror Screen', Frein de stationnement electrique avec aide au demarrage en pente, Indicateur de rapport conseille, Inserts d'ailes AV chromes, Jantes alliage 18' 'Detroit' bi-ton diamantees, Kit de depannage de pneumatique : compresseur 12 volts, flacon de produit de colmatage, anneau de remorquage, deux cales de roue, manivelle de frein de stationnement electrique, Leve-vitres AR electriques et sequentiels avec antipincement, Leve-vitres AV electriques et sequentiels avec antipincement, Lunette AR chauffante avec antennes serigraphiees, Miroirs de courtoisie eclaires, Nouveau Peugeot i-Cockpit : combine tete haute numerique reconfigurable et volant compact multi-fonctions, Pack City 1, Pack Eclairage d'ambiance, Pack Safety Plus, Pack Visibilite, Passages de roues rapportes noirs, Peugeot Connect, Plafonnier AV avec spots de lecture (x2) et plafonniers a extinction temporisee aux 2eme et 3eme rangs, Poches/filets aumonieres au dos des sieges AV, Poignees de maintien (x4) retractables avec frein (crochets pour cintres aux places AR), Poignees de portes couleur carrosserie, Prise 12V (x3 : zone connectique, AR de console et coffre), Prise USB (dans la zone connectique), Projecteurs antibrouillard halogenes, Projecteurs halogenes a l'AV avec feux diurnes a LED, Radio 6 HP, bi-tuner compatible MP3 et connectivite Bluetooth (audio streaming, kit mains libres), avec commandes au volant, ecran tactile capacitif 8', Reconnaissance des panneaux de vitesse et preconisation de vitesse, Regulateur / Limiteur de vitesse, Retroviseurs exterieurs electriques degivrants, Retroviseurs exterieurs rabattables electriquement avec eclairage d'accueil a LED, Retroviseurs indexes a la marche AR, Rideaux pare-soleil (x2) pour les passagers du 2eme rang, Sabots de pare-chocs AV gris metallise, Securite enfants electrique des vitres AR, Sellerie TEP & Tissu 'Evron', Sieg, See more]     1\n",
            "[YOUNGTIMER !, Bedrijfsinformatie, NEEM VOOR U WILT KOMEN KIJKEN NAAR EEN AUTO TELEFONISCH CONTACT MET ONS OP 0162-313775 (optie 2) U BENT VAN HARTE WELKOM VOOR PROEFRIT! DINSDAG ALLEEN OP AFSPRAAK! , Overige informatie: Inruil, financiering, garantie of nieuwe apk zijn bespreekbaar. Inruil van uw auto, bus, bestelwagen,vrachtwagen , camper, caravan, boot, graafmachines tractoren of andere industriële equipment is mogelijk! Overdekte showroom 2500 M2 met 100 occasions op voorraad! Ons adres is Lage Ham 106 in Dongen. Openingstijden: Maandag: 9:00-18.00 Dinsdag: ALLEEN OP AFSPRAAK  woensdag t/m vrijdag: 09.00 t/m 18.00 zaterdag 09.00 t/m 14.00. Wij zijn bereikbaar op 0162-313 775 Verdere informatie: WWW.FOCD.NL. Voor informatie over afwijkende openingstijden wat betreft feestdagen kunt u terecht op onze home pagina van WWW.FOCD.NL, Meer informatie, Algemene informatie, Modeljaar: , 2001, Prestaties, Acceleratie (0-100): , 8,9 s, Topsnelheid: , 225 km/u, Maten, Afmetingen (LxBxH): , 482 x 183 x 145 cm, Wielbasis: , 279 cm, Gewichten, Laadvermogen: , 517 kg, GVW: , 2.090 kg, Max. trekgewicht: , 1.800 kg,  (ongeremd 500 kg), Financiële informatie, BTW/marge: , BTW niet verrekenbaar voor ondernemers (margeregeling), Motorrijtuigenbelasting: , € 230 - € 261,  per kwartaal, Aanvullende opties en accessoires, Exterieur, Metaalkleur vernis of parelmoerlak, Buitenspiegels elektrisch verstel- en verwarmbaar, Buitenspiegels in carrosseriekleur, Elektronische remkrachtverdeling, koplampreiniging, Trekhaak afneembaar, Infotainment, Navigatiesysteem en autotelefoon, Interieur, Achterbank verwarmd, Armsteun achter, Armsteun voor, Elektrische ramen voor en achter, Elektrisch rolgordijn voor achterruit, Elektrisch verstelbare bestuurdersstoel, Hoofdsteunen voor en achter, Houtafwerking interieur, Lendesteunen (verstelbaar), Stuur verstelbaar, Voorstoelen in hoogte verstelbaar, Voorstoelen verwarmd, Veiligheid, Airbag(s) hoofd voor, Alarm klasse 1(startblokkering), Alarm klasse 3, Side Impact Protection System, See more]                                                                                                                                                                                                                                                                                                                                                                                                                                                                                                                                                                                                                                                                                                                                                                                                                                                                                                                                                                                                                                                                                                                                                                                                                                                                                                                                                                                                                                                                                                                                                                                                                                                                                                                                                                                                                                                                                                                                                                                                                                                 1\n",
            "Name: desc, Length: 23241, dtype: int64\n",
            "--------------------\n",
            "Sütun ismi: seller\n",
            "Sutundaki NaN degerlerin sayisi: 850\n",
            "Eksik Değer Yüzdesi: 2.88%\n",
            "value_counts :  Dealer            26318\n",
            "Private seller     2312\n",
            "Name: seller, dtype: int64\n",
            "--------------------\n",
            "Sütun ismi: Seats\n",
            "Sutundaki NaN degerlerin sayisi: 3975\n",
            "Eksik Değer Yüzdesi: 13.48%\n",
            "value_counts :  [\\n, 5, \\n]     18308\n",
            "[\\n, 4, \\n]      5390\n",
            "[\\n, 2, \\n]      1186\n",
            "[\\n, 7, \\n]       488\n",
            "[\\n, 8, \\n]        43\n",
            "[\\n, 9, \\n]        35\n",
            "[\\n, 3, \\n]        25\n",
            "[\\n, 6, \\n]        12\n",
            "[\\n, 0, \\n]         9\n",
            "[\\n, 1, \\n]         7\n",
            "[\\n, 17, \\n]        2\n",
            "Name: Seats, dtype: int64\n",
            "--------------------\n",
            "Sütun ismi: Power\n",
            "Sutundaki NaN degerlerin sayisi: 1422\n",
            "Eksik Değer Yüzdesi: 4.82%\n",
            "value_counts :  [\\n110 kW (150 hp)\\n]      1992\n",
            "[\\n96 kW (131 hp)\\n]       1356\n",
            "[\\n88 kW (120 hp)\\n]       1182\n",
            "[\\n81 kW (110 hp)\\n]       1166\n",
            "[\\n66 kW (90 hp)\\n]        1110\n",
            "                           ... \n",
            "[\\n746 kW (1,014 hp)\\n]       1\n",
            "[\\n570 kW (775 hp)\\n]         1\n",
            "[\\n471 kW (640 hp)\\n]         1\n",
            "[\\n179 kW (243 hp)\\n]         1\n",
            "[\\n26 kW (35 hp)\\n]           1\n",
            "Name: Power, Length: 351, dtype: int64\n",
            "--------------------\n",
            "Sütun ismi: Engine size\n",
            "Sutundaki NaN degerlerin sayisi: 2253\n",
            "Eksik Değer Yüzdesi: 7.64%\n"
          ]
        },
        {
          "name": "stdout",
          "output_type": "stream",
          "text": [
            "value_counts :  [\\n1,598 cc\\n]    2099\n",
            "[\\n999 cc\\n]      2068\n",
            "[\\n1,969 cc\\n]    1929\n",
            "[\\n1,461 cc\\n]    1110\n",
            "[\\n1,998 cc\\n]    1000\n",
            "                  ... \n",
            "[\\n2,753 cc\\n]       1\n",
            "[\\n2,495 cc\\n]       1\n",
            "[\\n200 cc\\n]         1\n",
            "[\\n3,224 cc\\n]       1\n",
            "[\\n2,473 cc\\n]       1\n",
            "Name: Engine size, Length: 467, dtype: int64\n",
            "--------------------\n",
            "Sütun ismi: Gears\n",
            "Sutundaki NaN degerlerin sayisi: 10526\n",
            "Eksik Değer Yüzdesi: 35.71%\n",
            "value_counts :  [\\n6\\n]     8412\n",
            "[\\n5\\n]     5335\n",
            "[\\n7\\n]     1738\n",
            "[\\n8\\n]     1690\n",
            "[\\n1\\n]      712\n",
            "[\\n9\\n]      642\n",
            "[\\n4\\n]      256\n",
            "[\\n10\\n]     112\n",
            "[\\n0\\n]       31\n",
            "[\\n3\\n]       24\n",
            "[\\n2\\n]        2\n",
            "Name: Gears, dtype: int64\n",
            "--------------------\n",
            "Sütun ismi: CO₂-emissions\n",
            "Sutundaki NaN degerlerin sayisi: 10886\n",
            "Eksik Değer Yüzdesi: 36.93%\n",
            "value_counts :  0 g/km (comb.)       1038\n",
            "119 g/km (comb.)      393\n",
            "124 g/km (comb.)      340\n",
            "129 g/km (comb.)      319\n",
            "114 g/km (comb.)      313\n",
            "                     ... \n",
            "7 g/km (comb.)          1\n",
            "80 g/km (comb.)         1\n",
            "196  g/km (comb.)       1\n",
            "100  g/km (comb.)       1\n",
            "53 g/km (comb.)         1\n",
            "Name: CO₂-emissions, Length: 347, dtype: int64\n",
            "--------------------\n",
            "Sütun ismi: Manufacturer colour\n",
            "Sutundaki NaN degerlerin sayisi: 7693\n",
            "Eksik Değer Yüzdesi: 26.10%\n",
            "value_counts :  Blanco                            1235\n",
            "Gris                               671\n",
            "Azul                               552\n",
            "Negro                              546\n",
            "Rojo                               381\n",
            "                                  ... \n",
            "Colore esterno (snowflake whit       1\n",
            "Pompeigraumetallic                   1\n",
            "Cararragrau                          1\n",
            "ICE WHITE (wit metallic)             1\n",
            "Denim Blue metallic (blauw met       1\n",
            "Name: Manufacturer colour, Length: 4963, dtype: int64\n",
            "--------------------\n",
            "Sütun ismi: Drivetrain\n",
            "Sutundaki NaN degerlerin sayisi: 12587\n",
            "Eksik Değer Yüzdesi: 42.70%\n",
            "value_counts :  [\\n, Front, \\n]    12066\n",
            "[\\n, 4WD, \\n]       3252\n",
            "[\\n, Rear, \\n]      1575\n",
            "Name: Drivetrain, dtype: int64\n",
            "--------------------\n",
            "Sütun ismi: Cylinders\n",
            "Sutundaki NaN degerlerin sayisi: 10628\n",
            "Eksik Değer Yüzdesi: 36.05%\n",
            "value_counts :  [\\n4\\n]     13068\n",
            "[\\n3\\n]      3258\n",
            "[\\n6\\n]      1013\n",
            "[\\n5\\n]       799\n",
            "[\\n8\\n]       539\n",
            "[\\n2\\n]       103\n",
            "[\\n0\\n]        35\n",
            "[\\n1\\n]        21\n",
            "[\\n12\\n]        8\n",
            "[\\n7\\n]         6\n",
            "[\\n26\\n]        1\n",
            "[\\n16\\n]        1\n",
            "Name: Cylinders, dtype: int64\n",
            "--------------------\n",
            "Sütun ismi: Fuel consumption\n",
            "Sutundaki NaN degerlerin sayisi: 6095\n",
            "Eksik Değer Yüzdesi: 20.68%\n",
            "value_counts :  [[0 l/100 km (comb.)]]                                                         330\n",
            "[[0 l/100 km (comb.)], [0 l/100 km (city)], [0 l/100 km (country)]]            306\n",
            "[[3.4 l/100 km (comb.)], [3.7 l/100 km (city)], [3.2 l/100 km (country)]]      170\n",
            "[[4 l/100 km (comb.)]]                                                         149\n",
            "[[3.9 l/100 km (comb.)]]                                                       133\n",
            "                                                                              ... \n",
            "[[5.2 l/100 km (comb.)], [5.6 l/100 km (city)], [5 l/100 km (country)]]          1\n",
            "[[5 l/100 km (comb.)], [4.4 l/100 km (city)], [3.6 l/100 km (country)]]          1\n",
            "[[5.5 l/100 km (comb.)], [4.8 l/100 km (city)], [3.9 l/100 km (country)]]        1\n",
            "[[4.8 l/100 km (comb.)], [5.5 l/100 km (city)], [4.3 l/100 km (country)]]        1\n",
            "[[10.4 l/100 km (comb.)], [15.3 l/100 km (city)], [7.6 l/100 km (country)]]      1\n",
            "Name: Fuel consumption, Length: 3452, dtype: int64\n",
            "--------------------\n",
            "Sütun ismi: \n",
            "Comfort & Convenience\n",
            "\n",
            "Sutundaki NaN degerlerin sayisi: 4047\n",
            "Eksik Değer Yüzdesi: 13.73%\n",
            "value_counts :  [Air conditioning, Automatic climate control, Electrical side mirrors, Multi-function steering wheel, Power windows]                                                                                                                                          244\n",
            "[Air conditioning, Automatic climate control, Cruise control]                                                                                                                                                                                                 171\n",
            "[Air conditioning, Automatic climate control, Cruise control, Electrical side mirrors, Multi-function steering wheel, Power windows]                                                                                                                          168\n",
            "[Air conditioning]                                                                                                                                                                                                                                            157\n",
            "[Power windows]                                                                                                                                                                                                                                               150\n",
            "                                                                                                                                                                                                                                                             ... \n",
            "[Air conditioning, Automatic climate control, Multi-function steering wheel, Parking assist system sensors front, Parking assist system sensors rear, Split rear seats]                                                                                         1\n",
            "[Air conditioning, Electrical side mirrors, Leather steering wheel, Power windows, Seat heating, Tinted windows, Wind deflector]                                                                                                                                1\n",
            "[Air conditioning, Electrical side mirrors, Hill Holder, Power windows, Tinted windows]                                                                                                                                                                         1\n",
            "[Air conditioning, Automatic climate control, Electrical side mirrors, Leather steering wheel, Light sensor, Multi-function steering wheel, Parking assist system camera, Power windows, Rain sensor, Split rear seats, Start-stop system, Tinted windows]      1\n",
            "[Air conditioning, Armrest, Cruise control, Electrical side mirrors, Leather steering wheel, Lumbar support, Multi-function steering wheel, Navigation system, Power windows, Seat heating, Tinted windows]                                                     1\n",
            "Name: \\nComfort & Convenience\\n, Length: 14438, dtype: int64\n",
            "--------------------\n",
            "Sütun ismi: \n",
            "Entertainment & Media\n",
            "\n",
            "Sutundaki NaN degerlerin sayisi: 5836\n",
            "Eksik Değer Yüzdesi: 19.80%\n",
            "value_counts :  [Bluetooth, USB]                                                                                                                                                             753\n",
            "[Bluetooth]                                                                                                                                                                  665\n",
            "[On-board computer]                                                                                                                                                          662\n",
            "[CD player, On-board computer, Radio]                                                                                                                                        644\n",
            "[Radio]                                                                                                                                                                      425\n",
            "                                                                                                                                                                            ... \n",
            "[Android Auto, Apple CarPlay, Bluetooth, Digital cockpit, Digital radio, Induction charging for smartphones, On-board computer, Radio, Sound system, WLAN / WiFi hotspot]      1\n",
            "[Bluetooth, CD player, Digital cockpit, Digital radio, Hands-free equipment, Integrated music streaming, On-board computer, Sound system, USB, WLAN / WiFi hotspot]            1\n",
            "[Digital cockpit, Digital radio, On-board computer, Radio]                                                                                                                     1\n",
            "[Android Auto, Apple CarPlay, Digital radio, On-board computer, Radio, Sound system, USB, WLAN / WiFi hotspot]                                                                 1\n",
            "[Hands-free equipment, Integrated music streaming, On-board computer, Radio, USB]                                                                                              1\n",
            "Name: \\nEntertainment & Media\\n, Length: 1944, dtype: int64\n",
            "--------------------\n",
            "Sütun ismi: \n",
            "Safety & Security\n",
            "\n",
            "Sutundaki NaN degerlerin sayisi: 4065\n",
            "Eksik Değer Yüzdesi: 13.79%\n"
          ]
        },
        {
          "name": "stdout",
          "output_type": "stream",
          "text": [
            "value_counts :  [Isofix]                                                                                                                                                                                                                                                                                                                                                                                                                                                                                                                       380\n",
            "[ABS, Central door lock, Driver-side airbag, Electronic stability control, Immobilizer, Isofix, Passenger-side airbag, Power steering, Side airbag]                                                                                                                                                                                                                                                                                                                                                                            328\n",
            "[ABS, Central door lock, Driver-side airbag, Immobilizer, Isofix, Passenger-side airbag, Power steering, Side airbag, Traction control]                                                                                                                                                                                                                                                                                                                                                                                        125\n",
            "[ABS, Central door lock, Driver-side airbag, Electronic stability control, Fog lights, Isofix, Power steering, Side airbag]                                                                                                                                                                                                                                                                                                                                                                                                    121\n",
            "[ABS, Fog lights, Side airbag]                                                                                                                                                                                                                                                                                                                                                                                                                                                                                                 100\n",
            "                                                                                                                                                                                                                                                                                                                                                                                                                                                                                                                              ... \n",
            "[Daytime running lights, Emergency brake assistant, Fog lights, Isofix, LED Daytime Running Lights, Lane departure warning system, Power steering, Tire pressure monitoring system]                                                                                                                                                                                                                                                                                                                                              1\n",
            "[ABS, Adaptive Cruise Control, Central door lock, Daytime running lights, Driver drowsiness detection, Driver-side airbag, Electronic stability control, Emergency brake assistant, Emergency system, Fog lights, Full-LED headlights, Glare-free high beam headlights, Immobilizer, Isofix, LED Headlights, Lane departure warning system, Passenger-side airbag, Power steering, Side airbag, Tire pressure monitoring system, Traction control]                                                                               1\n",
            "[ABS, Driver-side airbag, Electronic stability control, Emergency brake assistant, Immobilizer, LED Daytime Running Lights, Passenger-side airbag, Side airbag, Tire pressure monitoring system, Traction control]                                                                                                                                                                                                                                                                                                               1\n",
            "[ABS, Blind spot monitor, Central door lock, Daytime running lights, Distance warning system, Driver drowsiness detection, Driver-side airbag, Electronic stability control, Emergency system, Fog lights, Full-LED headlights, Head airbag, High beam assist, Immobilizer, Isofix, LED Daytime Running Lights, LED Headlights, Lane departure warning system, Passenger-side airbag, Power steering, Side airbag, Speed limit control system, Tire pressure monitoring system, Traction control, Traffic sign recognition]      1\n",
            "[ABS, Alarm system, Central door lock, Central door lock with remote control, Driver-side airbag, Electronic stability control, Fog lights, Head airbag, Immobilizer, Power steering, Side airbag, Traction control]                                                                                                                                                                                                                                                                                                             1\n",
            "Name: \\nSafety & Security\\n, Length: 12549, dtype: int64\n",
            "--------------------\n",
            "Sütun ismi: \n",
            "Extras\n",
            "\n",
            "Sutundaki NaN degerlerin sayisi: 6000\n",
            "Eksik Değer Yüzdesi: 20.35%\n",
            "value_counts :  [Alloy wheels]                                                                                                                                                                        3408\n",
            "[Alloy wheels, Roof rack]                                                                                                                                                              380\n",
            "[Alloy wheels, Sport seats]                                                                                                                                                            372\n",
            "[Alloy wheels, Touch screen]                                                                                                                                                           231\n",
            "[Alloy wheels, Catalytic Converter, Touch screen]                                                                                                                                      178\n",
            "                                                                                                                                                                                      ... \n",
            "[Alloy wheels (18\"), Automatically dimming interior mirror, Catalytic Converter, E10-enabled, Headlight washer system, Sport package, Sport seats, Sport suspension, Summer tyres]       1\n",
            "[Alloy wheels (18\"), Spoiler, Summer tyres, Trailer hitch]                                                                                                                               1\n",
            "[All season tyres, Alloy wheels, Automatically dimming interior mirror, Catalytic Converter, Headlight washer system, Ski bag, Sport seats, Trailer hitch, Winter tyres]                 1\n",
            "[Alloy wheels, Automatically dimming interior mirror, Headlight washer system, Sport package, Sport seats, Summer tyres]                                                                 1\n",
            "[Alloy wheels, Automatically dimming interior mirror, Ski bag, Trailer hitch]                                                                                                            1\n",
            "Name: \\nExtras\\n, Length: 9360, dtype: int64\n",
            "--------------------\n",
            "Sütun ismi: Empty weight\n",
            "Sutundaki NaN degerlerin sayisi: 11722\n",
            "Eksik Değer Yüzdesi: 39.76%\n",
            "value_counts :  [\\n1,395 kg\\n]    233\n",
            "[\\n1,055 kg\\n]    224\n",
            "[\\n1,423 kg\\n]    216\n",
            "[\\n1,165 kg\\n]    200\n",
            "[\\n1,320 kg\\n]    192\n",
            "                 ... \n",
            "[\\n2,655 kg\\n]      1\n",
            "[\\n1,058 kg\\n]      1\n",
            "[\\n2,091 kg\\n]      1\n",
            "[\\n2,497 kg\\n]      1\n",
            "[\\n1,391 kg\\n]      1\n",
            "Name: Empty weight, Length: 1218, dtype: int64\n",
            "--------------------\n",
            "Sütun ismi: Model code\n",
            "Sutundaki NaN degerlerin sayisi: 21113\n",
            "Eksik Değer Yüzdesi: 71.62%\n"
          ]
        },
        {
          "name": "stdout",
          "output_type": "stream",
          "text": [
            "value_counts :  [\\n, 8212/AFJ, \\n]    75\n",
            "[\\n, 1727/AAM, \\n]    64\n",
            "[\\n, 1349/AGI, \\n]    61\n",
            "[\\n, 1889/ABU, \\n]    55\n",
            "[\\n, 7104/AAL, \\n]    53\n",
            "                      ..\n",
            "[\\n, 3333/BJK, \\n]     1\n",
            "[\\n, 3333/BHJ, \\n]     1\n",
            "[\\n, 3333/BPA, \\n]     1\n",
            "[\\n, 3333/BFV, \\n]     1\n",
            "[\\n, 9101/449, \\n]     1\n",
            "Name: Model code, Length: 2186, dtype: int64\n",
            "--------------------\n",
            "Sütun ismi: General inspection\n",
            "Sutundaki NaN degerlerin sayisi: 17226\n",
            "Eksik Değer Yüzdesi: 58.43%\n",
            "value_counts :  New        5883\n",
            "05/2023     286\n",
            "08/2023     280\n",
            "03/2023     268\n",
            "06/2023     266\n",
            "           ... \n",
            "09/2017       1\n",
            "08/2013       1\n",
            "08/2020       1\n",
            "08/2018       1\n",
            "03/2021       1\n",
            "Name: General inspection, Length: 91, dtype: int64\n",
            "--------------------\n",
            "Sütun ismi: Last service\n",
            "Sutundaki NaN degerlerin sayisi: 27477\n",
            "Eksik Değer Yüzdesi: 93.21%\n",
            "value_counts :  09/2022    220\n",
            "08/2022    196\n",
            "06/2022    164\n",
            "07/2022    155\n",
            "05/2022    151\n",
            "          ... \n",
            "02/2018      1\n",
            "02/2011      1\n",
            "10/2013      1\n",
            "08/2017      1\n",
            "08/2019      1\n",
            "Name: Last service, Length: 61, dtype: int64\n",
            "--------------------\n",
            "Sütun ismi: Full service history\n",
            "Sutundaki NaN degerlerin sayisi: 16915\n",
            "Eksik Değer Yüzdesi: 57.38%\n",
            "value_counts :  Yes    12565\n",
            "Name: Full service history, dtype: int64\n",
            "--------------------\n",
            "Sütun ismi: Non-smoker vehicle\n",
            "Sutundaki NaN degerlerin sayisi: 17886\n",
            "Eksik Değer Yüzdesi: 60.67%\n",
            "value_counts :  Yes    11594\n",
            "Name: Non-smoker vehicle, dtype: int64\n",
            "--------------------\n",
            "Sütun ismi: Emission class\n",
            "Sutundaki NaN degerlerin sayisi: 11621\n",
            "Eksik Değer Yüzdesi: 39.42%\n",
            "value_counts :  Euro 6          6418\n",
            "Euro 6d-TEMP    3399\n",
            "Euro 6d         2858\n",
            "Euro 5          2389\n",
            "Euro 4          1743\n",
            "Euro 3           523\n",
            "Euro 2           217\n",
            "Euro 1           172\n",
            "Euro 6c          140\n",
            "Name: Emission class, dtype: int64\n",
            "--------------------\n",
            "Sütun ismi: Emissions sticker\n",
            "Sutundaki NaN degerlerin sayisi: 20066\n",
            "Eksik Değer Yüzdesi: 68.07%\n",
            "value_counts :  4 (Green)         9230\n",
            "1 (No sticker)     176\n",
            "3 (Yellow)           6\n",
            "2 (Red)              2\n",
            "Name: Emissions sticker, dtype: int64\n",
            "--------------------\n",
            "Sütun ismi: Upholstery colour\n",
            "Sutundaki NaN degerlerin sayisi: 14911\n",
            "Eksik Değer Yüzdesi: 50.58%\n",
            "value_counts :  Black     10416\n",
            "Grey       2038\n",
            "Other      1003\n",
            "Beige       466\n",
            "Brown       275\n",
            "Red         159\n",
            "White        93\n",
            "Blue         82\n",
            "Orange       23\n",
            "Green         8\n",
            "Yellow        6\n",
            "Name: Upholstery colour, dtype: int64\n",
            "--------------------\n",
            "Sütun ismi: Upholstery\n",
            "Sutundaki NaN degerlerin sayisi: 10870\n",
            "Eksik Değer Yüzdesi: 36.87%\n",
            "value_counts :  Cloth           8736\n",
            "Full leather    5439\n",
            "Part leather    2835\n",
            "alcantara        764\n",
            "Other            628\n",
            "Velour           208\n",
            "Name: Upholstery, dtype: int64\n",
            "--------------------\n",
            "Sütun ismi: Production date\n",
            "Sutundaki NaN degerlerin sayisi: 23572\n",
            "Eksik Değer Yüzdesi: 79.96%\n",
            "value_counts :  2019.0    1179\n",
            "2021.0     980\n",
            "2022.0     894\n",
            "2020.0     763\n",
            "2018.0     762\n",
            "2017.0     391\n",
            "2016.0     239\n",
            "2015.0     118\n",
            "2014.0      90\n",
            "2013.0      76\n",
            "2010.0      53\n",
            "2012.0      43\n",
            "2011.0      43\n",
            "2008.0      34\n",
            "2009.0      26\n",
            "2007.0      20\n",
            "2006.0      17\n",
            "2002.0      15\n",
            "2004.0      13\n",
            "2003.0      13\n",
            "1967.0      12\n",
            "2001.0      12\n",
            "1966.0      11\n",
            "1999.0       9\n",
            "2005.0       9\n",
            "1965.0       9\n",
            "1970.0       9\n",
            "1997.0       8\n",
            "1994.0       8\n",
            "1968.0       7\n",
            "2000.0       7\n",
            "1998.0       5\n",
            "1990.0       3\n",
            "1973.0       3\n",
            "1987.0       3\n",
            "1993.0       3\n",
            "1991.0       3\n",
            "1996.0       3\n",
            "1995.0       2\n",
            "1969.0       2\n",
            "1978.0       2\n",
            "1982.0       2\n",
            "1961.0       1\n",
            "1954.0       1\n",
            "1988.0       1\n",
            "1962.0       1\n",
            "1981.0       1\n",
            "1985.0       1\n",
            "1976.0       1\n",
            "Name: Production date, dtype: int64\n",
            "--------------------\n",
            "Sütun ismi: Previous owner\n",
            "Sutundaki NaN degerlerin sayisi: 15465\n",
            "Eksik Değer Yüzdesi: 52.46%\n",
            "value_counts :  [[50 km, 06/2022], 1]         64\n",
            "[[10 km, 08/2022], 1]         59\n",
            "[[10 km, 07/2022], 1]         45\n",
            "[[10 km, 09/2022], 1]         38\n",
            "[[10 km, 05/2022], 1]         37\n",
            "                              ..\n",
            "[[165,400 km, 09/2010], 1]     1\n",
            "[[65,000 km, 10/2006], 1]      1\n",
            "[[71,000 km, 04/2013], 1]      1\n",
            "[[134,000 km, 11/2006], 1]     1\n",
            "[[230,047 km, 07/2002], 5]     1\n",
            "Name: Previous owner, Length: 11733, dtype: int64\n",
            "--------------------\n",
            "Sütun ismi: Other fuel types\n",
            "Sutundaki NaN degerlerin sayisi: 27167\n",
            "Eksik Değer Yüzdesi: 92.15%\n",
            "value_counts :  Electricity     2301\n",
            "Hydogen           11\n",
            "Super E10 95       1\n",
            "Name: Other fuel types, dtype: int64\n",
            "--------------------\n",
            "Sütun ismi: Power consumption\n",
            "Sutundaki NaN degerlerin sayisi: 28965\n",
            "Eksik Değer Yüzdesi: 98.25%\n",
            "value_counts :  0 kWh/100 km (comb.)       101\n",
            "15.2 kWh/100 km (comb.)     30\n",
            "15.7 kWh/100 km (comb.)     19\n",
            "17.7 kWh/100 km (comb.)     17\n",
            "15.9 kWh/100 km (comb.)     14\n",
            "                          ... \n",
            "12.9 kWh/100 km (comb.)      1\n",
            "0.1 kWh/100 km (comb.)       1\n",
            "23 kWh/100 km (comb.)        1\n",
            "3.9 kWh/100 km (comb.)       1\n",
            "18.3 kWh/100 km (comb.)      1\n",
            "Name: Power consumption, Length: 104, dtype: int64\n",
            "--------------------\n",
            "Sütun ismi: Energy efficiency class\n",
            "Sutundaki NaN degerlerin sayisi: 21676\n",
            "Eksik Değer Yüzdesi: 73.53%\n",
            "value_counts :  B       2090\n",
            "A       1687\n",
            "C       1133\n",
            "A+      1089\n",
            "D        636\n",
            "A+++     375\n",
            "G        309\n",
            "E        271\n",
            "F        147\n",
            "A++       67\n",
            "Name: Energy efficiency class, dtype: int64\n",
            "--------------------\n",
            "Sütun ismi: CO₂-efficiency\n",
            "Sutundaki NaN degerlerin sayisi: 21676\n",
            "Eksik Değer Yüzdesi: 73.53%\n",
            "value_counts :  Calculated on basis of measured CO₂-emissions taking into account the mass of the vehicle.    7804\n",
            "Name: CO₂-efficiency, dtype: int64\n",
            "--------------------\n",
            "Sütun ismi: Fuel consumption (WLTP)\n",
            "Sutundaki NaN degerlerin sayisi: 29380\n",
            "Eksik Değer Yüzdesi: 99.66%\n",
            "value_counts :  5.5 l/100 km     9\n",
            "5 l/100 km       8\n",
            "5.4 l/100 km     5\n",
            "6.8 l/100 km     5\n",
            "5.7 l/100 km     4\n",
            "6.5 l/100 km     4\n",
            "7.3 l/100 km     4\n",
            "6.7 l/100 km     3\n",
            "4.9 l/100 km     3\n",
            "6.6 l/100 km     3\n",
            "5.2 l/100 km     3\n",
            "6.1 l/100 km     2\n",
            "6.2 l/100 km     2\n",
            "5.8 l/100 km     2\n",
            "5.6 l/100 km     2\n",
            "4.4 l/100 km     2\n",
            "9.3 l/100 km     2\n",
            "4.7 l/100 km     2\n",
            "5.9 l/100 km     2\n",
            "6.3 l/100 km     2\n",
            "8.4 l/100 km     2\n",
            "16 l/100 km      2\n",
            "7.6 l/100 km     2\n",
            "12.6 l/100 km    2\n",
            "4.8 l/100 km     1\n",
            "12 l/100 km      1\n",
            "5.3 l/100 km     1\n",
            "8 l/100 km       1\n",
            "8.2 l/100 km     1\n",
            "3.9 l/100 km     1\n",
            "4.1 l/100 km     1\n",
            "1.5 l/100 km     1\n",
            "4.2 l/100 km     1\n",
            "4.3 l/100 km     1\n",
            "1.1 l/100 km     1\n",
            "6.4 l/100 km     1\n",
            "8.6 l/100 km     1\n",
            "10.3 l/100 km    1\n",
            "12.2 l/100 km    1\n",
            "12.3 l/100 km    1\n",
            "8.3 l/100 km     1\n",
            "7.2 l/100 km     1\n",
            "9.6 l/100 km     1\n",
            "9.1 l/100 km     1\n",
            "12.9 l/100 km    1\n",
            "10.4 l/100 km    1\n",
            "7.8 l/100 km     1\n",
            "Name: Fuel consumption (WLTP), dtype: int64\n",
            "--------------------\n",
            "Sütun ismi: CO₂-emissions (WLTP)\n",
            "Sutundaki NaN degerlerin sayisi: 29364\n",
            "Eksik Değer Yüzdesi: 99.61%\n",
            "value_counts :  0 g/km (comb.)      14\n",
            "125 g/km (comb.)     8\n",
            "130 g/km (comb.)     4\n",
            "129 g/km (comb.)     4\n",
            "153 g/km (comb.)     3\n",
            "                    ..\n",
            "285 g/km (comb.)     1\n",
            "211 g/km (comb.)     1\n",
            "159 g/km (comb.)     1\n",
            "115 g/km (comb.)     1\n",
            "123 g/km (comb.)     1\n",
            "Name: CO₂-emissions (WLTP), Length: 68, dtype: int64\n",
            "--------------------\n",
            "Sütun ismi: Available from\n",
            "Sutundaki NaN degerlerin sayisi: 29087\n",
            "Eksik Değer Yüzdesi: 98.67%\n",
            "value_counts :  [\\n, 01/03/2023, \\n]    34\n",
            "[\\n, 01/10/2026, \\n]    23\n",
            "[\\n, 31/03/2023, \\n]    17\n",
            "[\\n, 08/10/2022, \\n]    15\n",
            "[\\n, 15/10/2022, \\n]    13\n",
            "                        ..\n",
            "[\\n, 24/10/2022, \\n]     1\n",
            "[\\n, 27/03/2023, \\n]     1\n",
            "[\\n, 03/02/2023, \\n]     1\n",
            "[\\n, 27/10/2022, \\n]     1\n",
            "[\\n, 12/10/2022, \\n]     1\n",
            "Name: Available from, Length: 125, dtype: int64\n",
            "--------------------\n",
            "Sütun ismi: Taxi or rental car\n",
            "Sutundaki NaN degerlerin sayisi: 29058\n",
            "Eksik Değer Yüzdesi: 98.57%\n",
            "value_counts :  Yes    422\n",
            "Name: Taxi or rental car, dtype: int64\n",
            "--------------------\n",
            "Sütun ismi: Availability\n",
            "Sutundaki NaN degerlerin sayisi: 29179\n",
            "Eksik Değer Yüzdesi: 98.98%\n",
            "value_counts :  [\\n, in 1 day after order, \\n]       64\n",
            "[\\n, in 5 days after order, \\n]      56\n",
            "[\\n, in 7 days after order, \\n]      31\n",
            "[\\n, in 3 days after order, \\n]      25\n",
            "[\\n, in 14 days after order, \\n]     22\n",
            "[\\n, in 60 days after order, \\n]     21\n",
            "[\\n, in 42 days after order, \\n]     15\n",
            "[\\n, in 180 days after order, \\n]    12\n",
            "[\\n, in 90 days after order, \\n]     10\n",
            "[\\n, in 120 days after order, \\n]    10\n",
            "[\\n, in 6 days after order, \\n]       9\n",
            "[\\n, in 270 days after order, \\n]     8\n",
            "[\\n, in 28 days after order, \\n]      5\n",
            "[\\n, in 2 days after order, \\n]       5\n",
            "[\\n, in 4 days after order, \\n]       4\n",
            "[\\n, in 21 days after order, \\n]      2\n",
            "[\\n, in 360 days after order, \\n]     1\n",
            "[\\n, in 150 days after order, \\n]     1\n",
            "Name: Availability, dtype: int64\n",
            "--------------------\n",
            "Sütun ismi: Last timing belt change\n",
            "Sutundaki NaN degerlerin sayisi: 28908\n",
            "Eksik Değer Yüzdesi: 98.06%\n",
            "value_counts :  04/2022    27\n",
            "05/2021    26\n",
            "08/2022    25\n",
            "07/2022    24\n",
            "07/2021    22\n",
            "           ..\n",
            "08/2015     1\n",
            "02/2015     1\n",
            "08/2016     1\n",
            "02/2018     1\n",
            "07/2016     1\n",
            "Name: Last timing belt change, Length: 86, dtype: int64\n",
            "--------------------\n",
            "Sütun ismi: Electric Range (WLTP)\n",
            "Sutundaki NaN degerlerin sayisi: 29464\n",
            "Eksik Değer Yüzdesi: 99.95%\n",
            "value_counts :  426 km492 km (within city)    2\n",
            "389 km                        2\n",
            "402 km484 km (within city)    1\n",
            "50 km50 km (within city)      1\n",
            "614 km681 km (within city)    1\n",
            "573 km573 km (within city)    1\n",
            "691 km691 km (within city)    1\n",
            "351 km351 km (within city)    1\n",
            "48 km48 km (within city)      1\n",
            "450 km450 km (within city)    1\n",
            "402 km402 km (within city)    1\n",
            "540 km540 km (within city)    1\n",
            "360 km                        1\n",
            "384 km                        1\n",
            "Name: Electric Range (WLTP), dtype: int64\n",
            "--------------------\n",
            "Sütun ismi: Power consumption (WLTP)\n",
            "Sutundaki NaN degerlerin sayisi: 29464\n",
            "Eksik Değer Yüzdesi: 99.95%\n",
            "value_counts :  21.9 kWh/100 km    2\n",
            "17.2 kWh/100 km    2\n",
            "20.6 kWh/100 km    2\n",
            "18.9 kWh/100 km    1\n",
            "19.2 kWh/100 km    1\n",
            "18.4 kWh/100 km    1\n",
            "19.3 kWh/100 km    1\n",
            "15.9 kWh/100 km    1\n",
            "148 kWh/100 km     1\n",
            "16.9 kWh/100 km    1\n",
            "18.7 kWh/100 km    1\n",
            "18.1 kWh/100 km    1\n",
            "18.6 kWh/100 km    1\n",
            "Name: Power consumption (WLTP), dtype: int64\n",
            "--------------------\n",
            "Sütun ismi: Battery Ownership\n",
            "Sutundaki NaN degerlerin sayisi: 29473\n",
            "Eksik Değer Yüzdesi: 99.98%\n",
            "value_counts :  Included    7\n",
            "Name: Battery Ownership, dtype: int64\n",
            "--------------------\n"
          ]
        }
      ],
      "source": [
        "for i in df.columns.tolist():\n",
        "    missing_degerler = df[i].isnull().sum()\n",
        "    yuzdelik_oran = (missing_degerler / len(df)) * 100\n",
        "\n",
        "    print(f\"Sütun ismi: {i}\")\n",
        "    print(f\"Sutundaki NaN degerlerin sayisi: {missing_degerler}\")\n",
        "\n",
        "    print(f\"Eksik Değer Yüzdesi: {yuzdelik_oran:.2f}%\")\n",
        "    print(f\"value_counts :  {df[i].value_counts()}\")\n",
        "    print(\"-\" * 20)"
      ]
    },
    {
      "cell_type": "code",
      "execution_count": null,
      "metadata": {
        "id": "BBRxMWFST0eI",
        "outputId": "a4b20356-3aa7-4e9d-d99b-d889cfb2ccf9"
      },
      "outputs": [
        {
          "data": {
            "text/plain": [
              "58"
            ]
          },
          "execution_count": 480,
          "metadata": {},
          "output_type": "execute_result"
        }
      ],
      "source": [
        "len(df.columns)"
      ]
    },
    {
      "cell_type": "code",
      "execution_count": null,
      "metadata": {
        "id": "L8J1zdmBT0eI"
      },
      "outputs": [],
      "source": []
    },
    {
      "cell_type": "markdown",
      "metadata": {
        "id": "C_hIUTC0T0eI"
      },
      "source": [
        "#**SÜTÜNLARIN ISIMLERI ÜZERINE ISLEMLER YAPARAK AYNI ÖZELLIKLER TASIMALARINI SAGLADIM **"
      ]
    },
    {
      "cell_type": "code",
      "execution_count": null,
      "metadata": {
        "id": "WMxlJgYlT0eI"
      },
      "outputs": [],
      "source": []
    },
    {
      "cell_type": "code",
      "execution_count": null,
      "metadata": {
        "id": "PFY65_zkT0eI"
      },
      "outputs": [],
      "source": [
        "new_column_names = [col.lower().replace('\\n', '').replace('&', '').replace('co₂', 'co2').replace('-', '_').replace(' ', '_').replace('__', '_').replace('(', '').replace(')', '') for col in df.columns]"
      ]
    },
    {
      "cell_type": "code",
      "execution_count": null,
      "metadata": {
        "id": "Njgaw1mUT0eI"
      },
      "outputs": [],
      "source": []
    },
    {
      "cell_type": "code",
      "execution_count": null,
      "metadata": {
        "id": "KHWOB3mhT0eI"
      },
      "outputs": [],
      "source": [
        "df.columns = new_column_names\n",
        "new_column_dict = {old_column: new_column for old_column, new_column in zip(df.columns, new_column_names)}\n",
        "df = df.rename(columns=new_column_dict)"
      ]
    },
    {
      "cell_type": "code",
      "execution_count": null,
      "metadata": {
        "id": "XE-LbIrzT0eI",
        "outputId": "1f02cb53-e045-464a-d367-67001aab3f1c"
      },
      "outputs": [
        {
          "data": {
            "text/html": [
              "<div>\n",
              "<style scoped>\n",
              "    .dataframe tbody tr th:only-of-type {\n",
              "        vertical-align: middle;\n",
              "    }\n",
              "\n",
              "    .dataframe tbody tr th {\n",
              "        vertical-align: top;\n",
              "    }\n",
              "\n",
              "    .dataframe thead th {\n",
              "        text-align: right;\n",
              "    }\n",
              "</style>\n",
              "<table border=\"1\" class=\"dataframe\">\n",
              "  <thead>\n",
              "    <tr style=\"text-align: right;\">\n",
              "      <th></th>\n",
              "      <th>make_model</th>\n",
              "      <th>short_description</th>\n",
              "      <th>make</th>\n",
              "      <th>model</th>\n",
              "      <th>location</th>\n",
              "      <th>price</th>\n",
              "      <th>body_type</th>\n",
              "      <th>type</th>\n",
              "      <th>doors</th>\n",
              "      <th>country_version</th>\n",
              "      <th>...</th>\n",
              "      <th>co2_efficiency</th>\n",
              "      <th>fuel_consumption_wltp</th>\n",
              "      <th>co2_emissions_wltp</th>\n",
              "      <th>available_from</th>\n",
              "      <th>taxi_or_rental_car</th>\n",
              "      <th>availability</th>\n",
              "      <th>last_timing_belt_change</th>\n",
              "      <th>electric_range_wltp</th>\n",
              "      <th>power_consumption_wltp</th>\n",
              "      <th>battery_ownership</th>\n",
              "    </tr>\n",
              "  </thead>\n",
              "  <tbody>\n",
              "    <tr>\n",
              "      <th>0</th>\n",
              "      <td>Mercedes-Benz A 160</td>\n",
              "      <td>CDi</td>\n",
              "      <td>\\nMercedes-Benz\\n</td>\n",
              "      <td>[\\n, A 160 ,\\n]</td>\n",
              "      <td>P.I. EL PALMAR C/FORJA 6,  11500 PUERTO DE SAN...</td>\n",
              "      <td>€ 16,950.-</td>\n",
              "      <td>[\\n, Compact, \\n]</td>\n",
              "      <td>[\\n, Used, \\n]</td>\n",
              "      <td>[\\n, 5, \\n]</td>\n",
              "      <td>[\\n, Spain, \\n]</td>\n",
              "      <td>...</td>\n",
              "      <td>NaN</td>\n",
              "      <td>NaN</td>\n",
              "      <td>NaN</td>\n",
              "      <td>NaN</td>\n",
              "      <td>NaN</td>\n",
              "      <td>NaN</td>\n",
              "      <td>NaN</td>\n",
              "      <td>NaN</td>\n",
              "      <td>NaN</td>\n",
              "      <td>NaN</td>\n",
              "    </tr>\n",
              "    <tr>\n",
              "      <th>1</th>\n",
              "      <td>Mercedes-Benz EQE 350</td>\n",
              "      <td>350+</td>\n",
              "      <td>\\nMercedes-Benz\\n</td>\n",
              "      <td>[\\n, EQE 350 ,\\n]</td>\n",
              "      <td>APARTADO DE CORREOS 1032,  26140 LOGROÑO, ES</td>\n",
              "      <td>€ 80,900.-</td>\n",
              "      <td>[\\n, Compact, \\n]</td>\n",
              "      <td>[\\n, Pre-registered, \\n]</td>\n",
              "      <td>[\\n, 4, \\n]</td>\n",
              "      <td>[\\n, Spain, \\n]</td>\n",
              "      <td>...</td>\n",
              "      <td>NaN</td>\n",
              "      <td>NaN</td>\n",
              "      <td>NaN</td>\n",
              "      <td>NaN</td>\n",
              "      <td>NaN</td>\n",
              "      <td>NaN</td>\n",
              "      <td>NaN</td>\n",
              "      <td>NaN</td>\n",
              "      <td>NaN</td>\n",
              "      <td>NaN</td>\n",
              "    </tr>\n",
              "    <tr>\n",
              "      <th>2</th>\n",
              "      <td>Mercedes-Benz A 45 AMG</td>\n",
              "      <td>S 4Matic+ 8G-DCT</td>\n",
              "      <td>\\nMercedes-Benz\\n</td>\n",
              "      <td>[\\n, A 45 AMG ,\\n]</td>\n",
              "      <td>PORT. TARRACO, MOLL DE LLEVANT, Nº 5, LOC. 6-8...</td>\n",
              "      <td>€ 69,900.-</td>\n",
              "      <td>[\\n, Compact, \\n]</td>\n",
              "      <td>[\\n, Used, \\n]</td>\n",
              "      <td>[\\n, 5, \\n]</td>\n",
              "      <td>[\\n, Spain, \\n]</td>\n",
              "      <td>...</td>\n",
              "      <td>NaN</td>\n",
              "      <td>NaN</td>\n",
              "      <td>NaN</td>\n",
              "      <td>NaN</td>\n",
              "      <td>NaN</td>\n",
              "      <td>NaN</td>\n",
              "      <td>NaN</td>\n",
              "      <td>NaN</td>\n",
              "      <td>NaN</td>\n",
              "      <td>NaN</td>\n",
              "    </tr>\n",
              "    <tr>\n",
              "      <th>3</th>\n",
              "      <td>Mercedes-Benz A 35 AMG</td>\n",
              "      <td>4Matic+ 7G-DCT</td>\n",
              "      <td>\\nMercedes-Benz\\n</td>\n",
              "      <td>[\\n, A 35 AMG ,\\n]</td>\n",
              "      <td>Carrer de Provença, 31 Local,  8029 BARCELONA, ES</td>\n",
              "      <td>€ 46,990.-</td>\n",
              "      <td>[\\n, Compact, \\n]</td>\n",
              "      <td>[\\n, Used, \\n]</td>\n",
              "      <td>[\\n, 5, \\n]</td>\n",
              "      <td>[\\n, Spain, \\n]</td>\n",
              "      <td>...</td>\n",
              "      <td>NaN</td>\n",
              "      <td>NaN</td>\n",
              "      <td>NaN</td>\n",
              "      <td>NaN</td>\n",
              "      <td>NaN</td>\n",
              "      <td>NaN</td>\n",
              "      <td>NaN</td>\n",
              "      <td>NaN</td>\n",
              "      <td>NaN</td>\n",
              "      <td>NaN</td>\n",
              "    </tr>\n",
              "    <tr>\n",
              "      <th>4</th>\n",
              "      <td>Mercedes-Benz A 45 AMG</td>\n",
              "      <td>200CDI BE Line 4M 7G-DCT</td>\n",
              "      <td>\\nMercedes-Benz\\n</td>\n",
              "      <td>[\\n, A 45 AMG ,\\n]</td>\n",
              "      <td>CARRIL ARAGONES 4,  30007 CASILLAS, ES</td>\n",
              "      <td>€ 16,800.-</td>\n",
              "      <td>[\\n, Compact, \\n]</td>\n",
              "      <td>[\\n, Used, \\n]</td>\n",
              "      <td>[\\n, 5, \\n]</td>\n",
              "      <td>[\\n, Spain, \\n]</td>\n",
              "      <td>...</td>\n",
              "      <td>NaN</td>\n",
              "      <td>NaN</td>\n",
              "      <td>NaN</td>\n",
              "      <td>NaN</td>\n",
              "      <td>NaN</td>\n",
              "      <td>NaN</td>\n",
              "      <td>NaN</td>\n",
              "      <td>NaN</td>\n",
              "      <td>NaN</td>\n",
              "      <td>NaN</td>\n",
              "    </tr>\n",
              "    <tr>\n",
              "      <th>...</th>\n",
              "      <td>...</td>\n",
              "      <td>...</td>\n",
              "      <td>...</td>\n",
              "      <td>...</td>\n",
              "      <td>...</td>\n",
              "      <td>...</td>\n",
              "      <td>...</td>\n",
              "      <td>...</td>\n",
              "      <td>...</td>\n",
              "      <td>...</td>\n",
              "      <td>...</td>\n",
              "      <td>...</td>\n",
              "      <td>...</td>\n",
              "      <td>...</td>\n",
              "      <td>...</td>\n",
              "      <td>...</td>\n",
              "      <td>...</td>\n",
              "      <td>...</td>\n",
              "      <td>...</td>\n",
              "      <td>...</td>\n",
              "      <td>...</td>\n",
              "    </tr>\n",
              "    <tr>\n",
              "      <th>29475</th>\n",
              "      <td>Volvo S40</td>\n",
              "      <td>2.4i Momentum/ Airco/ NAP/ APK/ Elek. Ramen</td>\n",
              "      <td>\\nVolvo\\n</td>\n",
              "      <td>[\\n, S40 ,\\n]</td>\n",
              "      <td>Stobbeweg 6,  2461 EX TER AAR, NL</td>\n",
              "      <td>€ 5,499.-</td>\n",
              "      <td>[\\n, Sedan, \\n]</td>\n",
              "      <td>[\\n, Used, \\n]</td>\n",
              "      <td>[\\n, 4, \\n]</td>\n",
              "      <td>NaN</td>\n",
              "      <td>...</td>\n",
              "      <td>NaN</td>\n",
              "      <td>NaN</td>\n",
              "      <td>NaN</td>\n",
              "      <td>NaN</td>\n",
              "      <td>NaN</td>\n",
              "      <td>NaN</td>\n",
              "      <td>NaN</td>\n",
              "      <td>NaN</td>\n",
              "      <td>NaN</td>\n",
              "      <td>NaN</td>\n",
              "    </tr>\n",
              "    <tr>\n",
              "      <th>29476</th>\n",
              "      <td>Volvo C30</td>\n",
              "      <td>1.6 D DRIVe Start/Stop R-design</td>\n",
              "      <td>\\nVolvo\\n</td>\n",
              "      <td>[\\n, C30 ,\\n]</td>\n",
              "      <td>Sur rendez-vous,  5060 Sambreville, BE</td>\n",
              "      <td>€ 7,300.-</td>\n",
              "      <td>[\\n, Sedan, \\n]</td>\n",
              "      <td>[\\n, Used, \\n]</td>\n",
              "      <td>[\\n, 3, \\n]</td>\n",
              "      <td>[\\n, Belgium, \\n]</td>\n",
              "      <td>...</td>\n",
              "      <td>NaN</td>\n",
              "      <td>NaN</td>\n",
              "      <td>NaN</td>\n",
              "      <td>NaN</td>\n",
              "      <td>NaN</td>\n",
              "      <td>NaN</td>\n",
              "      <td>NaN</td>\n",
              "      <td>NaN</td>\n",
              "      <td>NaN</td>\n",
              "      <td>NaN</td>\n",
              "    </tr>\n",
              "    <tr>\n",
              "      <th>29477</th>\n",
              "      <td>Volvo S90</td>\n",
              "      <td>T5 AUT(8) MOMENTUM BUSINESS SCHUIFDAK 360GR CA...</td>\n",
              "      <td>\\nVolvo\\n</td>\n",
              "      <td>[\\n, S90 ,\\n]</td>\n",
              "      <td>Bergambachterstraat 5,  2871 JB SCHOONHOVEN, NL</td>\n",
              "      <td>€ 29,900.-</td>\n",
              "      <td>[\\n, Sedan, \\n]</td>\n",
              "      <td>[\\n, Used, \\n]</td>\n",
              "      <td>[\\n, 4, \\n]</td>\n",
              "      <td>NaN</td>\n",
              "      <td>...</td>\n",
              "      <td>NaN</td>\n",
              "      <td>NaN</td>\n",
              "      <td>NaN</td>\n",
              "      <td>NaN</td>\n",
              "      <td>NaN</td>\n",
              "      <td>NaN</td>\n",
              "      <td>NaN</td>\n",
              "      <td>NaN</td>\n",
              "      <td>NaN</td>\n",
              "      <td>NaN</td>\n",
              "    </tr>\n",
              "    <tr>\n",
              "      <th>29478</th>\n",
              "      <td>Volvo S80</td>\n",
              "      <td>2.9 Executive G. NETTE AUTO! LEER! NAVI! CRUIS...</td>\n",
              "      <td>\\nVolvo\\n</td>\n",
              "      <td>[\\n, S80 ,\\n]</td>\n",
              "      <td>Lage Ham 106,  5102 AE DONGEN, NL</td>\n",
              "      <td>€ 4,440.-</td>\n",
              "      <td>[\\n, Sedan, \\n]</td>\n",
              "      <td>[\\n, Used, \\n]</td>\n",
              "      <td>[\\n, 4, \\n]</td>\n",
              "      <td>NaN</td>\n",
              "      <td>...</td>\n",
              "      <td>NaN</td>\n",
              "      <td>NaN</td>\n",
              "      <td>NaN</td>\n",
              "      <td>NaN</td>\n",
              "      <td>NaN</td>\n",
              "      <td>NaN</td>\n",
              "      <td>NaN</td>\n",
              "      <td>NaN</td>\n",
              "      <td>NaN</td>\n",
              "      <td>NaN</td>\n",
              "    </tr>\n",
              "    <tr>\n",
              "      <th>29479</th>\n",
              "      <td>NaN</td>\n",
              "      <td>NaN</td>\n",
              "      <td>NaN</td>\n",
              "      <td>NaN</td>\n",
              "      <td>NaN</td>\n",
              "      <td>NaN</td>\n",
              "      <td>NaN</td>\n",
              "      <td>NaN</td>\n",
              "      <td>NaN</td>\n",
              "      <td>NaN</td>\n",
              "      <td>...</td>\n",
              "      <td>NaN</td>\n",
              "      <td>NaN</td>\n",
              "      <td>NaN</td>\n",
              "      <td>NaN</td>\n",
              "      <td>NaN</td>\n",
              "      <td>NaN</td>\n",
              "      <td>NaN</td>\n",
              "      <td>NaN</td>\n",
              "      <td>NaN</td>\n",
              "      <td>NaN</td>\n",
              "    </tr>\n",
              "  </tbody>\n",
              "</table>\n",
              "<p>29480 rows × 58 columns</p>\n",
              "</div>"
            ],
            "text/plain": [
              "                   make_model  \\\n",
              "0         Mercedes-Benz A 160   \n",
              "1       Mercedes-Benz EQE 350   \n",
              "2      Mercedes-Benz A 45 AMG   \n",
              "3      Mercedes-Benz A 35 AMG   \n",
              "4      Mercedes-Benz A 45 AMG   \n",
              "...                       ...   \n",
              "29475               Volvo S40   \n",
              "29476               Volvo C30   \n",
              "29477               Volvo S90   \n",
              "29478               Volvo S80   \n",
              "29479                     NaN   \n",
              "\n",
              "                                       short_description               make  \\\n",
              "0                                                    CDi  \\nMercedes-Benz\\n   \n",
              "1                                                   350+  \\nMercedes-Benz\\n   \n",
              "2                                       S 4Matic+ 8G-DCT  \\nMercedes-Benz\\n   \n",
              "3                                         4Matic+ 7G-DCT  \\nMercedes-Benz\\n   \n",
              "4                               200CDI BE Line 4M 7G-DCT  \\nMercedes-Benz\\n   \n",
              "...                                                  ...                ...   \n",
              "29475        2.4i Momentum/ Airco/ NAP/ APK/ Elek. Ramen          \\nVolvo\\n   \n",
              "29476                    1.6 D DRIVe Start/Stop R-design          \\nVolvo\\n   \n",
              "29477  T5 AUT(8) MOMENTUM BUSINESS SCHUIFDAK 360GR CA...          \\nVolvo\\n   \n",
              "29478  2.9 Executive G. NETTE AUTO! LEER! NAVI! CRUIS...          \\nVolvo\\n   \n",
              "29479                                                NaN                NaN   \n",
              "\n",
              "                    model                                           location  \\\n",
              "0         [\\n, A 160 ,\\n]  P.I. EL PALMAR C/FORJA 6,  11500 PUERTO DE SAN...   \n",
              "1       [\\n, EQE 350 ,\\n]       APARTADO DE CORREOS 1032,  26140 LOGROÑO, ES   \n",
              "2      [\\n, A 45 AMG ,\\n]  PORT. TARRACO, MOLL DE LLEVANT, Nº 5, LOC. 6-8...   \n",
              "3      [\\n, A 35 AMG ,\\n]  Carrer de Provença, 31 Local,  8029 BARCELONA, ES   \n",
              "4      [\\n, A 45 AMG ,\\n]             CARRIL ARAGONES 4,  30007 CASILLAS, ES   \n",
              "...                   ...                                                ...   \n",
              "29475       [\\n, S40 ,\\n]                  Stobbeweg 6,  2461 EX TER AAR, NL   \n",
              "29476       [\\n, C30 ,\\n]             Sur rendez-vous,  5060 Sambreville, BE   \n",
              "29477       [\\n, S90 ,\\n]    Bergambachterstraat 5,  2871 JB SCHOONHOVEN, NL   \n",
              "29478       [\\n, S80 ,\\n]                  Lage Ham 106,  5102 AE DONGEN, NL   \n",
              "29479                 NaN                                                NaN   \n",
              "\n",
              "            price          body_type                      type        doors  \\\n",
              "0      € 16,950.-  [\\n, Compact, \\n]            [\\n, Used, \\n]  [\\n, 5, \\n]   \n",
              "1      € 80,900.-  [\\n, Compact, \\n]  [\\n, Pre-registered, \\n]  [\\n, 4, \\n]   \n",
              "2      € 69,900.-  [\\n, Compact, \\n]            [\\n, Used, \\n]  [\\n, 5, \\n]   \n",
              "3      € 46,990.-  [\\n, Compact, \\n]            [\\n, Used, \\n]  [\\n, 5, \\n]   \n",
              "4      € 16,800.-  [\\n, Compact, \\n]            [\\n, Used, \\n]  [\\n, 5, \\n]   \n",
              "...           ...                ...                       ...          ...   \n",
              "29475   € 5,499.-    [\\n, Sedan, \\n]            [\\n, Used, \\n]  [\\n, 4, \\n]   \n",
              "29476   € 7,300.-    [\\n, Sedan, \\n]            [\\n, Used, \\n]  [\\n, 3, \\n]   \n",
              "29477  € 29,900.-    [\\n, Sedan, \\n]            [\\n, Used, \\n]  [\\n, 4, \\n]   \n",
              "29478   € 4,440.-    [\\n, Sedan, \\n]            [\\n, Used, \\n]  [\\n, 4, \\n]   \n",
              "29479         NaN                NaN                       NaN          NaN   \n",
              "\n",
              "         country_version  ... co2_efficiency fuel_consumption_wltp  \\\n",
              "0        [\\n, Spain, \\n]  ...            NaN                   NaN   \n",
              "1        [\\n, Spain, \\n]  ...            NaN                   NaN   \n",
              "2        [\\n, Spain, \\n]  ...            NaN                   NaN   \n",
              "3        [\\n, Spain, \\n]  ...            NaN                   NaN   \n",
              "4        [\\n, Spain, \\n]  ...            NaN                   NaN   \n",
              "...                  ...  ...            ...                   ...   \n",
              "29475                NaN  ...            NaN                   NaN   \n",
              "29476  [\\n, Belgium, \\n]  ...            NaN                   NaN   \n",
              "29477                NaN  ...            NaN                   NaN   \n",
              "29478                NaN  ...            NaN                   NaN   \n",
              "29479                NaN  ...            NaN                   NaN   \n",
              "\n",
              "      co2_emissions_wltp available_from taxi_or_rental_car availability  \\\n",
              "0                    NaN            NaN                NaN          NaN   \n",
              "1                    NaN            NaN                NaN          NaN   \n",
              "2                    NaN            NaN                NaN          NaN   \n",
              "3                    NaN            NaN                NaN          NaN   \n",
              "4                    NaN            NaN                NaN          NaN   \n",
              "...                  ...            ...                ...          ...   \n",
              "29475                NaN            NaN                NaN          NaN   \n",
              "29476                NaN            NaN                NaN          NaN   \n",
              "29477                NaN            NaN                NaN          NaN   \n",
              "29478                NaN            NaN                NaN          NaN   \n",
              "29479                NaN            NaN                NaN          NaN   \n",
              "\n",
              "      last_timing_belt_change electric_range_wltp power_consumption_wltp  \\\n",
              "0                         NaN                 NaN                    NaN   \n",
              "1                         NaN                 NaN                    NaN   \n",
              "2                         NaN                 NaN                    NaN   \n",
              "3                         NaN                 NaN                    NaN   \n",
              "4                         NaN                 NaN                    NaN   \n",
              "...                       ...                 ...                    ...   \n",
              "29475                     NaN                 NaN                    NaN   \n",
              "29476                     NaN                 NaN                    NaN   \n",
              "29477                     NaN                 NaN                    NaN   \n",
              "29478                     NaN                 NaN                    NaN   \n",
              "29479                     NaN                 NaN                    NaN   \n",
              "\n",
              "      battery_ownership  \n",
              "0                   NaN  \n",
              "1                   NaN  \n",
              "2                   NaN  \n",
              "3                   NaN  \n",
              "4                   NaN  \n",
              "...                 ...  \n",
              "29475               NaN  \n",
              "29476               NaN  \n",
              "29477               NaN  \n",
              "29478               NaN  \n",
              "29479               NaN  \n",
              "\n",
              "[29480 rows x 58 columns]"
            ]
          },
          "execution_count": 1178,
          "metadata": {},
          "output_type": "execute_result"
        }
      ],
      "source": [
        "df"
      ]
    },
    {
      "cell_type": "code",
      "execution_count": null,
      "metadata": {
        "id": "sOaA_kmoT0eJ"
      },
      "outputs": [],
      "source": []
    },
    {
      "cell_type": "code",
      "execution_count": null,
      "metadata": {
        "id": "7cULqQCLT0eJ"
      },
      "outputs": [],
      "source": []
    },
    {
      "cell_type": "markdown",
      "metadata": {
        "id": "SwoBySfxT0eJ"
      },
      "source": [
        "# **NAN DEGERLERIN % 80 DEN BÜYÜK OLANLARI BELIRLEYIP SILME ISLEMI**"
      ]
    },
    {
      "cell_type": "code",
      "execution_count": null,
      "metadata": {
        "id": "VDa4526JT0eJ"
      },
      "outputs": [],
      "source": []
    },
    {
      "cell_type": "code",
      "execution_count": null,
      "metadata": {
        "id": "UmuvFu9tT0eR"
      },
      "outputs": [],
      "source": [
        "def yuzdelik(df, yuz=80 ):\n",
        "\n",
        "        a= df.isnull().sum() * 100 / len(df)\n",
        "        return a[a >80]\n",
        "\n",
        "def sutun_missing(yuzdelik):\n",
        "\n",
        "    return yuzdelik.isnull().mean() * 100\n",
        " #return serial.isnull().sum()*100 / serial.shape[0]"
      ]
    },
    {
      "cell_type": "code",
      "execution_count": null,
      "metadata": {
        "scrolled": true,
        "id": "2rM0UakdT0eR",
        "outputId": "aac6ceca-9a3f-4176-c5a4-980ced811ad2"
      },
      "outputs": [
        {
          "data": {
            "text/plain": [
              "make_model                  2.883311\n",
              "short_description           2.883311\n",
              "make                        2.883311\n",
              "model                       2.883311\n",
              "location                    2.883311\n",
              "price                       2.883311\n",
              "body_type                   2.883311\n",
              "type                        2.883311\n",
              "doors                       4.101085\n",
              "country_version            42.710312\n",
              "offer_number               21.641791\n",
              "warranty                   46.458616\n",
              "mileage                     2.886703\n",
              "first_registration          2.890095\n",
              "gearbox                     3.724559\n",
              "fuel_type                   8.945047\n",
              "colour                      8.731343\n",
              "paint                      50.831072\n",
              "desc                        4.860923\n",
              "seller                      2.883311\n",
              "seats                      13.483718\n",
              "power                       4.823609\n",
              "engine_size                 7.642469\n",
              "gears                      35.705563\n",
              "co2_emissions              36.926730\n",
              "manufacturer_colour        26.095658\n",
              "drivetrain                 42.696744\n",
              "cylinders                  36.051560\n",
              "fuel_consumption           20.675034\n",
              "comfort_convenience        13.727951\n",
              "entertainment_media        19.796472\n",
              "safety_security            13.789009\n",
              "extras                     20.352782\n",
              "empty_weight               39.762551\n",
              "model_code                 71.618046\n",
              "general_inspection         58.432836\n",
              "last_service               93.205563\n",
              "full_service_history       57.377883\n",
              "non_smoker_vehicle         60.671642\n",
              "emission_class             39.419946\n",
              "emissions_sticker          68.066486\n",
              "upholstery_colour          50.580054\n",
              "upholstery                 36.872456\n",
              "production_date            79.959294\n",
              "previous_owner             52.459294\n",
              "other_fuel_types           92.154003\n",
              "power_consumption          98.253053\n",
              "energy_efficiency_class    73.527815\n",
              "co2_efficiency             73.527815\n",
              "fuel_consumption_wltp      99.660787\n",
              "co2_emissions_wltp         99.606513\n",
              "available_from             98.666893\n",
              "taxi_or_rental_car         98.568521\n",
              "availability               98.978969\n",
              "last_timing_belt_change    98.059701\n",
              "electric_range_wltp        99.945726\n",
              "power_consumption_wltp     99.945726\n",
              "battery_ownership          99.976255\n",
              "dtype: float64"
            ]
          },
          "execution_count": 1082,
          "metadata": {},
          "output_type": "execute_result"
        }
      ],
      "source": [
        "sutun_missing(df)\n"
      ]
    },
    {
      "cell_type": "code",
      "execution_count": null,
      "metadata": {
        "id": "b69AIVhzT0eR",
        "outputId": "245c4a03-f048-44cb-c0cc-d6ef6b5f5696"
      },
      "outputs": [
        {
          "data": {
            "text/plain": [
              "last_service               93.205563\n",
              "other_fuel_types           92.154003\n",
              "power_consumption          98.253053\n",
              "fuel_consumption_wltp      99.660787\n",
              "co2_emissions_wltp         99.606513\n",
              "available_from             98.666893\n",
              "taxi_or_rental_car         98.568521\n",
              "availability               98.978969\n",
              "last_timing_belt_change    98.059701\n",
              "electric_range_wltp        99.945726\n",
              "power_consumption_wltp     99.945726\n",
              "battery_ownership          99.976255\n",
              "dtype: float64"
            ]
          },
          "execution_count": 1083,
          "metadata": {},
          "output_type": "execute_result"
        }
      ],
      "source": [
        "yuzdelik(df)"
      ]
    },
    {
      "cell_type": "markdown",
      "metadata": {
        "id": "r3OzE_XFT0eR"
      },
      "source": [
        " #  ** 80'A ESIT VEYA BÜYÜK OLAN NAN DEGERLERI SILIYORUZ  **"
      ]
    },
    {
      "cell_type": "code",
      "execution_count": null,
      "metadata": {
        "id": "FkhgGWS1T0eR"
      },
      "outputs": [],
      "source": []
    },
    {
      "cell_type": "code",
      "execution_count": null,
      "metadata": {
        "id": "dQcAQsBmT0eS",
        "outputId": "e94a329a-a6c8-4766-e8e2-d8afdbb92219"
      },
      "outputs": [
        {
          "data": {
            "text/plain": [
              "Index(['last_service', 'other_fuel_types', 'power_consumption',\n",
              "       'fuel_consumption_wltp', 'co2_emissions_wltp', 'available_from',\n",
              "       'taxi_or_rental_car', 'availability', 'last_timing_belt_change',\n",
              "       'electric_range_wltp', 'power_consumption_wltp', 'battery_ownership'],\n",
              "      dtype='object')"
            ]
          },
          "execution_count": 1722,
          "metadata": {},
          "output_type": "execute_result"
        }
      ],
      "source": [
        "drop_columns = df.columns[df.isnull().mean() >=0.8] #silinecek kolonlari bir degiskene atadik\n",
        "drop_columns\n",
        "#2.  yol drop_columns = yuzdelik(df, 80).index\n",
        "#drop_columns"
      ]
    },
    {
      "cell_type": "code",
      "execution_count": null,
      "metadata": {
        "id": "jp4wMWW_T0eS"
      },
      "outputs": [],
      "source": []
    },
    {
      "cell_type": "code",
      "execution_count": null,
      "metadata": {
        "id": "lJRIRcRjT0eS"
      },
      "outputs": [],
      "source": [
        "df.drop(drop_columns ,axis=1 , inplace= True )"
      ]
    },
    {
      "cell_type": "code",
      "execution_count": null,
      "metadata": {
        "id": "i6DI9s6aT0eS",
        "outputId": "20738ed8-d380-4004-a6a4-4302d95d37de"
      },
      "outputs": [
        {
          "data": {
            "text/plain": [
              "46"
            ]
          },
          "execution_count": 1724,
          "metadata": {},
          "output_type": "execute_result"
        }
      ],
      "source": [
        "len(df.columns)"
      ]
    },
    {
      "cell_type": "code",
      "execution_count": null,
      "metadata": {
        "id": "ZyCrHMKNT0eS",
        "outputId": "142c8827-aff5-4a9e-b113-b6516d31ae04"
      },
      "outputs": [
        {
          "name": "stdout",
          "output_type": "stream",
          "text": [
            "<class 'pandas.core.frame.DataFrame'>\n",
            "RangeIndex: 29480 entries, 0 to 29479\n",
            "Data columns (total 46 columns):\n",
            " #   Column                   Non-Null Count  Dtype  \n",
            "---  ------                   --------------  -----  \n",
            " 0   make_model               28630 non-null  object \n",
            " 1   short_description        28630 non-null  object \n",
            " 2   make                     28630 non-null  object \n",
            " 3   model                    28630 non-null  object \n",
            " 4   location                 28630 non-null  object \n",
            " 5   price                    28630 non-null  object \n",
            " 6   body_type                28630 non-null  object \n",
            " 7   type                     28630 non-null  object \n",
            " 8   doors                    28271 non-null  object \n",
            " 9   country_version          16889 non-null  object \n",
            " 10  offer_number             23100 non-null  object \n",
            " 11  warranty                 15784 non-null  object \n",
            " 12  mileage                  28629 non-null  object \n",
            " 13  first_registration       28628 non-null  object \n",
            " 14  gearbox                  28382 non-null  object \n",
            " 15  fuel_type                26843 non-null  object \n",
            " 16  colour                   26906 non-null  object \n",
            " 17  paint                    14495 non-null  object \n",
            " 18  desc                     28047 non-null  object \n",
            " 19  seller                   28630 non-null  object \n",
            " 20  seats                    25505 non-null  object \n",
            " 21  power                    28058 non-null  object \n",
            " 22  engine_size              27227 non-null  object \n",
            " 23  gears                    18954 non-null  object \n",
            " 24  co2_emissions            18594 non-null  object \n",
            " 25  manufacturer_colour      21787 non-null  object \n",
            " 26  drivetrain               16893 non-null  object \n",
            " 27  cylinders                18852 non-null  object \n",
            " 28  fuel_consumption         23385 non-null  object \n",
            " 29  comfort_convenience      25433 non-null  object \n",
            " 30  entertainment_media      23644 non-null  object \n",
            " 31  safety_security          25415 non-null  object \n",
            " 32  extras                   23480 non-null  object \n",
            " 33  empty_weight             17758 non-null  object \n",
            " 34  model_code               8367 non-null   object \n",
            " 35  general_inspection       12254 non-null  object \n",
            " 36  full_service_history     12565 non-null  object \n",
            " 37  non_smoker_vehicle       11594 non-null  object \n",
            " 38  emission_class           17859 non-null  object \n",
            " 39  emissions_sticker        9414 non-null   object \n",
            " 40  upholstery_colour        14569 non-null  object \n",
            " 41  upholstery               18610 non-null  object \n",
            " 42  production_date          5908 non-null   float64\n",
            " 43  previous_owner           14015 non-null  object \n",
            " 44  energy_efficiency_class  7804 non-null   object \n",
            " 45  co2_efficiency           7804 non-null   object \n",
            "dtypes: float64(1), object(45)\n",
            "memory usage: 10.3+ MB\n"
          ]
        }
      ],
      "source": [
        "df.info()"
      ]
    },
    {
      "cell_type": "markdown",
      "metadata": {
        "id": "LH_5OewhT0eS"
      },
      "source": [
        "  # **DUBLICATED DEGERLERI BULUYORUM**"
      ]
    },
    {
      "cell_type": "code",
      "execution_count": null,
      "metadata": {
        "id": "YSoZ4etsT0eS",
        "outputId": "6109db54-43fb-4af6-f07f-c5e51a7e81f7"
      },
      "outputs": [
        {
          "data": {
            "text/plain": [
              "4384"
            ]
          },
          "execution_count": 1725,
          "metadata": {},
          "output_type": "execute_result"
        }
      ],
      "source": [
        "\n",
        "df.astype(str).duplicated(keep=False).sum()# sum () ile topöam yinelenen  satir sayisini tespit etmis olduik"
      ]
    },
    {
      "cell_type": "code",
      "execution_count": null,
      "metadata": {
        "id": "6fvXKLRwT0eS"
      },
      "outputs": [],
      "source": [
        "\n"
      ]
    },
    {
      "cell_type": "code",
      "execution_count": null,
      "metadata": {
        "id": "rF--MDJ5T0eS"
      },
      "outputs": [],
      "source": [
        " #duplicated(keep=False) kullanılarak, tekrar eden satırların tamamının doğru şekilde işaretlenmesi sağlanır.\n",
        "#Veri tipleri farklı olduğunda, tekrar eden satırları doğru bir şekilde belirlemek zor olabilir. Örneğin, bir sütunda sayısal değerler varken diğer sütunda metin değerleri varsa, bu değerlerin birbirleriyle eşleştirilmesi ve tekrar eden satırların tespiti hatalı sonuçlara yol açabilir.\n",
        "\n",
        "#Bu nedenle, genellikle tüm sütunları stringe dönüştürerek tüm sütunlarda aynı veri tipini kullanmak tercih edilir. Böylece tekrar eden satırları doğru bir şekilde tespit edebilirsiniz."
      ]
    },
    {
      "cell_type": "code",
      "execution_count": null,
      "metadata": {
        "id": "KDprx09_T0eT",
        "outputId": "73044686-9969-470e-a127-fcb89e36d30b"
      },
      "outputs": [
        {
          "data": {
            "text/plain": [
              "Volvo C70              690\n",
              "Volvo V40              678\n",
              "Volvo XC60             350\n",
              "Volvo V60              308\n",
              "Volvo C30              228\n",
              "                      ... \n",
              "Mercedes-Benz V 250      2\n",
              "Toyota Camry             2\n",
              "Toyota Avensis           2\n",
              "Mercedes-Benz S 500      2\n",
              "Volvo 945                2\n",
              "Name: make_model, Length: 198, dtype: int64"
            ]
          },
          "execution_count": 1726,
          "metadata": {},
          "output_type": "execute_result"
        }
      ],
      "source": [
        "df[df.astype(str).duplicated(['make_model', 'short_description', 'location'], keep=False)]['make_model'].value_counts(dropna=True)"
      ]
    },
    {
      "cell_type": "code",
      "execution_count": null,
      "metadata": {
        "id": "ZEELrRmPT0eT",
        "outputId": "36ba63cf-4762-4d69-d610-a1cf18e2b7c4"
      },
      "outputs": [
        {
          "data": {
            "text/html": [
              "<div>\n",
              "<style scoped>\n",
              "    .dataframe tbody tr th:only-of-type {\n",
              "        vertical-align: middle;\n",
              "    }\n",
              "\n",
              "    .dataframe tbody tr th {\n",
              "        vertical-align: top;\n",
              "    }\n",
              "\n",
              "    .dataframe thead th {\n",
              "        text-align: right;\n",
              "    }\n",
              "</style>\n",
              "<table border=\"1\" class=\"dataframe\">\n",
              "  <thead>\n",
              "    <tr style=\"text-align: right;\">\n",
              "      <th></th>\n",
              "      <th>make_model</th>\n",
              "      <th>short_description</th>\n",
              "      <th>make</th>\n",
              "      <th>model</th>\n",
              "      <th>location</th>\n",
              "      <th>price</th>\n",
              "      <th>body_type</th>\n",
              "      <th>type</th>\n",
              "      <th>doors</th>\n",
              "      <th>country_version</th>\n",
              "      <th>...</th>\n",
              "      <th>full_service_history</th>\n",
              "      <th>non_smoker_vehicle</th>\n",
              "      <th>emission_class</th>\n",
              "      <th>emissions_sticker</th>\n",
              "      <th>upholstery_colour</th>\n",
              "      <th>upholstery</th>\n",
              "      <th>production_date</th>\n",
              "      <th>previous_owner</th>\n",
              "      <th>energy_efficiency_class</th>\n",
              "      <th>co2_efficiency</th>\n",
              "    </tr>\n",
              "  </thead>\n",
              "  <tbody>\n",
              "    <tr>\n",
              "      <th>26470</th>\n",
              "      <td>Volvo C70</td>\n",
              "      <td>T5 Summum</td>\n",
              "      <td>\\nVolvo\\n</td>\n",
              "      <td>[\\n, C70 ,\\n]</td>\n",
              "      <td>RIO ULLA 15,  28017 MADRID, ES</td>\n",
              "      <td>€ 11,999.-</td>\n",
              "      <td>[\\n, Convertible, \\n]</td>\n",
              "      <td>[\\n, Used, \\n]</td>\n",
              "      <td>[\\n, 2, \\n]</td>\n",
              "      <td>[\\n, Spain, \\n]</td>\n",
              "      <td>...</td>\n",
              "      <td>NaN</td>\n",
              "      <td>NaN</td>\n",
              "      <td>NaN</td>\n",
              "      <td>NaN</td>\n",
              "      <td>NaN</td>\n",
              "      <td>NaN</td>\n",
              "      <td>NaN</td>\n",
              "      <td>NaN</td>\n",
              "      <td>NaN</td>\n",
              "      <td>NaN</td>\n",
              "    </tr>\n",
              "    <tr>\n",
              "      <th>26471</th>\n",
              "      <td>Volvo C70</td>\n",
              "      <td>2.4i Momentum</td>\n",
              "      <td>\\nVolvo\\n</td>\n",
              "      <td>[\\n, C70 ,\\n]</td>\n",
              "      <td>Auf dem Sand 28,  40721 Hilden, DE</td>\n",
              "      <td>€ 11,880.-</td>\n",
              "      <td>[\\n, Convertible, \\n]</td>\n",
              "      <td>[\\n, Used, \\n]</td>\n",
              "      <td>[\\n, 2, \\n]</td>\n",
              "      <td>[\\n, Germany, \\n]</td>\n",
              "      <td>...</td>\n",
              "      <td>Yes</td>\n",
              "      <td>NaN</td>\n",
              "      <td>Euro 4</td>\n",
              "      <td>4 (Green)</td>\n",
              "      <td>Beige</td>\n",
              "      <td>Part leather</td>\n",
              "      <td>NaN</td>\n",
              "      <td>[[155,923 km, 08/2006], 2]</td>\n",
              "      <td>F</td>\n",
              "      <td>Calculated on basis of measured CO₂-emissions ...</td>\n",
              "    </tr>\n",
              "    <tr>\n",
              "      <th>26472</th>\n",
              "      <td>Volvo C70</td>\n",
              "      <td>2.5T 220PS Cabriolet T5 Summum 1.Hand Xenon</td>\n",
              "      <td>\\nVolvo\\n</td>\n",
              "      <td>[\\n, C70 ,\\n]</td>\n",
              "      <td>Lichterfelder Allee 14,  14513 Teltow, DE</td>\n",
              "      <td>€ 20,999.-</td>\n",
              "      <td>[\\n, Convertible, \\n]</td>\n",
              "      <td>[\\n, Used, \\n]</td>\n",
              "      <td>[\\n, 2, \\n]</td>\n",
              "      <td>[\\n, Germany, \\n]</td>\n",
              "      <td>...</td>\n",
              "      <td>Yes</td>\n",
              "      <td>Yes</td>\n",
              "      <td>Euro 4</td>\n",
              "      <td>4 (Green)</td>\n",
              "      <td>Grey</td>\n",
              "      <td>Full leather</td>\n",
              "      <td>NaN</td>\n",
              "      <td>[[69,747 km, 05/2007], 1]</td>\n",
              "      <td>NaN</td>\n",
              "      <td>NaN</td>\n",
              "    </tr>\n",
              "    <tr>\n",
              "      <th>26473</th>\n",
              "      <td>Volvo C70</td>\n",
              "      <td>2.0 D3 150PS Cabriolet Momentum Automatik</td>\n",
              "      <td>\\nVolvo\\n</td>\n",
              "      <td>[\\n, C70 ,\\n]</td>\n",
              "      <td>Lichterfelder Allee 14,  14513 Teltow, DE</td>\n",
              "      <td>€ 14,999.-</td>\n",
              "      <td>[\\n, Convertible, \\n]</td>\n",
              "      <td>[\\n, Used, \\n]</td>\n",
              "      <td>[\\n, 2, \\n]</td>\n",
              "      <td>[\\n, Germany, \\n]</td>\n",
              "      <td>...</td>\n",
              "      <td>Yes</td>\n",
              "      <td>Yes</td>\n",
              "      <td>Euro 5</td>\n",
              "      <td>4 (Green)</td>\n",
              "      <td>Black</td>\n",
              "      <td>Part leather</td>\n",
              "      <td>NaN</td>\n",
              "      <td>[[146,348 km, 10/2011], 1]</td>\n",
              "      <td>NaN</td>\n",
              "      <td>NaN</td>\n",
              "    </tr>\n",
              "    <tr>\n",
              "      <th>26474</th>\n",
              "      <td>Volvo C70</td>\n",
              "      <td>2.0D SUMMUM</td>\n",
              "      <td>\\nVolvo\\n</td>\n",
              "      <td>[\\n, C70 ,\\n]</td>\n",
              "      <td>POL. IND. DE CROSS 39600 SANTANDER CANTABRIA E...</td>\n",
              "      <td>€ 9,900.-</td>\n",
              "      <td>[\\n, Convertible, \\n]</td>\n",
              "      <td>[\\n, Used, \\n]</td>\n",
              "      <td>[\\n, 2, \\n]</td>\n",
              "      <td>[\\n, Spain, \\n]</td>\n",
              "      <td>...</td>\n",
              "      <td>NaN</td>\n",
              "      <td>NaN</td>\n",
              "      <td>NaN</td>\n",
              "      <td>NaN</td>\n",
              "      <td>NaN</td>\n",
              "      <td>NaN</td>\n",
              "      <td>NaN</td>\n",
              "      <td>NaN</td>\n",
              "      <td>NaN</td>\n",
              "      <td>NaN</td>\n",
              "    </tr>\n",
              "    <tr>\n",
              "      <th>...</th>\n",
              "      <td>...</td>\n",
              "      <td>...</td>\n",
              "      <td>...</td>\n",
              "      <td>...</td>\n",
              "      <td>...</td>\n",
              "      <td>...</td>\n",
              "      <td>...</td>\n",
              "      <td>...</td>\n",
              "      <td>...</td>\n",
              "      <td>...</td>\n",
              "      <td>...</td>\n",
              "      <td>...</td>\n",
              "      <td>...</td>\n",
              "      <td>...</td>\n",
              "      <td>...</td>\n",
              "      <td>...</td>\n",
              "      <td>...</td>\n",
              "      <td>...</td>\n",
              "      <td>...</td>\n",
              "      <td>...</td>\n",
              "      <td>...</td>\n",
              "    </tr>\n",
              "    <tr>\n",
              "      <th>27449</th>\n",
              "      <td>Volvo C70</td>\n",
              "      <td>C70 Coupe 2.5 193cv</td>\n",
              "      <td>\\nVolvo\\n</td>\n",
              "      <td>[\\n, C70 ,\\n]</td>\n",
              "      <td>47923 Rimini, IT</td>\n",
              "      <td>€ 7,400.-</td>\n",
              "      <td>[\\n, Coupe, \\n]</td>\n",
              "      <td>[\\n, Used, \\n]</td>\n",
              "      <td>[\\n, 2, \\n]</td>\n",
              "      <td>NaN</td>\n",
              "      <td>...</td>\n",
              "      <td>NaN</td>\n",
              "      <td>Yes</td>\n",
              "      <td>Euro 6</td>\n",
              "      <td>NaN</td>\n",
              "      <td>Grey</td>\n",
              "      <td>Full leather</td>\n",
              "      <td>NaN</td>\n",
              "      <td>NaN</td>\n",
              "      <td>NaN</td>\n",
              "      <td>NaN</td>\n",
              "    </tr>\n",
              "    <tr>\n",
              "      <th>27450</th>\n",
              "      <td>Volvo C70</td>\n",
              "      <td>Coupé 2.0 T Prestige UNIEK!</td>\n",
              "      <td>\\nVolvo\\n</td>\n",
              "      <td>[\\n, C70 ,\\n]</td>\n",
              "      <td>Edisonweg 16a,  2952 AD ALBLASSERDAM, NL</td>\n",
              "      <td>€ 8,950.-</td>\n",
              "      <td>[\\n, Coupe, \\n]</td>\n",
              "      <td>[\\n, Used, \\n]</td>\n",
              "      <td>[\\n, 2, \\n]</td>\n",
              "      <td>NaN</td>\n",
              "      <td>...</td>\n",
              "      <td>Yes</td>\n",
              "      <td>NaN</td>\n",
              "      <td>NaN</td>\n",
              "      <td>NaN</td>\n",
              "      <td>Other</td>\n",
              "      <td>Full leather</td>\n",
              "      <td>NaN</td>\n",
              "      <td>[[118,232 km, 12/2000], 2]</td>\n",
              "      <td>NaN</td>\n",
              "      <td>NaN</td>\n",
              "    </tr>\n",
              "    <tr>\n",
              "      <th>27451</th>\n",
              "      <td>Volvo C70</td>\n",
              "      <td>COUPE' 2000 TURBO T5 226CV</td>\n",
              "      <td>\\nVolvo\\n</td>\n",
              "      <td>[\\n, C70 ,\\n]</td>\n",
              "      <td>41126 Modena, IT</td>\n",
              "      <td>€ 7,500.-</td>\n",
              "      <td>[\\n, Coupe, \\n]</td>\n",
              "      <td>[\\n, Used, \\n]</td>\n",
              "      <td>[\\n, 2, \\n]</td>\n",
              "      <td>NaN</td>\n",
              "      <td>...</td>\n",
              "      <td>Yes</td>\n",
              "      <td>Yes</td>\n",
              "      <td>Euro 3</td>\n",
              "      <td>NaN</td>\n",
              "      <td>Black</td>\n",
              "      <td>Full leather</td>\n",
              "      <td>NaN</td>\n",
              "      <td>[[227,000 km, 02/2000], 1]</td>\n",
              "      <td>NaN</td>\n",
              "      <td>NaN</td>\n",
              "    </tr>\n",
              "    <tr>\n",
              "      <th>27456</th>\n",
              "      <td>Volvo C70</td>\n",
              "      <td>2.5T</td>\n",
              "      <td>\\nVolvo\\n</td>\n",
              "      <td>[\\n, C70 ,\\n]</td>\n",
              "      <td>94051 Hauzenberg, DE</td>\n",
              "      <td>€ 12,500.-</td>\n",
              "      <td>[\\n, Coupe, \\n]</td>\n",
              "      <td>[\\n, Used, \\n]</td>\n",
              "      <td>[\\n, 2, \\n]</td>\n",
              "      <td>NaN</td>\n",
              "      <td>...</td>\n",
              "      <td>Yes</td>\n",
              "      <td>Yes</td>\n",
              "      <td>Euro 3</td>\n",
              "      <td>1 (No sticker)</td>\n",
              "      <td>Beige</td>\n",
              "      <td>Full leather</td>\n",
              "      <td>NaN</td>\n",
              "      <td>[[182,000 km, 11/1998], 1]</td>\n",
              "      <td>NaN</td>\n",
              "      <td>NaN</td>\n",
              "    </tr>\n",
              "    <tr>\n",
              "      <th>27486</th>\n",
              "      <td>Volvo C70</td>\n",
              "      <td>2.0 D Summum</td>\n",
              "      <td>\\nVolvo\\n</td>\n",
              "      <td>[\\n, C70 ,\\n]</td>\n",
              "      <td>Viale della Marina, 59,  00122 Ostia lido - Ro...</td>\n",
              "      <td>€ 9,900.-</td>\n",
              "      <td>[\\n, Coupe, \\n]</td>\n",
              "      <td>[\\n, Used, \\n]</td>\n",
              "      <td>[\\n, 2, \\n]</td>\n",
              "      <td>[\\n, Italy, \\n]</td>\n",
              "      <td>...</td>\n",
              "      <td>NaN</td>\n",
              "      <td>NaN</td>\n",
              "      <td>Euro 4</td>\n",
              "      <td>NaN</td>\n",
              "      <td>Black</td>\n",
              "      <td>Full leather</td>\n",
              "      <td>NaN</td>\n",
              "      <td>[[195,000 km, 07/2008], 2]</td>\n",
              "      <td>NaN</td>\n",
              "      <td>NaN</td>\n",
              "    </tr>\n",
              "  </tbody>\n",
              "</table>\n",
              "<p>692 rows × 46 columns</p>\n",
              "</div>"
            ],
            "text/plain": [
              "      make_model                            short_description       make  \\\n",
              "26470  Volvo C70                                    T5 Summum  \\nVolvo\\n   \n",
              "26471  Volvo C70                                2.4i Momentum  \\nVolvo\\n   \n",
              "26472  Volvo C70  2.5T 220PS Cabriolet T5 Summum 1.Hand Xenon  \\nVolvo\\n   \n",
              "26473  Volvo C70    2.0 D3 150PS Cabriolet Momentum Automatik  \\nVolvo\\n   \n",
              "26474  Volvo C70                                  2.0D SUMMUM  \\nVolvo\\n   \n",
              "...          ...                                          ...        ...   \n",
              "27449  Volvo C70                          C70 Coupe 2.5 193cv  \\nVolvo\\n   \n",
              "27450  Volvo C70                  Coupé 2.0 T Prestige UNIEK!  \\nVolvo\\n   \n",
              "27451  Volvo C70                   COUPE' 2000 TURBO T5 226CV  \\nVolvo\\n   \n",
              "27456  Volvo C70                                         2.5T  \\nVolvo\\n   \n",
              "27486  Volvo C70                                 2.0 D Summum  \\nVolvo\\n   \n",
              "\n",
              "               model                                           location  \\\n",
              "26470  [\\n, C70 ,\\n]                     RIO ULLA 15,  28017 MADRID, ES   \n",
              "26471  [\\n, C70 ,\\n]                 Auf dem Sand 28,  40721 Hilden, DE   \n",
              "26472  [\\n, C70 ,\\n]          Lichterfelder Allee 14,  14513 Teltow, DE   \n",
              "26473  [\\n, C70 ,\\n]          Lichterfelder Allee 14,  14513 Teltow, DE   \n",
              "26474  [\\n, C70 ,\\n]  POL. IND. DE CROSS 39600 SANTANDER CANTABRIA E...   \n",
              "...              ...                                                ...   \n",
              "27449  [\\n, C70 ,\\n]                                   47923 Rimini, IT   \n",
              "27450  [\\n, C70 ,\\n]           Edisonweg 16a,  2952 AD ALBLASSERDAM, NL   \n",
              "27451  [\\n, C70 ,\\n]                                   41126 Modena, IT   \n",
              "27456  [\\n, C70 ,\\n]                               94051 Hauzenberg, DE   \n",
              "27486  [\\n, C70 ,\\n]  Viale della Marina, 59,  00122 Ostia lido - Ro...   \n",
              "\n",
              "            price              body_type            type        doors  \\\n",
              "26470  € 11,999.-  [\\n, Convertible, \\n]  [\\n, Used, \\n]  [\\n, 2, \\n]   \n",
              "26471  € 11,880.-  [\\n, Convertible, \\n]  [\\n, Used, \\n]  [\\n, 2, \\n]   \n",
              "26472  € 20,999.-  [\\n, Convertible, \\n]  [\\n, Used, \\n]  [\\n, 2, \\n]   \n",
              "26473  € 14,999.-  [\\n, Convertible, \\n]  [\\n, Used, \\n]  [\\n, 2, \\n]   \n",
              "26474   € 9,900.-  [\\n, Convertible, \\n]  [\\n, Used, \\n]  [\\n, 2, \\n]   \n",
              "...           ...                    ...             ...          ...   \n",
              "27449   € 7,400.-        [\\n, Coupe, \\n]  [\\n, Used, \\n]  [\\n, 2, \\n]   \n",
              "27450   € 8,950.-        [\\n, Coupe, \\n]  [\\n, Used, \\n]  [\\n, 2, \\n]   \n",
              "27451   € 7,500.-        [\\n, Coupe, \\n]  [\\n, Used, \\n]  [\\n, 2, \\n]   \n",
              "27456  € 12,500.-        [\\n, Coupe, \\n]  [\\n, Used, \\n]  [\\n, 2, \\n]   \n",
              "27486   € 9,900.-        [\\n, Coupe, \\n]  [\\n, Used, \\n]  [\\n, 2, \\n]   \n",
              "\n",
              "         country_version  ... full_service_history non_smoker_vehicle  \\\n",
              "26470    [\\n, Spain, \\n]  ...                  NaN                NaN   \n",
              "26471  [\\n, Germany, \\n]  ...                  Yes                NaN   \n",
              "26472  [\\n, Germany, \\n]  ...                  Yes                Yes   \n",
              "26473  [\\n, Germany, \\n]  ...                  Yes                Yes   \n",
              "26474    [\\n, Spain, \\n]  ...                  NaN                NaN   \n",
              "...                  ...  ...                  ...                ...   \n",
              "27449                NaN  ...                  NaN                Yes   \n",
              "27450                NaN  ...                  Yes                NaN   \n",
              "27451                NaN  ...                  Yes                Yes   \n",
              "27456                NaN  ...                  Yes                Yes   \n",
              "27486    [\\n, Italy, \\n]  ...                  NaN                NaN   \n",
              "\n",
              "      emission_class emissions_sticker upholstery_colour    upholstery  \\\n",
              "26470            NaN               NaN               NaN           NaN   \n",
              "26471         Euro 4         4 (Green)             Beige  Part leather   \n",
              "26472         Euro 4         4 (Green)              Grey  Full leather   \n",
              "26473         Euro 5         4 (Green)             Black  Part leather   \n",
              "26474            NaN               NaN               NaN           NaN   \n",
              "...              ...               ...               ...           ...   \n",
              "27449         Euro 6               NaN              Grey  Full leather   \n",
              "27450            NaN               NaN             Other  Full leather   \n",
              "27451         Euro 3               NaN             Black  Full leather   \n",
              "27456         Euro 3    1 (No sticker)             Beige  Full leather   \n",
              "27486         Euro 4               NaN             Black  Full leather   \n",
              "\n",
              "      production_date              previous_owner energy_efficiency_class  \\\n",
              "26470             NaN                         NaN                     NaN   \n",
              "26471             NaN  [[155,923 km, 08/2006], 2]                       F   \n",
              "26472             NaN   [[69,747 km, 05/2007], 1]                     NaN   \n",
              "26473             NaN  [[146,348 km, 10/2011], 1]                     NaN   \n",
              "26474             NaN                         NaN                     NaN   \n",
              "...               ...                         ...                     ...   \n",
              "27449             NaN                         NaN                     NaN   \n",
              "27450             NaN  [[118,232 km, 12/2000], 2]                     NaN   \n",
              "27451             NaN  [[227,000 km, 02/2000], 1]                     NaN   \n",
              "27456             NaN  [[182,000 km, 11/1998], 1]                     NaN   \n",
              "27486             NaN  [[195,000 km, 07/2008], 2]                     NaN   \n",
              "\n",
              "                                          co2_efficiency  \n",
              "26470                                                NaN  \n",
              "26471  Calculated on basis of measured CO₂-emissions ...  \n",
              "26472                                                NaN  \n",
              "26473                                                NaN  \n",
              "26474                                                NaN  \n",
              "...                                                  ...  \n",
              "27449                                                NaN  \n",
              "27450                                                NaN  \n",
              "27451                                                NaN  \n",
              "27456                                                NaN  \n",
              "27486                                                NaN  \n",
              "\n",
              "[692 rows x 46 columns]"
            ]
          },
          "execution_count": 1727,
          "metadata": {},
          "output_type": "execute_result"
        }
      ],
      "source": [
        "df[df.astype(str)['make_model'] == 'Volvo C70'] # astype ile sütünlar icinde numerik veya string degerler olabilir buda istedigimiz gibi sonuc elde etmemize mani olur. bu nedenleastype(str) deriz"
      ]
    },
    {
      "cell_type": "code",
      "execution_count": null,
      "metadata": {
        "id": "NwyoxqprT0eT",
        "outputId": "5829ce33-c447-4399-ede4-8d79ed468a62"
      },
      "outputs": [
        {
          "data": {
            "text/html": [
              "<div>\n",
              "<style scoped>\n",
              "    .dataframe tbody tr th:only-of-type {\n",
              "        vertical-align: middle;\n",
              "    }\n",
              "\n",
              "    .dataframe tbody tr th {\n",
              "        vertical-align: top;\n",
              "    }\n",
              "\n",
              "    .dataframe thead th {\n",
              "        text-align: right;\n",
              "    }\n",
              "</style>\n",
              "<table border=\"1\" class=\"dataframe\">\n",
              "  <thead>\n",
              "    <tr style=\"text-align: right;\">\n",
              "      <th></th>\n",
              "      <th>make_model</th>\n",
              "      <th>short_description</th>\n",
              "      <th>make</th>\n",
              "      <th>model</th>\n",
              "      <th>location</th>\n",
              "      <th>price</th>\n",
              "      <th>body_type</th>\n",
              "      <th>type</th>\n",
              "      <th>doors</th>\n",
              "      <th>country_version</th>\n",
              "      <th>...</th>\n",
              "      <th>full_service_history</th>\n",
              "      <th>non_smoker_vehicle</th>\n",
              "      <th>emission_class</th>\n",
              "      <th>emissions_sticker</th>\n",
              "      <th>upholstery_colour</th>\n",
              "      <th>upholstery</th>\n",
              "      <th>production_date</th>\n",
              "      <th>previous_owner</th>\n",
              "      <th>energy_efficiency_class</th>\n",
              "      <th>co2_efficiency</th>\n",
              "    </tr>\n",
              "  </thead>\n",
              "  <tbody>\n",
              "    <tr>\n",
              "      <th>26470</th>\n",
              "      <td>Volvo C70</td>\n",
              "      <td>T5 Summum</td>\n",
              "      <td>\\nVolvo\\n</td>\n",
              "      <td>[\\n, C70 ,\\n]</td>\n",
              "      <td>RIO ULLA 15,  28017 MADRID, ES</td>\n",
              "      <td>€ 11,999.-</td>\n",
              "      <td>[\\n, Convertible, \\n]</td>\n",
              "      <td>[\\n, Used, \\n]</td>\n",
              "      <td>[\\n, 2, \\n]</td>\n",
              "      <td>[\\n, Spain, \\n]</td>\n",
              "      <td>...</td>\n",
              "      <td>NaN</td>\n",
              "      <td>NaN</td>\n",
              "      <td>NaN</td>\n",
              "      <td>NaN</td>\n",
              "      <td>NaN</td>\n",
              "      <td>NaN</td>\n",
              "      <td>NaN</td>\n",
              "      <td>NaN</td>\n",
              "      <td>NaN</td>\n",
              "      <td>NaN</td>\n",
              "    </tr>\n",
              "    <tr>\n",
              "      <th>26471</th>\n",
              "      <td>Volvo C70</td>\n",
              "      <td>2.4i Momentum</td>\n",
              "      <td>\\nVolvo\\n</td>\n",
              "      <td>[\\n, C70 ,\\n]</td>\n",
              "      <td>Auf dem Sand 28,  40721 Hilden, DE</td>\n",
              "      <td>€ 11,880.-</td>\n",
              "      <td>[\\n, Convertible, \\n]</td>\n",
              "      <td>[\\n, Used, \\n]</td>\n",
              "      <td>[\\n, 2, \\n]</td>\n",
              "      <td>[\\n, Germany, \\n]</td>\n",
              "      <td>...</td>\n",
              "      <td>Yes</td>\n",
              "      <td>NaN</td>\n",
              "      <td>Euro 4</td>\n",
              "      <td>4 (Green)</td>\n",
              "      <td>Beige</td>\n",
              "      <td>Part leather</td>\n",
              "      <td>NaN</td>\n",
              "      <td>[[155,923 km, 08/2006], 2]</td>\n",
              "      <td>F</td>\n",
              "      <td>Calculated on basis of measured CO₂-emissions ...</td>\n",
              "    </tr>\n",
              "    <tr>\n",
              "      <th>26472</th>\n",
              "      <td>Volvo C70</td>\n",
              "      <td>2.5T 220PS Cabriolet T5 Summum 1.Hand Xenon</td>\n",
              "      <td>\\nVolvo\\n</td>\n",
              "      <td>[\\n, C70 ,\\n]</td>\n",
              "      <td>Lichterfelder Allee 14,  14513 Teltow, DE</td>\n",
              "      <td>€ 20,999.-</td>\n",
              "      <td>[\\n, Convertible, \\n]</td>\n",
              "      <td>[\\n, Used, \\n]</td>\n",
              "      <td>[\\n, 2, \\n]</td>\n",
              "      <td>[\\n, Germany, \\n]</td>\n",
              "      <td>...</td>\n",
              "      <td>Yes</td>\n",
              "      <td>Yes</td>\n",
              "      <td>Euro 4</td>\n",
              "      <td>4 (Green)</td>\n",
              "      <td>Grey</td>\n",
              "      <td>Full leather</td>\n",
              "      <td>NaN</td>\n",
              "      <td>[[69,747 km, 05/2007], 1]</td>\n",
              "      <td>NaN</td>\n",
              "      <td>NaN</td>\n",
              "    </tr>\n",
              "    <tr>\n",
              "      <th>26473</th>\n",
              "      <td>Volvo C70</td>\n",
              "      <td>2.0 D3 150PS Cabriolet Momentum Automatik</td>\n",
              "      <td>\\nVolvo\\n</td>\n",
              "      <td>[\\n, C70 ,\\n]</td>\n",
              "      <td>Lichterfelder Allee 14,  14513 Teltow, DE</td>\n",
              "      <td>€ 14,999.-</td>\n",
              "      <td>[\\n, Convertible, \\n]</td>\n",
              "      <td>[\\n, Used, \\n]</td>\n",
              "      <td>[\\n, 2, \\n]</td>\n",
              "      <td>[\\n, Germany, \\n]</td>\n",
              "      <td>...</td>\n",
              "      <td>Yes</td>\n",
              "      <td>Yes</td>\n",
              "      <td>Euro 5</td>\n",
              "      <td>4 (Green)</td>\n",
              "      <td>Black</td>\n",
              "      <td>Part leather</td>\n",
              "      <td>NaN</td>\n",
              "      <td>[[146,348 km, 10/2011], 1]</td>\n",
              "      <td>NaN</td>\n",
              "      <td>NaN</td>\n",
              "    </tr>\n",
              "    <tr>\n",
              "      <th>26474</th>\n",
              "      <td>Volvo C70</td>\n",
              "      <td>2.0D SUMMUM</td>\n",
              "      <td>\\nVolvo\\n</td>\n",
              "      <td>[\\n, C70 ,\\n]</td>\n",
              "      <td>POL. IND. DE CROSS 39600 SANTANDER CANTABRIA E...</td>\n",
              "      <td>€ 9,900.-</td>\n",
              "      <td>[\\n, Convertible, \\n]</td>\n",
              "      <td>[\\n, Used, \\n]</td>\n",
              "      <td>[\\n, 2, \\n]</td>\n",
              "      <td>[\\n, Spain, \\n]</td>\n",
              "      <td>...</td>\n",
              "      <td>NaN</td>\n",
              "      <td>NaN</td>\n",
              "      <td>NaN</td>\n",
              "      <td>NaN</td>\n",
              "      <td>NaN</td>\n",
              "      <td>NaN</td>\n",
              "      <td>NaN</td>\n",
              "      <td>NaN</td>\n",
              "      <td>NaN</td>\n",
              "      <td>NaN</td>\n",
              "    </tr>\n",
              "    <tr>\n",
              "      <th>...</th>\n",
              "      <td>...</td>\n",
              "      <td>...</td>\n",
              "      <td>...</td>\n",
              "      <td>...</td>\n",
              "      <td>...</td>\n",
              "      <td>...</td>\n",
              "      <td>...</td>\n",
              "      <td>...</td>\n",
              "      <td>...</td>\n",
              "      <td>...</td>\n",
              "      <td>...</td>\n",
              "      <td>...</td>\n",
              "      <td>...</td>\n",
              "      <td>...</td>\n",
              "      <td>...</td>\n",
              "      <td>...</td>\n",
              "      <td>...</td>\n",
              "      <td>...</td>\n",
              "      <td>...</td>\n",
              "      <td>...</td>\n",
              "      <td>...</td>\n",
              "    </tr>\n",
              "    <tr>\n",
              "      <th>27449</th>\n",
              "      <td>Volvo C70</td>\n",
              "      <td>C70 Coupe 2.5 193cv</td>\n",
              "      <td>\\nVolvo\\n</td>\n",
              "      <td>[\\n, C70 ,\\n]</td>\n",
              "      <td>47923 Rimini, IT</td>\n",
              "      <td>€ 7,400.-</td>\n",
              "      <td>[\\n, Coupe, \\n]</td>\n",
              "      <td>[\\n, Used, \\n]</td>\n",
              "      <td>[\\n, 2, \\n]</td>\n",
              "      <td>NaN</td>\n",
              "      <td>...</td>\n",
              "      <td>NaN</td>\n",
              "      <td>Yes</td>\n",
              "      <td>Euro 6</td>\n",
              "      <td>NaN</td>\n",
              "      <td>Grey</td>\n",
              "      <td>Full leather</td>\n",
              "      <td>NaN</td>\n",
              "      <td>NaN</td>\n",
              "      <td>NaN</td>\n",
              "      <td>NaN</td>\n",
              "    </tr>\n",
              "    <tr>\n",
              "      <th>27450</th>\n",
              "      <td>Volvo C70</td>\n",
              "      <td>Coupé 2.0 T Prestige UNIEK!</td>\n",
              "      <td>\\nVolvo\\n</td>\n",
              "      <td>[\\n, C70 ,\\n]</td>\n",
              "      <td>Edisonweg 16a,  2952 AD ALBLASSERDAM, NL</td>\n",
              "      <td>€ 8,950.-</td>\n",
              "      <td>[\\n, Coupe, \\n]</td>\n",
              "      <td>[\\n, Used, \\n]</td>\n",
              "      <td>[\\n, 2, \\n]</td>\n",
              "      <td>NaN</td>\n",
              "      <td>...</td>\n",
              "      <td>Yes</td>\n",
              "      <td>NaN</td>\n",
              "      <td>NaN</td>\n",
              "      <td>NaN</td>\n",
              "      <td>Other</td>\n",
              "      <td>Full leather</td>\n",
              "      <td>NaN</td>\n",
              "      <td>[[118,232 km, 12/2000], 2]</td>\n",
              "      <td>NaN</td>\n",
              "      <td>NaN</td>\n",
              "    </tr>\n",
              "    <tr>\n",
              "      <th>27451</th>\n",
              "      <td>Volvo C70</td>\n",
              "      <td>COUPE' 2000 TURBO T5 226CV</td>\n",
              "      <td>\\nVolvo\\n</td>\n",
              "      <td>[\\n, C70 ,\\n]</td>\n",
              "      <td>41126 Modena, IT</td>\n",
              "      <td>€ 7,500.-</td>\n",
              "      <td>[\\n, Coupe, \\n]</td>\n",
              "      <td>[\\n, Used, \\n]</td>\n",
              "      <td>[\\n, 2, \\n]</td>\n",
              "      <td>NaN</td>\n",
              "      <td>...</td>\n",
              "      <td>Yes</td>\n",
              "      <td>Yes</td>\n",
              "      <td>Euro 3</td>\n",
              "      <td>NaN</td>\n",
              "      <td>Black</td>\n",
              "      <td>Full leather</td>\n",
              "      <td>NaN</td>\n",
              "      <td>[[227,000 km, 02/2000], 1]</td>\n",
              "      <td>NaN</td>\n",
              "      <td>NaN</td>\n",
              "    </tr>\n",
              "    <tr>\n",
              "      <th>27456</th>\n",
              "      <td>Volvo C70</td>\n",
              "      <td>2.5T</td>\n",
              "      <td>\\nVolvo\\n</td>\n",
              "      <td>[\\n, C70 ,\\n]</td>\n",
              "      <td>94051 Hauzenberg, DE</td>\n",
              "      <td>€ 12,500.-</td>\n",
              "      <td>[\\n, Coupe, \\n]</td>\n",
              "      <td>[\\n, Used, \\n]</td>\n",
              "      <td>[\\n, 2, \\n]</td>\n",
              "      <td>NaN</td>\n",
              "      <td>...</td>\n",
              "      <td>Yes</td>\n",
              "      <td>Yes</td>\n",
              "      <td>Euro 3</td>\n",
              "      <td>1 (No sticker)</td>\n",
              "      <td>Beige</td>\n",
              "      <td>Full leather</td>\n",
              "      <td>NaN</td>\n",
              "      <td>[[182,000 km, 11/1998], 1]</td>\n",
              "      <td>NaN</td>\n",
              "      <td>NaN</td>\n",
              "    </tr>\n",
              "    <tr>\n",
              "      <th>27486</th>\n",
              "      <td>Volvo C70</td>\n",
              "      <td>2.0 D Summum</td>\n",
              "      <td>\\nVolvo\\n</td>\n",
              "      <td>[\\n, C70 ,\\n]</td>\n",
              "      <td>Viale della Marina, 59,  00122 Ostia lido - Ro...</td>\n",
              "      <td>€ 9,900.-</td>\n",
              "      <td>[\\n, Coupe, \\n]</td>\n",
              "      <td>[\\n, Used, \\n]</td>\n",
              "      <td>[\\n, 2, \\n]</td>\n",
              "      <td>[\\n, Italy, \\n]</td>\n",
              "      <td>...</td>\n",
              "      <td>NaN</td>\n",
              "      <td>NaN</td>\n",
              "      <td>Euro 4</td>\n",
              "      <td>NaN</td>\n",
              "      <td>Black</td>\n",
              "      <td>Full leather</td>\n",
              "      <td>NaN</td>\n",
              "      <td>[[195,000 km, 07/2008], 2]</td>\n",
              "      <td>NaN</td>\n",
              "      <td>NaN</td>\n",
              "    </tr>\n",
              "  </tbody>\n",
              "</table>\n",
              "<p>692 rows × 46 columns</p>\n",
              "</div>"
            ],
            "text/plain": [
              "      make_model                            short_description       make  \\\n",
              "26470  Volvo C70                                    T5 Summum  \\nVolvo\\n   \n",
              "26471  Volvo C70                                2.4i Momentum  \\nVolvo\\n   \n",
              "26472  Volvo C70  2.5T 220PS Cabriolet T5 Summum 1.Hand Xenon  \\nVolvo\\n   \n",
              "26473  Volvo C70    2.0 D3 150PS Cabriolet Momentum Automatik  \\nVolvo\\n   \n",
              "26474  Volvo C70                                  2.0D SUMMUM  \\nVolvo\\n   \n",
              "...          ...                                          ...        ...   \n",
              "27449  Volvo C70                          C70 Coupe 2.5 193cv  \\nVolvo\\n   \n",
              "27450  Volvo C70                  Coupé 2.0 T Prestige UNIEK!  \\nVolvo\\n   \n",
              "27451  Volvo C70                   COUPE' 2000 TURBO T5 226CV  \\nVolvo\\n   \n",
              "27456  Volvo C70                                         2.5T  \\nVolvo\\n   \n",
              "27486  Volvo C70                                 2.0 D Summum  \\nVolvo\\n   \n",
              "\n",
              "               model                                           location  \\\n",
              "26470  [\\n, C70 ,\\n]                     RIO ULLA 15,  28017 MADRID, ES   \n",
              "26471  [\\n, C70 ,\\n]                 Auf dem Sand 28,  40721 Hilden, DE   \n",
              "26472  [\\n, C70 ,\\n]          Lichterfelder Allee 14,  14513 Teltow, DE   \n",
              "26473  [\\n, C70 ,\\n]          Lichterfelder Allee 14,  14513 Teltow, DE   \n",
              "26474  [\\n, C70 ,\\n]  POL. IND. DE CROSS 39600 SANTANDER CANTABRIA E...   \n",
              "...              ...                                                ...   \n",
              "27449  [\\n, C70 ,\\n]                                   47923 Rimini, IT   \n",
              "27450  [\\n, C70 ,\\n]           Edisonweg 16a,  2952 AD ALBLASSERDAM, NL   \n",
              "27451  [\\n, C70 ,\\n]                                   41126 Modena, IT   \n",
              "27456  [\\n, C70 ,\\n]                               94051 Hauzenberg, DE   \n",
              "27486  [\\n, C70 ,\\n]  Viale della Marina, 59,  00122 Ostia lido - Ro...   \n",
              "\n",
              "            price              body_type            type        doors  \\\n",
              "26470  € 11,999.-  [\\n, Convertible, \\n]  [\\n, Used, \\n]  [\\n, 2, \\n]   \n",
              "26471  € 11,880.-  [\\n, Convertible, \\n]  [\\n, Used, \\n]  [\\n, 2, \\n]   \n",
              "26472  € 20,999.-  [\\n, Convertible, \\n]  [\\n, Used, \\n]  [\\n, 2, \\n]   \n",
              "26473  € 14,999.-  [\\n, Convertible, \\n]  [\\n, Used, \\n]  [\\n, 2, \\n]   \n",
              "26474   € 9,900.-  [\\n, Convertible, \\n]  [\\n, Used, \\n]  [\\n, 2, \\n]   \n",
              "...           ...                    ...             ...          ...   \n",
              "27449   € 7,400.-        [\\n, Coupe, \\n]  [\\n, Used, \\n]  [\\n, 2, \\n]   \n",
              "27450   € 8,950.-        [\\n, Coupe, \\n]  [\\n, Used, \\n]  [\\n, 2, \\n]   \n",
              "27451   € 7,500.-        [\\n, Coupe, \\n]  [\\n, Used, \\n]  [\\n, 2, \\n]   \n",
              "27456  € 12,500.-        [\\n, Coupe, \\n]  [\\n, Used, \\n]  [\\n, 2, \\n]   \n",
              "27486   € 9,900.-        [\\n, Coupe, \\n]  [\\n, Used, \\n]  [\\n, 2, \\n]   \n",
              "\n",
              "         country_version  ... full_service_history non_smoker_vehicle  \\\n",
              "26470    [\\n, Spain, \\n]  ...                  NaN                NaN   \n",
              "26471  [\\n, Germany, \\n]  ...                  Yes                NaN   \n",
              "26472  [\\n, Germany, \\n]  ...                  Yes                Yes   \n",
              "26473  [\\n, Germany, \\n]  ...                  Yes                Yes   \n",
              "26474    [\\n, Spain, \\n]  ...                  NaN                NaN   \n",
              "...                  ...  ...                  ...                ...   \n",
              "27449                NaN  ...                  NaN                Yes   \n",
              "27450                NaN  ...                  Yes                NaN   \n",
              "27451                NaN  ...                  Yes                Yes   \n",
              "27456                NaN  ...                  Yes                Yes   \n",
              "27486    [\\n, Italy, \\n]  ...                  NaN                NaN   \n",
              "\n",
              "      emission_class emissions_sticker upholstery_colour    upholstery  \\\n",
              "26470            NaN               NaN               NaN           NaN   \n",
              "26471         Euro 4         4 (Green)             Beige  Part leather   \n",
              "26472         Euro 4         4 (Green)              Grey  Full leather   \n",
              "26473         Euro 5         4 (Green)             Black  Part leather   \n",
              "26474            NaN               NaN               NaN           NaN   \n",
              "...              ...               ...               ...           ...   \n",
              "27449         Euro 6               NaN              Grey  Full leather   \n",
              "27450            NaN               NaN             Other  Full leather   \n",
              "27451         Euro 3               NaN             Black  Full leather   \n",
              "27456         Euro 3    1 (No sticker)             Beige  Full leather   \n",
              "27486         Euro 4               NaN             Black  Full leather   \n",
              "\n",
              "      production_date              previous_owner energy_efficiency_class  \\\n",
              "26470             NaN                         NaN                     NaN   \n",
              "26471             NaN  [[155,923 km, 08/2006], 2]                       F   \n",
              "26472             NaN   [[69,747 km, 05/2007], 1]                     NaN   \n",
              "26473             NaN  [[146,348 km, 10/2011], 1]                     NaN   \n",
              "26474             NaN                         NaN                     NaN   \n",
              "...               ...                         ...                     ...   \n",
              "27449             NaN                         NaN                     NaN   \n",
              "27450             NaN  [[118,232 km, 12/2000], 2]                     NaN   \n",
              "27451             NaN  [[227,000 km, 02/2000], 1]                     NaN   \n",
              "27456             NaN  [[182,000 km, 11/1998], 1]                     NaN   \n",
              "27486             NaN  [[195,000 km, 07/2008], 2]                     NaN   \n",
              "\n",
              "                                          co2_efficiency  \n",
              "26470                                                NaN  \n",
              "26471  Calculated on basis of measured CO₂-emissions ...  \n",
              "26472                                                NaN  \n",
              "26473                                                NaN  \n",
              "26474                                                NaN  \n",
              "...                                                  ...  \n",
              "27449                                                NaN  \n",
              "27450                                                NaN  \n",
              "27451                                                NaN  \n",
              "27456                                                NaN  \n",
              "27486                                                NaN  \n",
              "\n",
              "[692 rows x 46 columns]"
            ]
          },
          "execution_count": 1728,
          "metadata": {},
          "output_type": "execute_result"
        }
      ],
      "source": [
        "df[df.astype(str)['make_model'] == 'Volvo C70']"
      ]
    },
    {
      "cell_type": "markdown",
      "metadata": {
        "id": "ru9pZHW5T0eT"
      },
      "source": [
        "# ** HER BIR SÜTUNUN ICERIGINI TEK BASINA GÖRMEK ICIN AYRI BIR KOD YAZDIK **"
      ]
    },
    {
      "cell_type": "code",
      "execution_count": null,
      "metadata": {
        "id": "UhywXHxsT0eT"
      },
      "outputs": [],
      "source": [
        "def ilk_bakis(column):\n",
        "    sütün_ad = column.name\n",
        "    nana_sayisi = column.isnull().sum()\n",
        "    nana_yüzde = column.isnull().mean() * 100\n",
        "    sütun_value_counts = column.value_counts()\n",
        "    print(f' Sütün Adi :{sütün_ad}')\n",
        "    print(f' Nan deger sayisi : {nana_sayisi}')\n",
        "    print(f' Nan yüzdelik sayisi : % {round(nana_yüzde), 2}')\n",
        "    print(f' Value_count_degeri : {sütun_value_counts}')"
      ]
    },
    {
      "cell_type": "code",
      "execution_count": null,
      "metadata": {
        "id": "_-7ryihbT0eT"
      },
      "outputs": [],
      "source": []
    },
    {
      "cell_type": "code",
      "execution_count": null,
      "metadata": {
        "id": "58F4qt5RT0eU",
        "outputId": "9c5ce23e-29c1-4b5f-d0a8-0e9d4158c587"
      },
      "outputs": [
        {
          "name": "stdout",
          "output_type": "stream",
          "text": [
            " Sütün Adi :price\n",
            " Nan deger sayisi : 850\n",
            " Nan yüzdelik sayisi : % (3, 2)\n",
            " Value_count_degeri : € 14,990.-    222\n",
            "€ 12,990.-    219\n",
            "€ 16,990.-    186\n",
            "€ 19,990.-    166\n",
            "€ 9,990.-     160\n",
            "             ... \n",
            "€ 19,112.-      1\n",
            "€ 30,465.-      1\n",
            "€ 18,461.-      1\n",
            "€ 22,649.-      1\n",
            "€ 4,440.-       1\n",
            "Name: price, Length: 5021, dtype: int64\n"
          ]
        }
      ],
      "source": [
        "ilk_bakis(df.price)"
      ]
    },
    {
      "cell_type": "code",
      "execution_count": null,
      "metadata": {
        "id": "-ibe6JoET0eU",
        "outputId": "7f8c5b15-f363-4ba4-bf8c-f70a1597a224"
      },
      "outputs": [
        {
          "data": {
            "text/html": [
              "<div>\n",
              "<style scoped>\n",
              "    .dataframe tbody tr th:only-of-type {\n",
              "        vertical-align: middle;\n",
              "    }\n",
              "\n",
              "    .dataframe tbody tr th {\n",
              "        vertical-align: top;\n",
              "    }\n",
              "\n",
              "    .dataframe thead th {\n",
              "        text-align: right;\n",
              "    }\n",
              "</style>\n",
              "<table border=\"1\" class=\"dataframe\">\n",
              "  <thead>\n",
              "    <tr style=\"text-align: right;\">\n",
              "      <th></th>\n",
              "      <th>make_model</th>\n",
              "      <th>short_description</th>\n",
              "      <th>make</th>\n",
              "      <th>model</th>\n",
              "      <th>location</th>\n",
              "      <th>price</th>\n",
              "      <th>body_type</th>\n",
              "      <th>type</th>\n",
              "      <th>doors</th>\n",
              "      <th>country_version</th>\n",
              "      <th>...</th>\n",
              "      <th>full_service_history</th>\n",
              "      <th>non_smoker_vehicle</th>\n",
              "      <th>emission_class</th>\n",
              "      <th>emissions_sticker</th>\n",
              "      <th>upholstery_colour</th>\n",
              "      <th>upholstery</th>\n",
              "      <th>production_date</th>\n",
              "      <th>previous_owner</th>\n",
              "      <th>energy_efficiency_class</th>\n",
              "      <th>co2_efficiency</th>\n",
              "    </tr>\n",
              "  </thead>\n",
              "  <tbody>\n",
              "    <tr>\n",
              "      <th>22954</th>\n",
              "      <td>NaN</td>\n",
              "      <td>NaN</td>\n",
              "      <td>NaN</td>\n",
              "      <td>NaN</td>\n",
              "      <td>NaN</td>\n",
              "      <td>NaN</td>\n",
              "      <td>NaN</td>\n",
              "      <td>NaN</td>\n",
              "      <td>NaN</td>\n",
              "      <td>NaN</td>\n",
              "      <td>...</td>\n",
              "      <td>NaN</td>\n",
              "      <td>NaN</td>\n",
              "      <td>NaN</td>\n",
              "      <td>NaN</td>\n",
              "      <td>NaN</td>\n",
              "      <td>NaN</td>\n",
              "      <td>NaN</td>\n",
              "      <td>NaN</td>\n",
              "      <td>NaN</td>\n",
              "      <td>NaN</td>\n",
              "    </tr>\n",
              "    <tr>\n",
              "      <th>6399</th>\n",
              "      <td>NaN</td>\n",
              "      <td>NaN</td>\n",
              "      <td>NaN</td>\n",
              "      <td>NaN</td>\n",
              "      <td>NaN</td>\n",
              "      <td>NaN</td>\n",
              "      <td>NaN</td>\n",
              "      <td>NaN</td>\n",
              "      <td>NaN</td>\n",
              "      <td>NaN</td>\n",
              "      <td>...</td>\n",
              "      <td>NaN</td>\n",
              "      <td>NaN</td>\n",
              "      <td>NaN</td>\n",
              "      <td>NaN</td>\n",
              "      <td>NaN</td>\n",
              "      <td>NaN</td>\n",
              "      <td>NaN</td>\n",
              "      <td>NaN</td>\n",
              "      <td>NaN</td>\n",
              "      <td>NaN</td>\n",
              "    </tr>\n",
              "    <tr>\n",
              "      <th>20755</th>\n",
              "      <td>NaN</td>\n",
              "      <td>NaN</td>\n",
              "      <td>NaN</td>\n",
              "      <td>NaN</td>\n",
              "      <td>NaN</td>\n",
              "      <td>NaN</td>\n",
              "      <td>NaN</td>\n",
              "      <td>NaN</td>\n",
              "      <td>NaN</td>\n",
              "      <td>NaN</td>\n",
              "      <td>...</td>\n",
              "      <td>NaN</td>\n",
              "      <td>NaN</td>\n",
              "      <td>NaN</td>\n",
              "      <td>NaN</td>\n",
              "      <td>NaN</td>\n",
              "      <td>NaN</td>\n",
              "      <td>NaN</td>\n",
              "      <td>NaN</td>\n",
              "      <td>NaN</td>\n",
              "      <td>NaN</td>\n",
              "    </tr>\n",
              "    <tr>\n",
              "      <th>11227</th>\n",
              "      <td>NaN</td>\n",
              "      <td>NaN</td>\n",
              "      <td>NaN</td>\n",
              "      <td>NaN</td>\n",
              "      <td>NaN</td>\n",
              "      <td>NaN</td>\n",
              "      <td>NaN</td>\n",
              "      <td>NaN</td>\n",
              "      <td>NaN</td>\n",
              "      <td>NaN</td>\n",
              "      <td>...</td>\n",
              "      <td>NaN</td>\n",
              "      <td>NaN</td>\n",
              "      <td>NaN</td>\n",
              "      <td>NaN</td>\n",
              "      <td>NaN</td>\n",
              "      <td>NaN</td>\n",
              "      <td>NaN</td>\n",
              "      <td>NaN</td>\n",
              "      <td>NaN</td>\n",
              "      <td>NaN</td>\n",
              "    </tr>\n",
              "    <tr>\n",
              "      <th>19875</th>\n",
              "      <td>NaN</td>\n",
              "      <td>NaN</td>\n",
              "      <td>NaN</td>\n",
              "      <td>NaN</td>\n",
              "      <td>NaN</td>\n",
              "      <td>NaN</td>\n",
              "      <td>NaN</td>\n",
              "      <td>NaN</td>\n",
              "      <td>NaN</td>\n",
              "      <td>NaN</td>\n",
              "      <td>...</td>\n",
              "      <td>NaN</td>\n",
              "      <td>NaN</td>\n",
              "      <td>NaN</td>\n",
              "      <td>NaN</td>\n",
              "      <td>NaN</td>\n",
              "      <td>NaN</td>\n",
              "      <td>NaN</td>\n",
              "      <td>NaN</td>\n",
              "      <td>NaN</td>\n",
              "      <td>NaN</td>\n",
              "    </tr>\n",
              "    <tr>\n",
              "      <th>7345</th>\n",
              "      <td>NaN</td>\n",
              "      <td>NaN</td>\n",
              "      <td>NaN</td>\n",
              "      <td>NaN</td>\n",
              "      <td>NaN</td>\n",
              "      <td>NaN</td>\n",
              "      <td>NaN</td>\n",
              "      <td>NaN</td>\n",
              "      <td>NaN</td>\n",
              "      <td>NaN</td>\n",
              "      <td>...</td>\n",
              "      <td>NaN</td>\n",
              "      <td>NaN</td>\n",
              "      <td>NaN</td>\n",
              "      <td>NaN</td>\n",
              "      <td>NaN</td>\n",
              "      <td>NaN</td>\n",
              "      <td>NaN</td>\n",
              "      <td>NaN</td>\n",
              "      <td>NaN</td>\n",
              "      <td>NaN</td>\n",
              "    </tr>\n",
              "    <tr>\n",
              "      <th>18717</th>\n",
              "      <td>NaN</td>\n",
              "      <td>NaN</td>\n",
              "      <td>NaN</td>\n",
              "      <td>NaN</td>\n",
              "      <td>NaN</td>\n",
              "      <td>NaN</td>\n",
              "      <td>NaN</td>\n",
              "      <td>NaN</td>\n",
              "      <td>NaN</td>\n",
              "      <td>NaN</td>\n",
              "      <td>...</td>\n",
              "      <td>NaN</td>\n",
              "      <td>NaN</td>\n",
              "      <td>NaN</td>\n",
              "      <td>NaN</td>\n",
              "      <td>NaN</td>\n",
              "      <td>NaN</td>\n",
              "      <td>NaN</td>\n",
              "      <td>NaN</td>\n",
              "      <td>NaN</td>\n",
              "      <td>NaN</td>\n",
              "    </tr>\n",
              "    <tr>\n",
              "      <th>28118</th>\n",
              "      <td>NaN</td>\n",
              "      <td>NaN</td>\n",
              "      <td>NaN</td>\n",
              "      <td>NaN</td>\n",
              "      <td>NaN</td>\n",
              "      <td>NaN</td>\n",
              "      <td>NaN</td>\n",
              "      <td>NaN</td>\n",
              "      <td>NaN</td>\n",
              "      <td>NaN</td>\n",
              "      <td>...</td>\n",
              "      <td>NaN</td>\n",
              "      <td>NaN</td>\n",
              "      <td>NaN</td>\n",
              "      <td>NaN</td>\n",
              "      <td>NaN</td>\n",
              "      <td>NaN</td>\n",
              "      <td>NaN</td>\n",
              "      <td>NaN</td>\n",
              "      <td>NaN</td>\n",
              "      <td>NaN</td>\n",
              "    </tr>\n",
              "    <tr>\n",
              "      <th>20121</th>\n",
              "      <td>NaN</td>\n",
              "      <td>NaN</td>\n",
              "      <td>NaN</td>\n",
              "      <td>NaN</td>\n",
              "      <td>NaN</td>\n",
              "      <td>NaN</td>\n",
              "      <td>NaN</td>\n",
              "      <td>NaN</td>\n",
              "      <td>NaN</td>\n",
              "      <td>NaN</td>\n",
              "      <td>...</td>\n",
              "      <td>NaN</td>\n",
              "      <td>NaN</td>\n",
              "      <td>NaN</td>\n",
              "      <td>NaN</td>\n",
              "      <td>NaN</td>\n",
              "      <td>NaN</td>\n",
              "      <td>NaN</td>\n",
              "      <td>NaN</td>\n",
              "      <td>NaN</td>\n",
              "      <td>NaN</td>\n",
              "    </tr>\n",
              "    <tr>\n",
              "      <th>13544</th>\n",
              "      <td>NaN</td>\n",
              "      <td>NaN</td>\n",
              "      <td>NaN</td>\n",
              "      <td>NaN</td>\n",
              "      <td>NaN</td>\n",
              "      <td>NaN</td>\n",
              "      <td>NaN</td>\n",
              "      <td>NaN</td>\n",
              "      <td>NaN</td>\n",
              "      <td>NaN</td>\n",
              "      <td>...</td>\n",
              "      <td>NaN</td>\n",
              "      <td>NaN</td>\n",
              "      <td>NaN</td>\n",
              "      <td>NaN</td>\n",
              "      <td>NaN</td>\n",
              "      <td>NaN</td>\n",
              "      <td>NaN</td>\n",
              "      <td>NaN</td>\n",
              "      <td>NaN</td>\n",
              "      <td>NaN</td>\n",
              "    </tr>\n",
              "    <tr>\n",
              "      <th>27194</th>\n",
              "      <td>NaN</td>\n",
              "      <td>NaN</td>\n",
              "      <td>NaN</td>\n",
              "      <td>NaN</td>\n",
              "      <td>NaN</td>\n",
              "      <td>NaN</td>\n",
              "      <td>NaN</td>\n",
              "      <td>NaN</td>\n",
              "      <td>NaN</td>\n",
              "      <td>NaN</td>\n",
              "      <td>...</td>\n",
              "      <td>NaN</td>\n",
              "      <td>NaN</td>\n",
              "      <td>NaN</td>\n",
              "      <td>NaN</td>\n",
              "      <td>NaN</td>\n",
              "      <td>NaN</td>\n",
              "      <td>NaN</td>\n",
              "      <td>NaN</td>\n",
              "      <td>NaN</td>\n",
              "      <td>NaN</td>\n",
              "    </tr>\n",
              "    <tr>\n",
              "      <th>14108</th>\n",
              "      <td>NaN</td>\n",
              "      <td>NaN</td>\n",
              "      <td>NaN</td>\n",
              "      <td>NaN</td>\n",
              "      <td>NaN</td>\n",
              "      <td>NaN</td>\n",
              "      <td>NaN</td>\n",
              "      <td>NaN</td>\n",
              "      <td>NaN</td>\n",
              "      <td>NaN</td>\n",
              "      <td>...</td>\n",
              "      <td>NaN</td>\n",
              "      <td>NaN</td>\n",
              "      <td>NaN</td>\n",
              "      <td>NaN</td>\n",
              "      <td>NaN</td>\n",
              "      <td>NaN</td>\n",
              "      <td>NaN</td>\n",
              "      <td>NaN</td>\n",
              "      <td>NaN</td>\n",
              "      <td>NaN</td>\n",
              "    </tr>\n",
              "    <tr>\n",
              "      <th>21124</th>\n",
              "      <td>NaN</td>\n",
              "      <td>NaN</td>\n",
              "      <td>NaN</td>\n",
              "      <td>NaN</td>\n",
              "      <td>NaN</td>\n",
              "      <td>NaN</td>\n",
              "      <td>NaN</td>\n",
              "      <td>NaN</td>\n",
              "      <td>NaN</td>\n",
              "      <td>NaN</td>\n",
              "      <td>...</td>\n",
              "      <td>NaN</td>\n",
              "      <td>NaN</td>\n",
              "      <td>NaN</td>\n",
              "      <td>NaN</td>\n",
              "      <td>NaN</td>\n",
              "      <td>NaN</td>\n",
              "      <td>NaN</td>\n",
              "      <td>NaN</td>\n",
              "      <td>NaN</td>\n",
              "      <td>NaN</td>\n",
              "    </tr>\n",
              "    <tr>\n",
              "      <th>20203</th>\n",
              "      <td>NaN</td>\n",
              "      <td>NaN</td>\n",
              "      <td>NaN</td>\n",
              "      <td>NaN</td>\n",
              "      <td>NaN</td>\n",
              "      <td>NaN</td>\n",
              "      <td>NaN</td>\n",
              "      <td>NaN</td>\n",
              "      <td>NaN</td>\n",
              "      <td>NaN</td>\n",
              "      <td>...</td>\n",
              "      <td>NaN</td>\n",
              "      <td>NaN</td>\n",
              "      <td>NaN</td>\n",
              "      <td>NaN</td>\n",
              "      <td>NaN</td>\n",
              "      <td>NaN</td>\n",
              "      <td>NaN</td>\n",
              "      <td>NaN</td>\n",
              "      <td>NaN</td>\n",
              "      <td>NaN</td>\n",
              "    </tr>\n",
              "    <tr>\n",
              "      <th>12350</th>\n",
              "      <td>NaN</td>\n",
              "      <td>NaN</td>\n",
              "      <td>NaN</td>\n",
              "      <td>NaN</td>\n",
              "      <td>NaN</td>\n",
              "      <td>NaN</td>\n",
              "      <td>NaN</td>\n",
              "      <td>NaN</td>\n",
              "      <td>NaN</td>\n",
              "      <td>NaN</td>\n",
              "      <td>...</td>\n",
              "      <td>NaN</td>\n",
              "      <td>NaN</td>\n",
              "      <td>NaN</td>\n",
              "      <td>NaN</td>\n",
              "      <td>NaN</td>\n",
              "      <td>NaN</td>\n",
              "      <td>NaN</td>\n",
              "      <td>NaN</td>\n",
              "      <td>NaN</td>\n",
              "      <td>NaN</td>\n",
              "    </tr>\n",
              "    <tr>\n",
              "      <th>19375</th>\n",
              "      <td>NaN</td>\n",
              "      <td>NaN</td>\n",
              "      <td>NaN</td>\n",
              "      <td>NaN</td>\n",
              "      <td>NaN</td>\n",
              "      <td>NaN</td>\n",
              "      <td>NaN</td>\n",
              "      <td>NaN</td>\n",
              "      <td>NaN</td>\n",
              "      <td>NaN</td>\n",
              "      <td>...</td>\n",
              "      <td>NaN</td>\n",
              "      <td>NaN</td>\n",
              "      <td>NaN</td>\n",
              "      <td>NaN</td>\n",
              "      <td>NaN</td>\n",
              "      <td>NaN</td>\n",
              "      <td>NaN</td>\n",
              "      <td>NaN</td>\n",
              "      <td>NaN</td>\n",
              "      <td>NaN</td>\n",
              "    </tr>\n",
              "    <tr>\n",
              "      <th>26585</th>\n",
              "      <td>NaN</td>\n",
              "      <td>NaN</td>\n",
              "      <td>NaN</td>\n",
              "      <td>NaN</td>\n",
              "      <td>NaN</td>\n",
              "      <td>NaN</td>\n",
              "      <td>NaN</td>\n",
              "      <td>NaN</td>\n",
              "      <td>NaN</td>\n",
              "      <td>NaN</td>\n",
              "      <td>...</td>\n",
              "      <td>NaN</td>\n",
              "      <td>NaN</td>\n",
              "      <td>NaN</td>\n",
              "      <td>NaN</td>\n",
              "      <td>NaN</td>\n",
              "      <td>NaN</td>\n",
              "      <td>NaN</td>\n",
              "      <td>NaN</td>\n",
              "      <td>NaN</td>\n",
              "      <td>NaN</td>\n",
              "    </tr>\n",
              "    <tr>\n",
              "      <th>27768</th>\n",
              "      <td>NaN</td>\n",
              "      <td>NaN</td>\n",
              "      <td>NaN</td>\n",
              "      <td>NaN</td>\n",
              "      <td>NaN</td>\n",
              "      <td>NaN</td>\n",
              "      <td>NaN</td>\n",
              "      <td>NaN</td>\n",
              "      <td>NaN</td>\n",
              "      <td>NaN</td>\n",
              "      <td>...</td>\n",
              "      <td>NaN</td>\n",
              "      <td>NaN</td>\n",
              "      <td>NaN</td>\n",
              "      <td>NaN</td>\n",
              "      <td>NaN</td>\n",
              "      <td>NaN</td>\n",
              "      <td>NaN</td>\n",
              "      <td>NaN</td>\n",
              "      <td>NaN</td>\n",
              "      <td>NaN</td>\n",
              "    </tr>\n",
              "    <tr>\n",
              "      <th>24300</th>\n",
              "      <td>NaN</td>\n",
              "      <td>NaN</td>\n",
              "      <td>NaN</td>\n",
              "      <td>NaN</td>\n",
              "      <td>NaN</td>\n",
              "      <td>NaN</td>\n",
              "      <td>NaN</td>\n",
              "      <td>NaN</td>\n",
              "      <td>NaN</td>\n",
              "      <td>NaN</td>\n",
              "      <td>...</td>\n",
              "      <td>NaN</td>\n",
              "      <td>NaN</td>\n",
              "      <td>NaN</td>\n",
              "      <td>NaN</td>\n",
              "      <td>NaN</td>\n",
              "      <td>NaN</td>\n",
              "      <td>NaN</td>\n",
              "      <td>NaN</td>\n",
              "      <td>NaN</td>\n",
              "      <td>NaN</td>\n",
              "    </tr>\n",
              "    <tr>\n",
              "      <th>18401</th>\n",
              "      <td>NaN</td>\n",
              "      <td>NaN</td>\n",
              "      <td>NaN</td>\n",
              "      <td>NaN</td>\n",
              "      <td>NaN</td>\n",
              "      <td>NaN</td>\n",
              "      <td>NaN</td>\n",
              "      <td>NaN</td>\n",
              "      <td>NaN</td>\n",
              "      <td>NaN</td>\n",
              "      <td>...</td>\n",
              "      <td>NaN</td>\n",
              "      <td>NaN</td>\n",
              "      <td>NaN</td>\n",
              "      <td>NaN</td>\n",
              "      <td>NaN</td>\n",
              "      <td>NaN</td>\n",
              "      <td>NaN</td>\n",
              "      <td>NaN</td>\n",
              "      <td>NaN</td>\n",
              "      <td>NaN</td>\n",
              "    </tr>\n",
              "    <tr>\n",
              "      <th>19342</th>\n",
              "      <td>NaN</td>\n",
              "      <td>NaN</td>\n",
              "      <td>NaN</td>\n",
              "      <td>NaN</td>\n",
              "      <td>NaN</td>\n",
              "      <td>NaN</td>\n",
              "      <td>NaN</td>\n",
              "      <td>NaN</td>\n",
              "      <td>NaN</td>\n",
              "      <td>NaN</td>\n",
              "      <td>...</td>\n",
              "      <td>NaN</td>\n",
              "      <td>NaN</td>\n",
              "      <td>NaN</td>\n",
              "      <td>NaN</td>\n",
              "      <td>NaN</td>\n",
              "      <td>NaN</td>\n",
              "      <td>NaN</td>\n",
              "      <td>NaN</td>\n",
              "      <td>NaN</td>\n",
              "      <td>NaN</td>\n",
              "    </tr>\n",
              "    <tr>\n",
              "      <th>24393</th>\n",
              "      <td>NaN</td>\n",
              "      <td>NaN</td>\n",
              "      <td>NaN</td>\n",
              "      <td>NaN</td>\n",
              "      <td>NaN</td>\n",
              "      <td>NaN</td>\n",
              "      <td>NaN</td>\n",
              "      <td>NaN</td>\n",
              "      <td>NaN</td>\n",
              "      <td>NaN</td>\n",
              "      <td>...</td>\n",
              "      <td>NaN</td>\n",
              "      <td>NaN</td>\n",
              "      <td>NaN</td>\n",
              "      <td>NaN</td>\n",
              "      <td>NaN</td>\n",
              "      <td>NaN</td>\n",
              "      <td>NaN</td>\n",
              "      <td>NaN</td>\n",
              "      <td>NaN</td>\n",
              "      <td>NaN</td>\n",
              "    </tr>\n",
              "    <tr>\n",
              "      <th>16086</th>\n",
              "      <td>NaN</td>\n",
              "      <td>NaN</td>\n",
              "      <td>NaN</td>\n",
              "      <td>NaN</td>\n",
              "      <td>NaN</td>\n",
              "      <td>NaN</td>\n",
              "      <td>NaN</td>\n",
              "      <td>NaN</td>\n",
              "      <td>NaN</td>\n",
              "      <td>NaN</td>\n",
              "      <td>...</td>\n",
              "      <td>NaN</td>\n",
              "      <td>NaN</td>\n",
              "      <td>NaN</td>\n",
              "      <td>NaN</td>\n",
              "      <td>NaN</td>\n",
              "      <td>NaN</td>\n",
              "      <td>NaN</td>\n",
              "      <td>NaN</td>\n",
              "      <td>NaN</td>\n",
              "      <td>NaN</td>\n",
              "    </tr>\n",
              "    <tr>\n",
              "      <th>18329</th>\n",
              "      <td>NaN</td>\n",
              "      <td>NaN</td>\n",
              "      <td>NaN</td>\n",
              "      <td>NaN</td>\n",
              "      <td>NaN</td>\n",
              "      <td>NaN</td>\n",
              "      <td>NaN</td>\n",
              "      <td>NaN</td>\n",
              "      <td>NaN</td>\n",
              "      <td>NaN</td>\n",
              "      <td>...</td>\n",
              "      <td>NaN</td>\n",
              "      <td>NaN</td>\n",
              "      <td>NaN</td>\n",
              "      <td>NaN</td>\n",
              "      <td>NaN</td>\n",
              "      <td>NaN</td>\n",
              "      <td>NaN</td>\n",
              "      <td>NaN</td>\n",
              "      <td>NaN</td>\n",
              "      <td>NaN</td>\n",
              "    </tr>\n",
              "    <tr>\n",
              "      <th>13176</th>\n",
              "      <td>NaN</td>\n",
              "      <td>NaN</td>\n",
              "      <td>NaN</td>\n",
              "      <td>NaN</td>\n",
              "      <td>NaN</td>\n",
              "      <td>NaN</td>\n",
              "      <td>NaN</td>\n",
              "      <td>NaN</td>\n",
              "      <td>NaN</td>\n",
              "      <td>NaN</td>\n",
              "      <td>...</td>\n",
              "      <td>NaN</td>\n",
              "      <td>NaN</td>\n",
              "      <td>NaN</td>\n",
              "      <td>NaN</td>\n",
              "      <td>NaN</td>\n",
              "      <td>NaN</td>\n",
              "      <td>NaN</td>\n",
              "      <td>NaN</td>\n",
              "      <td>NaN</td>\n",
              "      <td>NaN</td>\n",
              "    </tr>\n",
              "  </tbody>\n",
              "</table>\n",
              "<p>25 rows × 46 columns</p>\n",
              "</div>"
            ],
            "text/plain": [
              "      make_model short_description make model location price body_type type  \\\n",
              "22954        NaN               NaN  NaN   NaN      NaN   NaN       NaN  NaN   \n",
              "6399         NaN               NaN  NaN   NaN      NaN   NaN       NaN  NaN   \n",
              "20755        NaN               NaN  NaN   NaN      NaN   NaN       NaN  NaN   \n",
              "11227        NaN               NaN  NaN   NaN      NaN   NaN       NaN  NaN   \n",
              "19875        NaN               NaN  NaN   NaN      NaN   NaN       NaN  NaN   \n",
              "7345         NaN               NaN  NaN   NaN      NaN   NaN       NaN  NaN   \n",
              "18717        NaN               NaN  NaN   NaN      NaN   NaN       NaN  NaN   \n",
              "28118        NaN               NaN  NaN   NaN      NaN   NaN       NaN  NaN   \n",
              "20121        NaN               NaN  NaN   NaN      NaN   NaN       NaN  NaN   \n",
              "13544        NaN               NaN  NaN   NaN      NaN   NaN       NaN  NaN   \n",
              "27194        NaN               NaN  NaN   NaN      NaN   NaN       NaN  NaN   \n",
              "14108        NaN               NaN  NaN   NaN      NaN   NaN       NaN  NaN   \n",
              "21124        NaN               NaN  NaN   NaN      NaN   NaN       NaN  NaN   \n",
              "20203        NaN               NaN  NaN   NaN      NaN   NaN       NaN  NaN   \n",
              "12350        NaN               NaN  NaN   NaN      NaN   NaN       NaN  NaN   \n",
              "19375        NaN               NaN  NaN   NaN      NaN   NaN       NaN  NaN   \n",
              "26585        NaN               NaN  NaN   NaN      NaN   NaN       NaN  NaN   \n",
              "27768        NaN               NaN  NaN   NaN      NaN   NaN       NaN  NaN   \n",
              "24300        NaN               NaN  NaN   NaN      NaN   NaN       NaN  NaN   \n",
              "18401        NaN               NaN  NaN   NaN      NaN   NaN       NaN  NaN   \n",
              "19342        NaN               NaN  NaN   NaN      NaN   NaN       NaN  NaN   \n",
              "24393        NaN               NaN  NaN   NaN      NaN   NaN       NaN  NaN   \n",
              "16086        NaN               NaN  NaN   NaN      NaN   NaN       NaN  NaN   \n",
              "18329        NaN               NaN  NaN   NaN      NaN   NaN       NaN  NaN   \n",
              "13176        NaN               NaN  NaN   NaN      NaN   NaN       NaN  NaN   \n",
              "\n",
              "      doors country_version  ... full_service_history non_smoker_vehicle  \\\n",
              "22954   NaN             NaN  ...                  NaN                NaN   \n",
              "6399    NaN             NaN  ...                  NaN                NaN   \n",
              "20755   NaN             NaN  ...                  NaN                NaN   \n",
              "11227   NaN             NaN  ...                  NaN                NaN   \n",
              "19875   NaN             NaN  ...                  NaN                NaN   \n",
              "7345    NaN             NaN  ...                  NaN                NaN   \n",
              "18717   NaN             NaN  ...                  NaN                NaN   \n",
              "28118   NaN             NaN  ...                  NaN                NaN   \n",
              "20121   NaN             NaN  ...                  NaN                NaN   \n",
              "13544   NaN             NaN  ...                  NaN                NaN   \n",
              "27194   NaN             NaN  ...                  NaN                NaN   \n",
              "14108   NaN             NaN  ...                  NaN                NaN   \n",
              "21124   NaN             NaN  ...                  NaN                NaN   \n",
              "20203   NaN             NaN  ...                  NaN                NaN   \n",
              "12350   NaN             NaN  ...                  NaN                NaN   \n",
              "19375   NaN             NaN  ...                  NaN                NaN   \n",
              "26585   NaN             NaN  ...                  NaN                NaN   \n",
              "27768   NaN             NaN  ...                  NaN                NaN   \n",
              "24300   NaN             NaN  ...                  NaN                NaN   \n",
              "18401   NaN             NaN  ...                  NaN                NaN   \n",
              "19342   NaN             NaN  ...                  NaN                NaN   \n",
              "24393   NaN             NaN  ...                  NaN                NaN   \n",
              "16086   NaN             NaN  ...                  NaN                NaN   \n",
              "18329   NaN             NaN  ...                  NaN                NaN   \n",
              "13176   NaN             NaN  ...                  NaN                NaN   \n",
              "\n",
              "      emission_class emissions_sticker upholstery_colour upholstery  \\\n",
              "22954            NaN               NaN               NaN        NaN   \n",
              "6399             NaN               NaN               NaN        NaN   \n",
              "20755            NaN               NaN               NaN        NaN   \n",
              "11227            NaN               NaN               NaN        NaN   \n",
              "19875            NaN               NaN               NaN        NaN   \n",
              "7345             NaN               NaN               NaN        NaN   \n",
              "18717            NaN               NaN               NaN        NaN   \n",
              "28118            NaN               NaN               NaN        NaN   \n",
              "20121            NaN               NaN               NaN        NaN   \n",
              "13544            NaN               NaN               NaN        NaN   \n",
              "27194            NaN               NaN               NaN        NaN   \n",
              "14108            NaN               NaN               NaN        NaN   \n",
              "21124            NaN               NaN               NaN        NaN   \n",
              "20203            NaN               NaN               NaN        NaN   \n",
              "12350            NaN               NaN               NaN        NaN   \n",
              "19375            NaN               NaN               NaN        NaN   \n",
              "26585            NaN               NaN               NaN        NaN   \n",
              "27768            NaN               NaN               NaN        NaN   \n",
              "24300            NaN               NaN               NaN        NaN   \n",
              "18401            NaN               NaN               NaN        NaN   \n",
              "19342            NaN               NaN               NaN        NaN   \n",
              "24393            NaN               NaN               NaN        NaN   \n",
              "16086            NaN               NaN               NaN        NaN   \n",
              "18329            NaN               NaN               NaN        NaN   \n",
              "13176            NaN               NaN               NaN        NaN   \n",
              "\n",
              "      production_date previous_owner energy_efficiency_class co2_efficiency  \n",
              "22954             NaN            NaN                     NaN            NaN  \n",
              "6399              NaN            NaN                     NaN            NaN  \n",
              "20755             NaN            NaN                     NaN            NaN  \n",
              "11227             NaN            NaN                     NaN            NaN  \n",
              "19875             NaN            NaN                     NaN            NaN  \n",
              "7345              NaN            NaN                     NaN            NaN  \n",
              "18717             NaN            NaN                     NaN            NaN  \n",
              "28118             NaN            NaN                     NaN            NaN  \n",
              "20121             NaN            NaN                     NaN            NaN  \n",
              "13544             NaN            NaN                     NaN            NaN  \n",
              "27194             NaN            NaN                     NaN            NaN  \n",
              "14108             NaN            NaN                     NaN            NaN  \n",
              "21124             NaN            NaN                     NaN            NaN  \n",
              "20203             NaN            NaN                     NaN            NaN  \n",
              "12350             NaN            NaN                     NaN            NaN  \n",
              "19375             NaN            NaN                     NaN            NaN  \n",
              "26585             NaN            NaN                     NaN            NaN  \n",
              "27768             NaN            NaN                     NaN            NaN  \n",
              "24300             NaN            NaN                     NaN            NaN  \n",
              "18401             NaN            NaN                     NaN            NaN  \n",
              "19342             NaN            NaN                     NaN            NaN  \n",
              "24393             NaN            NaN                     NaN            NaN  \n",
              "16086             NaN            NaN                     NaN            NaN  \n",
              "18329             NaN            NaN                     NaN            NaN  \n",
              "13176             NaN            NaN                     NaN            NaN  \n",
              "\n",
              "[25 rows x 46 columns]"
            ]
          },
          "execution_count": 1110,
          "metadata": {},
          "output_type": "execute_result"
        }
      ],
      "source": [
        "df[df[\"price\"].isnull()].sample(25)"
      ]
    },
    {
      "cell_type": "code",
      "execution_count": null,
      "metadata": {
        "id": "KmPfVNaHT0eU",
        "outputId": "a2d0c961-c724-4e10-8be8-08e025d67ca2"
      },
      "outputs": [
        {
          "data": {
            "text/plain": [
              "0        € 16,950.-\n",
              "1        € 80,900.-\n",
              "2        € 69,900.-\n",
              "3        € 46,990.-\n",
              "4        € 16,800.-\n",
              "            ...    \n",
              "29475     € 5,499.-\n",
              "29476     € 7,300.-\n",
              "29477    € 29,900.-\n",
              "29478     € 4,440.-\n",
              "29479           NaN\n",
              "Name: price, Length: 29480, dtype: object"
            ]
          },
          "execution_count": 1731,
          "metadata": {},
          "output_type": "execute_result"
        }
      ],
      "source": [
        "df['price']"
      ]
    },
    {
      "cell_type": "code",
      "execution_count": null,
      "metadata": {
        "id": "2yzrw_ipT0eU",
        "outputId": "67e79c25-2f10-433c-a158-bfd73633694e"
      },
      "outputs": [
        {
          "data": {
            "text/plain": [
              "0        € 16,950.-\n",
              "1        € 80,900.-\n",
              "2        € 69,900.-\n",
              "3        € 46,990.-\n",
              "4        € 16,800.-\n",
              "            ...    \n",
              "29475     € 5,499.-\n",
              "29476     € 7,300.-\n",
              "29477    € 29,900.-\n",
              "29478     € 4,440.-\n",
              "29479           NaN\n",
              "Name: price, Length: 29480, dtype: object"
            ]
          },
          "execution_count": 1732,
          "metadata": {},
          "output_type": "execute_result"
        }
      ],
      "source": [
        "df['price'].astype(str).str.extract('(\\d+.\\d+)')\n",
        "df['price']"
      ]
    },
    {
      "cell_type": "code",
      "execution_count": null,
      "metadata": {
        "id": "tl3YP4fDT0eV",
        "outputId": "b005e647-9f79-4006-b50d-906eb68e18e6"
      },
      "outputs": [
        {
          "data": {
            "text/plain": [
              "0        16950.0\n",
              "1        80900.0\n",
              "2        69900.0\n",
              "3        46990.0\n",
              "4        16800.0\n",
              "          ...   \n",
              "29475     5499.0\n",
              "29476     7300.0\n",
              "29477    29900.0\n",
              "29478     4440.0\n",
              "29479        NaN\n",
              "Name: price, Length: 29480, dtype: float64"
            ]
          },
          "execution_count": 1733,
          "metadata": {},
          "output_type": "execute_result"
        }
      ],
      "source": [
        "\n",
        "df['price'] = df['price'].astype(str).str.extract('(\\d+.\\d+)')\n",
        "df['price'] = df['price'].str.replace(\",\", \"\").astype(float)\n",
        "df['price']"
      ]
    },
    {
      "cell_type": "code",
      "execution_count": null,
      "metadata": {
        "id": "4wexmAAWT0eV"
      },
      "outputs": [],
      "source": []
    },
    {
      "cell_type": "code",
      "execution_count": null,
      "metadata": {
        "id": "2Gr3KUBpT0eV"
      },
      "outputs": [],
      "source": [
        "df.dropna(how='all', inplace=True) #tüm sütünu nan olanlari kaldirir"
      ]
    },
    {
      "cell_type": "code",
      "execution_count": null,
      "metadata": {
        "id": "FXkCLMEhT0eV",
        "outputId": "bb102cfe-15b1-4773-b506-d609c1b56ae2"
      },
      "outputs": [
        {
          "data": {
            "text/plain": [
              "count     28630.000000\n",
              "mean      23470.662173\n",
              "std       23953.503570\n",
              "min         490.000000\n",
              "25%       11990.000000\n",
              "50%       17979.000000\n",
              "75%       27990.000000\n",
              "max      999999.000000\n",
              "Name: price, dtype: float64"
            ]
          },
          "execution_count": 1735,
          "metadata": {},
          "output_type": "execute_result"
        }
      ],
      "source": [
        "df['price'].describe()"
      ]
    },
    {
      "cell_type": "code",
      "execution_count": null,
      "metadata": {
        "id": "OQxKzgrhT0eV",
        "outputId": "e28d5047-849a-46de-dbac-26c2ae532ada"
      },
      "outputs": [
        {
          "data": {
            "image/png": "[encoded data removed]",
            "text/plain": [
              "<Figure size 432x288 with 1 Axes>"
            ]
          },
          "metadata": {
            "needs_background": "light"
          },
          "output_type": "display_data"
        }
      ],
      "source": [
        "sns.boxenplot(df.price);\n"
      ]
    },
    {
      "cell_type": "code",
      "execution_count": null,
      "metadata": {
        "id": "Dl1Oyu5pT0eV"
      },
      "outputs": [],
      "source": []
    },
    {
      "cell_type": "code",
      "execution_count": null,
      "metadata": {
        "id": "1jDZdBzHT0eW",
        "outputId": "52376779-c87d-4db2-bc27-a0e589fc7b83"
      },
      "outputs": [
        {
          "name": "stdout",
          "output_type": "stream",
          "text": [
            " Sütün Adi :make_model\n",
            " Nan deger sayisi : 0\n",
            " Nan yüzdelik sayisi : % (0, 2)\n",
            " Value_count_degeri : Renault Megane     863\n",
            "SEAT Leon          787\n",
            "Volvo V40          740\n",
            "Dacia Sandero      730\n",
            "Hyundai i30        706\n",
            "                  ... \n",
            "Toyota GR86          1\n",
            "Toyota Tacoma        1\n",
            "Toyota Tundra        1\n",
            "Toyota 4-Runner      1\n",
            "Volvo 244            1\n",
            "Name: make_model, Length: 611, dtype: int64\n"
          ]
        }
      ],
      "source": [
        "ilk_bakis(df.make_model)"
      ]
    },
    {
      "cell_type": "code",
      "execution_count": null,
      "metadata": {
        "id": "l-G5zw6RT0eW",
        "outputId": "64d0d65f-c84b-4f43-b553-802c2b57dfe6"
      },
      "outputs": [
        {
          "name": "stdout",
          "output_type": "stream",
          "text": [
            " Sütün Adi :make_model\n",
            " Nan deger sayisi : 0\n",
            " Nan yüzdelik sayisi : % (0, 2)\n",
            " Value_count_degeri : Renault Megane     863\n",
            "SEAT Leon          787\n",
            "Volvo V40          740\n",
            "Dacia Sandero      730\n",
            "Hyundai i30        706\n",
            "                  ... \n",
            "Toyota GR86          1\n",
            "Toyota Tacoma        1\n",
            "Toyota Tundra        1\n",
            "Toyota 4-Runner      1\n",
            "Volvo 244            1\n",
            "Name: make_model, Length: 611, dtype: int64\n"
          ]
        }
      ],
      "source": [
        "ilk_bakis(df['make_model'])"
      ]
    },
    {
      "cell_type": "code",
      "execution_count": null,
      "metadata": {
        "id": "aO3in10fT0eW"
      },
      "outputs": [],
      "source": [
        "df['make_model'] = df['make_model'].fillna('')  # Fill missing values with empty string\n",
        "\n",
        "# Apply replacements\n",
        "df.loc[df.make_model.str.contains('SEAT'), 'make_model'] = df.loc[df.make_model.str.contains('SEAT'), 'make_model'].apply(lambda x: x.replace('SEAT', 'Seat'))\n",
        "df.loc[df.make_model.str.contains('TUCSON'), 'make_model'] = df.loc[df.make_model.str.contains('TUCSON'), 'make_model'].apply(lambda x: x.replace('TUCSON', 'Tucson'))"
      ]
    },
    {
      "cell_type": "code",
      "execution_count": null,
      "metadata": {
        "id": "fZ_nonMBT0eW"
      },
      "outputs": [],
      "source": []
    },
    {
      "cell_type": "code",
      "execution_count": null,
      "metadata": {
        "id": "VRatLGC3T0eW"
      },
      "outputs": [],
      "source": []
    },
    {
      "cell_type": "code",
      "execution_count": null,
      "metadata": {
        "id": "hKysf1PGT0eX",
        "outputId": "264e445f-4701-4c7a-9aa3-8f2934d38fa1"
      },
      "outputs": [
        {
          "name": "stdout",
          "output_type": "stream",
          "text": [
            " Sütün Adi :make\n",
            " Nan deger sayisi : 0\n",
            " Nan yüzdelik sayisi : % (0, 2)\n",
            " Value_count_degeri : \\nVolvo\\n            3659\n",
            "\\nMercedes-Benz\\n    2398\n",
            "\\nOpel\\n             2385\n",
            "\\nPeugeot\\n          2360\n",
            "\\nRenault\\n          2351\n",
            "\\nFiat\\n             2338\n",
            "\\nFord\\n             2324\n",
            "\\nNissan\\n           2064\n",
            "\\nToyota\\n           2038\n",
            "\\nHyundai\\n          1867\n",
            "\\nSEAT\\n             1743\n",
            "\\nSkoda\\n            1566\n",
            "\\nDacia\\n            1537\n",
            "Name: make, dtype: int64\n"
          ]
        }
      ],
      "source": [
        "ilk_bakis(df['make'])"
      ]
    },
    {
      "cell_type": "code",
      "execution_count": null,
      "metadata": {
        "id": "HAANgdE1T0eX"
      },
      "outputs": [],
      "source": [
        "df[\"make\"] = df.make.str.strip('\\n')"
      ]
    },
    {
      "cell_type": "code",
      "execution_count": null,
      "metadata": {
        "id": "KaIoGz2HT0eX",
        "outputId": "c00a3831-3e6f-4056-a38a-0b6487533973"
      },
      "outputs": [
        {
          "data": {
            "text/plain": [
              "Volvo            3659\n",
              "Mercedes-Benz    2398\n",
              "Opel             2385\n",
              "Peugeot          2360\n",
              "Renault          2351\n",
              "Fiat             2338\n",
              "Ford             2324\n",
              "Nissan           2064\n",
              "Toyota           2038\n",
              "Hyundai          1867\n",
              "SEAT             1743\n",
              "Skoda            1566\n",
              "Dacia            1537\n",
              "Name: make, dtype: int64"
            ]
          },
          "execution_count": 1742,
          "metadata": {},
          "output_type": "execute_result"
        }
      ],
      "source": [
        "df.make.value_counts(dropna=False)"
      ]
    },
    {
      "cell_type": "code",
      "execution_count": null,
      "metadata": {
        "id": "JH6uZiGeT0eX"
      },
      "outputs": [],
      "source": []
    },
    {
      "cell_type": "code",
      "execution_count": null,
      "metadata": {
        "id": "_Q7whZ0XT0eX",
        "outputId": "12bd84de-30ae-44cd-e0b9-c8e900646879"
      },
      "outputs": [
        {
          "name": "stdout",
          "output_type": "stream",
          "text": [
            " Sütün Adi :model\n",
            " Nan deger sayisi : 0\n",
            " Nan yüzdelik sayisi : % (0, 2)\n",
            " Value_count_degeri : [\\n, Megane ,\\n]        863\n",
            "[\\n, Leon ,\\n]          787\n",
            "[\\n, V40 ,\\n]           740\n",
            "[\\n, Sandero ,\\n]       730\n",
            "[\\n, i30 ,\\n]           706\n",
            "                       ... \n",
            "[\\n, GLA 35 AMG ,\\n]      1\n",
            "[\\n, G 55 AMG ,\\n]        1\n",
            "[\\n, Ariya ,\\n]           1\n",
            "[\\n, 105 ,\\n]             1\n",
            "[\\n, 244 ,\\n]             1\n",
            "Name: model, Length: 594, dtype: int64\n"
          ]
        }
      ],
      "source": [
        "ilk_bakis(df.model)"
      ]
    },
    {
      "cell_type": "code",
      "execution_count": null,
      "metadata": {
        "id": "l_It0pfPT0eY",
        "outputId": "8ac6021f-549e-4b5f-bdc7-6f6bedfb793a"
      },
      "outputs": [
        {
          "data": {
            "text/plain": [
              "0           A 160\n",
              "1         EQE 350\n",
              "2        A 45 AMG\n",
              "3        A 35 AMG\n",
              "4        A 45 AMG\n",
              "           ...   \n",
              "29474         S90\n",
              "29475         S40\n",
              "29476         C30\n",
              "29477         S90\n",
              "29478         S80\n",
              "Name: model, Length: 28630, dtype: object"
            ]
          },
          "execution_count": 1744,
          "metadata": {},
          "output_type": "execute_result"
        }
      ],
      "source": [
        "\n",
        "df['model'] = df['model'].explode().str.strip(\"\\n, \")\n",
        "df['model']"
      ]
    },
    {
      "cell_type": "code",
      "execution_count": null,
      "metadata": {
        "id": "vTEEjR8wT0eY",
        "outputId": "3a5b7827-8916-4491-9a8f-7aefb7cde182"
      },
      "outputs": [
        {
          "data": {
            "text/plain": [
              "Megane        863\n",
              "Leon          787\n",
              "V40           740\n",
              "Sandero       730\n",
              "i30           706\n",
              "             ... \n",
              "GLA 35 AMG      1\n",
              "G 55 AMG        1\n",
              "Ariya           1\n",
              "105             1\n",
              "244             1\n",
              "Name: model, Length: 594, dtype: int64"
            ]
          },
          "execution_count": 1745,
          "metadata": {},
          "output_type": "execute_result"
        }
      ],
      "source": [
        "df.model.value_counts(dropna=False)"
      ]
    },
    {
      "cell_type": "code",
      "execution_count": null,
      "metadata": {
        "id": "Z96IbcIOT0eY",
        "outputId": "1e546cc3-ccad-4ca1-e41a-6ee6ea099e8e"
      },
      "outputs": [
        {
          "data": {
            "text/html": [
              "<div>\n",
              "<style scoped>\n",
              "    .dataframe tbody tr th:only-of-type {\n",
              "        vertical-align: middle;\n",
              "    }\n",
              "\n",
              "    .dataframe tbody tr th {\n",
              "        vertical-align: top;\n",
              "    }\n",
              "\n",
              "    .dataframe thead th {\n",
              "        text-align: right;\n",
              "    }\n",
              "</style>\n",
              "<table border=\"1\" class=\"dataframe\">\n",
              "  <thead>\n",
              "    <tr style=\"text-align: right;\">\n",
              "      <th></th>\n",
              "      <th>make_model</th>\n",
              "      <th>make</th>\n",
              "      <th>model</th>\n",
              "    </tr>\n",
              "  </thead>\n",
              "  <tbody>\n",
              "    <tr>\n",
              "      <th>22661</th>\n",
              "      <td>Ford Edge</td>\n",
              "      <td>Ford</td>\n",
              "      <td>Edge</td>\n",
              "    </tr>\n",
              "    <tr>\n",
              "      <th>20801</th>\n",
              "      <td>Nissan Townstar</td>\n",
              "      <td>Nissan</td>\n",
              "      <td>Townstar</td>\n",
              "    </tr>\n",
              "    <tr>\n",
              "      <th>22483</th>\n",
              "      <td>Ford Mustang</td>\n",
              "      <td>Ford</td>\n",
              "      <td>Mustang</td>\n",
              "    </tr>\n",
              "    <tr>\n",
              "      <th>18821</th>\n",
              "      <td>Toyota Mirai</td>\n",
              "      <td>Toyota</td>\n",
              "      <td>Mirai</td>\n",
              "    </tr>\n",
              "    <tr>\n",
              "      <th>9369</th>\n",
              "      <td>Peugeot 508</td>\n",
              "      <td>Peugeot</td>\n",
              "      <td>508</td>\n",
              "    </tr>\n",
              "    <tr>\n",
              "      <th>3675</th>\n",
              "      <td>Opel Crossland X</td>\n",
              "      <td>Opel</td>\n",
              "      <td>Crossland X</td>\n",
              "    </tr>\n",
              "    <tr>\n",
              "      <th>21885</th>\n",
              "      <td>Ford Mustang</td>\n",
              "      <td>Ford</td>\n",
              "      <td>Mustang</td>\n",
              "    </tr>\n",
              "    <tr>\n",
              "      <th>20912</th>\n",
              "      <td>Nissan E-NV200</td>\n",
              "      <td>Nissan</td>\n",
              "      <td>E-NV200</td>\n",
              "    </tr>\n",
              "    <tr>\n",
              "      <th>3063</th>\n",
              "      <td>Opel Cascada</td>\n",
              "      <td>Opel</td>\n",
              "      <td>Cascada</td>\n",
              "    </tr>\n",
              "    <tr>\n",
              "      <th>15154</th>\n",
              "      <td>Skoda Scala</td>\n",
              "      <td>Skoda</td>\n",
              "      <td>Scala</td>\n",
              "    </tr>\n",
              "    <tr>\n",
              "      <th>19233</th>\n",
              "      <td>Nissan Leaf</td>\n",
              "      <td>Nissan</td>\n",
              "      <td>Leaf</td>\n",
              "    </tr>\n",
              "    <tr>\n",
              "      <th>26966</th>\n",
              "      <td>Volvo C70</td>\n",
              "      <td>Volvo</td>\n",
              "      <td>C70</td>\n",
              "    </tr>\n",
              "    <tr>\n",
              "      <th>17624</th>\n",
              "      <td>Toyota Celica</td>\n",
              "      <td>Toyota</td>\n",
              "      <td>Celica</td>\n",
              "    </tr>\n",
              "    <tr>\n",
              "      <th>15347</th>\n",
              "      <td>Skoda Scala</td>\n",
              "      <td>Skoda</td>\n",
              "      <td>Scala</td>\n",
              "    </tr>\n",
              "    <tr>\n",
              "      <th>16893</th>\n",
              "      <td>Dacia Sandero</td>\n",
              "      <td>Dacia</td>\n",
              "      <td>Sandero</td>\n",
              "    </tr>\n",
              "    <tr>\n",
              "      <th>16017</th>\n",
              "      <td>Dacia Duster</td>\n",
              "      <td>Dacia</td>\n",
              "      <td>Duster</td>\n",
              "    </tr>\n",
              "    <tr>\n",
              "      <th>7520</th>\n",
              "      <td>Peugeot 108</td>\n",
              "      <td>Peugeot</td>\n",
              "      <td>108</td>\n",
              "    </tr>\n",
              "    <tr>\n",
              "      <th>10625</th>\n",
              "      <td>Fiat Coupe</td>\n",
              "      <td>Fiat</td>\n",
              "      <td>Coupe</td>\n",
              "    </tr>\n",
              "    <tr>\n",
              "      <th>5986</th>\n",
              "      <td>Renault Laguna</td>\n",
              "      <td>Renault</td>\n",
              "      <td>Laguna</td>\n",
              "    </tr>\n",
              "    <tr>\n",
              "      <th>28707</th>\n",
              "      <td>Volvo XC70</td>\n",
              "      <td>Volvo</td>\n",
              "      <td>XC70</td>\n",
              "    </tr>\n",
              "    <tr>\n",
              "      <th>26681</th>\n",
              "      <td>Volvo C70</td>\n",
              "      <td>Volvo</td>\n",
              "      <td>C70</td>\n",
              "    </tr>\n",
              "    <tr>\n",
              "      <th>15493</th>\n",
              "      <td>Dacia Sandero</td>\n",
              "      <td>Dacia</td>\n",
              "      <td>Sandero</td>\n",
              "    </tr>\n",
              "    <tr>\n",
              "      <th>26098</th>\n",
              "      <td>Volvo V40</td>\n",
              "      <td>Volvo</td>\n",
              "      <td>V40</td>\n",
              "    </tr>\n",
              "    <tr>\n",
              "      <th>5590</th>\n",
              "      <td>Renault Megane</td>\n",
              "      <td>Renault</td>\n",
              "      <td>Megane</td>\n",
              "    </tr>\n",
              "    <tr>\n",
              "      <th>23891</th>\n",
              "      <td>Hyundai i30</td>\n",
              "      <td>Hyundai</td>\n",
              "      <td>i30</td>\n",
              "    </tr>\n",
              "  </tbody>\n",
              "</table>\n",
              "</div>"
            ],
            "text/plain": [
              "             make_model     make        model\n",
              "22661         Ford Edge     Ford         Edge\n",
              "20801   Nissan Townstar   Nissan     Townstar\n",
              "22483      Ford Mustang     Ford      Mustang\n",
              "18821      Toyota Mirai   Toyota        Mirai\n",
              "9369        Peugeot 508  Peugeot          508\n",
              "3675   Opel Crossland X     Opel  Crossland X\n",
              "21885      Ford Mustang     Ford      Mustang\n",
              "20912    Nissan E-NV200   Nissan      E-NV200\n",
              "3063       Opel Cascada     Opel      Cascada\n",
              "15154       Skoda Scala    Skoda        Scala\n",
              "19233       Nissan Leaf   Nissan         Leaf\n",
              "26966         Volvo C70    Volvo          C70\n",
              "17624     Toyota Celica   Toyota       Celica\n",
              "15347       Skoda Scala    Skoda        Scala\n",
              "16893     Dacia Sandero    Dacia      Sandero\n",
              "16017      Dacia Duster    Dacia       Duster\n",
              "7520        Peugeot 108  Peugeot          108\n",
              "10625        Fiat Coupe     Fiat        Coupe\n",
              "5986     Renault Laguna  Renault       Laguna\n",
              "28707        Volvo XC70    Volvo         XC70\n",
              "26681         Volvo C70    Volvo          C70\n",
              "15493     Dacia Sandero    Dacia      Sandero\n",
              "26098         Volvo V40    Volvo          V40\n",
              "5590     Renault Megane  Renault       Megane\n",
              "23891       Hyundai i30  Hyundai          i30"
            ]
          },
          "execution_count": 1448,
          "metadata": {},
          "output_type": "execute_result"
        }
      ],
      "source": [
        "df[['make_model', 'make', 'model']].sample(25)"
      ]
    },
    {
      "cell_type": "code",
      "execution_count": null,
      "metadata": {
        "id": "2N1_vv6IT0eY",
        "outputId": "d266986c-654b-466d-f50d-ce282b7a1e2c"
      },
      "outputs": [
        {
          "data": {
            "text/plain": [
              "611"
            ]
          },
          "metadata": {},
          "output_type": "display_data"
        },
        {
          "data": {
            "text/plain": [
              "13"
            ]
          },
          "metadata": {},
          "output_type": "display_data"
        },
        {
          "data": {
            "text/plain": [
              "594"
            ]
          },
          "metadata": {},
          "output_type": "display_data"
        },
        {
          "data": {
            "text/html": [
              "<div>\n",
              "<style scoped>\n",
              "    .dataframe tbody tr th:only-of-type {\n",
              "        vertical-align: middle;\n",
              "    }\n",
              "\n",
              "    .dataframe tbody tr th {\n",
              "        vertical-align: top;\n",
              "    }\n",
              "\n",
              "    .dataframe thead th {\n",
              "        text-align: right;\n",
              "    }\n",
              "</style>\n",
              "<table border=\"1\" class=\"dataframe\">\n",
              "  <thead>\n",
              "    <tr style=\"text-align: right;\">\n",
              "      <th></th>\n",
              "      <th>model</th>\n",
              "    </tr>\n",
              "    <tr>\n",
              "      <th>make</th>\n",
              "      <th></th>\n",
              "    </tr>\n",
              "  </thead>\n",
              "  <tbody>\n",
              "    <tr>\n",
              "      <th>Dacia</th>\n",
              "      <td>9</td>\n",
              "    </tr>\n",
              "    <tr>\n",
              "      <th>Fiat</th>\n",
              "      <td>45</td>\n",
              "    </tr>\n",
              "    <tr>\n",
              "      <th>Ford</th>\n",
              "      <td>44</td>\n",
              "    </tr>\n",
              "    <tr>\n",
              "      <th>Hyundai</th>\n",
              "      <td>35</td>\n",
              "    </tr>\n",
              "    <tr>\n",
              "      <th>Mercedes-Benz</th>\n",
              "      <td>205</td>\n",
              "    </tr>\n",
              "    <tr>\n",
              "      <th>Nissan</th>\n",
              "      <td>46</td>\n",
              "    </tr>\n",
              "    <tr>\n",
              "      <th>Opel</th>\n",
              "      <td>40</td>\n",
              "    </tr>\n",
              "    <tr>\n",
              "      <th>Peugeot</th>\n",
              "      <td>39</td>\n",
              "    </tr>\n",
              "    <tr>\n",
              "      <th>Renault</th>\n",
              "      <td>45</td>\n",
              "    </tr>\n",
              "    <tr>\n",
              "      <th>SEAT</th>\n",
              "      <td>16</td>\n",
              "    </tr>\n",
              "    <tr>\n",
              "      <th>Skoda</th>\n",
              "      <td>14</td>\n",
              "    </tr>\n",
              "    <tr>\n",
              "      <th>Toyota</th>\n",
              "      <td>39</td>\n",
              "    </tr>\n",
              "    <tr>\n",
              "      <th>Volvo</th>\n",
              "      <td>34</td>\n",
              "    </tr>\n",
              "  </tbody>\n",
              "</table>\n",
              "</div>"
            ],
            "text/plain": [
              "               model\n",
              "make                \n",
              "Dacia              9\n",
              "Fiat              45\n",
              "Ford              44\n",
              "Hyundai           35\n",
              "Mercedes-Benz    205\n",
              "Nissan            46\n",
              "Opel              40\n",
              "Peugeot           39\n",
              "Renault           45\n",
              "SEAT              16\n",
              "Skoda             14\n",
              "Toyota            39\n",
              "Volvo             34"
            ]
          },
          "metadata": {},
          "output_type": "display_data"
        }
      ],
      "source": [
        "display(df[\"make_model\"].nunique())\n",
        "display(df[\"make\"].nunique())\n",
        "display(df[\"model\"].nunique())\n",
        "display(df.groupby(\"make\")[\"model\"].nunique().to_frame())"
      ]
    },
    {
      "cell_type": "code",
      "execution_count": null,
      "metadata": {
        "id": "bWESXfjFT0eY"
      },
      "outputs": [],
      "source": [
        "# df.drop([\"make\"], axis=1, inplace=True)\n",
        "df.drop([\"model\"], axis=1, inplace=True)"
      ]
    },
    {
      "cell_type": "code",
      "execution_count": null,
      "metadata": {
        "id": "vMzSNyA-T0eZ"
      },
      "outputs": [],
      "source": []
    },
    {
      "cell_type": "code",
      "execution_count": null,
      "metadata": {
        "id": "cNKdATyxT0eZ"
      },
      "outputs": [],
      "source": []
    },
    {
      "cell_type": "code",
      "execution_count": null,
      "metadata": {
        "id": "da5GxHciT0eZ"
      },
      "outputs": [],
      "source": []
    },
    {
      "cell_type": "code",
      "execution_count": null,
      "metadata": {
        "id": "uNWCOtmBT0eZ"
      },
      "outputs": [],
      "source": [
        "df.loc[~(df.paint == 'Metallic') & (df.manufacturer_colour.str.lower().str.contains('metallic')),['paint']] = 'Metallic'"
      ]
    },
    {
      "cell_type": "code",
      "execution_count": null,
      "metadata": {
        "id": "9vAvnQZfT0eZ",
        "outputId": "e05d6b57-790b-486c-d89e-d4b09688563f"
      },
      "outputs": [
        {
          "data": {
            "text/html": [
              "<div>\n",
              "<style scoped>\n",
              "    .dataframe tbody tr th:only-of-type {\n",
              "        vertical-align: middle;\n",
              "    }\n",
              "\n",
              "    .dataframe tbody tr th {\n",
              "        vertical-align: top;\n",
              "    }\n",
              "\n",
              "    .dataframe thead th {\n",
              "        text-align: right;\n",
              "    }\n",
              "</style>\n",
              "<table border=\"1\" class=\"dataframe\">\n",
              "  <thead>\n",
              "    <tr style=\"text-align: right;\">\n",
              "      <th></th>\n",
              "      <th>paint</th>\n",
              "      <th>manufacturer_colour</th>\n",
              "    </tr>\n",
              "  </thead>\n",
              "  <tbody>\n",
              "    <tr>\n",
              "      <th>0</th>\n",
              "      <td>Metallic</td>\n",
              "      <td>NaN</td>\n",
              "    </tr>\n",
              "    <tr>\n",
              "      <th>4</th>\n",
              "      <td>Metallic</td>\n",
              "      <td>NaN</td>\n",
              "    </tr>\n",
              "    <tr>\n",
              "      <th>7</th>\n",
              "      <td>Metallic</td>\n",
              "      <td>Gris Montaña</td>\n",
              "    </tr>\n",
              "    <tr>\n",
              "      <th>11</th>\n",
              "      <td>Metallic</td>\n",
              "      <td>Negro</td>\n",
              "    </tr>\n",
              "    <tr>\n",
              "      <th>15</th>\n",
              "      <td>Metallic</td>\n",
              "      <td>Premium \"Kosmosschwarz\"- Met</td>\n",
              "    </tr>\n",
              "    <tr>\n",
              "      <th>...</th>\n",
              "      <td>...</td>\n",
              "      <td>...</td>\n",
              "    </tr>\n",
              "    <tr>\n",
              "      <th>29463</th>\n",
              "      <td>Metallic</td>\n",
              "      <td>Tropic Green</td>\n",
              "    </tr>\n",
              "    <tr>\n",
              "      <th>29467</th>\n",
              "      <td>Metallic</td>\n",
              "      <td>NaN</td>\n",
              "    </tr>\n",
              "    <tr>\n",
              "      <th>29468</th>\n",
              "      <td>Metallic</td>\n",
              "      <td>NaN</td>\n",
              "    </tr>\n",
              "    <tr>\n",
              "      <th>29471</th>\n",
              "      <td>Metallic</td>\n",
              "      <td>NaN</td>\n",
              "    </tr>\n",
              "    <tr>\n",
              "      <th>29476</th>\n",
              "      <td>Metallic</td>\n",
              "      <td>NaN</td>\n",
              "    </tr>\n",
              "  </tbody>\n",
              "</table>\n",
              "<p>9933 rows × 2 columns</p>\n",
              "</div>"
            ],
            "text/plain": [
              "          paint           manufacturer_colour\n",
              "0      Metallic                           NaN\n",
              "4      Metallic                           NaN\n",
              "7      Metallic                  Gris Montaña\n",
              "11     Metallic                         Negro\n",
              "15     Metallic  Premium \"Kosmosschwarz\"- Met\n",
              "...         ...                           ...\n",
              "29463  Metallic                  Tropic Green\n",
              "29467  Metallic                           NaN\n",
              "29468  Metallic                           NaN\n",
              "29471  Metallic                           NaN\n",
              "29476  Metallic                           NaN\n",
              "\n",
              "[9933 rows x 2 columns]"
            ]
          },
          "execution_count": 495,
          "metadata": {},
          "output_type": "execute_result"
        }
      ],
      "source": [
        "df.loc[(df.paint == 'Metallic') & ~(df.manufacturer_colour.str.lower().str.contains('metallic', na=False)),['paint','manufacturer_colour']]"
      ]
    },
    {
      "cell_type": "code",
      "execution_count": null,
      "metadata": {
        "id": "JF-aqI35T0ea"
      },
      "outputs": [],
      "source": []
    },
    {
      "cell_type": "code",
      "execution_count": null,
      "metadata": {
        "id": "kUBftfyjT0ea"
      },
      "outputs": [],
      "source": []
    },
    {
      "cell_type": "code",
      "execution_count": null,
      "metadata": {
        "id": "oATRbs-qT0ea",
        "outputId": "23df705c-ab6c-4ac5-cc53-8dd3fcf9eca8"
      },
      "outputs": [
        {
          "name": "stdout",
          "output_type": "stream",
          "text": [
            " Sütün Adi :short_description\n",
            " Nan deger sayisi : 0\n",
            " Nan yüzdelik sayisi : % (0, 2)\n",
            " Value_count_degeri :                                                       213\n",
            "D2 Momentum 120                                        88\n",
            "D2 Kinetic 120                                         87\n",
            "Cabrio 1.4T S&S Excellence                             85\n",
            "Extreme+ 7-Sitzer TCe 110                              57\n",
            "                                                     ... \n",
            "PureTech  EAT8 Allure Pack...DISP. PER NOLEGGIO         1\n",
            "BlueHDi 130 S&S EAT8 Business                           1\n",
            "2.0 BlueHDi 180ch S\\u0026S GT Line EAT8                 1\n",
            "1.2 PureTech Première AUT. NAVI PANO                    1\n",
            "2.9 Executive G. NETTE AUTO! LEER! NAVI! CRUISE! L      1\n",
            "Name: short_description, Length: 20947, dtype: int64\n"
          ]
        }
      ],
      "source": [
        "ilk_bakis(df['short_description'])"
      ]
    },
    {
      "cell_type": "code",
      "execution_count": null,
      "metadata": {
        "id": "CN8QX8zaT0ea"
      },
      "outputs": [],
      "source": [
        "df.drop(\"short_description\", axis=1, inplace=True)"
      ]
    },
    {
      "cell_type": "code",
      "execution_count": null,
      "metadata": {
        "id": "fWGFJ9NzT0ea",
        "outputId": "96bb8d70-75a2-4eeb-be2b-2697eadcbaab"
      },
      "outputs": [
        {
          "data": {
            "text/html": [
              "<div>\n",
              "<style scoped>\n",
              "    .dataframe tbody tr th:only-of-type {\n",
              "        vertical-align: middle;\n",
              "    }\n",
              "\n",
              "    .dataframe tbody tr th {\n",
              "        vertical-align: top;\n",
              "    }\n",
              "\n",
              "    .dataframe thead th {\n",
              "        text-align: right;\n",
              "    }\n",
              "</style>\n",
              "<table border=\"1\" class=\"dataframe\">\n",
              "  <thead>\n",
              "    <tr style=\"text-align: right;\">\n",
              "      <th></th>\n",
              "      <th>0</th>\n",
              "      <th>1</th>\n",
              "      <th>2</th>\n",
              "      <th>3</th>\n",
              "      <th>4</th>\n",
              "    </tr>\n",
              "  </thead>\n",
              "  <tbody>\n",
              "    <tr>\n",
              "      <th>make_model</th>\n",
              "      <td>Mercedes-Benz A 160</td>\n",
              "      <td>Mercedes-Benz EQE 350</td>\n",
              "      <td>Mercedes-Benz A 45 AMG</td>\n",
              "      <td>Mercedes-Benz A 35 AMG</td>\n",
              "      <td>Mercedes-Benz A 45 AMG</td>\n",
              "    </tr>\n",
              "    <tr>\n",
              "      <th>make</th>\n",
              "      <td>Mercedes-Benz</td>\n",
              "      <td>Mercedes-Benz</td>\n",
              "      <td>Mercedes-Benz</td>\n",
              "      <td>Mercedes-Benz</td>\n",
              "      <td>Mercedes-Benz</td>\n",
              "    </tr>\n",
              "    <tr>\n",
              "      <th>location</th>\n",
              "      <td>P.I. EL PALMAR C/FORJA 6,  11500 PUERTO DE SAN...</td>\n",
              "      <td>APARTADO DE CORREOS 1032,  26140 LOGROÑO, ES</td>\n",
              "      <td>PORT. TARRACO, MOLL DE LLEVANT, Nº 5, LOC. 6-8...</td>\n",
              "      <td>Carrer de Provença, 31 Local,  8029 BARCELONA, ES</td>\n",
              "      <td>CARRIL ARAGONES 4,  30007 CASILLAS, ES</td>\n",
              "    </tr>\n",
              "    <tr>\n",
              "      <th>price</th>\n",
              "      <td>16950.0</td>\n",
              "      <td>80900.0</td>\n",
              "      <td>69900.0</td>\n",
              "      <td>46990.0</td>\n",
              "      <td>16800.0</td>\n",
              "    </tr>\n",
              "    <tr>\n",
              "      <th>body_type</th>\n",
              "      <td>[\\n, Compact, \\n]</td>\n",
              "      <td>[\\n, Compact, \\n]</td>\n",
              "      <td>[\\n, Compact, \\n]</td>\n",
              "      <td>[\\n, Compact, \\n]</td>\n",
              "      <td>[\\n, Compact, \\n]</td>\n",
              "    </tr>\n",
              "    <tr>\n",
              "      <th>type</th>\n",
              "      <td>[\\n, Used, \\n]</td>\n",
              "      <td>[\\n, Pre-registered, \\n]</td>\n",
              "      <td>[\\n, Used, \\n]</td>\n",
              "      <td>[\\n, Used, \\n]</td>\n",
              "      <td>[\\n, Used, \\n]</td>\n",
              "    </tr>\n",
              "    <tr>\n",
              "      <th>doors</th>\n",
              "      <td>[\\n, 5, \\n]</td>\n",
              "      <td>[\\n, 4, \\n]</td>\n",
              "      <td>[\\n, 5, \\n]</td>\n",
              "      <td>[\\n, 5, \\n]</td>\n",
              "      <td>[\\n, 5, \\n]</td>\n",
              "    </tr>\n",
              "    <tr>\n",
              "      <th>country_version</th>\n",
              "      <td>[\\n, Spain, \\n]</td>\n",
              "      <td>[\\n, Spain, \\n]</td>\n",
              "      <td>[\\n, Spain, \\n]</td>\n",
              "      <td>[\\n, Spain, \\n]</td>\n",
              "      <td>[\\n, Spain, \\n]</td>\n",
              "    </tr>\n",
              "    <tr>\n",
              "      <th>offer_number</th>\n",
              "      <td>[\\n, 7468157, \\n]</td>\n",
              "      <td>[\\n, 7054863, \\n]</td>\n",
              "      <td>[\\n, 7410454, \\n]</td>\n",
              "      <td>[\\n, 7464503, \\n]</td>\n",
              "      <td>[\\n, 7127931, \\n]</td>\n",
              "    </tr>\n",
              "    <tr>\n",
              "      <th>warranty</th>\n",
              "      <td>[\\n, 24 months, \\n]</td>\n",
              "      <td>[\\n, 24 months, \\n]</td>\n",
              "      <td>[\\n, 12 months, \\n]</td>\n",
              "      <td>[\\n, 12 months, \\n]</td>\n",
              "      <td>[\\n, 12 months, \\n]</td>\n",
              "    </tr>\n",
              "    <tr>\n",
              "      <th>mileage</th>\n",
              "      <td>120,200 km</td>\n",
              "      <td>5,000 km</td>\n",
              "      <td>18,900 km</td>\n",
              "      <td>18,995 km</td>\n",
              "      <td>197,000 km</td>\n",
              "    </tr>\n",
              "    <tr>\n",
              "      <th>first_registration</th>\n",
              "      <td>06/2016</td>\n",
              "      <td>06/2022</td>\n",
              "      <td>07/2020</td>\n",
              "      <td>01/2020</td>\n",
              "      <td>09/2015</td>\n",
              "    </tr>\n",
              "    <tr>\n",
              "      <th>gearbox</th>\n",
              "      <td>[\\nManual\\n]</td>\n",
              "      <td>[\\nAutomatic\\n]</td>\n",
              "      <td>[\\nAutomatic\\n]</td>\n",
              "      <td>[\\nAutomatic\\n]</td>\n",
              "      <td>[\\nAutomatic\\n]</td>\n",
              "    </tr>\n",
              "    <tr>\n",
              "      <th>fuel_type</th>\n",
              "      <td>Diesel</td>\n",
              "      <td>Electric</td>\n",
              "      <td>Gasoline</td>\n",
              "      <td>Gasoline</td>\n",
              "      <td>Diesel</td>\n",
              "    </tr>\n",
              "    <tr>\n",
              "      <th>colour</th>\n",
              "      <td>Black</td>\n",
              "      <td>NaN</td>\n",
              "      <td>Grey</td>\n",
              "      <td>Yellow</td>\n",
              "      <td>White</td>\n",
              "    </tr>\n",
              "    <tr>\n",
              "      <th>paint</th>\n",
              "      <td>Metallic</td>\n",
              "      <td>NaN</td>\n",
              "      <td>NaN</td>\n",
              "      <td>NaN</td>\n",
              "      <td>Metallic</td>\n",
              "    </tr>\n",
              "    <tr>\n",
              "      <th>desc</th>\n",
              "      <td>[ , Precio al contado: 16950 euros,  ,  , Vehí...</td>\n",
              "      <td>[ , Precio al contado: 88900 euros,  , AUTO OJ...</td>\n",
              "      <td>[Gris MANUFAKTUR mountaingrau magno,  , Linea/...</td>\n",
              "      <td>[ , Precio al contado: 48990 euros,  ,  , BONI...</td>\n",
              "      <td>[ , Precio al contado: 17400 euros,  , Vehícul...</td>\n",
              "    </tr>\n",
              "    <tr>\n",
              "      <th>seller</th>\n",
              "      <td>Dealer</td>\n",
              "      <td>Dealer</td>\n",
              "      <td>Dealer</td>\n",
              "      <td>Dealer</td>\n",
              "      <td>Dealer</td>\n",
              "    </tr>\n",
              "    <tr>\n",
              "      <th>seats</th>\n",
              "      <td>NaN</td>\n",
              "      <td>[\\n, 5, \\n]</td>\n",
              "      <td>[\\n, 5, \\n]</td>\n",
              "      <td>[\\n, 5, \\n]</td>\n",
              "      <td>[\\n, 5, \\n]</td>\n",
              "    </tr>\n",
              "    <tr>\n",
              "      <th>power</th>\n",
              "      <td>NaN</td>\n",
              "      <td>[\\n215 kW (292 hp)\\n]</td>\n",
              "      <td>[\\n310 kW (421 hp)\\n]</td>\n",
              "      <td>[\\n225 kW (306 hp)\\n]</td>\n",
              "      <td>[\\n100 kW (136 hp)\\n]</td>\n",
              "    </tr>\n",
              "    <tr>\n",
              "      <th>engine_size</th>\n",
              "      <td>NaN</td>\n",
              "      <td>[\\n1 cc\\n]</td>\n",
              "      <td>[\\n1,991 cc\\n]</td>\n",
              "      <td>[\\n1,991 cc\\n]</td>\n",
              "      <td>[\\n2,143 cc\\n]</td>\n",
              "    </tr>\n",
              "    <tr>\n",
              "      <th>gears</th>\n",
              "      <td>NaN</td>\n",
              "      <td>[\\n9\\n]</td>\n",
              "      <td>[\\n8\\n]</td>\n",
              "      <td>[\\n7\\n]</td>\n",
              "      <td>[\\n7\\n]</td>\n",
              "    </tr>\n",
              "    <tr>\n",
              "      <th>co2_emissions</th>\n",
              "      <td>NaN</td>\n",
              "      <td>0 g/km (comb.)</td>\n",
              "      <td>NaN</td>\n",
              "      <td>NaN</td>\n",
              "      <td>NaN</td>\n",
              "    </tr>\n",
              "    <tr>\n",
              "      <th>manufacturer_colour</th>\n",
              "      <td>NaN</td>\n",
              "      <td>Negro Obsidiana</td>\n",
              "      <td>Mountaingrau magno</td>\n",
              "      <td>Amarillo Sol</td>\n",
              "      <td>NaN</td>\n",
              "    </tr>\n",
              "    <tr>\n",
              "      <th>drivetrain</th>\n",
              "      <td>NaN</td>\n",
              "      <td>NaN</td>\n",
              "      <td>[\\n, 4WD, \\n]</td>\n",
              "      <td>[\\n, 4WD, \\n]</td>\n",
              "      <td>[\\n, 4WD, \\n]</td>\n",
              "    </tr>\n",
              "    <tr>\n",
              "      <th>cylinders</th>\n",
              "      <td>NaN</td>\n",
              "      <td>NaN</td>\n",
              "      <td>[\\n4\\n]</td>\n",
              "      <td>[\\n4\\n]</td>\n",
              "      <td>[\\n4\\n]</td>\n",
              "    </tr>\n",
              "    <tr>\n",
              "      <th>fuel_consumption</th>\n",
              "      <td>NaN</td>\n",
              "      <td>NaN</td>\n",
              "      <td>[[8.4 l/100 km (comb.)], [10.9 l/100 km (city)...</td>\n",
              "      <td>[[7.3 l/100 km (comb.)], [9.3 l/100 km (city)]...</td>\n",
              "      <td>[[4.9 l/100 km (comb.)], [5.7 l/100 km (city)]...</td>\n",
              "    </tr>\n",
              "    <tr>\n",
              "      <th>comfort_convenience</th>\n",
              "      <td>NaN</td>\n",
              "      <td>NaN</td>\n",
              "      <td>NaN</td>\n",
              "      <td>[Air conditioning, Automatic climate control, ...</td>\n",
              "      <td>[Air conditioning, Electrical side mirrors, Mu...</td>\n",
              "    </tr>\n",
              "    <tr>\n",
              "      <th>entertainment_media</th>\n",
              "      <td>NaN</td>\n",
              "      <td>NaN</td>\n",
              "      <td>NaN</td>\n",
              "      <td>[USB]</td>\n",
              "      <td>[Bluetooth, CD player, MP3, USB]</td>\n",
              "    </tr>\n",
              "    <tr>\n",
              "      <th>safety_security</th>\n",
              "      <td>NaN</td>\n",
              "      <td>NaN</td>\n",
              "      <td>NaN</td>\n",
              "      <td>[ABS, Central door lock, Driver-side airbag, E...</td>\n",
              "      <td>[ABS, Central door lock, Driver-side airbag, E...</td>\n",
              "    </tr>\n",
              "    <tr>\n",
              "      <th>extras</th>\n",
              "      <td>NaN</td>\n",
              "      <td>NaN</td>\n",
              "      <td>NaN</td>\n",
              "      <td>[Sport seats]</td>\n",
              "      <td>NaN</td>\n",
              "    </tr>\n",
              "    <tr>\n",
              "      <th>empty_weight</th>\n",
              "      <td>NaN</td>\n",
              "      <td>NaN</td>\n",
              "      <td>NaN</td>\n",
              "      <td>NaN</td>\n",
              "      <td>[\\n1,545 kg\\n]</td>\n",
              "    </tr>\n",
              "    <tr>\n",
              "      <th>model_code</th>\n",
              "      <td>NaN</td>\n",
              "      <td>NaN</td>\n",
              "      <td>NaN</td>\n",
              "      <td>NaN</td>\n",
              "      <td>NaN</td>\n",
              "    </tr>\n",
              "    <tr>\n",
              "      <th>general_inspection</th>\n",
              "      <td>NaN</td>\n",
              "      <td>NaN</td>\n",
              "      <td>NaN</td>\n",
              "      <td>NaN</td>\n",
              "      <td>NaN</td>\n",
              "    </tr>\n",
              "    <tr>\n",
              "      <th>full_service_history</th>\n",
              "      <td>NaN</td>\n",
              "      <td>NaN</td>\n",
              "      <td>NaN</td>\n",
              "      <td>NaN</td>\n",
              "      <td>NaN</td>\n",
              "    </tr>\n",
              "    <tr>\n",
              "      <th>non_smoker_vehicle</th>\n",
              "      <td>NaN</td>\n",
              "      <td>NaN</td>\n",
              "      <td>NaN</td>\n",
              "      <td>NaN</td>\n",
              "      <td>NaN</td>\n",
              "    </tr>\n",
              "    <tr>\n",
              "      <th>emission_class</th>\n",
              "      <td>NaN</td>\n",
              "      <td>NaN</td>\n",
              "      <td>NaN</td>\n",
              "      <td>NaN</td>\n",
              "      <td>NaN</td>\n",
              "    </tr>\n",
              "    <tr>\n",
              "      <th>emissions_sticker</th>\n",
              "      <td>NaN</td>\n",
              "      <td>NaN</td>\n",
              "      <td>NaN</td>\n",
              "      <td>NaN</td>\n",
              "      <td>NaN</td>\n",
              "    </tr>\n",
              "    <tr>\n",
              "      <th>upholstery_colour</th>\n",
              "      <td>NaN</td>\n",
              "      <td>NaN</td>\n",
              "      <td>NaN</td>\n",
              "      <td>NaN</td>\n",
              "      <td>NaN</td>\n",
              "    </tr>\n",
              "    <tr>\n",
              "      <th>upholstery</th>\n",
              "      <td>NaN</td>\n",
              "      <td>NaN</td>\n",
              "      <td>NaN</td>\n",
              "      <td>NaN</td>\n",
              "      <td>NaN</td>\n",
              "    </tr>\n",
              "    <tr>\n",
              "      <th>production_date</th>\n",
              "      <td>NaN</td>\n",
              "      <td>NaN</td>\n",
              "      <td>NaN</td>\n",
              "      <td>NaN</td>\n",
              "      <td>NaN</td>\n",
              "    </tr>\n",
              "    <tr>\n",
              "      <th>previous_owner</th>\n",
              "      <td>NaN</td>\n",
              "      <td>NaN</td>\n",
              "      <td>NaN</td>\n",
              "      <td>NaN</td>\n",
              "      <td>NaN</td>\n",
              "    </tr>\n",
              "    <tr>\n",
              "      <th>energy_efficiency_class</th>\n",
              "      <td>NaN</td>\n",
              "      <td>NaN</td>\n",
              "      <td>NaN</td>\n",
              "      <td>NaN</td>\n",
              "      <td>NaN</td>\n",
              "    </tr>\n",
              "    <tr>\n",
              "      <th>co2_efficiency</th>\n",
              "      <td>NaN</td>\n",
              "      <td>NaN</td>\n",
              "      <td>NaN</td>\n",
              "      <td>NaN</td>\n",
              "      <td>NaN</td>\n",
              "    </tr>\n",
              "  </tbody>\n",
              "</table>\n",
              "</div>"
            ],
            "text/plain": [
              "                                                                         0  \\\n",
              "make_model                                             Mercedes-Benz A 160   \n",
              "make                                                         Mercedes-Benz   \n",
              "location                 P.I. EL PALMAR C/FORJA 6,  11500 PUERTO DE SAN...   \n",
              "price                                                              16950.0   \n",
              "body_type                                                [\\n, Compact, \\n]   \n",
              "type                                                        [\\n, Used, \\n]   \n",
              "doors                                                          [\\n, 5, \\n]   \n",
              "country_version                                            [\\n, Spain, \\n]   \n",
              "offer_number                                             [\\n, 7468157, \\n]   \n",
              "warranty                                               [\\n, 24 months, \\n]   \n",
              "mileage                                                         120,200 km   \n",
              "first_registration                                                 06/2016   \n",
              "gearbox                                                       [\\nManual\\n]   \n",
              "fuel_type                                                           Diesel   \n",
              "colour                                                               Black   \n",
              "paint                                                             Metallic   \n",
              "desc                     [ , Precio al contado: 16950 euros,  ,  , Vehí...   \n",
              "seller                                                              Dealer   \n",
              "seats                                                                  NaN   \n",
              "power                                                                  NaN   \n",
              "engine_size                                                            NaN   \n",
              "gears                                                                  NaN   \n",
              "co2_emissions                                                          NaN   \n",
              "manufacturer_colour                                                    NaN   \n",
              "drivetrain                                                             NaN   \n",
              "cylinders                                                              NaN   \n",
              "fuel_consumption                                                       NaN   \n",
              "comfort_convenience                                                    NaN   \n",
              "entertainment_media                                                    NaN   \n",
              "safety_security                                                        NaN   \n",
              "extras                                                                 NaN   \n",
              "empty_weight                                                           NaN   \n",
              "model_code                                                             NaN   \n",
              "general_inspection                                                     NaN   \n",
              "full_service_history                                                   NaN   \n",
              "non_smoker_vehicle                                                     NaN   \n",
              "emission_class                                                         NaN   \n",
              "emissions_sticker                                                      NaN   \n",
              "upholstery_colour                                                      NaN   \n",
              "upholstery                                                             NaN   \n",
              "production_date                                                        NaN   \n",
              "previous_owner                                                         NaN   \n",
              "energy_efficiency_class                                                NaN   \n",
              "co2_efficiency                                                         NaN   \n",
              "\n",
              "                                                                         1  \\\n",
              "make_model                                           Mercedes-Benz EQE 350   \n",
              "make                                                         Mercedes-Benz   \n",
              "location                      APARTADO DE CORREOS 1032,  26140 LOGROÑO, ES   \n",
              "price                                                              80900.0   \n",
              "body_type                                                [\\n, Compact, \\n]   \n",
              "type                                              [\\n, Pre-registered, \\n]   \n",
              "doors                                                          [\\n, 4, \\n]   \n",
              "country_version                                            [\\n, Spain, \\n]   \n",
              "offer_number                                             [\\n, 7054863, \\n]   \n",
              "warranty                                               [\\n, 24 months, \\n]   \n",
              "mileage                                                           5,000 km   \n",
              "first_registration                                                 06/2022   \n",
              "gearbox                                                    [\\nAutomatic\\n]   \n",
              "fuel_type                                                         Electric   \n",
              "colour                                                                 NaN   \n",
              "paint                                                                  NaN   \n",
              "desc                     [ , Precio al contado: 88900 euros,  , AUTO OJ...   \n",
              "seller                                                              Dealer   \n",
              "seats                                                          [\\n, 5, \\n]   \n",
              "power                                                [\\n215 kW (292 hp)\\n]   \n",
              "engine_size                                                     [\\n1 cc\\n]   \n",
              "gears                                                              [\\n9\\n]   \n",
              "co2_emissions                                               0 g/km (comb.)   \n",
              "manufacturer_colour                                        Negro Obsidiana   \n",
              "drivetrain                                                             NaN   \n",
              "cylinders                                                              NaN   \n",
              "fuel_consumption                                                       NaN   \n",
              "comfort_convenience                                                    NaN   \n",
              "entertainment_media                                                    NaN   \n",
              "safety_security                                                        NaN   \n",
              "extras                                                                 NaN   \n",
              "empty_weight                                                           NaN   \n",
              "model_code                                                             NaN   \n",
              "general_inspection                                                     NaN   \n",
              "full_service_history                                                   NaN   \n",
              "non_smoker_vehicle                                                     NaN   \n",
              "emission_class                                                         NaN   \n",
              "emissions_sticker                                                      NaN   \n",
              "upholstery_colour                                                      NaN   \n",
              "upholstery                                                             NaN   \n",
              "production_date                                                        NaN   \n",
              "previous_owner                                                         NaN   \n",
              "energy_efficiency_class                                                NaN   \n",
              "co2_efficiency                                                         NaN   \n",
              "\n",
              "                                                                         2  \\\n",
              "make_model                                          Mercedes-Benz A 45 AMG   \n",
              "make                                                         Mercedes-Benz   \n",
              "location                 PORT. TARRACO, MOLL DE LLEVANT, Nº 5, LOC. 6-8...   \n",
              "price                                                              69900.0   \n",
              "body_type                                                [\\n, Compact, \\n]   \n",
              "type                                                        [\\n, Used, \\n]   \n",
              "doors                                                          [\\n, 5, \\n]   \n",
              "country_version                                            [\\n, Spain, \\n]   \n",
              "offer_number                                             [\\n, 7410454, \\n]   \n",
              "warranty                                               [\\n, 12 months, \\n]   \n",
              "mileage                                                          18,900 km   \n",
              "first_registration                                                 07/2020   \n",
              "gearbox                                                    [\\nAutomatic\\n]   \n",
              "fuel_type                                                         Gasoline   \n",
              "colour                                                                Grey   \n",
              "paint                                                                  NaN   \n",
              "desc                     [Gris MANUFAKTUR mountaingrau magno,  , Linea/...   \n",
              "seller                                                              Dealer   \n",
              "seats                                                          [\\n, 5, \\n]   \n",
              "power                                                [\\n310 kW (421 hp)\\n]   \n",
              "engine_size                                                 [\\n1,991 cc\\n]   \n",
              "gears                                                              [\\n8\\n]   \n",
              "co2_emissions                                                          NaN   \n",
              "manufacturer_colour                                     Mountaingrau magno   \n",
              "drivetrain                                                   [\\n, 4WD, \\n]   \n",
              "cylinders                                                          [\\n4\\n]   \n",
              "fuel_consumption         [[8.4 l/100 km (comb.)], [10.9 l/100 km (city)...   \n",
              "comfort_convenience                                                    NaN   \n",
              "entertainment_media                                                    NaN   \n",
              "safety_security                                                        NaN   \n",
              "extras                                                                 NaN   \n",
              "empty_weight                                                           NaN   \n",
              "model_code                                                             NaN   \n",
              "general_inspection                                                     NaN   \n",
              "full_service_history                                                   NaN   \n",
              "non_smoker_vehicle                                                     NaN   \n",
              "emission_class                                                         NaN   \n",
              "emissions_sticker                                                      NaN   \n",
              "upholstery_colour                                                      NaN   \n",
              "upholstery                                                             NaN   \n",
              "production_date                                                        NaN   \n",
              "previous_owner                                                         NaN   \n",
              "energy_efficiency_class                                                NaN   \n",
              "co2_efficiency                                                         NaN   \n",
              "\n",
              "                                                                         3  \\\n",
              "make_model                                          Mercedes-Benz A 35 AMG   \n",
              "make                                                         Mercedes-Benz   \n",
              "location                 Carrer de Provença, 31 Local,  8029 BARCELONA, ES   \n",
              "price                                                              46990.0   \n",
              "body_type                                                [\\n, Compact, \\n]   \n",
              "type                                                        [\\n, Used, \\n]   \n",
              "doors                                                          [\\n, 5, \\n]   \n",
              "country_version                                            [\\n, Spain, \\n]   \n",
              "offer_number                                             [\\n, 7464503, \\n]   \n",
              "warranty                                               [\\n, 12 months, \\n]   \n",
              "mileage                                                          18,995 km   \n",
              "first_registration                                                 01/2020   \n",
              "gearbox                                                    [\\nAutomatic\\n]   \n",
              "fuel_type                                                         Gasoline   \n",
              "colour                                                              Yellow   \n",
              "paint                                                                  NaN   \n",
              "desc                     [ , Precio al contado: 48990 euros,  ,  , BONI...   \n",
              "seller                                                              Dealer   \n",
              "seats                                                          [\\n, 5, \\n]   \n",
              "power                                                [\\n225 kW (306 hp)\\n]   \n",
              "engine_size                                                 [\\n1,991 cc\\n]   \n",
              "gears                                                              [\\n7\\n]   \n",
              "co2_emissions                                                          NaN   \n",
              "manufacturer_colour                                           Amarillo Sol   \n",
              "drivetrain                                                   [\\n, 4WD, \\n]   \n",
              "cylinders                                                          [\\n4\\n]   \n",
              "fuel_consumption         [[7.3 l/100 km (comb.)], [9.3 l/100 km (city)]...   \n",
              "comfort_convenience      [Air conditioning, Automatic climate control, ...   \n",
              "entertainment_media                                                  [USB]   \n",
              "safety_security          [ABS, Central door lock, Driver-side airbag, E...   \n",
              "extras                                                       [Sport seats]   \n",
              "empty_weight                                                           NaN   \n",
              "model_code                                                             NaN   \n",
              "general_inspection                                                     NaN   \n",
              "full_service_history                                                   NaN   \n",
              "non_smoker_vehicle                                                     NaN   \n",
              "emission_class                                                         NaN   \n",
              "emissions_sticker                                                      NaN   \n",
              "upholstery_colour                                                      NaN   \n",
              "upholstery                                                             NaN   \n",
              "production_date                                                        NaN   \n",
              "previous_owner                                                         NaN   \n",
              "energy_efficiency_class                                                NaN   \n",
              "co2_efficiency                                                         NaN   \n",
              "\n",
              "                                                                         4  \n",
              "make_model                                          Mercedes-Benz A 45 AMG  \n",
              "make                                                         Mercedes-Benz  \n",
              "location                            CARRIL ARAGONES 4,  30007 CASILLAS, ES  \n",
              "price                                                              16800.0  \n",
              "body_type                                                [\\n, Compact, \\n]  \n",
              "type                                                        [\\n, Used, \\n]  \n",
              "doors                                                          [\\n, 5, \\n]  \n",
              "country_version                                            [\\n, Spain, \\n]  \n",
              "offer_number                                             [\\n, 7127931, \\n]  \n",
              "warranty                                               [\\n, 12 months, \\n]  \n",
              "mileage                                                         197,000 km  \n",
              "first_registration                                                 09/2015  \n",
              "gearbox                                                    [\\nAutomatic\\n]  \n",
              "fuel_type                                                           Diesel  \n",
              "colour                                                               White  \n",
              "paint                                                             Metallic  \n",
              "desc                     [ , Precio al contado: 17400 euros,  , Vehícul...  \n",
              "seller                                                              Dealer  \n",
              "seats                                                          [\\n, 5, \\n]  \n",
              "power                                                [\\n100 kW (136 hp)\\n]  \n",
              "engine_size                                                 [\\n2,143 cc\\n]  \n",
              "gears                                                              [\\n7\\n]  \n",
              "co2_emissions                                                          NaN  \n",
              "manufacturer_colour                                                    NaN  \n",
              "drivetrain                                                   [\\n, 4WD, \\n]  \n",
              "cylinders                                                          [\\n4\\n]  \n",
              "fuel_consumption         [[4.9 l/100 km (comb.)], [5.7 l/100 km (city)]...  \n",
              "comfort_convenience      [Air conditioning, Electrical side mirrors, Mu...  \n",
              "entertainment_media                       [Bluetooth, CD player, MP3, USB]  \n",
              "safety_security          [ABS, Central door lock, Driver-side airbag, E...  \n",
              "extras                                                                 NaN  \n",
              "empty_weight                                                [\\n1,545 kg\\n]  \n",
              "model_code                                                             NaN  \n",
              "general_inspection                                                     NaN  \n",
              "full_service_history                                                   NaN  \n",
              "non_smoker_vehicle                                                     NaN  \n",
              "emission_class                                                         NaN  \n",
              "emissions_sticker                                                      NaN  \n",
              "upholstery_colour                                                      NaN  \n",
              "upholstery                                                             NaN  \n",
              "production_date                                                        NaN  \n",
              "previous_owner                                                         NaN  \n",
              "energy_efficiency_class                                                NaN  \n",
              "co2_efficiency                                                         NaN  "
            ]
          },
          "execution_count": 1452,
          "metadata": {},
          "output_type": "execute_result"
        }
      ],
      "source": [
        "df.head(5).T"
      ]
    },
    {
      "cell_type": "code",
      "execution_count": null,
      "metadata": {
        "id": "ef6bJDgqT0eb",
        "outputId": "956d8721-3bf8-45d2-9f0a-6558f4382d38"
      },
      "outputs": [
        {
          "name": "stdout",
          "output_type": "stream",
          "text": [
            " Sütün Adi :desc\n",
            " Nan deger sayisi : 583\n",
            " Nan yüzdelik sayisi : % (2, 2)\n",
            " Value_count_degeri : []                                                                                                                                                                                                                                                                                                                                                                                                                                                                                                                                                                                                                                                                                                                                                                                                                                                                                                                                                                                                                                                                                                                                                                                                                                                                                                                                                                                                                                                                                                                                                                                                                                                                                                                                                                                                                                                                                                                                                                                                                                                                                                                                                                                                                                                                                                                                                                                                                                                                                                                                                                                                                                                                                                                                                                                                                                                                                                                                                                                                                                                                                                                                                                                                                                                                                                                                                                                                                                                                                                                                                                                                                                                                                                                                                                                                                                                                                                                                                                                                                                                                                                                                                                   88\n",
            "[Genaue Angaben zu der Serienausstattung, finden Sie auf unsere Homepage., Gerne nehmen wir Ihr Aktuelles Fahrzeug zurück!, Der Verkäufer übernimmt keine Haftung für Tipp und Datenübermittlungsfehler., Angeführte Ausstattungen sind ggfs. gesondert vor Ort zu prüfen., Alle Angaben in den Inseraten sind unverbindlich und ohne Gewähr.,  , Dacia Jogger TCe 110 Extreme+ 7-Sitzer,  , Sonderausstattung,  , City-Paket,  , - elektrische Parkbremse, - erhöhte Mittelkonsole, - Einparkhilfe vorne und hinten, - Rückfahrkamera, - Toter-Winkel-Warner,  , Sitzheizung für Vordersitze,  , Klimaautomatik,  , Scheiben hinten abgedunkelt,  , 7-Sitzer,  , Serienausstattung,  ,  , Eco LED-Scheinwerfer,  , Reserverad,  , Notbremsassistent,  , ECO-Mode,  , 12V Steckdose,  , Klapptische für zweite Sitzreihe,  , El. Parkbremse,  , Sonnenblenden mit Make-up-Spiegel,  , Beifahrersonnenblende mit Make-up-Spiegel,  , Fahrersitz höhenverstellbar,  , Lenkrad höhen- und längsverstellbar,  , Rücksitzbank 60/40 umklappbar,  , Servolenkung,  , Zentralverriegelung,  , El. Fensterheber vorne und hinten,  , El. Seitenspiegel,  , Schlüssellose Zentralverriegelung,  , Armlehne,  , Lenkrad in Lederoptik mit Multifunktion,  , Dachreling modular,  , Leichtmetallfelgen in schwarz mit Sommerreifen,  , Reifendruck-Kontrolle,  , Dacia Media Nav Multimediasystem,  , DAB-Radio,  , MP3 fähig,  , Bluetooth,  , USB-Anschluss,  , Touchscreen,  , CarPlay,  , Android Auto,  , Sprachsteuerung,  , Navigationssystem,  , Tempomat,  , Freisprecheinrichtung,  , Bordcomputer Check-Control,  , Geschwindigkeitsbegrenzungsanlage, ...]                                                                                                                                                                                                                                                                                                                                                                                                                                                                                                                                                                                                                                                                                                                                                                                                                                                                                                                                                                                                                                                                                                                                                                                                                                                                                                                                                                                                                                                                                                                                                                                                                                                                                                                                                                                                                                                                                                                                                                                                                                                                                                                                                                                                                                                                                                                                                                                                                                                                                                          51\n",
            "[Ref.  4236LFG,            OCASIONPLUS, SÓLO ESTE MES MEJOR PRECIO GARANTIZADO, COMPRA CON TOTAL CONFIANZA - 15 DÍAS O 1000 KMs DE PRUEBA, OCASIONPLUS - Nº1 Calidad/Precio, 5000 COCHES - 50 centros en toda la península , Elige tu coche y te lo llevamos a tu provincia, Hasta 2350€ de descuento en este coche, ADEMÁS HACEMOS FINANCIACIONES A MEDIDA, PREGÚNTANOS!!, Equipamiento destacado: Techo panorámico, Tapicería de piel, Asistente de aparcamiento, Navegador, Encendido automático de faros, Arranque por botón, Start/Stop automático, Control de velocidad, Volante multifunción, Bluetooth, Aire Acondicionado (Climatizador), Control de tracción, Llantas de aleación (18\")., - Garantía total 1 año, con cobertura nacional, ampliable a 24 meses., - Certificado de Kilómetros y ausencia de golpes estructurales., - Sobrevaloramos tu coche en operaciones de cambio. Tásalo ahora en ocasionplus.com, - Entregamos cualquier coche en cualquier centro por 100€, - Abierto Domingo y Festivos.,  , Extras,  ,  , Equipamiento destacado seleccionado por el usuario,  ,  , - Llantas de aleación de 18\", - Techo panorámico, - Navegador, - Start/Stop automático, - Control de velocidad, - Volante multifunción, - Bluetooth, - Control de tracción, - Climatizador, - Llantas de aleación, - Aire Acondicionado, - Tapicería de piel, - Asistente de aparcamiento, - Encendido automático de faros, - Arranque por botón, See more]                                                                                                                                                                                                                                                                                                                                                                                                                                                                                                                                                                                                                                                                                                                                                                                                                                                                                                                                                                                                                                                                                                                                                                                                                                                                                                                                                                                                                                                                                                                                                                                                                                                                                                                                                                                                                                                                                                                                                                                                                                                                                                                                                                                                                                                                                                                                                                                                                                                                                                                                                                                                                                                                                                    34\n",
            "[ , Precio al contado: 15200 euros,  , Ref.  6710KJS,            \"OCASIONPLUS, SÓLO ESTE MES MEJOR PRECIO GARANTIZADO, COMPRA CON TOTAL CONFIANZA - 15 DÍAS O 1000 KMs DE PRUEBA, OCASIONPLUS - Nº1 Calidad/Precio, 5000 COCHES - 50 centros en toda la península , Elige tu coche y te lo llevamos a tu provincia, Hasta 1382€ de descuento en este coche, Precio oferta financiado: 13818€ (202€/mes) financiando la totalidad a un plazo mínimo de 60 meses, Precio al contado: 15200€ ADEMÁS HACEMOS FINANCIACIONES A MEDIDA, PREGÚNTANOS!!\", Equipamiento destacado: Faros traseros led, Bluetooth, Arranque por botón, Aire Acondicionado (Climatizador), Isofix, Llantas de aleación (16\")., - Coche Nacional., - Garantía total 1 año, con cobertura nacional, ampliable a 24 meses., - Certificado de Kilómetros y ausencia de golpes estructurales., - Sobrevaloramos tu coche en operaciones de cambio. Tásalo ahora en ocasionplus.com, - Entregamos cualquier coche en cualquier centro por 100€, - Abierto Domingo y Festivos.,  , Extras,  ,  , Equipamiento destacado seleccionado por el usuario,  ,  , - Bluetooth, - Climatizador, - Llantas de aleación, - Aire Acondicionado, - Llantas de aleación de 16\", - Faros traseros led, - Isofi, x- Arranque por botón,  , Condiciones de la financiación,  , \"OCASIONPLUS, SÓLO ESTE MES MEJOR PRECIO GARANTIZADO, COMPRA CON TOTAL CONFIANZA - 15 DÍAS O 1000 KMs DE PRUEBA, OCASIONPLUS - Nº1 Calidad/Precio, 5000 COCHES - 50 centros en toda la península , Elige tu coche y te lo llevamos a tu provincia, Hasta 1382€ de descuento en este coche, Precio oferta financiado: 13818€ (202€/mes) financiando la totalidad a un plazo mínimo de 60 meses, Precio al contado: 15200€ ADEMÁS HACEMOS FINANCIACIONES A MEDIDA, PREGÚNTANOS!!\", See more]                                                                                                                                                                                                                                                                                                                                                                                                                                                                                                                                                                                                                                                                                                                                                                                                                                                                                                                                                                                                                                                                                                                                                                                                                                                                                                                                                                                                                                                                                                                                                                                                                                                                                                                                                                                                                                                                                                                                                                                                                                                                                                                                                                                                                                                                                                                                              34\n",
            "[ , Precio al contado: 16650 euros,  , Ref.  3967KKW,            \"OCASIONPLUS, SÓLO ESTE MES MEJOR PRECIO GARANTIZADO, COMPRA CON TOTAL CONFIANZA - 15 DÍAS O 1000 KMs DE PRUEBA, OCASIONPLUS - Nº1 Calidad/Precio, 5000 COCHES - 50 centros en toda la península , Elige tu coche y te lo llevamos a tu provincia, Hasta 1514€ de descuento en este coche, Precio oferta financiado: 15136€ (221€/mes) financiando la totalidad a un plazo mínimo de 60 meses, Precio al contado: 16650€ ADEMÁS HACEMOS FINANCIACIONES A MEDIDA, PREGÚNTANOS!!\",             Equipamiento destacado: Asistente de aparcamiento, Faros delanteros led, Bluetooth, Control de velocidad, Encendido automático de faros, Llantas de aleación (16\").,                 - Coche Nacional, Historial Mantenimiento.,                 - Garantía total 1 año, con cobertura nacional, ampliable a 24 meses.,                 - Certificado de Kilómetros y ausencia de golpes estructurales.,             - Sobrevaloramos tu coche en operaciones de cambio. Tásalo ahora en ocasionplus.com,             - Entregamos cualquier coche en cualquier centro por 100€,             - Abierto Domingo y Festivos.,  , Extras,  ,  , Equipamiento destacado seleccionado por el usuario,  ,  , - Control de velocidad, - Bluetooth, - Llantas de aleación, - Llantas de aleación de 16\", - Asistente de aparcamiento, - Faros delanteros led, - Encendido automático de faros,  , Condiciones de la financiación,  , \"OCASIONPLUS, SÓLO ESTE MES MEJOR PRECIO GARANTIZADO, COMPRA CON TOTAL CONFIANZA - 15 DÍAS O 1000 KMs DE PRUEBA, OCASIONPLUS - Nº1 Calidad/Precio, 5000 COCHES - 50 centros en toda la península , Elige tu coche y te lo llevamos a tu provincia, Hasta 1514€ de descuento en este coche, Precio oferta financiado: 15136€ (221€/mes) financiando la totalidad a un plazo mínimo de 60 meses, Precio al contado: 16650€ ADEMÁS HACEMOS FINANCIACIONES A MEDIDA, PREGÚNTANOS!!\", See more]                                                                                                                                                                                                                                                                                                                                                                                                                                                                                                                                                                                                                                                                                                                                                                                                                                                                                                                                                                                                                                                                                                                                                                                                                                                                                                                                                                                                                                                                                                                                                                                                                                                                                                                                                                                                                                                                                                                                                                                                                                                                                                                                                                                30\n",
            "                                                                                                                                                                                                                                                                                                                                                                                                                                                                                                                                                                                                                                                                                                                                                                                                                                                                                                                                                                                                                                                                                                                                                                                                                                                                                                                                                                                                                                                                                                                                                                                                                                                                                                                                                                                                                                                                                                                                                                                                                                                                                                                                                                                                                                                                                                                                                                                                                                                                                                                                                                                                                                                                                                                                                                                                                                                                                                                                                                                                                                                                                                                                                                                                                                                                                                                                                                                                                                                                                                                                                                                                                                                                                                                                                                                                                                                                                                                                                                                                                                                                                                                                                                     ..\n",
            "[PEUGEOT 3008 BUSINESS 3008 1.6 BlueHDi 120ch S&S EAT6 Active Business]                                                                                                                                                                                                                                                                                                                                                                                                                                                                                                                                                                                                                                                                                                                                                                                                                                                                                                                                                                                                                                                                                                                                                                                                                                                                                                                                                                                                                                                                                                                                                                                                                                                                                                                                                                                                                                                                                                                                                                                                                                                                                                                                                                                                                                                                                                                                                                                                                                                                                                                                                                                                                                                                                                                                                                                                                                                                                                                                                                                                                                                                                                                                                                                                                                                                                                                                                                                                                                                                                                                                                                                                                                                                                                                                                                                                                                                                                                                                                                                                                                                                                               1\n",
            "[ , Precio al contado: 27900 euros,  , Concesionario oficial Peugeot en Valencia con más de 50 Años de experiencia. Vehículo revisado en más de 100 puntos con el programa Spoticar de Peugeot. Posibilidad de financiar hasta 120 meses sin entrada. Garantizado 12 meses ampliable hasta 36 meses. Gestionamos también su seguro de coche a los mejores precios. Vehículo publicado con 3.400-€ de descuento al financiar con nuestra entidad financiera colaboradora una cantidad mínima de 10.000.-€ a 60 meses y entregando coche de más de 10 años., Este anuncio no es contractual y está sujeto a las condiciones de la campaña mensual. Le animamos, a consultar condiciones., EQUIPAMIENTOS:, Asientos de tela (material principal) y de cuero sintético (material secundario), Navegador con datos vía memoria interna/disco duro y pantalla a color de 10,0 \" con información en 3D y con voz, control mediante pantalla táctil y información de tráfico 25,4 y 36, Volante multi-función revestido de cuero ajustable en altura y en profundidad,  , Condiciones de la financiación,  , Consultar condiciones de financiación en este anuncio o contactando con el anunciante, See more]                                                                                                                                                                                                                                                                                                                                                                                                                                                                                                                                                                                                                                                                                                                                                                                                                                                                                                                                                                                                                                                                                                                                                                                                                                                                                                                                                                                                                                                                                                                                                                                                                                                                                                                                                                                                                                                                                                                                                                                                                                                                                                                                                                                                                                                                                                                                                                                                                                                                                                                                                                                                                                                                                                                                                                                                                                                                                                                                                                 1\n",
            "[Concessionaria Burnout che fa parte della Community NON PRENDERMI PER IL CHILOMETRO e da più di 10 anni sul mercato E' LIETA DI PRESENTARVI . Stupenda Peugeot 5008 1.6 hdi 120 cv 7 posti , Vettura tagliandata, garantita ,sanificata e ricondizionamento interni., SCOPRITE I NOSTRI VANTAGGI USATO GARANTITO E RICONDIZIONATO , * POSSIBILITA' PERMUTA USATO CON USATO, * FINANZIAMENTI PERSONALIZZATI. , * POSSIBILITA' DI ESTENDERE LA GARANZIA A 24 / 36 / 48 MESI , Optional:, specchi elettrici , Apple Car play, Cruise control, Completa cronologia tagliandi, vetri elettrici, Sensore pioggia , sensore luci, Unico proprietario, Sensori di parcheggio, E tanto altro ancora, Ci scusiamo per l'inconveniente ma a causa della non uniformità dei dati pubblicati dai diversi portali,vi invitiamo a verificare le caratteristiche dello specifico veicolo , * I nostri Consulenti sono a Sua disposizione tutti i giorni, dal lunedì al sabato, dalle 9.00 alle19 , WhatsApp Messenger  3473007167, See more]                                                                                                                                                                                                                                                                                                                                                                                                                                                                                                                                                                                                                                                                                                                                                                                                                                                                                                                                                                                                                                                                                                                                                                                                                                                                                                                                                                                                                                                                                                                                                                                                                                                                                                                                                                                                                                                                                                                                                                                                                                                                                                                                                                                                                                                                                                                                                                                                                                                                                                                                                                                                                                                                                                                                                                                                                                                                                                                                                                                                                                                                                                                                         1\n",
            "[Equipements supplémentaires : 2 sieges escamotables et extractibles pour les passagers du 3eme rang, Acces et demarrage mains libres, Accoudoir central AV a ouverture papillon, avec compartiment de rangement eclaire et refrigerable, Aide graphique et sonore au stationnement AR, Aide graphique et sonore au stationnement AV, Air conditionne automatique bi-zone avec aerateurs aux places AR, Airbags frontaux conducteur et passager adaptatifs (passager neutralisable par cle), airbags lateraux conducteur et passager AV, airbags rideaux de tete aux places AV et AR, Appuis-tete a securite optimisee reglables en hauteur sur les sieges conducteur et passager AV ainsi que sur les places laterales AR, Avertisseur de temps de conduite, Barres de toit longitudinales profilee en Aluminium, Boite a gants floquee et eclairee, Boitiers de retroviseurs exterieurs dans la couleur de la carrosserie, Calandre avec jonc peripherique et ailettes chromes, Ceintures de securite 3 points a enrouleur (x2) au 3eme rang, Ceintures de securite 3 points a enrouleur (x3) au 2eme rang, avec pretensionneurs et limiteurs d'effort aux places laterales, Ceintures de securite AV 3 points a enrouleur, reglables en hauteur avec pretensionneurs et limiteurs d'effort, Commande de verrouillage a distance (2 plips), Console centrale AV avec 2 porte-gobelets, Controle dynamique de stabilite CDS avec antipatinage electronique ASR, Decors de planche de bord et panneaux de portes en maille 'Brumeo', Decors interieurs (baguettes de planche de bord et panneaux de portes, enjoliveur de console) chromes, Detection de sous-gonflage indirecte, Direction assistee electrique, colonne de direction reglable en hauteur et profondeur (mecanique), Ecran tactile capacitif 8' et 'Toggles Switches', Enjoliveur d'arc de pavillon en inox, Enjoliveur de seuil d'entree de coffre chrome, Enjoliveur en inox sur les protecteurs de bas de portes, Essuie-vitre AR avec enclenchement automatique en marche AR, Essuie-vitre AV avec systeme de lavage 'Magic Wash', Fixations pour 3 sieges enfants suivant norme ISOFIX aux places du 2eme rang, Fonction 'Mirror Screen', Frein de stationnement electrique avec aide au demarrage en pente, Indicateur de rapport conseille, Inserts d'ailes AV chromes, Jantes alliage 18' 'Detroit' bi-ton diamantees, Kit de depannage de pneumatique : compresseur 12 volts, flacon de produit de colmatage, anneau de remorquage, deux cales de roue, manivelle de frein de stationnement electrique, Leve-vitres AR electriques et sequentiels avec antipincement, Leve-vitres AV electriques et sequentiels avec antipincement, Lunette AR chauffante avec antennes serigraphiees, Miroirs de courtoisie eclaires, Nouveau Peugeot i-Cockpit : combine tete haute numerique reconfigurable et volant compact multi-fonctions, Pack City 1, Pack Eclairage d'ambiance, Pack Safety Plus, Pack Visibilite, Passages de roues rapportes noirs, Peugeot Connect, Plafonnier AV avec spots de lecture (x2) et plafonniers a extinction temporisee aux 2eme et 3eme rangs, Poches/filets aumonieres au dos des sieges AV, Poignees de maintien (x4) retractables avec frein (crochets pour cintres aux places AR), Poignees de portes couleur carrosserie, Prise 12V (x3 : zone connectique, AR de console et coffre), Prise USB (dans la zone connectique), Projecteurs antibrouillard halogenes, Projecteurs halogenes a l'AV avec feux diurnes a LED, Radio 6 HP, bi-tuner compatible MP3 et connectivite Bluetooth (audio streaming, kit mains libres), avec commandes au volant, ecran tactile capacitif 8', Reconnaissance des panneaux de vitesse et preconisation de vitesse, Regulateur / Limiteur de vitesse, Retroviseurs exterieurs electriques degivrants, Retroviseurs exterieurs rabattables electriquement avec eclairage d'accueil a LED, Retroviseurs indexes a la marche AR, Rideaux pare-soleil (x2) pour les passagers du 2eme rang, Sabots de pare-chocs AV gris metallise, Securite enfants electrique des vitres AR, Sellerie TEP & Tissu 'Evron', Sieg, See more]     1\n",
            "[YOUNGTIMER !, Bedrijfsinformatie, NEEM VOOR U WILT KOMEN KIJKEN NAAR EEN AUTO TELEFONISCH CONTACT MET ONS OP 0162-313775 (optie 2) U BENT VAN HARTE WELKOM VOOR PROEFRIT! DINSDAG ALLEEN OP AFSPRAAK! , Overige informatie: Inruil, financiering, garantie of nieuwe apk zijn bespreekbaar. Inruil van uw auto, bus, bestelwagen,vrachtwagen , camper, caravan, boot, graafmachines tractoren of andere industriële equipment is mogelijk! Overdekte showroom 2500 M2 met 100 occasions op voorraad! Ons adres is Lage Ham 106 in Dongen. Openingstijden: Maandag: 9:00-18.00 Dinsdag: ALLEEN OP AFSPRAAK  woensdag t/m vrijdag: 09.00 t/m 18.00 zaterdag 09.00 t/m 14.00. Wij zijn bereikbaar op 0162-313 775 Verdere informatie: WWW.FOCD.NL. Voor informatie over afwijkende openingstijden wat betreft feestdagen kunt u terecht op onze home pagina van WWW.FOCD.NL, Meer informatie, Algemene informatie, Modeljaar: , 2001, Prestaties, Acceleratie (0-100): , 8,9 s, Topsnelheid: , 225 km/u, Maten, Afmetingen (LxBxH): , 482 x 183 x 145 cm, Wielbasis: , 279 cm, Gewichten, Laadvermogen: , 517 kg, GVW: , 2.090 kg, Max. trekgewicht: , 1.800 kg,  (ongeremd 500 kg), Financiële informatie, BTW/marge: , BTW niet verrekenbaar voor ondernemers (margeregeling), Motorrijtuigenbelasting: , € 230 - € 261,  per kwartaal, Aanvullende opties en accessoires, Exterieur, Metaalkleur vernis of parelmoerlak, Buitenspiegels elektrisch verstel- en verwarmbaar, Buitenspiegels in carrosseriekleur, Elektronische remkrachtverdeling, koplampreiniging, Trekhaak afneembaar, Infotainment, Navigatiesysteem en autotelefoon, Interieur, Achterbank verwarmd, Armsteun achter, Armsteun voor, Elektrische ramen voor en achter, Elektrisch rolgordijn voor achterruit, Elektrisch verstelbare bestuurdersstoel, Hoofdsteunen voor en achter, Houtafwerking interieur, Lendesteunen (verstelbaar), Stuur verstelbaar, Voorstoelen in hoogte verstelbaar, Voorstoelen verwarmd, Veiligheid, Airbag(s) hoofd voor, Alarm klasse 1(startblokkering), Alarm klasse 3, Side Impact Protection System, See more]                                                                                                                                                                                                                                                                                                                                                                                                                                                                                                                                                                                                                                                                                                                                                                                                                                                                                                                                                                                                                                                                                                                                                                                                                                                                                                                                                                                                                                                                                                                                                                                                                                                                                                                                                                                                                                                                                                                                                                                                                                                 1\n",
            "Name: desc, Length: 23241, dtype: int64\n"
          ]
        }
      ],
      "source": [
        "ilk_bakis(df.desc)"
      ]
    },
    {
      "cell_type": "code",
      "execution_count": null,
      "metadata": {
        "id": "1mnK9jPGT0eb"
      },
      "outputs": [],
      "source": [
        "df.drop(\"desc\", axis=1, inplace=True)"
      ]
    },
    {
      "cell_type": "code",
      "execution_count": null,
      "metadata": {
        "id": "lJFiFmb_T0eb"
      },
      "outputs": [],
      "source": []
    },
    {
      "cell_type": "code",
      "execution_count": null,
      "metadata": {
        "id": "pXLFzK7DT0eb",
        "outputId": "4bb55fd5-cb72-4957-c636-4e026d690351"
      },
      "outputs": [
        {
          "data": {
            "text/plain": [
              "Volvo            3659\n",
              "Mercedes-Benz    2398\n",
              "Opel             2385\n",
              "Peugeot          2360\n",
              "Renault          2351\n",
              "Fiat             2338\n",
              "Ford             2324\n",
              "Nissan           2064\n",
              "Toyota           2038\n",
              "Hyundai          1867\n",
              "SEAT             1743\n",
              "Skoda            1566\n",
              "Dacia            1537\n",
              "Name: make, dtype: int64"
            ]
          },
          "execution_count": 1751,
          "metadata": {},
          "output_type": "execute_result"
        }
      ],
      "source": [
        "df.make.value_counts(dropna=False)"
      ]
    },
    {
      "cell_type": "code",
      "execution_count": null,
      "metadata": {
        "id": "DKq2TZGAT0eb"
      },
      "outputs": [],
      "source": []
    },
    {
      "cell_type": "code",
      "execution_count": null,
      "metadata": {
        "id": "AJX2cCU5T0ec"
      },
      "outputs": [],
      "source": [
        "# CLEAN power\n",
        "#pd.concat([df['power'].str.extract(r'\\((\\d+) hp\\)'),df.power], axis =1)\n",
        "#df['hp'] = df['power'].str.extract(r'\\((\\d+) hp\\)')\n"
      ]
    },
    {
      "cell_type": "code",
      "execution_count": null,
      "metadata": {
        "id": "TyAXh47nT0ec"
      },
      "outputs": [],
      "source": [
        "#df['price'] = df['price'].fillna('NaN')  # Fill missing values with 'NaN' marker\n",
        "\n",
        "# Apply replacements and convert to integers\n",
        "##df['price'] = df['price'].astype(str).str.replace('€', '').str.replace('.', '').str.replace('-', '').str.replace(',', '').str.strip()\n",
        "#df['price'] = pd.to_numeric(df['price'], errors='coerce')"
      ]
    },
    {
      "cell_type": "code",
      "execution_count": null,
      "metadata": {
        "id": "YfbX8593T0ec"
      },
      "outputs": [],
      "source": []
    },
    {
      "cell_type": "code",
      "execution_count": null,
      "metadata": {
        "id": "MyCZWJxjT0ec"
      },
      "outputs": [],
      "source": []
    },
    {
      "cell_type": "code",
      "execution_count": null,
      "metadata": {
        "id": "oR5p33h3T0ec",
        "outputId": "3010e9d2-7bff-4a74-a258-f538ade558b9"
      },
      "outputs": [
        {
          "data": {
            "text/plain": [
              "0        P.I. EL PALMAR C/FORJA 6,  11500 PUERTO DE SAN...\n",
              "1             APARTADO DE CORREOS 1032,  26140 LOGROÑO, ES\n",
              "2        PORT. TARRACO, MOLL DE LLEVANT, Nº 5, LOC. 6-8...\n",
              "3        Carrer de Provença, 31 Local,  8029 BARCELONA, ES\n",
              "4                   CARRIL ARAGONES 4,  30007 CASILLAS, ES\n",
              "                               ...                        \n",
              "29474             HERMANOS LUMIERE Nº16,  29004 MALAGA, ES\n",
              "29475                    Stobbeweg 6,  2461 EX TER AAR, NL\n",
              "29476               Sur rendez-vous,  5060 Sambreville, BE\n",
              "29477      Bergambachterstraat 5,  2871 JB SCHOONHOVEN, NL\n",
              "29478                    Lage Ham 106,  5102 AE DONGEN, NL\n",
              "Name: location, Length: 28630, dtype: object"
            ]
          },
          "execution_count": 1752,
          "metadata": {},
          "output_type": "execute_result"
        }
      ],
      "source": [
        "df.location"
      ]
    },
    {
      "cell_type": "code",
      "execution_count": null,
      "metadata": {
        "id": "yKCUzmMAT0ec",
        "outputId": "805e80fc-7935-4310-c7b9-49ab9e8fdc18"
      },
      "outputs": [
        {
          "data": {
            "text/plain": [
              "['make_model',\n",
              " 'short_description',\n",
              " 'make',\n",
              " 'model',\n",
              " 'location',\n",
              " 'price',\n",
              " 'body_type',\n",
              " 'type',\n",
              " 'doors',\n",
              " 'country_version',\n",
              " 'offer_number',\n",
              " 'warranty',\n",
              " 'mileage',\n",
              " 'first_registration',\n",
              " 'gearbox',\n",
              " 'fuel_type',\n",
              " 'colour',\n",
              " 'paint',\n",
              " 'desc',\n",
              " 'seller',\n",
              " 'seats',\n",
              " 'power',\n",
              " 'engine_size',\n",
              " 'gears',\n",
              " 'co2_emissions',\n",
              " 'manufacturer_colour',\n",
              " 'drivetrain',\n",
              " 'cylinders',\n",
              " 'fuel_consumption',\n",
              " 'comfort_convenience',\n",
              " 'entertainment_media',\n",
              " 'safety_security',\n",
              " 'extras',\n",
              " 'empty_weight',\n",
              " 'model_code',\n",
              " 'general_inspection',\n",
              " 'last_service',\n",
              " 'full_service_history',\n",
              " 'non_smoker_vehicle',\n",
              " 'emission_class',\n",
              " 'emissions_sticker',\n",
              " 'upholstery_colour',\n",
              " 'upholstery',\n",
              " 'production_date',\n",
              " 'previous_owner',\n",
              " 'other_fuel_types',\n",
              " 'power_consumption',\n",
              " 'energy_efficiency_class',\n",
              " 'co2_efficiency',\n",
              " 'fuel_consumption_wltp',\n",
              " 'co2_emissions_wltp',\n",
              " 'available_from',\n",
              " 'taxi_or_rental_car',\n",
              " 'availability',\n",
              " 'last_timing_belt_change',\n",
              " 'electric_range_wltp',\n",
              " 'power_consumption_wltp',\n",
              " 'battery_ownership']"
            ]
          },
          "execution_count": 605,
          "metadata": {},
          "output_type": "execute_result"
        }
      ],
      "source": [
        "new_column_names"
      ]
    },
    {
      "cell_type": "code",
      "execution_count": null,
      "metadata": {
        "id": "RtmKowKWT0ec",
        "outputId": "9af86e50-48b6-4eb1-93ef-ac9a1e7b20fe"
      },
      "outputs": [
        {
          "name": "stdout",
          "output_type": "stream",
          "text": [
            " Sütün Adi :body_type\n",
            " Nan deger sayisi : 0\n",
            " Nan yüzdelik sayisi : % (0, 2)\n",
            " Value_count_degeri : [\\n, Station wagon, \\n]       5448\n",
            "[\\n, Off-Road/Pick-up, \\n]    5415\n",
            "[\\n, Compact, \\n]             5387\n",
            "[\\n, Sedan, \\n]               5043\n",
            "[\\n, Coupe, \\n]               4009\n",
            "[\\n, Convertible, \\n]         3328\n",
            "Name: body_type, dtype: int64\n"
          ]
        }
      ],
      "source": [
        "ilk_bakis(df['body_type'])"
      ]
    },
    {
      "cell_type": "code",
      "execution_count": null,
      "metadata": {
        "id": "w9wSWioDT0ec",
        "outputId": "bf0c867b-8114-42ef-d9c2-5f33255e5221"
      },
      "outputs": [
        {
          "data": {
            "text/plain": [
              "0        Compact\n",
              "1        Compact\n",
              "2        Compact\n",
              "3        Compact\n",
              "4        Compact\n",
              "          ...   \n",
              "29474      Sedan\n",
              "29475      Sedan\n",
              "29476      Sedan\n",
              "29477      Sedan\n",
              "29478      Sedan\n",
              "Name: body_type, Length: 28630, dtype: object"
            ]
          },
          "execution_count": 1754,
          "metadata": {},
          "output_type": "execute_result"
        }
      ],
      "source": [
        "df[\"body_type\"].str[0]\n",
        "df['body_type'].astype(str).str.extract('([A-Z]+.\\d+)')\n",
        "# df['body_type'].astype(str).str.extract('( \\D+.\\d+)')\n",
        "\n",
        "df['body_type'] = df['body_type'].explode().str.strip(\"\\n, \")\n",
        "df['body_type']"
      ]
    },
    {
      "cell_type": "code",
      "execution_count": null,
      "metadata": {
        "id": "4mWj769MT0ed",
        "outputId": "264bfbd0-f3b0-40ce-b06a-80fb271d66ff"
      },
      "outputs": [
        {
          "data": {
            "text/plain": [
              "Station wagon       5448\n",
              "Off-Road/Pick-up    5415\n",
              "Compact             5387\n",
              "Sedan               5043\n",
              "Coupe               4009\n",
              "Convertible         3328\n",
              "Name: body_type, dtype: int64"
            ]
          },
          "execution_count": 1755,
          "metadata": {},
          "output_type": "execute_result"
        }
      ],
      "source": [
        "df[\"body_type\"].value_counts(dropna=False)"
      ]
    },
    {
      "cell_type": "code",
      "execution_count": null,
      "metadata": {
        "id": "yMCI9wsJT0ed",
        "outputId": "e3a445cd-1855-404c-cc24-066bd62972ad"
      },
      "outputs": [
        {
          "name": "stdout",
          "output_type": "stream",
          "text": [
            " Sütün Adi :type\n",
            " Nan deger sayisi : 0\n",
            " Nan yüzdelik sayisi : % (0, 2)\n",
            " Value_count_degeri : [\\n, Used, \\n]              25251\n",
            "[\\n, Demonstration, \\n]      1433\n",
            "[\\n, Pre-registered, \\n]     1377\n",
            "[\\n, Employee's car, \\n]      569\n",
            "Name: type, dtype: int64\n"
          ]
        }
      ],
      "source": [
        "ilk_bakis(df['type'])"
      ]
    },
    {
      "cell_type": "code",
      "execution_count": null,
      "metadata": {
        "scrolled": true,
        "id": "UbXufeCuT0ed",
        "outputId": "4a9d9f85-88df-43f6-dd19-60224fa58ba7"
      },
      "outputs": [
        {
          "data": {
            "text/plain": [
              "0                  Used\n",
              "1        Pre-registered\n",
              "2                  Used\n",
              "3                  Used\n",
              "4                  Used\n",
              "              ...      \n",
              "29474              Used\n",
              "29475              Used\n",
              "29476              Used\n",
              "29477              Used\n",
              "29478              Used\n",
              "Name: type, Length: 28630, dtype: object"
            ]
          },
          "execution_count": 1757,
          "metadata": {},
          "output_type": "execute_result"
        }
      ],
      "source": [
        "df['type'] = df['type'].explode().str.strip(\"\\n, \")\n",
        "df['type']"
      ]
    },
    {
      "cell_type": "code",
      "execution_count": null,
      "metadata": {
        "id": "48WriiFUT0ed",
        "outputId": "e7874dd1-e63a-4487-ccaf-faae2e22cac2"
      },
      "outputs": [
        {
          "data": {
            "text/plain": [
              "Used              25251\n",
              "Demonstration      1433\n",
              "Pre-registered     1377\n",
              "Employee's car      569\n",
              "Name: type, dtype: int64"
            ]
          },
          "execution_count": 1758,
          "metadata": {},
          "output_type": "execute_result"
        }
      ],
      "source": [
        "df.type.value_counts(dropna=False)"
      ]
    },
    {
      "cell_type": "code",
      "execution_count": null,
      "metadata": {
        "id": "tVljrI8xT0ed"
      },
      "outputs": [],
      "source": []
    },
    {
      "cell_type": "code",
      "execution_count": null,
      "metadata": {
        "id": "BJtqJxm-T0ed",
        "outputId": "b6c46b84-e847-444c-960e-5917033f8f73"
      },
      "outputs": [
        {
          "name": "stdout",
          "output_type": "stream",
          "text": [
            " Sütün Adi :doors\n",
            " Nan deger sayisi : 359\n",
            " Nan yüzdelik sayisi : % (1, 2)\n",
            " Value_count_degeri : [\\n, 5, \\n]    17481\n",
            "[\\n, 2, \\n]     5523\n",
            "[\\n, 4, \\n]     3001\n",
            "[\\n, 3, \\n]     2259\n",
            "[\\n, 6, \\n]        5\n",
            "[\\n, 1, \\n]        2\n",
            "Name: doors, dtype: int64\n"
          ]
        }
      ],
      "source": [
        "ilk_bakis(df['doors'])"
      ]
    },
    {
      "cell_type": "code",
      "execution_count": null,
      "metadata": {
        "id": "sxR9DuNHT0ee"
      },
      "outputs": [],
      "source": []
    },
    {
      "cell_type": "code",
      "execution_count": null,
      "metadata": {
        "id": "IOPBN4zKT0ee",
        "outputId": "22bff8ab-a6b8-4c7b-9b1d-65b23a0ef003"
      },
      "outputs": [
        {
          "data": {
            "text/plain": [
              "0        5.0\n",
              "1        4.0\n",
              "2        5.0\n",
              "3        5.0\n",
              "4        5.0\n",
              "        ... \n",
              "29474    4.0\n",
              "29475    4.0\n",
              "29476    3.0\n",
              "29477    4.0\n",
              "29478    4.0\n",
              "Name: doors, Length: 28630, dtype: float64"
            ]
          },
          "execution_count": 1760,
          "metadata": {},
          "output_type": "execute_result"
        }
      ],
      "source": [
        "df['doors'] = df['doors'].explode().str.strip(\"\\n, \")\n",
        "df['doors'] = pd.to_numeric(df['doors'])\n",
        "df['doors']"
      ]
    },
    {
      "cell_type": "code",
      "execution_count": null,
      "metadata": {
        "id": "5YSz-Po-T0ee",
        "outputId": "5953e889-5a84-457f-85c2-d0d2b7128fc7"
      },
      "outputs": [
        {
          "data": {
            "text/plain": [
              "5.0    17481\n",
              "2.0     5523\n",
              "4.0     3001\n",
              "3.0     2259\n",
              "NaN      359\n",
              "6.0        5\n",
              "1.0        2\n",
              "Name: doors, dtype: int64"
            ]
          },
          "execution_count": 1761,
          "metadata": {},
          "output_type": "execute_result"
        }
      ],
      "source": [
        "df.doors.value_counts(dropna=False)"
      ]
    },
    {
      "cell_type": "code",
      "execution_count": null,
      "metadata": {
        "id": "5Wk-fLcST0ee",
        "outputId": "72d2e1f2-7bb2-4aa2-8486-6bb8e2fead4b"
      },
      "outputs": [
        {
          "name": "stdout",
          "output_type": "stream",
          "text": [
            " Sütün Adi :country_version\n",
            " Nan deger sayisi : 11741\n",
            " Nan yüzdelik sayisi : % (41, 2)\n",
            " Value_count_degeri : [\\n, Germany, \\n]           7939\n",
            "[\\n, Spain, \\n]             6376\n",
            "[\\n, Italy, \\n]              679\n",
            "[\\n, Belgium, \\n]            641\n",
            "[\\n, European Union, \\n]     340\n",
            "[\\n, Netherlands, \\n]        306\n",
            "[\\n, Austria, \\n]            266\n",
            "[\\n, France, \\n]             101\n",
            "[\\n, United States, \\n]       57\n",
            "[\\n, Czechia, \\n]             47\n",
            "[\\n, Poland, \\n]              31\n",
            "[\\n, Hungary, \\n]             21\n",
            "[\\n, Denmark, \\n]             21\n",
            "[\\n, Romania, \\n]             12\n",
            "[\\n, Japan, \\n]               12\n",
            "[\\n, Switzerland, \\n]          9\n",
            "[\\n, Luxembourg, \\n]           9\n",
            "[\\n, Sweden, \\n]               6\n",
            "[\\n, Slovenia, \\n]             5\n",
            "[\\n, Slovakia, \\n]             4\n",
            "[\\n, Croatia, \\n]              3\n",
            "[\\n, Bulgaria, \\n]             1\n",
            "[\\n, Malta, \\n]                1\n",
            "[\\n, Canada, \\n]               1\n",
            "[\\n, Mexico, \\n]               1\n",
            "Name: country_version, dtype: int64\n"
          ]
        }
      ],
      "source": [
        "ilk_bakis(df['country_version'])"
      ]
    },
    {
      "cell_type": "code",
      "execution_count": null,
      "metadata": {
        "id": "26x1Voy1T0ee",
        "outputId": "7ec9b8d8-556e-47de-fd23-3e27bbcc153d"
      },
      "outputs": [
        {
          "data": {
            "text/plain": [
              "0          Spain\n",
              "1          Spain\n",
              "2          Spain\n",
              "3          Spain\n",
              "4          Spain\n",
              "          ...   \n",
              "29474      Spain\n",
              "29475        NaN\n",
              "29476    Belgium\n",
              "29477        NaN\n",
              "29478        NaN\n",
              "Name: country_version, Length: 28630, dtype: object"
            ]
          },
          "execution_count": 1763,
          "metadata": {},
          "output_type": "execute_result"
        }
      ],
      "source": [
        "df[\"country_version\"] = df[\"country_version\"].apply(lambda item: item[0] if type(item) == list else item).str.strip(\"\\n, \")\n",
        "\n",
        "df[\"country_version\"]"
      ]
    },
    {
      "cell_type": "code",
      "execution_count": null,
      "metadata": {
        "id": "1WGrsPbhT0ee",
        "outputId": "f8d2ad53-5e40-4424-93b4-b3209fbba538"
      },
      "outputs": [
        {
          "data": {
            "text/plain": [
              "NaN               11741\n",
              "Germany            7939\n",
              "Spain              6376\n",
              "Italy               679\n",
              "Belgium             641\n",
              "European Union      340\n",
              "Netherlands         306\n",
              "Austria             266\n",
              "France              101\n",
              "United States        57\n",
              "Czechia              47\n",
              "Poland               31\n",
              "Hungary              21\n",
              "Denmark              21\n",
              "Romania              12\n",
              "Japan                12\n",
              "Switzerland           9\n",
              "Luxembourg            9\n",
              "Sweden                6\n",
              "Slovenia              5\n",
              "Slovakia              4\n",
              "Croatia               3\n",
              "Bulgaria              1\n",
              "Malta                 1\n",
              "Canada                1\n",
              "Mexico                1\n",
              "Name: country_version, dtype: int64"
            ]
          },
          "execution_count": 1462,
          "metadata": {},
          "output_type": "execute_result"
        }
      ],
      "source": [
        "df[\"country_version\"].value_counts(dropna=False)"
      ]
    },
    {
      "cell_type": "code",
      "execution_count": null,
      "metadata": {
        "id": "nk5qntaHT0ee"
      },
      "outputs": [],
      "source": [
        "df.drop(\"country_version\", axis=1, inplace=True)"
      ]
    },
    {
      "cell_type": "code",
      "execution_count": null,
      "metadata": {
        "id": "1urfrG-OT0ee",
        "outputId": "77c220bd-2e50-4b7e-a5a9-f4a893994a2b"
      },
      "outputs": [
        {
          "name": "stdout",
          "output_type": "stream",
          "text": [
            " Sütün Adi :fuel_type\n",
            " Nan deger sayisi : 1787\n",
            " Nan yüzdelik sayisi : % (6, 2)\n",
            " Value_count_degeri : Gasoline                                                                                              8532\n",
            "Diesel                                                                                                5911\n",
            "Super 95                                                                                              3557\n",
            "Diesel (Particle filter)                                                                              2816\n",
            "Regular/Benzine 91                                                                                    2065\n",
            "Super E10 95                                                                                          1016\n",
            "Regular/Benzine 91 (Particle filter)                                                                   555\n",
            "Super 95 (Particle filter)                                                                             537\n",
            "Super E10 95 (Particle filter)                                                                         324\n",
            "Regular/Benzine E10 91                                                                                 278\n",
            "Others                                                                                                 197\n",
            "Gasoline (Particle filter)                                                                             196\n",
            "Electric                                                                                               185\n",
            "Super Plus 98                                                                                          170\n",
            "Liquid petroleum gas (LPG)                                                                             148\n",
            "CNG                                                                                                     87\n",
            "LPG                                                                                                     73\n",
            "Super Plus E10 98                                                                                       42\n",
            "Super Plus E10 98 (Particle filter)                                                                     35\n",
            "Domestic gas H                                                                                          24\n",
            "Others (Particle filter)                                                                                16\n",
            "Super Plus 98 (Particle filter)                                                                         15\n",
            "Domestic gas L                                                                                          10\n",
            "Regular/Benzine E10 91 (Particle filter)                                                                 8\n",
            "CNG (Particle filter)                                                                                    8\n",
            "LPG (Particle filter)                                                                                    4\n",
            "Hydrogen                                                                                                 3\n",
            "Liquid petroleum gas (LPG) (Particle filter) / Super 95 / Super E10 95                                   3\n",
            "Electric (Particle filter)                                                                               3\n",
            "Ethanol                                                                                                  3\n",
            "Liquid petroleum gas (LPG) / Super 95 / Super Plus 98 / Super Plus E10 98 / Super E10 95                 2\n",
            "Liquid petroleum gas (LPG) / Super 95 / Super E10 95 / Super Plus 98                                     2\n",
            "Liquid petroleum gas (LPG) / Super 95                                                                    2\n",
            "Liquid petroleum gas (LPG) (Particle filter)                                                             2\n",
            "Domestic gas L (Particle filter)                                                                         2\n",
            "Liquid petroleum gas (LPG) / Super 95 / Super E10 95                                                     2\n",
            "Domestic gas H / Super E10 95 / Super Plus E10 98 / Super 95 / Super Plus 98 / Domestic gas L            1\n",
            "Domestic gas L / Super 95 / Domestic gas H                                                               1\n",
            "Super 95 / Super Plus 98 / Liquid petroleum gas (LPG)                                                    1\n",
            "Biogas                                                                                                   1\n",
            "Liquid petroleum gas (LPG) / Super 95 / Super Plus 98                                                    1\n",
            "Liquid petroleum gas (LPG) / Super E10 95                                                                1\n",
            "Liquid petroleum gas (LPG) / Super E10 95 / Super Plus E10 98 / Super Plus 98 / Super 95                 1\n",
            "Liquid petroleum gas (LPG) / Super E10 95 / Regular/Benzine 91 / Super 95 / Super Plus 98 / Biogas       1\n",
            "Super 95 (Particle filter) / Super E10 95 / Ethanol                                                      1\n",
            "Super 95 / Liquid petroleum gas (LPG)                                                                    1\n",
            "Name: fuel_type, dtype: int64\n"
          ]
        }
      ],
      "source": [
        "ilk_bakis(df['fuel_type'])"
      ]
    },
    {
      "cell_type": "code",
      "execution_count": null,
      "metadata": {
        "id": "ogUHjCbMT0ef"
      },
      "outputs": [],
      "source": []
    },
    {
      "cell_type": "code",
      "execution_count": null,
      "metadata": {
        "id": "huKa9sK5T0ef",
        "outputId": "fb71c134-b994-4bc0-d50a-5f5dd21eb005"
      },
      "outputs": [
        {
          "name": "stdout",
          "output_type": "stream",
          "text": [
            " Sütün Adi :offer_number\n",
            " Nan deger sayisi : 5530\n",
            " Nan yüzdelik sayisi : % (19, 2)\n",
            " Value_count_degeri : [\\n, 1, \\n]                        28\n",
            "[\\n, L-Vorlauf 2023, \\n]           10\n",
            "[\\n, 20, \\n]                        9\n",
            "[\\n, 30, \\n]                        9\n",
            "[\\n, RE82542, \\n]                   8\n",
            "                                   ..\n",
            "[\\n, ggp-EP-880-ZS, \\n]             1\n",
            "[\\n, 7475319, \\n]                   1\n",
            "[\\n, abci-EZ-260-PS_130291, \\n]     1\n",
            "[\\n, 7407611, \\n]                   1\n",
            "[\\n, 43-JR-LR, \\n]                  1\n",
            "Name: offer_number, Length: 20945, dtype: int64\n"
          ]
        }
      ],
      "source": [
        "ilk_bakis(df['offer_number'])"
      ]
    },
    {
      "cell_type": "code",
      "execution_count": null,
      "metadata": {
        "id": "WA5_YVxzT0ef"
      },
      "outputs": [],
      "source": [
        "df.drop(\"offer_number\", axis=1, inplace=True)"
      ]
    },
    {
      "cell_type": "code",
      "execution_count": null,
      "metadata": {
        "id": "20tCrTDXT0ef",
        "outputId": "e8f5a39e-2f93-4079-b4e4-20f3b42298ad"
      },
      "outputs": [
        {
          "name": "stdout",
          "output_type": "stream",
          "text": [
            " Sütün Adi :warranty\n",
            " Nan deger sayisi : 12846\n",
            " Nan yüzdelik sayisi : % (45, 2)\n",
            " Value_count_degeri : [\\n, 12 months, \\n]     9545\n",
            "[\\n, Yes, \\n]           2319\n",
            "[\\n, 24 months, \\n]     1515\n",
            "[\\n, 60 months, \\n]      968\n",
            "[\\n, 6 months, \\n]       398\n",
            "                        ... \n",
            "[\\n, 55 months, \\n]        1\n",
            "[\\n, 99 months, \\n]        1\n",
            "[\\n, 122 months, \\n]       1\n",
            "[\\n, 44 months, \\n]        1\n",
            "[\\n, 4 months, \\n]         1\n",
            "Name: warranty, Length: 65, dtype: int64\n"
          ]
        }
      ],
      "source": [
        "ilk_bakis(df['warranty'])"
      ]
    },
    {
      "cell_type": "code",
      "execution_count": null,
      "metadata": {
        "id": "nWpqlxH3T0ef",
        "outputId": "d448f64b-4137-408a-8650-066c2cc798fd"
      },
      "outputs": [
        {
          "data": {
            "text/plain": [
              "0        24.0\n",
              "1        24.0\n",
              "2        12.0\n",
              "3        12.0\n",
              "4        12.0\n",
              "         ... \n",
              "29474    12.0\n",
              "29475     NaN\n",
              "29476    13.0\n",
              "29477    12.0\n",
              "29478     NaN\n",
              "Name: warranty, Length: 28630, dtype: float64"
            ]
          },
          "execution_count": 1769,
          "metadata": {},
          "output_type": "execute_result"
        }
      ],
      "source": [
        "df[\"warranty\"] = df.warranty.apply(lambda x : x[0] if type(x)==list else x)\n",
        "\n",
        "df[\"warranty\"] = df.warranty.str.extract('(\\d{1,4})').astype(\"float\") # str.extract('(\\d+)')\n",
        "df[\"warranty\"]"
      ]
    },
    {
      "cell_type": "code",
      "execution_count": null,
      "metadata": {
        "id": "SQoKnNHrT0ef",
        "outputId": "9e9248c4-877e-468f-bef2-e10aeee257fc"
      },
      "outputs": [
        {
          "data": {
            "text/plain": [
              "NaN      15165\n",
              "12.0      9545\n",
              "24.0      1515\n",
              "60.0       968\n",
              "6.0        398\n",
              "         ...  \n",
              "55.0         1\n",
              "99.0         1\n",
              "122.0        1\n",
              "44.0         1\n",
              "4.0          1\n",
              "Name: warranty, Length: 65, dtype: int64"
            ]
          },
          "execution_count": 1770,
          "metadata": {},
          "output_type": "execute_result"
        }
      ],
      "source": [
        "df.warranty.value_counts(dropna=False)"
      ]
    },
    {
      "cell_type": "code",
      "execution_count": null,
      "metadata": {
        "id": "jhg0hfaVT0ef",
        "outputId": "36231b15-308a-48e5-e4bf-a278a2b16ac4"
      },
      "outputs": [
        {
          "name": "stdout",
          "output_type": "stream",
          "text": [
            " Sütün Adi :mileage\n",
            " Nan deger sayisi : 1\n",
            " Nan yüzdelik sayisi : % (0, 2)\n",
            " Value_count_degeri : 10 km         586\n",
            "1 km          172\n",
            "50 km         133\n",
            "100 km        119\n",
            "5,000 km      118\n",
            "             ... \n",
            "141,589 km      1\n",
            "59,821 km       1\n",
            "123,500 km      1\n",
            "29,781 km       1\n",
            "230,047 km      1\n",
            "Name: mileage, Length: 14183, dtype: int64\n"
          ]
        }
      ],
      "source": [
        "ilk_bakis(df['mileage'])"
      ]
    },
    {
      "cell_type": "code",
      "execution_count": null,
      "metadata": {
        "id": "H8wrJHnyT0ef",
        "outputId": "9b961e11-c543-45cf-871d-db6883c38ffa"
      },
      "outputs": [
        {
          "ename": "AttributeError",
          "evalue": "Can only use .str accessor with string values!",
          "output_type": "error",
          "traceback": [
            "\u001b[1;31m---------------------------------------------------------------------------\u001b[0m",
            "\u001b[1;31mAttributeError\u001b[0m                            Traceback (most recent call last)",
            "Input \u001b[1;32mIn [1773]\u001b[0m, in \u001b[0;36m<cell line: 1>\u001b[1;34m()\u001b[0m\n\u001b[1;32m----> 1\u001b[0m df[\u001b[38;5;124m\"\u001b[39m\u001b[38;5;124mmileage\u001b[39m\u001b[38;5;124m\"\u001b[39m] \u001b[38;5;241m=\u001b[39m \u001b[43mdf\u001b[49m\u001b[38;5;241;43m.\u001b[39;49m\u001b[43mmileage\u001b[49m\u001b[38;5;241;43m.\u001b[39;49m\u001b[43mstr\u001b[49m\u001b[38;5;241m.\u001b[39mreplace(\u001b[38;5;124m'\u001b[39m\u001b[38;5;124m,\u001b[39m\u001b[38;5;124m'\u001b[39m, \u001b[38;5;124m'\u001b[39m\u001b[38;5;124m'\u001b[39m)\u001b[38;5;241m.\u001b[39mstr\u001b[38;5;241m.\u001b[39mextract(\u001b[38;5;124m'\u001b[39m\u001b[38;5;124m(\u001b[39m\u001b[38;5;124m\\\u001b[39m\u001b[38;5;124md\u001b[39m\u001b[38;5;124m{\u001b[39m\u001b[38;5;124m1,8})\u001b[39m\u001b[38;5;124m'\u001b[39m)\u001b[38;5;241m.\u001b[39mastype(\u001b[38;5;124m'\u001b[39m\u001b[38;5;124mfloat\u001b[39m\u001b[38;5;124m'\u001b[39m)\n\u001b[0;32m      2\u001b[0m df[\u001b[38;5;124m\"\u001b[39m\u001b[38;5;124mmileage\u001b[39m\u001b[38;5;124m\"\u001b[39m]\n",
            "File \u001b[1;32m~\\anaconda3\\lib\\site-packages\\pandas\\core\\generic.py:5575\u001b[0m, in \u001b[0;36mNDFrame.__getattr__\u001b[1;34m(self, name)\u001b[0m\n\u001b[0;32m   5568\u001b[0m \u001b[38;5;28;01mif\u001b[39;00m (\n\u001b[0;32m   5569\u001b[0m     name \u001b[38;5;129;01mnot\u001b[39;00m \u001b[38;5;129;01min\u001b[39;00m \u001b[38;5;28mself\u001b[39m\u001b[38;5;241m.\u001b[39m_internal_names_set\n\u001b[0;32m   5570\u001b[0m     \u001b[38;5;129;01mand\u001b[39;00m name \u001b[38;5;129;01mnot\u001b[39;00m \u001b[38;5;129;01min\u001b[39;00m \u001b[38;5;28mself\u001b[39m\u001b[38;5;241m.\u001b[39m_metadata\n\u001b[0;32m   5571\u001b[0m     \u001b[38;5;129;01mand\u001b[39;00m name \u001b[38;5;129;01mnot\u001b[39;00m \u001b[38;5;129;01min\u001b[39;00m \u001b[38;5;28mself\u001b[39m\u001b[38;5;241m.\u001b[39m_accessors\n\u001b[0;32m   5572\u001b[0m     \u001b[38;5;129;01mand\u001b[39;00m \u001b[38;5;28mself\u001b[39m\u001b[38;5;241m.\u001b[39m_info_axis\u001b[38;5;241m.\u001b[39m_can_hold_identifiers_and_holds_name(name)\n\u001b[0;32m   5573\u001b[0m ):\n\u001b[0;32m   5574\u001b[0m     \u001b[38;5;28;01mreturn\u001b[39;00m \u001b[38;5;28mself\u001b[39m[name]\n\u001b[1;32m-> 5575\u001b[0m \u001b[38;5;28;01mreturn\u001b[39;00m \u001b[38;5;28;43mobject\u001b[39;49m\u001b[38;5;241;43m.\u001b[39;49m\u001b[38;5;21;43m__getattribute__\u001b[39;49m\u001b[43m(\u001b[49m\u001b[38;5;28;43mself\u001b[39;49m\u001b[43m,\u001b[49m\u001b[43m \u001b[49m\u001b[43mname\u001b[49m\u001b[43m)\u001b[49m\n",
            "File \u001b[1;32m~\\anaconda3\\lib\\site-packages\\pandas\\core\\accessor.py:182\u001b[0m, in \u001b[0;36mCachedAccessor.__get__\u001b[1;34m(self, obj, cls)\u001b[0m\n\u001b[0;32m    179\u001b[0m \u001b[38;5;28;01mif\u001b[39;00m obj \u001b[38;5;129;01mis\u001b[39;00m \u001b[38;5;28;01mNone\u001b[39;00m:\n\u001b[0;32m    180\u001b[0m     \u001b[38;5;66;03m# we're accessing the attribute of the class, i.e., Dataset.geo\u001b[39;00m\n\u001b[0;32m    181\u001b[0m     \u001b[38;5;28;01mreturn\u001b[39;00m \u001b[38;5;28mself\u001b[39m\u001b[38;5;241m.\u001b[39m_accessor\n\u001b[1;32m--> 182\u001b[0m accessor_obj \u001b[38;5;241m=\u001b[39m \u001b[38;5;28;43mself\u001b[39;49m\u001b[38;5;241;43m.\u001b[39;49m\u001b[43m_accessor\u001b[49m\u001b[43m(\u001b[49m\u001b[43mobj\u001b[49m\u001b[43m)\u001b[49m\n\u001b[0;32m    183\u001b[0m \u001b[38;5;66;03m# Replace the property with the accessor object. Inspired by:\u001b[39;00m\n\u001b[0;32m    184\u001b[0m \u001b[38;5;66;03m# https://www.pydanny.com/cached-property.html\u001b[39;00m\n\u001b[0;32m    185\u001b[0m \u001b[38;5;66;03m# We need to use object.__setattr__ because we overwrite __setattr__ on\u001b[39;00m\n\u001b[0;32m    186\u001b[0m \u001b[38;5;66;03m# NDFrame\u001b[39;00m\n\u001b[0;32m    187\u001b[0m \u001b[38;5;28mobject\u001b[39m\u001b[38;5;241m.\u001b[39m\u001b[38;5;21m__setattr__\u001b[39m(obj, \u001b[38;5;28mself\u001b[39m\u001b[38;5;241m.\u001b[39m_name, accessor_obj)\n",
            "File \u001b[1;32m~\\anaconda3\\lib\\site-packages\\pandas\\core\\strings\\accessor.py:177\u001b[0m, in \u001b[0;36mStringMethods.__init__\u001b[1;34m(self, data)\u001b[0m\n\u001b[0;32m    174\u001b[0m \u001b[38;5;28;01mdef\u001b[39;00m \u001b[38;5;21m__init__\u001b[39m(\u001b[38;5;28mself\u001b[39m, data):\n\u001b[0;32m    175\u001b[0m     \u001b[38;5;28;01mfrom\u001b[39;00m \u001b[38;5;21;01mpandas\u001b[39;00m\u001b[38;5;21;01m.\u001b[39;00m\u001b[38;5;21;01mcore\u001b[39;00m\u001b[38;5;21;01m.\u001b[39;00m\u001b[38;5;21;01marrays\u001b[39;00m\u001b[38;5;21;01m.\u001b[39;00m\u001b[38;5;21;01mstring_\u001b[39;00m \u001b[38;5;28;01mimport\u001b[39;00m StringDtype\n\u001b[1;32m--> 177\u001b[0m     \u001b[38;5;28mself\u001b[39m\u001b[38;5;241m.\u001b[39m_inferred_dtype \u001b[38;5;241m=\u001b[39m \u001b[38;5;28;43mself\u001b[39;49m\u001b[38;5;241;43m.\u001b[39;49m\u001b[43m_validate\u001b[49m\u001b[43m(\u001b[49m\u001b[43mdata\u001b[49m\u001b[43m)\u001b[49m\n\u001b[0;32m    178\u001b[0m     \u001b[38;5;28mself\u001b[39m\u001b[38;5;241m.\u001b[39m_is_categorical \u001b[38;5;241m=\u001b[39m is_categorical_dtype(data\u001b[38;5;241m.\u001b[39mdtype)\n\u001b[0;32m    179\u001b[0m     \u001b[38;5;28mself\u001b[39m\u001b[38;5;241m.\u001b[39m_is_string \u001b[38;5;241m=\u001b[39m \u001b[38;5;28misinstance\u001b[39m(data\u001b[38;5;241m.\u001b[39mdtype, StringDtype)\n",
            "File \u001b[1;32m~\\anaconda3\\lib\\site-packages\\pandas\\core\\strings\\accessor.py:231\u001b[0m, in \u001b[0;36mStringMethods._validate\u001b[1;34m(data)\u001b[0m\n\u001b[0;32m    228\u001b[0m inferred_dtype \u001b[38;5;241m=\u001b[39m lib\u001b[38;5;241m.\u001b[39minfer_dtype(values, skipna\u001b[38;5;241m=\u001b[39m\u001b[38;5;28;01mTrue\u001b[39;00m)\n\u001b[0;32m    230\u001b[0m \u001b[38;5;28;01mif\u001b[39;00m inferred_dtype \u001b[38;5;129;01mnot\u001b[39;00m \u001b[38;5;129;01min\u001b[39;00m allowed_types:\n\u001b[1;32m--> 231\u001b[0m     \u001b[38;5;28;01mraise\u001b[39;00m \u001b[38;5;167;01mAttributeError\u001b[39;00m(\u001b[38;5;124m\"\u001b[39m\u001b[38;5;124mCan only use .str accessor with string values!\u001b[39m\u001b[38;5;124m\"\u001b[39m)\n\u001b[0;32m    232\u001b[0m \u001b[38;5;28;01mreturn\u001b[39;00m inferred_dtype\n",
            "\u001b[1;31mAttributeError\u001b[0m: Can only use .str accessor with string values!"
          ]
        }
      ],
      "source": [
        "df[\"mileage\"] = df.mileage.str.replace(',', '').str.extract('(\\d{1,8})').astype('float')\n",
        "df[\"mileage\"]"
      ]
    },
    {
      "cell_type": "code",
      "execution_count": null,
      "metadata": {
        "id": "UniiM_y4T0eg",
        "outputId": "04e48121-f72e-4767-8c75-6309524d049b"
      },
      "outputs": [
        {
          "data": {
            "text/plain": [
              "[Gasoline]                                                                                                    8532\n",
              "[Diesel]                                                                                                      5911\n",
              "[Super 95]                                                                                                    3557\n",
              "[Diesel (Particle filter)]                                                                                    2816\n",
              "[Regular, Benzine 91]                                                                                         2065\n",
              "NaN                                                                                                           1787\n",
              "[Super E10 95]                                                                                                1016\n",
              "[Regular, Benzine 91 (Particle filter)]                                                                        555\n",
              "[Super 95 (Particle filter)]                                                                                   537\n",
              "[Super E10 95 (Particle filter)]                                                                               324\n",
              "[Regular, Benzine E10 91]                                                                                      278\n",
              "[Others]                                                                                                       197\n",
              "[Gasoline (Particle filter)]                                                                                   196\n",
              "[Electric]                                                                                                     185\n",
              "[Super Plus 98]                                                                                                170\n",
              "[Liquid petroleum gas (LPG)]                                                                                   148\n",
              "[CNG]                                                                                                           87\n",
              "[LPG]                                                                                                           73\n",
              "[Super Plus E10 98]                                                                                             42\n",
              "[Super Plus E10 98 (Particle filter)]                                                                           35\n",
              "[Domestic gas H]                                                                                                24\n",
              "[Others (Particle filter)]                                                                                      16\n",
              "[Super Plus 98 (Particle filter)]                                                                               15\n",
              "[Domestic gas L]                                                                                                10\n",
              "[CNG (Particle filter)]                                                                                          8\n",
              "[Regular, Benzine E10 91 (Particle filter)]                                                                      8\n",
              "[LPG (Particle filter)]                                                                                          4\n",
              "[Hydrogen]                                                                                                       3\n",
              "[Ethanol]                                                                                                        3\n",
              "[Electric (Particle filter)]                                                                                     3\n",
              "[Liquid petroleum gas (LPG) (Particle filter) ,  Super 95 ,  Super E10 95]                                       3\n",
              "[Liquid petroleum gas (LPG) ,  Super 95 ,  Super Plus 98 ,  Super Plus E10 98 ,  Super E10 95]                   2\n",
              "[Liquid petroleum gas (LPG) ,  Super 95 ,  Super E10 95]                                                         2\n",
              "[Domestic gas L (Particle filter)]                                                                               2\n",
              "[Liquid petroleum gas (LPG) (Particle filter)]                                                                   2\n",
              "[Liquid petroleum gas (LPG) ,  Super 95]                                                                         2\n",
              "[Liquid petroleum gas (LPG) ,  Super 95 ,  Super E10 95 ,  Super Plus 98]                                        2\n",
              "[Liquid petroleum gas (LPG) ,  Super 95 ,  Super Plus 98]                                                        1\n",
              "[Super 95 (Particle filter) ,  Super E10 95 ,  Ethanol]                                                          1\n",
              "[Liquid petroleum gas (LPG) ,  Super E10 95 ,  Super Plus E10 98 ,  Super Plus 98 ,  Super 95]                   1\n",
              "[Liquid petroleum gas (LPG) ,  Super E10 95]                                                                     1\n",
              "[Biogas]                                                                                                         1\n",
              "[Super 95 ,  Super Plus 98 ,  Liquid petroleum gas (LPG)]                                                        1\n",
              "[Domestic gas L ,  Super 95 ,  Domestic gas H]                                                                   1\n",
              "[Domestic gas H ,  Super E10 95 ,  Super Plus E10 98 ,  Super 95 ,  Super Plus 98 ,  Domestic gas L]             1\n",
              "[Liquid petroleum gas (LPG) ,  Super E10 95 ,  Regular, Benzine 91 ,  Super 95 ,  Super Plus 98 ,  Biogas]       1\n",
              "[Super 95 ,  Liquid petroleum gas (LPG)]                                                                         1\n",
              "Name: fuel_type, dtype: int64"
            ]
          },
          "execution_count": 1774,
          "metadata": {},
          "output_type": "execute_result"
        }
      ],
      "source": [
        "df[\"fuel_type\"].str.split(\"/\").value_counts(dropna=False)"
      ]
    },
    {
      "cell_type": "code",
      "execution_count": null,
      "metadata": {
        "id": "p0ge0gaOT0eg"
      },
      "outputs": [],
      "source": []
    },
    {
      "cell_type": "code",
      "execution_count": null,
      "metadata": {
        "id": "s3GS07gWT0eg"
      },
      "outputs": [],
      "source": []
    },
    {
      "cell_type": "code",
      "execution_count": null,
      "metadata": {
        "id": "-JTUzJxGT0eg"
      },
      "outputs": [],
      "source": []
    },
    {
      "cell_type": "code",
      "execution_count": null,
      "metadata": {
        "id": "Zpxf7LvPT0eg"
      },
      "outputs": [],
      "source": []
    },
    {
      "cell_type": "code",
      "execution_count": null,
      "metadata": {
        "id": "mX61Mu15T0eg"
      },
      "outputs": [],
      "source": []
    },
    {
      "cell_type": "code",
      "execution_count": null,
      "metadata": {
        "id": "ys9cP2FeT0eg",
        "outputId": "b9bddc09-d3ea-44d6-863e-703e40acedbd"
      },
      "outputs": [
        {
          "name": "stdout",
          "output_type": "stream",
          "text": [
            " Sütün Adi :first_registration\n",
            " Nan deger sayisi : 2\n",
            " Nan yüzdelik sayisi : % (0, 2)\n",
            " Value_count_degeri : 08/2022    454\n",
            "06/2022    428\n",
            "05/2019    420\n",
            "06/2019    418\n",
            "07/2019    416\n",
            "          ... \n",
            "08/1980      1\n",
            "06/1980      1\n",
            "09/1970      1\n",
            "06/1963      1\n",
            "10/1979      1\n",
            "Name: first_registration, Length: 655, dtype: int64\n"
          ]
        }
      ],
      "source": [
        "ilk_bakis(df['first_registration'])"
      ]
    },
    {
      "cell_type": "code",
      "execution_count": null,
      "metadata": {
        "id": "6hzYpDUST0eg",
        "outputId": "23c902a9-c45a-453d-8458-db2b335e5bcd"
      },
      "outputs": [
        {
          "data": {
            "text/plain": [
              "0        2016\n",
              "1        2022\n",
              "2        2020\n",
              "3        2020\n",
              "4        2015\n",
              "         ... \n",
              "29474    2019\n",
              "29475    2004\n",
              "29476    2011\n",
              "29477    2017\n",
              "29478    2002\n",
              "Name: first_registration, Length: 28630, dtype: object"
            ]
          },
          "execution_count": 1776,
          "metadata": {},
          "output_type": "execute_result"
        }
      ],
      "source": [
        "df['first_registration'].str.extract('.*(\\d{4})', expand=False)"
      ]
    },
    {
      "cell_type": "code",
      "execution_count": null,
      "metadata": {
        "id": "Tk-To82DT0eg",
        "outputId": "5fbb5270-cfb3-4309-fbfe-648d6235ffbb"
      },
      "outputs": [
        {
          "data": {
            "text/plain": [
              "0        2016\n",
              "1        2022\n",
              "2        2020\n",
              "3        2020\n",
              "4        2015\n",
              "         ... \n",
              "29474    2019\n",
              "29475    2004\n",
              "29476    2011\n",
              "29477    2017\n",
              "29478    2002\n",
              "Name: first_registration, Length: 28630, dtype: object"
            ]
          },
          "execution_count": 1777,
          "metadata": {},
          "output_type": "execute_result"
        }
      ],
      "source": [
        "\n",
        "df['first_registration'].str[-4:]"
      ]
    },
    {
      "cell_type": "code",
      "execution_count": null,
      "metadata": {
        "id": "tqVDaj4OT0eg",
        "outputId": "0ff1dbfe-135c-4062-c1d2-6d3a49c3149c"
      },
      "outputs": [
        {
          "data": {
            "text/plain": [
              "0        2016.0\n",
              "1        2022.0\n",
              "2        2020.0\n",
              "3        2020.0\n",
              "4        2015.0\n",
              "          ...  \n",
              "29474    2019.0\n",
              "29475    2004.0\n",
              "29476    2011.0\n",
              "29477    2017.0\n",
              "29478    2002.0\n",
              "Name: first_registration, Length: 28630, dtype: float64"
            ]
          },
          "execution_count": 1778,
          "metadata": {},
          "output_type": "execute_result"
        }
      ],
      "source": [
        "df['first_registration'] = df['first_registration'].str[-4:].astype('float')\n",
        "df['first_registration']"
      ]
    },
    {
      "cell_type": "code",
      "execution_count": null,
      "metadata": {
        "id": "7qozFP3wT0eh",
        "outputId": "89a70cc5-9f20-4016-86a4-ad79ca6df6c8"
      },
      "outputs": [
        {
          "data": {
            "text/plain": [
              "2019.0    3667\n",
              "2018.0    3492\n",
              "2022.0    3086\n",
              "2021.0    2870\n",
              "2020.0    2473\n",
              "          ... \n",
              "2023.0       1\n",
              "1929.0       1\n",
              "1950.0       1\n",
              "1928.0       1\n",
              "2202.0       1\n",
              "Name: first_registration, Length: 84, dtype: int64"
            ]
          },
          "execution_count": 1779,
          "metadata": {},
          "output_type": "execute_result"
        }
      ],
      "source": [
        "df[\"first_registration\"].value_counts(dropna=False)"
      ]
    },
    {
      "cell_type": "code",
      "execution_count": null,
      "metadata": {
        "id": "F51XQUshT0eh"
      },
      "outputs": [],
      "source": []
    },
    {
      "cell_type": "code",
      "execution_count": null,
      "metadata": {
        "id": "UDes9fXBT0eh"
      },
      "outputs": [],
      "source": []
    },
    {
      "cell_type": "code",
      "execution_count": null,
      "metadata": {
        "id": "HH-5KqD9T0eh",
        "outputId": "d1f6c47a-e76a-46c2-a257-f719d434cce4"
      },
      "outputs": [
        {
          "data": {
            "text/plain": [
              "2019.0    3667\n",
              "2018.0    3492\n",
              "2022.0    3086\n",
              "2021.0    2870\n",
              "2020.0    2473\n",
              "          ... \n",
              "2023.0       1\n",
              "1929.0       1\n",
              "1950.0       1\n",
              "1928.0       1\n",
              "2202.0       1\n",
              "Name: first_registration, Length: 84, dtype: int64"
            ]
          },
          "execution_count": 1780,
          "metadata": {},
          "output_type": "execute_result"
        }
      ],
      "source": [
        "df[\"first_registration\"].value_counts(dropna=False)"
      ]
    },
    {
      "cell_type": "code",
      "execution_count": null,
      "metadata": {
        "id": "TADweXclT0eh"
      },
      "outputs": [],
      "source": []
    },
    {
      "cell_type": "code",
      "execution_count": null,
      "metadata": {
        "id": "r4fYAbmZT0eh"
      },
      "outputs": [],
      "source": []
    },
    {
      "cell_type": "code",
      "execution_count": null,
      "metadata": {
        "id": "zHmaN9AhT0eh",
        "outputId": "40e68b19-cc78-4939-9433-60505f5d6567"
      },
      "outputs": [
        {
          "name": "stdout",
          "output_type": "stream",
          "text": [
            "<class 'pandas.core.frame.DataFrame'>\n",
            "Int64Index: 28630 entries, 0 to 29478\n",
            "Data columns (total 41 columns):\n",
            " #   Column                   Non-Null Count  Dtype  \n",
            "---  ------                   --------------  -----  \n",
            " 0   make_model               28630 non-null  object \n",
            " 1   make                     28630 non-null  object \n",
            " 2   location                 28630 non-null  object \n",
            " 3   price                    28630 non-null  float64\n",
            " 4   body_type                28630 non-null  object \n",
            " 5   type                     28630 non-null  object \n",
            " 6   doors                    28271 non-null  float64\n",
            " 7   warranty                 13465 non-null  float64\n",
            " 8   mileage                  28629 non-null  float64\n",
            " 9   first_registration       28628 non-null  float64\n",
            " 10  gearbox                  28382 non-null  object \n",
            " 11  fuel_type                26843 non-null  object \n",
            " 12  colour                   26906 non-null  object \n",
            " 13  paint                    14495 non-null  object \n",
            " 14  seller                   28630 non-null  object \n",
            " 15  seats                    25505 non-null  object \n",
            " 16  power                    28058 non-null  object \n",
            " 17  engine_size              27227 non-null  object \n",
            " 18  gears                    18954 non-null  object \n",
            " 19  co2_emissions            18594 non-null  object \n",
            " 20  manufacturer_colour      21787 non-null  object \n",
            " 21  drivetrain               16893 non-null  object \n",
            " 22  cylinders                18852 non-null  object \n",
            " 23  fuel_consumption         23385 non-null  object \n",
            " 24  comfort_convenience      25433 non-null  object \n",
            " 25  entertainment_media      23644 non-null  object \n",
            " 26  safety_security          25415 non-null  object \n",
            " 27  extras                   23480 non-null  object \n",
            " 28  empty_weight             17758 non-null  object \n",
            " 29  model_code               8367 non-null   object \n",
            " 30  general_inspection       12254 non-null  object \n",
            " 31  full_service_history     12565 non-null  object \n",
            " 32  non_smoker_vehicle       11594 non-null  object \n",
            " 33  emission_class           17859 non-null  object \n",
            " 34  emissions_sticker        9414 non-null   object \n",
            " 35  upholstery_colour        14569 non-null  object \n",
            " 36  upholstery               18610 non-null  object \n",
            " 37  production_date          5908 non-null   float64\n",
            " 38  previous_owner           14015 non-null  object \n",
            " 39  energy_efficiency_class  7804 non-null   object \n",
            " 40  co2_efficiency           7804 non-null   object \n",
            "dtypes: float64(6), object(35)\n",
            "memory usage: 9.2+ MB\n"
          ]
        }
      ],
      "source": [
        "df.info()"
      ]
    },
    {
      "cell_type": "code",
      "execution_count": null,
      "metadata": {
        "id": "sJ4Va-QbT0ei",
        "outputId": "cc6e64a4-31aa-4806-c26c-87f1bbfc2b7c"
      },
      "outputs": [
        {
          "name": "stdout",
          "output_type": "stream",
          "text": [
            " Sütün Adi :production_date\n",
            " Nan deger sayisi : 22722\n",
            " Nan yüzdelik sayisi : % (79, 2)\n",
            " Value_count_degeri : 2019.0    1179\n",
            "2021.0     980\n",
            "2022.0     894\n",
            "2020.0     763\n",
            "2018.0     762\n",
            "2017.0     391\n",
            "2016.0     239\n",
            "2015.0     118\n",
            "2014.0      90\n",
            "2013.0      76\n",
            "2010.0      53\n",
            "2012.0      43\n",
            "2011.0      43\n",
            "2008.0      34\n",
            "2009.0      26\n",
            "2007.0      20\n",
            "2006.0      17\n",
            "2002.0      15\n",
            "2004.0      13\n",
            "2003.0      13\n",
            "1967.0      12\n",
            "2001.0      12\n",
            "1966.0      11\n",
            "1999.0       9\n",
            "2005.0       9\n",
            "1965.0       9\n",
            "1970.0       9\n",
            "1997.0       8\n",
            "1994.0       8\n",
            "1968.0       7\n",
            "2000.0       7\n",
            "1998.0       5\n",
            "1990.0       3\n",
            "1973.0       3\n",
            "1987.0       3\n",
            "1993.0       3\n",
            "1991.0       3\n",
            "1996.0       3\n",
            "1995.0       2\n",
            "1969.0       2\n",
            "1978.0       2\n",
            "1982.0       2\n",
            "1961.0       1\n",
            "1954.0       1\n",
            "1988.0       1\n",
            "1962.0       1\n",
            "1981.0       1\n",
            "1985.0       1\n",
            "1976.0       1\n",
            "Name: production_date, dtype: int64\n"
          ]
        }
      ],
      "source": [
        "ilk_bakis(df['production_date'])"
      ]
    },
    {
      "cell_type": "code",
      "execution_count": null,
      "metadata": {
        "id": "dwc-S8cfT0ei",
        "outputId": "06cdced3-b0e7-4ca4-e6a3-e168721f239c"
      },
      "outputs": [
        {
          "data": {
            "text/html": [
              "<div>\n",
              "<style scoped>\n",
              "    .dataframe tbody tr th:only-of-type {\n",
              "        vertical-align: middle;\n",
              "    }\n",
              "\n",
              "    .dataframe tbody tr th {\n",
              "        vertical-align: top;\n",
              "    }\n",
              "\n",
              "    .dataframe thead th {\n",
              "        text-align: right;\n",
              "    }\n",
              "</style>\n",
              "<table border=\"1\" class=\"dataframe\">\n",
              "  <thead>\n",
              "    <tr style=\"text-align: right;\">\n",
              "      <th></th>\n",
              "      <th>first_registration</th>\n",
              "      <th>production_date</th>\n",
              "    </tr>\n",
              "  </thead>\n",
              "  <tbody>\n",
              "    <tr>\n",
              "      <th>23</th>\n",
              "      <td>2019.0</td>\n",
              "      <td>2018.0</td>\n",
              "    </tr>\n",
              "    <tr>\n",
              "      <th>30</th>\n",
              "      <td>2020.0</td>\n",
              "      <td>2018.0</td>\n",
              "    </tr>\n",
              "    <tr>\n",
              "      <th>31</th>\n",
              "      <td>2020.0</td>\n",
              "      <td>2019.0</td>\n",
              "    </tr>\n",
              "    <tr>\n",
              "      <th>470</th>\n",
              "      <td>2022.0</td>\n",
              "      <td>2021.0</td>\n",
              "    </tr>\n",
              "    <tr>\n",
              "      <th>472</th>\n",
              "      <td>2019.0</td>\n",
              "      <td>2016.0</td>\n",
              "    </tr>\n",
              "    <tr>\n",
              "      <th>...</th>\n",
              "      <td>...</td>\n",
              "      <td>...</td>\n",
              "    </tr>\n",
              "    <tr>\n",
              "      <th>29350</th>\n",
              "      <td>2019.0</td>\n",
              "      <td>2017.0</td>\n",
              "    </tr>\n",
              "    <tr>\n",
              "      <th>29380</th>\n",
              "      <td>2022.0</td>\n",
              "      <td>2021.0</td>\n",
              "    </tr>\n",
              "    <tr>\n",
              "      <th>29414</th>\n",
              "      <td>2022.0</td>\n",
              "      <td>2021.0</td>\n",
              "    </tr>\n",
              "    <tr>\n",
              "      <th>29426</th>\n",
              "      <td>2020.0</td>\n",
              "      <td>2019.0</td>\n",
              "    </tr>\n",
              "    <tr>\n",
              "      <th>29436</th>\n",
              "      <td>2022.0</td>\n",
              "      <td>2021.0</td>\n",
              "    </tr>\n",
              "  </tbody>\n",
              "</table>\n",
              "<p>841 rows × 2 columns</p>\n",
              "</div>"
            ],
            "text/plain": [
              "       first_registration  production_date\n",
              "23                 2019.0           2018.0\n",
              "30                 2020.0           2018.0\n",
              "31                 2020.0           2019.0\n",
              "470                2022.0           2021.0\n",
              "472                2019.0           2016.0\n",
              "...                   ...              ...\n",
              "29350              2019.0           2017.0\n",
              "29380              2022.0           2021.0\n",
              "29414              2022.0           2021.0\n",
              "29426              2020.0           2019.0\n",
              "29436              2022.0           2021.0\n",
              "\n",
              "[841 rows x 2 columns]"
            ]
          },
          "execution_count": 1782,
          "metadata": {},
          "output_type": "execute_result"
        }
      ],
      "source": [
        "df[(df[\"first_registration\"].notnull()) &\\\n",
        "   (df[\"production_date\"].notnull()) &\\\n",
        "   (df[\"first_registration\"]!=df[\"production_date\"])]\\\n",
        "    [[\"first_registration\",\"production_date\"]]"
      ]
    },
    {
      "cell_type": "code",
      "execution_count": null,
      "metadata": {
        "id": "zsJQHdDmT0ei"
      },
      "outputs": [],
      "source": []
    },
    {
      "cell_type": "code",
      "execution_count": null,
      "metadata": {
        "id": "_quPa31AT0ei"
      },
      "outputs": [],
      "source": []
    },
    {
      "cell_type": "code",
      "execution_count": null,
      "metadata": {
        "id": "m3NLG32QT0ei",
        "outputId": "18dded42-4203-446f-8c94-899cb29f7274"
      },
      "outputs": [
        {
          "data": {
            "text/plain": [
              "0         6.0\n",
              "1         0.0\n",
              "2         2.0\n",
              "3         2.0\n",
              "4         7.0\n",
              "         ... \n",
              "29474     3.0\n",
              "29475    18.0\n",
              "29476    11.0\n",
              "29477     5.0\n",
              "29478    20.0\n",
              "Name: age, Length: 28630, dtype: float64"
            ]
          },
          "execution_count": 1783,
          "metadata": {},
          "output_type": "execute_result"
        }
      ],
      "source": [
        "df['age'] = 2022 - df['first_registration']\n",
        "df['age']"
      ]
    },
    {
      "cell_type": "code",
      "execution_count": null,
      "metadata": {
        "id": "5QcSXbezT0ej",
        "outputId": "89373205-25d1-4ae7-8aa5-2dcf88d8da2c"
      },
      "outputs": [
        {
          "data": {
            "text/plain": [
              " 3.0      3667\n",
              " 4.0      3492\n",
              " 0.0      3086\n",
              " 1.0      2870\n",
              " 2.0      2473\n",
              "          ... \n",
              "-1.0         1\n",
              " 93.0        1\n",
              " 72.0        1\n",
              " 94.0        1\n",
              "-180.0       1\n",
              "Name: age, Length: 84, dtype: int64"
            ]
          },
          "execution_count": 1479,
          "metadata": {},
          "output_type": "execute_result"
        }
      ],
      "source": [
        "df.age.value_counts(dropna=False)"
      ]
    },
    {
      "cell_type": "code",
      "execution_count": null,
      "metadata": {
        "id": "gH5ZjcliT0ej"
      },
      "outputs": [],
      "source": [
        "df.drop([\"first_registration\", \"production_date\"], axis=1, inplace=True)"
      ]
    },
    {
      "cell_type": "code",
      "execution_count": null,
      "metadata": {
        "id": "ujUdJsRcT0ej"
      },
      "outputs": [],
      "source": []
    },
    {
      "cell_type": "code",
      "execution_count": null,
      "metadata": {
        "id": "0UbEA3pPT0ej"
      },
      "outputs": [],
      "source": []
    },
    {
      "cell_type": "code",
      "execution_count": null,
      "metadata": {
        "id": "VveBsu4-T0ej"
      },
      "outputs": [],
      "source": []
    },
    {
      "cell_type": "code",
      "execution_count": null,
      "metadata": {
        "id": "AXa7_MoXT0ej",
        "outputId": "a5b3e62f-c6d1-4107-c1cb-335728baea21"
      },
      "outputs": [
        {
          "name": "stdout",
          "output_type": "stream",
          "text": [
            " Sütün Adi :gearbox\n",
            " Nan deger sayisi : 248\n",
            " Nan yüzdelik sayisi : % (1, 2)\n",
            " Value_count_degeri : [\\nManual\\n]            17023\n",
            "[\\nAutomatic\\n]         11287\n",
            "[\\nSemi-automatic\\n]       72\n",
            "Name: gearbox, dtype: int64\n"
          ]
        }
      ],
      "source": [
        "ilk_bakis(df['gearbox'])"
      ]
    },
    {
      "cell_type": "code",
      "execution_count": null,
      "metadata": {
        "id": "xX82UYMlT0ek"
      },
      "outputs": [],
      "source": [
        "df['gearbox'] = df['gearbox'].fillna('other')\n",
        "df['gearbox'] = df.loc[df['gearbox'] != 'other', 'gearbox'].astype(str).str.lstrip(\"['\\\\n\").str.rstrip(\"\\\\n']\")"
      ]
    },
    {
      "cell_type": "code",
      "execution_count": null,
      "metadata": {
        "id": "mgNaFqPhT0ek"
      },
      "outputs": [],
      "source": []
    },
    {
      "cell_type": "code",
      "execution_count": null,
      "metadata": {
        "id": "SGoFffDzT0ek"
      },
      "outputs": [],
      "source": [
        "df['gearbox'].replace('a', np.nan, inplace=True)"
      ]
    },
    {
      "cell_type": "code",
      "execution_count": null,
      "metadata": {
        "id": "R1u-RKWpT0ek",
        "outputId": "83696f62-9832-4ac3-cb71-d761b314a81b"
      },
      "outputs": [
        {
          "data": {
            "text/plain": [
              "Manual            17023\n",
              "Automatic         11287\n",
              "NaN                 248\n",
              "Semi-automatic       72\n",
              "Name: gearbox, dtype: int64"
            ]
          },
          "execution_count": 1484,
          "metadata": {},
          "output_type": "execute_result"
        }
      ],
      "source": [
        "df.gearbox.value_counts(dropna=False)"
      ]
    },
    {
      "cell_type": "code",
      "execution_count": null,
      "metadata": {
        "id": "W4J5q8ttT0ek",
        "outputId": "ce431978-ab67-4fe6-ff2c-01c173e920dc"
      },
      "outputs": [
        {
          "name": "stdout",
          "output_type": "stream",
          "text": [
            " Sütün Adi :power\n",
            " Nan deger sayisi : 572\n",
            " Nan yüzdelik sayisi : % (2, 2)\n",
            " Value_count_degeri : [\\n110 kW (150 hp)\\n]      1992\n",
            "[\\n96 kW (131 hp)\\n]       1356\n",
            "[\\n88 kW (120 hp)\\n]       1182\n",
            "[\\n81 kW (110 hp)\\n]       1166\n",
            "[\\n66 kW (90 hp)\\n]        1110\n",
            "                           ... \n",
            "[\\n746 kW (1,014 hp)\\n]       1\n",
            "[\\n570 kW (775 hp)\\n]         1\n",
            "[\\n471 kW (640 hp)\\n]         1\n",
            "[\\n179 kW (243 hp)\\n]         1\n",
            "[\\n26 kW (35 hp)\\n]           1\n",
            "Name: power, Length: 351, dtype: int64\n"
          ]
        }
      ],
      "source": [
        "ilk_bakis(df['power'])"
      ]
    },
    {
      "cell_type": "code",
      "execution_count": null,
      "metadata": {
        "id": "I_TL4VKFT0ek"
      },
      "outputs": [],
      "source": [
        "#df[['power_kW', 'power_hp']] = df[\"power\"].str.extract(r'\\D*(?P<kW>\\d+)\\D+(?P<hp>\\d+)').astype(float)"
      ]
    },
    {
      "cell_type": "code",
      "execution_count": null,
      "metadata": {
        "id": "091waEW_T0el",
        "outputId": "0befd1c6-e565-4aff-dda6-45fed4830839"
      },
      "outputs": [
        {
          "data": {
            "text/html": [
              "<div>\n",
              "<style scoped>\n",
              "    .dataframe tbody tr th:only-of-type {\n",
              "        vertical-align: middle;\n",
              "    }\n",
              "\n",
              "    .dataframe tbody tr th {\n",
              "        vertical-align: top;\n",
              "    }\n",
              "\n",
              "    .dataframe thead th {\n",
              "        text-align: right;\n",
              "    }\n",
              "</style>\n",
              "<table border=\"1\" class=\"dataframe\">\n",
              "  <thead>\n",
              "    <tr style=\"text-align: right;\">\n",
              "      <th></th>\n",
              "      <th>make_model</th>\n",
              "      <th>make</th>\n",
              "      <th>location</th>\n",
              "      <th>price</th>\n",
              "      <th>body_type</th>\n",
              "      <th>type</th>\n",
              "      <th>doors</th>\n",
              "      <th>warranty</th>\n",
              "      <th>mileage</th>\n",
              "      <th>gearbox</th>\n",
              "      <th>...</th>\n",
              "      <th>emission_class</th>\n",
              "      <th>emissions_sticker</th>\n",
              "      <th>upholstery_colour</th>\n",
              "      <th>upholstery</th>\n",
              "      <th>previous_owner</th>\n",
              "      <th>energy_efficiency_class</th>\n",
              "      <th>co2_efficiency</th>\n",
              "      <th>age</th>\n",
              "      <th>power_kW</th>\n",
              "      <th>power_hp</th>\n",
              "    </tr>\n",
              "  </thead>\n",
              "  <tbody>\n",
              "    <tr>\n",
              "      <th>0</th>\n",
              "      <td>Mercedes-Benz A 160</td>\n",
              "      <td>Mercedes-Benz</td>\n",
              "      <td>P.I. EL PALMAR C/FORJA 6,  11500 PUERTO DE SAN...</td>\n",
              "      <td>16950.0</td>\n",
              "      <td>Compact</td>\n",
              "      <td>Used</td>\n",
              "      <td>5.0</td>\n",
              "      <td>24.0</td>\n",
              "      <td>120200.0</td>\n",
              "      <td>Manual</td>\n",
              "      <td>...</td>\n",
              "      <td>NaN</td>\n",
              "      <td>NaN</td>\n",
              "      <td>NaN</td>\n",
              "      <td>NaN</td>\n",
              "      <td>NaN</td>\n",
              "      <td>NaN</td>\n",
              "      <td>NaN</td>\n",
              "      <td>6.0</td>\n",
              "      <td>NaN</td>\n",
              "      <td>NaN</td>\n",
              "    </tr>\n",
              "    <tr>\n",
              "      <th>1</th>\n",
              "      <td>Mercedes-Benz EQE 350</td>\n",
              "      <td>Mercedes-Benz</td>\n",
              "      <td>APARTADO DE CORREOS 1032,  26140 LOGROÑO, ES</td>\n",
              "      <td>80900.0</td>\n",
              "      <td>Compact</td>\n",
              "      <td>Pre-registered</td>\n",
              "      <td>4.0</td>\n",
              "      <td>24.0</td>\n",
              "      <td>5000.0</td>\n",
              "      <td>Automatic</td>\n",
              "      <td>...</td>\n",
              "      <td>NaN</td>\n",
              "      <td>NaN</td>\n",
              "      <td>NaN</td>\n",
              "      <td>NaN</td>\n",
              "      <td>NaN</td>\n",
              "      <td>NaN</td>\n",
              "      <td>NaN</td>\n",
              "      <td>0.0</td>\n",
              "      <td>215.0</td>\n",
              "      <td>292.0</td>\n",
              "    </tr>\n",
              "    <tr>\n",
              "      <th>2</th>\n",
              "      <td>Mercedes-Benz A 45 AMG</td>\n",
              "      <td>Mercedes-Benz</td>\n",
              "      <td>PORT. TARRACO, MOLL DE LLEVANT, Nº 5, LOC. 6-8...</td>\n",
              "      <td>69900.0</td>\n",
              "      <td>Compact</td>\n",
              "      <td>Used</td>\n",
              "      <td>5.0</td>\n",
              "      <td>12.0</td>\n",
              "      <td>18900.0</td>\n",
              "      <td>Automatic</td>\n",
              "      <td>...</td>\n",
              "      <td>NaN</td>\n",
              "      <td>NaN</td>\n",
              "      <td>NaN</td>\n",
              "      <td>NaN</td>\n",
              "      <td>NaN</td>\n",
              "      <td>NaN</td>\n",
              "      <td>NaN</td>\n",
              "      <td>2.0</td>\n",
              "      <td>310.0</td>\n",
              "      <td>421.0</td>\n",
              "    </tr>\n",
              "  </tbody>\n",
              "</table>\n",
              "<p>3 rows × 42 columns</p>\n",
              "</div>"
            ],
            "text/plain": [
              "               make_model           make  \\\n",
              "0     Mercedes-Benz A 160  Mercedes-Benz   \n",
              "1   Mercedes-Benz EQE 350  Mercedes-Benz   \n",
              "2  Mercedes-Benz A 45 AMG  Mercedes-Benz   \n",
              "\n",
              "                                            location    price body_type  \\\n",
              "0  P.I. EL PALMAR C/FORJA 6,  11500 PUERTO DE SAN...  16950.0   Compact   \n",
              "1       APARTADO DE CORREOS 1032,  26140 LOGROÑO, ES  80900.0   Compact   \n",
              "2  PORT. TARRACO, MOLL DE LLEVANT, Nº 5, LOC. 6-8...  69900.0   Compact   \n",
              "\n",
              "             type  doors  warranty   mileage    gearbox  ... emission_class  \\\n",
              "0            Used    5.0      24.0  120200.0     Manual  ...            NaN   \n",
              "1  Pre-registered    4.0      24.0    5000.0  Automatic  ...            NaN   \n",
              "2            Used    5.0      12.0   18900.0  Automatic  ...            NaN   \n",
              "\n",
              "  emissions_sticker upholstery_colour upholstery previous_owner  \\\n",
              "0               NaN               NaN        NaN            NaN   \n",
              "1               NaN               NaN        NaN            NaN   \n",
              "2               NaN               NaN        NaN            NaN   \n",
              "\n",
              "  energy_efficiency_class co2_efficiency  age power_kW power_hp  \n",
              "0                     NaN            NaN  6.0      NaN      NaN  \n",
              "1                     NaN            NaN  0.0    215.0    292.0  \n",
              "2                     NaN            NaN  2.0    310.0    421.0  \n",
              "\n",
              "[3 rows x 42 columns]"
            ]
          },
          "execution_count": 1789,
          "metadata": {},
          "output_type": "execute_result"
        }
      ],
      "source": [
        "df[['power_kW', 'power_hp']] = df[\"power\"].apply(lambda item: item[0] if type(item) == list else item)\\\n",
        "                              .str.extract(r'\\D*(?P<kW>\\d+)\\D+(?P<hp>\\d+)').astype(float)\n",
        "df.head(3)"
      ]
    },
    {
      "cell_type": "code",
      "execution_count": null,
      "metadata": {
        "id": "6BAjcm48T0el",
        "outputId": "3d1bf9b5-a860-4eda-c428-e768af7e9a6e"
      },
      "outputs": [
        {
          "data": {
            "text/plain": [
              "110.0    1992\n",
              "96.0     1356\n",
              "88.0     1182\n",
              "81.0     1166\n",
              "66.0     1110\n",
              "         ... \n",
              "746.0       1\n",
              "570.0       1\n",
              "471.0       1\n",
              "179.0       1\n",
              "26.0        1\n",
              "Name: power_kW, Length: 352, dtype: int64"
            ]
          },
          "execution_count": 1790,
          "metadata": {},
          "output_type": "execute_result"
        }
      ],
      "source": [
        "df.power_kW.value_counts(dropna=False)"
      ]
    },
    {
      "cell_type": "code",
      "execution_count": null,
      "metadata": {
        "id": "I24nM_FqT0el"
      },
      "outputs": [],
      "source": [
        "df.drop('power', axis=1, inplace=True)"
      ]
    },
    {
      "cell_type": "code",
      "execution_count": null,
      "metadata": {
        "id": "f5hbhM9nT0el"
      },
      "outputs": [],
      "source": []
    },
    {
      "cell_type": "code",
      "execution_count": null,
      "metadata": {
        "id": "WCZAQvlET0el"
      },
      "outputs": [],
      "source": []
    },
    {
      "cell_type": "code",
      "execution_count": null,
      "metadata": {
        "id": "FHOj0fWWT0el",
        "outputId": "32682422-6171-41be-d076-640072e319b7"
      },
      "outputs": [
        {
          "name": "stdout",
          "output_type": "stream",
          "text": [
            " Sütün Adi :fuel_type\n",
            " Nan deger sayisi : 1787\n",
            " Nan yüzdelik sayisi : % (6, 2)\n",
            " Value_count_degeri : Gasoline                                                                                              8532\n",
            "Diesel                                                                                                5911\n",
            "Super 95                                                                                              3557\n",
            "Diesel (Particle filter)                                                                              2816\n",
            "Regular/Benzine 91                                                                                    2065\n",
            "Super E10 95                                                                                          1016\n",
            "Regular/Benzine 91 (Particle filter)                                                                   555\n",
            "Super 95 (Particle filter)                                                                             537\n",
            "Super E10 95 (Particle filter)                                                                         324\n",
            "Regular/Benzine E10 91                                                                                 278\n",
            "Others                                                                                                 197\n",
            "Gasoline (Particle filter)                                                                             196\n",
            "Electric                                                                                               185\n",
            "Super Plus 98                                                                                          170\n",
            "Liquid petroleum gas (LPG)                                                                             148\n",
            "CNG                                                                                                     87\n",
            "LPG                                                                                                     73\n",
            "Super Plus E10 98                                                                                       42\n",
            "Super Plus E10 98 (Particle filter)                                                                     35\n",
            "Domestic gas H                                                                                          24\n",
            "Others (Particle filter)                                                                                16\n",
            "Super Plus 98 (Particle filter)                                                                         15\n",
            "Domestic gas L                                                                                          10\n",
            "Regular/Benzine E10 91 (Particle filter)                                                                 8\n",
            "CNG (Particle filter)                                                                                    8\n",
            "LPG (Particle filter)                                                                                    4\n",
            "Hydrogen                                                                                                 3\n",
            "Liquid petroleum gas (LPG) (Particle filter) / Super 95 / Super E10 95                                   3\n",
            "Electric (Particle filter)                                                                               3\n",
            "Ethanol                                                                                                  3\n",
            "Liquid petroleum gas (LPG) / Super 95 / Super Plus 98 / Super Plus E10 98 / Super E10 95                 2\n",
            "Liquid petroleum gas (LPG) / Super 95 / Super E10 95 / Super Plus 98                                     2\n",
            "Liquid petroleum gas (LPG) / Super 95                                                                    2\n",
            "Liquid petroleum gas (LPG) (Particle filter)                                                             2\n",
            "Domestic gas L (Particle filter)                                                                         2\n",
            "Liquid petroleum gas (LPG) / Super 95 / Super E10 95                                                     2\n",
            "Domestic gas H / Super E10 95 / Super Plus E10 98 / Super 95 / Super Plus 98 / Domestic gas L            1\n",
            "Domestic gas L / Super 95 / Domestic gas H                                                               1\n",
            "Super 95 / Super Plus 98 / Liquid petroleum gas (LPG)                                                    1\n",
            "Biogas                                                                                                   1\n",
            "Liquid petroleum gas (LPG) / Super 95 / Super Plus 98                                                    1\n",
            "Liquid petroleum gas (LPG) / Super E10 95                                                                1\n",
            "Liquid petroleum gas (LPG) / Super E10 95 / Super Plus E10 98 / Super Plus 98 / Super 95                 1\n",
            "Liquid petroleum gas (LPG) / Super E10 95 / Regular/Benzine 91 / Super 95 / Super Plus 98 / Biogas       1\n",
            "Super 95 (Particle filter) / Super E10 95 / Ethanol                                                      1\n",
            "Super 95 / Liquid petroleum gas (LPG)                                                                    1\n",
            "Name: fuel_type, dtype: int64\n"
          ]
        }
      ],
      "source": [
        "ilk_bakis(df['fuel_type'])"
      ]
    },
    {
      "cell_type": "code",
      "execution_count": null,
      "metadata": {
        "id": "0nJGBtfLT0el",
        "outputId": "63d2055a-b9ba-43a2-9991-b87b6619b94d"
      },
      "outputs": [
        {
          "data": {
            "text/plain": [
              "[Gasoline]                                                                                                    8532\n",
              "[Diesel]                                                                                                      5911\n",
              "[Super 95]                                                                                                    3557\n",
              "[Diesel (Particle filter)]                                                                                    2816\n",
              "[Regular, Benzine 91]                                                                                         2065\n",
              "NaN                                                                                                           1787\n",
              "[Super E10 95]                                                                                                1016\n",
              "[Regular, Benzine 91 (Particle filter)]                                                                        555\n",
              "[Super 95 (Particle filter)]                                                                                   537\n",
              "[Super E10 95 (Particle filter)]                                                                               324\n",
              "[Regular, Benzine E10 91]                                                                                      278\n",
              "[Others]                                                                                                       197\n",
              "[Gasoline (Particle filter)]                                                                                   196\n",
              "[Electric]                                                                                                     185\n",
              "[Super Plus 98]                                                                                                170\n",
              "[Liquid petroleum gas (LPG)]                                                                                   148\n",
              "[CNG]                                                                                                           87\n",
              "[LPG]                                                                                                           73\n",
              "[Super Plus E10 98]                                                                                             42\n",
              "[Super Plus E10 98 (Particle filter)]                                                                           35\n",
              "[Domestic gas H]                                                                                                24\n",
              "[Others (Particle filter)]                                                                                      16\n",
              "[Super Plus 98 (Particle filter)]                                                                               15\n",
              "[Domestic gas L]                                                                                                10\n",
              "[CNG (Particle filter)]                                                                                          8\n",
              "[Regular, Benzine E10 91 (Particle filter)]                                                                      8\n",
              "[LPG (Particle filter)]                                                                                          4\n",
              "[Hydrogen]                                                                                                       3\n",
              "[Ethanol]                                                                                                        3\n",
              "[Electric (Particle filter)]                                                                                     3\n",
              "[Liquid petroleum gas (LPG) (Particle filter) ,  Super 95 ,  Super E10 95]                                       3\n",
              "[Liquid petroleum gas (LPG) ,  Super 95 ,  Super Plus 98 ,  Super Plus E10 98 ,  Super E10 95]                   2\n",
              "[Liquid petroleum gas (LPG) ,  Super 95 ,  Super E10 95]                                                         2\n",
              "[Domestic gas L (Particle filter)]                                                                               2\n",
              "[Liquid petroleum gas (LPG) (Particle filter)]                                                                   2\n",
              "[Liquid petroleum gas (LPG) ,  Super 95]                                                                         2\n",
              "[Liquid petroleum gas (LPG) ,  Super 95 ,  Super E10 95 ,  Super Plus 98]                                        2\n",
              "[Liquid petroleum gas (LPG) ,  Super 95 ,  Super Plus 98]                                                        1\n",
              "[Super 95 (Particle filter) ,  Super E10 95 ,  Ethanol]                                                          1\n",
              "[Liquid petroleum gas (LPG) ,  Super E10 95 ,  Super Plus E10 98 ,  Super Plus 98 ,  Super 95]                   1\n",
              "[Liquid petroleum gas (LPG) ,  Super E10 95]                                                                     1\n",
              "[Biogas]                                                                                                         1\n",
              "[Super 95 ,  Super Plus 98 ,  Liquid petroleum gas (LPG)]                                                        1\n",
              "[Domestic gas L ,  Super 95 ,  Domestic gas H]                                                                   1\n",
              "[Domestic gas H ,  Super E10 95 ,  Super Plus E10 98 ,  Super 95 ,  Super Plus 98 ,  Domestic gas L]             1\n",
              "[Liquid petroleum gas (LPG) ,  Super E10 95 ,  Regular, Benzine 91 ,  Super 95 ,  Super Plus 98 ,  Biogas]       1\n",
              "[Super 95 ,  Liquid petroleum gas (LPG)]                                                                         1\n",
              "Name: fuel_type, dtype: int64"
            ]
          },
          "execution_count": 1793,
          "metadata": {},
          "output_type": "execute_result"
        }
      ],
      "source": [
        "df[\"fuel_type\"].str.split(\"/\").value_counts(dropna=False)"
      ]
    },
    {
      "cell_type": "code",
      "execution_count": null,
      "metadata": {
        "id": "i0lB18PaT0el",
        "outputId": "8b0cdae3-aee0-438b-f51e-44e37dd4043a"
      },
      "outputs": [
        {
          "data": {
            "text/plain": [
              "0                          Diesel\n",
              "1                        Electric\n",
              "2                        Gasoline\n",
              "3                        Gasoline\n",
              "4                          Diesel\n",
              "                   ...           \n",
              "29474                         NaN\n",
              "29475                    Gasoline\n",
              "29476    Diesel (Particle filter)\n",
              "29477                    Gasoline\n",
              "29478                    Super 95\n",
              "Name: fuel_type, Length: 28630, dtype: object"
            ]
          },
          "execution_count": 1794,
          "metadata": {},
          "output_type": "execute_result"
        }
      ],
      "source": [
        "df[\"fuel_type\"] = df[\"fuel_type\"].str.split(\"/\").str[0].str.strip()\n",
        "df[\"fuel_type\"]"
      ]
    },
    {
      "cell_type": "code",
      "execution_count": null,
      "metadata": {
        "id": "5lNoSQFhT0em",
        "outputId": "c36ed5a7-91e8-4e94-ac9c-1bbb3a93c8cb"
      },
      "outputs": [
        {
          "data": {
            "text/plain": [
              "0          Diesel\n",
              "1        Electric\n",
              "2        Gasoline\n",
              "3        Gasoline\n",
              "4          Diesel\n",
              "           ...   \n",
              "29474         NaN\n",
              "29475    Gasoline\n",
              "29476      Diesel\n",
              "29477    Gasoline\n",
              "29478    Super 95\n",
              "Name: fuel_type, Length: 28630, dtype: object"
            ]
          },
          "execution_count": 1795,
          "metadata": {},
          "output_type": "execute_result"
        }
      ],
      "source": [
        "df[\"fuel_type\"] = df[\"fuel_type\"].str.split(\"(\").str[0].str.strip()\n",
        "df[\"fuel_type\"]"
      ]
    },
    {
      "cell_type": "code",
      "execution_count": null,
      "metadata": {
        "id": "F9HkArTOT0em",
        "outputId": "c36a4a71-b3d0-42d0-856a-bc63336bb9be"
      },
      "outputs": [
        {
          "data": {
            "text/plain": [
              "Gasoline                8728\n",
              "Diesel                  8727\n",
              "Super 95                4097\n",
              "Regular                 2906\n",
              "NaN                     1787\n",
              "Super E10 95            1340\n",
              "Others                   213\n",
              "Electric                 188\n",
              "Super Plus 98            185\n",
              "Liquid petroleum gas     165\n",
              "CNG                       95\n",
              "Super Plus E10 98         77\n",
              "LPG                       77\n",
              "Domestic gas H            25\n",
              "Domestic gas L            13\n",
              "Ethanol                    3\n",
              "Hydrogen                   3\n",
              "Biogas                     1\n",
              "Name: fuel_type, dtype: int64"
            ]
          },
          "execution_count": 1796,
          "metadata": {},
          "output_type": "execute_result"
        }
      ],
      "source": [
        "df['fuel_type'].value_counts(dropna=False)"
      ]
    },
    {
      "cell_type": "code",
      "execution_count": null,
      "metadata": {
        "id": "2rY1dsgHT0em"
      },
      "outputs": [],
      "source": [
        "benzine = [\"Gasoline\", \"Super 95\", \"Regular\", \"Super E10 95\", \"Super Plus 98\", \"Super Plus E10 98\", \"Others\", \"Ethanol\"]\n",
        "petroleum_gas = [\"Liquid petroleum gas\", \"CNG\", \"LPG\", \"Domestic gas H\", \"Domestic gas L\", \"Biogas\", \"Hydrogen\"]\n",
        "\n",
        "def fueltype(x):\n",
        "    if x in benzine:\n",
        "        return \"Benzine\"\n",
        "    elif x in petroleum_gas:\n",
        "        return \"Liquid/Natural Gas\"\n",
        "    else:\n",
        "        return x\n",
        "\n",
        "df[\"fuel_type\"] = df[\"fuel_type\"].apply(fueltype)"
      ]
    },
    {
      "cell_type": "code",
      "execution_count": null,
      "metadata": {
        "id": "-Cr3ZsRlT0em",
        "outputId": "7a90b586-3e89-44c0-99d8-51789c2076ce"
      },
      "outputs": [
        {
          "data": {
            "text/plain": [
              "Benzine               17549\n",
              "Diesel                 8727\n",
              "NaN                    1787\n",
              "Liquid/Natural Gas      379\n",
              "Electric                188\n",
              "Name: fuel_type, dtype: int64"
            ]
          },
          "execution_count": 1798,
          "metadata": {},
          "output_type": "execute_result"
        }
      ],
      "source": [
        "df['fuel_type'].value_counts(dropna=False)"
      ]
    },
    {
      "cell_type": "code",
      "execution_count": null,
      "metadata": {
        "id": "4vFK1xo2T0em",
        "outputId": "2ce837f6-80a6-4b22-ac4d-900ab34d1829"
      },
      "outputs": [
        {
          "name": "stdout",
          "output_type": "stream",
          "text": [
            " Sütün Adi :colour\n",
            " Nan deger sayisi : 1724\n",
            " Nan yüzdelik sayisi : % (6, 2)\n",
            " Value_count_degeri : Black     6473\n",
            "Grey      5998\n",
            "White     5185\n",
            "Blue      3478\n",
            "Red       2242\n",
            "Silver    1622\n",
            "Green      450\n",
            "Brown      437\n",
            "Orange     288\n",
            "Beige      278\n",
            "Yellow     230\n",
            "Violet      98\n",
            "Bronze      65\n",
            "Gold        62\n",
            "Name: colour, dtype: int64\n"
          ]
        }
      ],
      "source": [
        "ilk_bakis(df['colour'])"
      ]
    },
    {
      "cell_type": "code",
      "execution_count": null,
      "metadata": {
        "id": "2US4pNHgT0en",
        "outputId": "fb1e50a8-3bcc-45d4-9d22-ed5c995c567a"
      },
      "outputs": [
        {
          "name": "stdout",
          "output_type": "stream",
          "text": [
            " Sütün Adi :manufacturer_colour\n",
            " Nan deger sayisi : 6843\n",
            " Nan yüzdelik sayisi : % (24, 2)\n",
            " Value_count_degeri : Blanco                            1235\n",
            "Gris                               671\n",
            "Azul                               552\n",
            "Negro                              546\n",
            "Rojo                               381\n",
            "                                  ... \n",
            "Colore esterno (snowflake whit       1\n",
            "Pompeigraumetallic                   1\n",
            "Cararragrau                          1\n",
            "ICE WHITE (wit metallic)             1\n",
            "Denim Blue metallic (blauw met       1\n",
            "Name: manufacturer_colour, Length: 4963, dtype: int64\n"
          ]
        }
      ],
      "source": [
        "ilk_bakis(df['manufacturer_colour'])"
      ]
    },
    {
      "cell_type": "code",
      "execution_count": null,
      "metadata": {
        "id": "QWzksp72T0en",
        "outputId": "7d7ca8b5-195e-4544-c429-040835d387c5"
      },
      "outputs": [
        {
          "data": {
            "text/html": [
              "<div>\n",
              "<style scoped>\n",
              "    .dataframe tbody tr th:only-of-type {\n",
              "        vertical-align: middle;\n",
              "    }\n",
              "\n",
              "    .dataframe tbody tr th {\n",
              "        vertical-align: top;\n",
              "    }\n",
              "\n",
              "    .dataframe thead th {\n",
              "        text-align: right;\n",
              "    }\n",
              "</style>\n",
              "<table border=\"1\" class=\"dataframe\">\n",
              "  <thead>\n",
              "    <tr style=\"text-align: right;\">\n",
              "      <th></th>\n",
              "      <th>colour</th>\n",
              "      <th>manufacturer_colour</th>\n",
              "    </tr>\n",
              "  </thead>\n",
              "  <tbody>\n",
              "    <tr>\n",
              "      <th>895</th>\n",
              "      <td>White</td>\n",
              "      <td>Diamant-weiß bright (designo-l</td>\n",
              "    </tr>\n",
              "    <tr>\n",
              "      <th>2545</th>\n",
              "      <td>Blue</td>\n",
              "      <td>Perl blau</td>\n",
              "    </tr>\n",
              "    <tr>\n",
              "      <th>787</th>\n",
              "      <td>Black</td>\n",
              "      <td>Obsidianschwarz - metalliclack</td>\n",
              "    </tr>\n",
              "    <tr>\n",
              "      <th>26072</th>\n",
              "      <td>White</td>\n",
              "      <td>Blanco</td>\n",
              "    </tr>\n",
              "    <tr>\n",
              "      <th>12390</th>\n",
              "      <td>Black</td>\n",
              "      <td>Universo schwarz</td>\n",
              "    </tr>\n",
              "    <tr>\n",
              "      <th>14164</th>\n",
              "      <td>Silver</td>\n",
              "      <td>NaN</td>\n",
              "    </tr>\n",
              "    <tr>\n",
              "      <th>10606</th>\n",
              "      <td>Red</td>\n",
              "      <td>NaN</td>\n",
              "    </tr>\n",
              "    <tr>\n",
              "      <th>27563</th>\n",
              "      <td>Black</td>\n",
              "      <td>Onyx black metallic</td>\n",
              "    </tr>\n",
              "    <tr>\n",
              "      <th>14659</th>\n",
              "      <td>Red</td>\n",
              "      <td>Velvet rot metallic</td>\n",
              "    </tr>\n",
              "    <tr>\n",
              "      <th>16417</th>\n",
              "      <td>Black</td>\n",
              "      <td>NaN</td>\n",
              "    </tr>\n",
              "    <tr>\n",
              "      <th>5044</th>\n",
              "      <td>Grey</td>\n",
              "      <td>Donker grijs metallic</td>\n",
              "    </tr>\n",
              "    <tr>\n",
              "      <th>5025</th>\n",
              "      <td>NaN</td>\n",
              "      <td>BLANC</td>\n",
              "    </tr>\n",
              "    <tr>\n",
              "      <th>295</th>\n",
              "      <td>Grey</td>\n",
              "      <td>GRIS MONTANA MATE</td>\n",
              "    </tr>\n",
              "    <tr>\n",
              "      <th>8786</th>\n",
              "      <td>Black</td>\n",
              "      <td>NaN</td>\n",
              "    </tr>\n",
              "    <tr>\n",
              "      <th>8910</th>\n",
              "      <td>White</td>\n",
              "      <td>NaN</td>\n",
              "    </tr>\n",
              "    <tr>\n",
              "      <th>22494</th>\n",
              "      <td>Green</td>\n",
              "      <td>Ivy Green</td>\n",
              "    </tr>\n",
              "    <tr>\n",
              "      <th>5410</th>\n",
              "      <td>Silver</td>\n",
              "      <td>NaN</td>\n",
              "    </tr>\n",
              "    <tr>\n",
              "      <th>5078</th>\n",
              "      <td>White</td>\n",
              "      <td>Sabbia</td>\n",
              "    </tr>\n",
              "    <tr>\n",
              "      <th>27295</th>\n",
              "      <td>Green</td>\n",
              "      <td>NaN</td>\n",
              "    </tr>\n",
              "    <tr>\n",
              "      <th>21631</th>\n",
              "      <td>Blue</td>\n",
              "      <td>Blazer blue</td>\n",
              "    </tr>\n",
              "  </tbody>\n",
              "</table>\n",
              "</div>"
            ],
            "text/plain": [
              "       colour             manufacturer_colour\n",
              "895     White  Diamant-weiß bright (designo-l\n",
              "2545     Blue                       Perl blau\n",
              "787     Black  Obsidianschwarz - metalliclack\n",
              "26072   White                          Blanco\n",
              "12390   Black                Universo schwarz\n",
              "14164  Silver                             NaN\n",
              "10606     Red                             NaN\n",
              "27563   Black             Onyx black metallic\n",
              "14659     Red             Velvet rot metallic\n",
              "16417   Black                             NaN\n",
              "5044     Grey           Donker grijs metallic\n",
              "5025      NaN                           BLANC\n",
              "295      Grey               GRIS MONTANA MATE\n",
              "8786    Black                             NaN\n",
              "8910    White                             NaN\n",
              "22494   Green                       Ivy Green\n",
              "5410   Silver                             NaN\n",
              "5078    White                          Sabbia\n",
              "27295   Green                             NaN\n",
              "21631    Blue                     Blazer blue"
            ]
          },
          "execution_count": 1801,
          "metadata": {},
          "output_type": "execute_result"
        }
      ],
      "source": [
        "df[['colour', 'manufacturer_colour']].sample(20)"
      ]
    },
    {
      "cell_type": "code",
      "execution_count": null,
      "metadata": {
        "id": "y4YHIMrVT0en",
        "outputId": "e38e0576-b86e-4ca8-fcf4-42085f4c0a16"
      },
      "outputs": [
        {
          "data": {
            "text/html": [
              "<div>\n",
              "<style scoped>\n",
              "    .dataframe tbody tr th:only-of-type {\n",
              "        vertical-align: middle;\n",
              "    }\n",
              "\n",
              "    .dataframe tbody tr th {\n",
              "        vertical-align: top;\n",
              "    }\n",
              "\n",
              "    .dataframe thead th {\n",
              "        text-align: right;\n",
              "    }\n",
              "</style>\n",
              "<table border=\"1\" class=\"dataframe\">\n",
              "  <thead>\n",
              "    <tr style=\"text-align: right;\">\n",
              "      <th></th>\n",
              "      <th>colour</th>\n",
              "      <th>manufacturer_colour</th>\n",
              "    </tr>\n",
              "  </thead>\n",
              "  <tbody>\n",
              "    <tr>\n",
              "      <th>1</th>\n",
              "      <td>NaN</td>\n",
              "      <td>Negro Obsidiana</td>\n",
              "    </tr>\n",
              "    <tr>\n",
              "      <th>24</th>\n",
              "      <td>NaN</td>\n",
              "      <td>GRIS GRAFITO</td>\n",
              "    </tr>\n",
              "    <tr>\n",
              "      <th>37</th>\n",
              "      <td>NaN</td>\n",
              "      <td>Plata Iridio</td>\n",
              "    </tr>\n",
              "    <tr>\n",
              "      <th>145</th>\n",
              "      <td>NaN</td>\n",
              "      <td>Gris Montagne</td>\n",
              "    </tr>\n",
              "    <tr>\n",
              "      <th>169</th>\n",
              "      <td>NaN</td>\n",
              "      <td>Bleu denim métallisé</td>\n",
              "    </tr>\n",
              "    <tr>\n",
              "      <th>...</th>\n",
              "      <td>...</td>\n",
              "      <td>...</td>\n",
              "    </tr>\n",
              "    <tr>\n",
              "      <th>29434</th>\n",
              "      <td>NaN</td>\n",
              "      <td>Blanc Cristal</td>\n",
              "    </tr>\n",
              "    <tr>\n",
              "      <th>29439</th>\n",
              "      <td>NaN</td>\n",
              "      <td>Gris Osmium</td>\n",
              "    </tr>\n",
              "    <tr>\n",
              "      <th>29440</th>\n",
              "      <td>NaN</td>\n",
              "      <td>Noir Onyx Métallisé</td>\n",
              "    </tr>\n",
              "    <tr>\n",
              "      <th>29441</th>\n",
              "      <td>NaN</td>\n",
              "      <td>Gris Osmium</td>\n",
              "    </tr>\n",
              "    <tr>\n",
              "      <th>29446</th>\n",
              "      <td>NaN</td>\n",
              "      <td>DENIM BLUE</td>\n",
              "    </tr>\n",
              "  </tbody>\n",
              "</table>\n",
              "<p>1481 rows × 2 columns</p>\n",
              "</div>"
            ],
            "text/plain": [
              "      colour   manufacturer_colour\n",
              "1        NaN       Negro Obsidiana\n",
              "24       NaN          GRIS GRAFITO\n",
              "37       NaN          Plata Iridio\n",
              "145      NaN         Gris Montagne\n",
              "169      NaN  Bleu denim métallisé\n",
              "...      ...                   ...\n",
              "29434    NaN         Blanc Cristal\n",
              "29439    NaN           Gris Osmium\n",
              "29440    NaN   Noir Onyx Métallisé\n",
              "29441    NaN           Gris Osmium\n",
              "29446    NaN            DENIM BLUE\n",
              "\n",
              "[1481 rows x 2 columns]"
            ]
          },
          "execution_count": 1802,
          "metadata": {},
          "output_type": "execute_result"
        }
      ],
      "source": [
        "df[(df[\"colour\"].isnull()) & (df[\"manufacturer_colour\"].notnull())][[\"colour\", \"manufacturer_colour\"]]"
      ]
    },
    {
      "cell_type": "code",
      "execution_count": null,
      "metadata": {
        "id": "yET6QbvzT0en"
      },
      "outputs": [],
      "source": [
        "df.drop([\"colour\", \"manufacturer_colour\"], axis=1, inplace=True)"
      ]
    },
    {
      "cell_type": "code",
      "execution_count": null,
      "metadata": {
        "id": "WUA9rBO2T0en",
        "outputId": "41b48137-f318-4e17-f007-7cdcc49df7ef"
      },
      "outputs": [
        {
          "name": "stdout",
          "output_type": "stream",
          "text": [
            " Sütün Adi :paint\n",
            " Nan deger sayisi : 14135\n",
            " Nan yüzdelik sayisi : % (49, 2)\n",
            " Value_count_degeri : Metallic     14494\n",
            "Uni/basic        1\n",
            "Name: paint, dtype: int64\n"
          ]
        }
      ],
      "source": [
        "ilk_bakis(df['paint'])"
      ]
    },
    {
      "cell_type": "code",
      "execution_count": null,
      "metadata": {
        "id": "wPzD6AqZT0en",
        "outputId": "a44b7ba2-b09e-4da4-e919-43bcf541ad13"
      },
      "outputs": [
        {
          "data": {
            "text/plain": [
              "0         Metallic\n",
              "1        Uni/basic\n",
              "2        Uni/basic\n",
              "3        Uni/basic\n",
              "4         Metallic\n",
              "           ...    \n",
              "29474    Uni/basic\n",
              "29475    Uni/basic\n",
              "29476     Metallic\n",
              "29477     Metallic\n",
              "29478    Uni/basic\n",
              "Name: paint, Length: 28630, dtype: object"
            ]
          },
          "execution_count": 1805,
          "metadata": {},
          "output_type": "execute_result"
        }
      ],
      "source": [
        "\n",
        "df['paint'] = df['paint'].replace(np.nan, \"Uni/basic\", regex=True)\n",
        "df['paint']"
      ]
    },
    {
      "cell_type": "code",
      "execution_count": null,
      "metadata": {
        "id": "0e8802aGT0eo",
        "outputId": "3a8dfe59-5265-4ee1-e7f6-6cc2877885ea"
      },
      "outputs": [
        {
          "data": {
            "text/plain": [
              "Metallic     14494\n",
              "Uni/basic    14136\n",
              "Name: paint, dtype: int64"
            ]
          },
          "execution_count": 1806,
          "metadata": {},
          "output_type": "execute_result"
        }
      ],
      "source": [
        "df['paint'].value_counts(dropna=False)"
      ]
    },
    {
      "cell_type": "code",
      "execution_count": null,
      "metadata": {
        "id": "6rc5AI7GT0eo",
        "outputId": "aa549d00-cbc0-4705-817e-1482c7cde72d"
      },
      "outputs": [
        {
          "name": "stdout",
          "output_type": "stream",
          "text": [
            " Sütün Adi :seller\n",
            " Nan deger sayisi : 0\n",
            " Nan yüzdelik sayisi : % (0, 2)\n",
            " Value_count_degeri : Dealer            26318\n",
            "Private seller     2312\n",
            "Name: seller, dtype: int64\n"
          ]
        }
      ],
      "source": [
        "ilk_bakis(df['seller'])"
      ]
    },
    {
      "cell_type": "code",
      "execution_count": null,
      "metadata": {
        "id": "duKsgZT9T0eo",
        "outputId": "e143b30f-9b06-452a-b728-61951efe8936"
      },
      "outputs": [
        {
          "data": {
            "text/plain": [
              "0                NaN\n",
              "1        [\\n, 5, \\n]\n",
              "2        [\\n, 5, \\n]\n",
              "3        [\\n, 5, \\n]\n",
              "4        [\\n, 5, \\n]\n",
              "            ...     \n",
              "29474    [\\n, 4, \\n]\n",
              "29475    [\\n, 5, \\n]\n",
              "29476    [\\n, 4, \\n]\n",
              "29477    [\\n, 5, \\n]\n",
              "29478    [\\n, 5, \\n]\n",
              "Name: seats, Length: 28630, dtype: object"
            ]
          },
          "execution_count": 1404,
          "metadata": {},
          "output_type": "execute_result"
        }
      ],
      "source": [
        "df.seats"
      ]
    },
    {
      "cell_type": "code",
      "execution_count": null,
      "metadata": {
        "id": "l_-dNy5mT0eo",
        "outputId": "a8daa644-5a2b-4d76-c148-792bac7ee6c6"
      },
      "outputs": [
        {
          "name": "stdout",
          "output_type": "stream",
          "text": [
            " Sütün Adi :seats\n",
            " Nan deger sayisi : 3125\n",
            " Nan yüzdelik sayisi : % (11, 2)\n",
            " Value_count_degeri : [\\n, 5, \\n]     18308\n",
            "[\\n, 4, \\n]      5390\n",
            "[\\n, 2, \\n]      1186\n",
            "[\\n, 7, \\n]       488\n",
            "[\\n, 8, \\n]        43\n",
            "[\\n, 9, \\n]        35\n",
            "[\\n, 3, \\n]        25\n",
            "[\\n, 6, \\n]        12\n",
            "[\\n, 0, \\n]         9\n",
            "[\\n, 1, \\n]         7\n",
            "[\\n, 17, \\n]        2\n",
            "Name: seats, dtype: int64\n"
          ]
        }
      ],
      "source": [
        "ilk_bakis(df['seats'])"
      ]
    },
    {
      "cell_type": "code",
      "execution_count": null,
      "metadata": {
        "id": "vatsMokfT0eq",
        "outputId": "f641e607-0c2c-437b-a134-a0c606b1bd4a"
      },
      "outputs": [
        {
          "data": {
            "text/plain": [
              "0        NaN\n",
              "1        5.0\n",
              "2        5.0\n",
              "3        5.0\n",
              "4        5.0\n",
              "        ... \n",
              "29474    4.0\n",
              "29475    5.0\n",
              "29476    4.0\n",
              "29477    5.0\n",
              "29478    5.0\n",
              "Name: seats, Length: 28630, dtype: float64"
            ]
          },
          "execution_count": 1809,
          "metadata": {},
          "output_type": "execute_result"
        }
      ],
      "source": [
        "df[\"seats\"] = df.seats.apply(lambda x : x[0] if type(x)==list else x)\n",
        "\n",
        "df[\"seats\"] = df.seats.str.extract('(\\d{1,4})').astype(\"float\") # str.extract('(\\d+)')\n",
        "df[\"seats\"]"
      ]
    },
    {
      "cell_type": "code",
      "execution_count": null,
      "metadata": {
        "id": "9lAlH5FxT0er",
        "outputId": "a497baa3-63f7-4f00-eb70-20806f24042c"
      },
      "outputs": [
        {
          "data": {
            "text/plain": [
              "5.0     18308\n",
              "4.0      5390\n",
              "NaN      3125\n",
              "2.0      1186\n",
              "7.0       488\n",
              "8.0        43\n",
              "9.0        35\n",
              "3.0        25\n",
              "6.0        12\n",
              "0.0         9\n",
              "1.0         7\n",
              "17.0        2\n",
              "Name: seats, dtype: int64"
            ]
          },
          "execution_count": 1810,
          "metadata": {},
          "output_type": "execute_result"
        }
      ],
      "source": [
        "df['seats'].value_counts(dropna=False)"
      ]
    },
    {
      "cell_type": "code",
      "execution_count": null,
      "metadata": {
        "id": "LHI2autST0er",
        "outputId": "f5f24ee8-0184-4efa-d5cb-c004b4726a75"
      },
      "outputs": [
        {
          "name": "stdout",
          "output_type": "stream",
          "text": [
            " Sütün Adi :engine_size\n",
            " Nan deger sayisi : 1403\n",
            " Nan yüzdelik sayisi : % (5, 2)\n",
            " Value_count_degeri : [\\n1,598 cc\\n]    2099\n",
            "[\\n999 cc\\n]      2068\n",
            "[\\n1,969 cc\\n]    1929\n",
            "[\\n1,461 cc\\n]    1110\n",
            "[\\n1,998 cc\\n]    1000\n",
            "                  ... \n",
            "[\\n2,753 cc\\n]       1\n",
            "[\\n2,495 cc\\n]       1\n",
            "[\\n200 cc\\n]         1\n",
            "[\\n3,224 cc\\n]       1\n",
            "[\\n2,473 cc\\n]       1\n",
            "Name: engine_size, Length: 467, dtype: int64\n"
          ]
        }
      ],
      "source": [
        "ilk_bakis(df['engine_size'])"
      ]
    },
    {
      "cell_type": "code",
      "execution_count": null,
      "metadata": {
        "id": "NsJttUniT0er"
      },
      "outputs": [],
      "source": [
        "df['engine_size'] = df['engine_size'].fillna('0')\n",
        "df['engine_size'] = df['engine_size'].apply(lambda x: str(x).rstrip(\", cc\\\\n']\").lstrip(\"['\\\\n, \").replace(',', '') if x != '0' else x)\n",
        "df['engine_size'] = df['engine_size'].astype(int)"
      ]
    },
    {
      "cell_type": "code",
      "execution_count": null,
      "metadata": {
        "id": "UpgSZ4AzT0er"
      },
      "outputs": [],
      "source": []
    },
    {
      "cell_type": "code",
      "execution_count": null,
      "metadata": {
        "id": "ALy9imZgT0er",
        "outputId": "bb538d76-f61c-494c-ffbf-e67f962732bc"
      },
      "outputs": [
        {
          "data": {
            "text/plain": [
              "1598    2099\n",
              "999     2068\n",
              "1969    1929\n",
              "0       1520\n",
              "1461    1110\n",
              "        ... \n",
              "2753       1\n",
              "2495       1\n",
              "200        1\n",
              "3224       1\n",
              "2473       1\n",
              "Name: engine_size, Length: 467, dtype: int64"
            ]
          },
          "execution_count": 1813,
          "metadata": {},
          "output_type": "execute_result"
        }
      ],
      "source": [
        "df['engine_size'].value_counts(dropna=False)"
      ]
    },
    {
      "cell_type": "code",
      "execution_count": null,
      "metadata": {
        "id": "fZSfSpKkT0er"
      },
      "outputs": [],
      "source": []
    },
    {
      "cell_type": "code",
      "execution_count": null,
      "metadata": {
        "id": "TnPFzd-AT0er",
        "outputId": "dbc8bf02-dcdc-4c3c-ca68-e076ff09a32a"
      },
      "outputs": [
        {
          "name": "stdout",
          "output_type": "stream",
          "text": [
            " Sütün Adi :gears\n",
            " Nan deger sayisi : 9676\n",
            " Nan yüzdelik sayisi : % (34, 2)\n",
            " Value_count_degeri : [\\n6\\n]     8412\n",
            "[\\n5\\n]     5335\n",
            "[\\n7\\n]     1738\n",
            "[\\n8\\n]     1690\n",
            "[\\n1\\n]      712\n",
            "[\\n9\\n]      642\n",
            "[\\n4\\n]      256\n",
            "[\\n10\\n]     112\n",
            "[\\n0\\n]       31\n",
            "[\\n3\\n]       24\n",
            "[\\n2\\n]        2\n",
            "Name: gears, dtype: int64\n"
          ]
        }
      ],
      "source": [
        "ilk_bakis(df['gears'])"
      ]
    },
    {
      "cell_type": "code",
      "execution_count": null,
      "metadata": {
        "id": "w0yTI8FBT0er",
        "outputId": "9cb15658-3742-4651-c6c9-328b3634218b"
      },
      "outputs": [
        {
          "data": {
            "text/plain": [
              "0        NaN\n",
              "1        9.0\n",
              "2        8.0\n",
              "3        7.0\n",
              "4        7.0\n",
              "        ... \n",
              "29474    8.0\n",
              "29475    5.0\n",
              "29476    6.0\n",
              "29477    8.0\n",
              "29478    NaN\n",
              "Name: gears, Length: 28630, dtype: float64"
            ]
          },
          "execution_count": 1815,
          "metadata": {},
          "output_type": "execute_result"
        }
      ],
      "source": [
        "df['gears'] = df['gears'].astype(str).str.extract('(\\d+)').astype(\"float\")\n",
        "df['gears']"
      ]
    },
    {
      "cell_type": "code",
      "execution_count": null,
      "metadata": {
        "id": "IF9RhSabT0es",
        "outputId": "bcea1bf8-78e3-41a2-f5c6-f6321df01fc4"
      },
      "outputs": [
        {
          "data": {
            "text/plain": [
              "NaN     9676\n",
              "6.0     8412\n",
              "5.0     5335\n",
              "7.0     1738\n",
              "8.0     1690\n",
              "1.0      712\n",
              "9.0      642\n",
              "4.0      256\n",
              "10.0     112\n",
              "0.0       31\n",
              "3.0       24\n",
              "2.0        2\n",
              "Name: gears, dtype: int64"
            ]
          },
          "execution_count": 1816,
          "metadata": {},
          "output_type": "execute_result"
        }
      ],
      "source": [
        "df[\"gears\"].value_counts(dropna=False)"
      ]
    },
    {
      "cell_type": "code",
      "execution_count": null,
      "metadata": {
        "id": "wlW5bUZDT0es",
        "outputId": "360bfa40-7236-44a0-f857-f59c6dba0c0e"
      },
      "outputs": [
        {
          "name": "stdout",
          "output_type": "stream",
          "text": [
            "<class 'pandas.core.frame.DataFrame'>\n",
            "Int64Index: 28630 entries, 0 to 29478\n",
            "Data columns (total 39 columns):\n",
            " #   Column                   Non-Null Count  Dtype  \n",
            "---  ------                   --------------  -----  \n",
            " 0   make_model               28630 non-null  object \n",
            " 1   make                     28630 non-null  object \n",
            " 2   location                 28630 non-null  object \n",
            " 3   price                    28630 non-null  float64\n",
            " 4   body_type                28630 non-null  object \n",
            " 5   type                     28630 non-null  object \n",
            " 6   doors                    28271 non-null  float64\n",
            " 7   warranty                 13465 non-null  float64\n",
            " 8   mileage                  28629 non-null  float64\n",
            " 9   gearbox                  0 non-null      float64\n",
            " 10  fuel_type                26843 non-null  object \n",
            " 11  paint                    28630 non-null  object \n",
            " 12  seller                   28630 non-null  object \n",
            " 13  seats                    25505 non-null  float64\n",
            " 14  engine_size              27227 non-null  float64\n",
            " 15  gears                    18954 non-null  float64\n",
            " 16  co2_emissions            18594 non-null  object \n",
            " 17  drivetrain               16893 non-null  object \n",
            " 18  cylinders                18852 non-null  object \n",
            " 19  fuel_consumption         23385 non-null  object \n",
            " 20  comfort_convenience      25433 non-null  object \n",
            " 21  entertainment_media      23644 non-null  object \n",
            " 22  safety_security          25415 non-null  object \n",
            " 23  extras                   23480 non-null  object \n",
            " 24  empty_weight             17758 non-null  object \n",
            " 25  model_code               8367 non-null   object \n",
            " 26  general_inspection       12254 non-null  object \n",
            " 27  full_service_history     12565 non-null  object \n",
            " 28  non_smoker_vehicle       11594 non-null  object \n",
            " 29  emission_class           17859 non-null  object \n",
            " 30  emissions_sticker        9414 non-null   object \n",
            " 31  upholstery_colour        14569 non-null  object \n",
            " 32  upholstery               18610 non-null  object \n",
            " 33  previous_owner           14015 non-null  object \n",
            " 34  energy_efficiency_class  7804 non-null   object \n",
            " 35  co2_efficiency           7804 non-null   object \n",
            " 36  age                      28628 non-null  float64\n",
            " 37  power_kW                 28058 non-null  float64\n",
            " 38  power_hp                 28058 non-null  float64\n",
            "dtypes: float64(11), object(28)\n",
            "memory usage: 8.7+ MB\n"
          ]
        }
      ],
      "source": [
        "df.info()"
      ]
    },
    {
      "cell_type": "code",
      "execution_count": null,
      "metadata": {
        "id": "diUJOs0BT0es",
        "outputId": "3b64b7cc-bacd-431c-c24a-a0e9260769d3"
      },
      "outputs": [
        {
          "name": "stdout",
          "output_type": "stream",
          "text": [
            " Sütün Adi :co2_emissions\n",
            " Nan deger sayisi : 10036\n",
            " Nan yüzdelik sayisi : % (35, 2)\n",
            " Value_count_degeri : 0 g/km (comb.)       1038\n",
            "119 g/km (comb.)      393\n",
            "124 g/km (comb.)      340\n",
            "129 g/km (comb.)      319\n",
            "114 g/km (comb.)      313\n",
            "                     ... \n",
            "7 g/km (comb.)          1\n",
            "80 g/km (comb.)         1\n",
            "196  g/km (comb.)       1\n",
            "100  g/km (comb.)       1\n",
            "53 g/km (comb.)         1\n",
            "Name: co2_emissions, Length: 347, dtype: int64\n"
          ]
        }
      ],
      "source": [
        "ilk_bakis(df['co2_emissions'])"
      ]
    },
    {
      "cell_type": "code",
      "execution_count": null,
      "metadata": {
        "id": "tx80QDipT0es",
        "outputId": "e7d4a7db-da4e-4444-faa4-d9525d53acba"
      },
      "outputs": [
        {
          "data": {
            "text/plain": [
              "0          NaN\n",
              "1          0.0\n",
              "2          NaN\n",
              "3          NaN\n",
              "4          NaN\n",
              "         ...  \n",
              "29474      NaN\n",
              "29475    217.0\n",
              "29476     99.0\n",
              "29477    149.0\n",
              "29478    251.0\n",
              "Name: co2_emissions, Length: 28630, dtype: float64"
            ]
          },
          "execution_count": 1818,
          "metadata": {},
          "output_type": "execute_result"
        }
      ],
      "source": [
        "df[\"co2_emissions\"] = df[\"co2_emissions\"].astype(str).str.extract('(\\d+)').astype(\"float\")\n",
        "df[\"co2_emissions\"]"
      ]
    },
    {
      "cell_type": "code",
      "execution_count": null,
      "metadata": {
        "id": "IQugjOzCT0es",
        "outputId": "d7ac5b08-a1a9-4501-92e8-1c57ec10300e"
      },
      "outputs": [
        {
          "data": {
            "text/plain": [
              "NaN      10036\n",
              "0.0       1040\n",
              "119.0      393\n",
              "124.0      340\n",
              "129.0      319\n",
              "         ...  \n",
              "332.0        1\n",
              "70.0         1\n",
              "338.0        1\n",
              "342.0        1\n",
              "53.0         1\n",
              "Name: co2_emissions, Length: 327, dtype: int64"
            ]
          },
          "execution_count": 1819,
          "metadata": {},
          "output_type": "execute_result"
        }
      ],
      "source": [
        "df[\"co2_emissions\"].value_counts(dropna=False)"
      ]
    },
    {
      "cell_type": "code",
      "execution_count": null,
      "metadata": {
        "id": "8BhJSW_sT0es",
        "outputId": "c1ccc46a-c927-4208-f7e4-9bdf93ab0fb5"
      },
      "outputs": [
        {
          "name": "stdout",
          "output_type": "stream",
          "text": [
            " Sütün Adi :drivetrain\n",
            " Nan deger sayisi : 11737\n",
            " Nan yüzdelik sayisi : % (41, 2)\n",
            " Value_count_degeri : [\\n, Front, \\n]    12066\n",
            "[\\n, 4WD, \\n]       3252\n",
            "[\\n, Rear, \\n]      1575\n",
            "Name: drivetrain, dtype: int64\n"
          ]
        }
      ],
      "source": [
        "ilk_bakis(df['drivetrain'])"
      ]
    },
    {
      "cell_type": "code",
      "execution_count": null,
      "metadata": {
        "id": "1Ik4ZUD3T0et",
        "outputId": "d3cc42da-27cc-4c13-d156-375be229bceb"
      },
      "outputs": [
        {
          "data": {
            "text/plain": [
              "[\\n, Front, \\n]    12066\n",
              "NaN                11737\n",
              "[\\n, 4WD, \\n]       3252\n",
              "[\\n, Rear, \\n]      1575\n",
              "Name: drivetrain, dtype: int64"
            ]
          },
          "execution_count": 1821,
          "metadata": {},
          "output_type": "execute_result"
        }
      ],
      "source": [
        "df[\"drivetrain\"].value_counts(dropna=False)"
      ]
    },
    {
      "cell_type": "code",
      "execution_count": null,
      "metadata": {
        "id": "rdPDxr8tT0et",
        "outputId": "bfe45557-849d-453e-ed94-e65e3bb37c22"
      },
      "outputs": [
        {
          "name": "stdout",
          "output_type": "stream",
          "text": [
            " Sütün Adi :cylinders\n",
            " Nan deger sayisi : 9778\n",
            " Nan yüzdelik sayisi : % (34, 2)\n",
            " Value_count_degeri : [\\n4\\n]     13068\n",
            "[\\n3\\n]      3258\n",
            "[\\n6\\n]      1013\n",
            "[\\n5\\n]       799\n",
            "[\\n8\\n]       539\n",
            "[\\n2\\n]       103\n",
            "[\\n0\\n]        35\n",
            "[\\n1\\n]        21\n",
            "[\\n12\\n]        8\n",
            "[\\n7\\n]         6\n",
            "[\\n26\\n]        1\n",
            "[\\n16\\n]        1\n",
            "Name: cylinders, dtype: int64\n"
          ]
        }
      ],
      "source": [
        "ilk_bakis(df.cylinders)"
      ]
    },
    {
      "cell_type": "code",
      "execution_count": null,
      "metadata": {
        "id": "T5UmRf00T0et",
        "outputId": "345a425c-4171-4fc7-ae49-ea98bdbd72b7"
      },
      "outputs": [
        {
          "data": {
            "text/plain": [
              "0        NaN\n",
              "1        NaN\n",
              "2        4.0\n",
              "3        4.0\n",
              "4        4.0\n",
              "        ... \n",
              "29474    4.0\n",
              "29475    5.0\n",
              "29476    4.0\n",
              "29477    4.0\n",
              "29478    6.0\n",
              "Name: cylinders, Length: 28630, dtype: float64"
            ]
          },
          "execution_count": 1823,
          "metadata": {},
          "output_type": "execute_result"
        }
      ],
      "source": [
        "df[\"cylinders\"] = df[\"cylinders\"].astype(str).str.extract('(\\d+)').astype(\"float\")\n",
        "df[\"cylinders\"]"
      ]
    },
    {
      "cell_type": "code",
      "execution_count": null,
      "metadata": {
        "id": "GZKwIgN9T0et",
        "outputId": "4ccbf345-0612-4fba-999a-97f46849e6fb"
      },
      "outputs": [
        {
          "data": {
            "text/plain": [
              "4.0     13068\n",
              "NaN      9778\n",
              "3.0      3258\n",
              "6.0      1013\n",
              "5.0       799\n",
              "8.0       539\n",
              "2.0       103\n",
              "0.0        35\n",
              "1.0        21\n",
              "12.0        8\n",
              "7.0         6\n",
              "26.0        1\n",
              "16.0        1\n",
              "Name: cylinders, dtype: int64"
            ]
          },
          "execution_count": 1824,
          "metadata": {},
          "output_type": "execute_result"
        }
      ],
      "source": [
        "df[\"cylinders\"].value_counts(dropna=False)"
      ]
    },
    {
      "cell_type": "code",
      "execution_count": null,
      "metadata": {
        "id": "05UO4bdCT0et",
        "outputId": "1a5ce478-27a2-48eb-f8a9-bc3f17c5d462"
      },
      "outputs": [
        {
          "name": "stdout",
          "output_type": "stream",
          "text": [
            " Sütün Adi :fuel_consumption\n",
            " Nan deger sayisi : 5245\n",
            " Nan yüzdelik sayisi : % (18, 2)\n",
            " Value_count_degeri : [[0 l/100 km (comb.)]]                                                         330\n",
            "[[0 l/100 km (comb.)], [0 l/100 km (city)], [0 l/100 km (country)]]            306\n",
            "[[3.4 l/100 km (comb.)], [3.7 l/100 km (city)], [3.2 l/100 km (country)]]      170\n",
            "[[4 l/100 km (comb.)]]                                                         149\n",
            "[[3.9 l/100 km (comb.)]]                                                       133\n",
            "                                                                              ... \n",
            "[[5.2 l/100 km (comb.)], [5.6 l/100 km (city)], [5 l/100 km (country)]]          1\n",
            "[[5 l/100 km (comb.)], [4.4 l/100 km (city)], [3.6 l/100 km (country)]]          1\n",
            "[[5.5 l/100 km (comb.)], [4.8 l/100 km (city)], [3.9 l/100 km (country)]]        1\n",
            "[[4.8 l/100 km (comb.)], [5.5 l/100 km (city)], [4.3 l/100 km (country)]]        1\n",
            "[[10.4 l/100 km (comb.)], [15.3 l/100 km (city)], [7.6 l/100 km (country)]]      1\n",
            "Name: fuel_consumption, Length: 3452, dtype: int64\n"
          ]
        }
      ],
      "source": [
        "ilk_bakis(df.fuel_consumption)"
      ]
    },
    {
      "cell_type": "code",
      "execution_count": null,
      "metadata": {
        "id": "C0yKOa0nT0et",
        "outputId": "4cb6e42c-fcc0-4d97-bccb-529bd959b3d4"
      },
      "outputs": [
        {
          "data": {
            "text/plain": [
              "[['8.4 l/100 km (comb.)'],\n",
              " ['10.9 l/100 km (city)'],\n",
              " ['5.8 l/100 km (country)']]"
            ]
          },
          "execution_count": 1826,
          "metadata": {},
          "output_type": "execute_result"
        }
      ],
      "source": [
        "df[\"fuel_consumption\"].iloc[2]"
      ]
    },
    {
      "cell_type": "code",
      "execution_count": null,
      "metadata": {
        "id": "Yb35loS-T0eu",
        "outputId": "e01f90af-5bb8-4c84-edb5-97db778c84bc"
      },
      "outputs": [
        {
          "data": {
            "text/plain": [
              "['8.4 l/100 km (comb.)']"
            ]
          },
          "execution_count": 1827,
          "metadata": {},
          "output_type": "execute_result"
        }
      ],
      "source": [
        "df[\"fuel_consumption\"][2][0]"
      ]
    },
    {
      "cell_type": "code",
      "execution_count": null,
      "metadata": {
        "id": "5YXFW0AcT0eu",
        "outputId": "8c05f583-6d14-482e-a7f8-ebab75ebaac0"
      },
      "outputs": [
        {
          "data": {
            "text/plain": [
              "['10.9 l/100 km (city)']"
            ]
          },
          "execution_count": 1828,
          "metadata": {},
          "output_type": "execute_result"
        }
      ],
      "source": [
        "df[\"fuel_consumption\"][2][1]"
      ]
    },
    {
      "cell_type": "code",
      "execution_count": null,
      "metadata": {
        "id": "IZsPJE5VT0eu",
        "outputId": "5af5d2ee-709b-456d-bf4d-1e083773fc91"
      },
      "outputs": [
        {
          "data": {
            "text/plain": [
              "['5.8 l/100 km (country)']"
            ]
          },
          "execution_count": 1829,
          "metadata": {},
          "output_type": "execute_result"
        }
      ],
      "source": [
        "df[\"fuel_consumption\"][2][2]"
      ]
    },
    {
      "cell_type": "code",
      "execution_count": null,
      "metadata": {
        "id": "k5qKeN9lT0eu"
      },
      "outputs": [],
      "source": [
        "def cons_avg(x):\n",
        "\n",
        "    if type(x)==list:\n",
        "        if x[0] != []: return x[0][0]\n",
        "        else: return None\n",
        "\n",
        "    else:\n",
        "        return None"
      ]
    },
    {
      "cell_type": "code",
      "execution_count": null,
      "metadata": {
        "id": "pMi7_pB_T0eu"
      },
      "outputs": [],
      "source": [
        "def cons_city(x):\n",
        "\n",
        "    if type(x)==list and len(x)==3:\n",
        "        if x[1] != []: return x[1][0]\n",
        "        else: return None\n",
        "\n",
        "    else:\n",
        "        return None"
      ]
    },
    {
      "cell_type": "code",
      "execution_count": null,
      "metadata": {
        "id": "MCKYbkzRT0eu"
      },
      "outputs": [],
      "source": [
        "def cons_country(x):\n",
        "\n",
        "    if type(x)==list and len(x)==3:\n",
        "        if x[2] != []: return x[2][0]\n",
        "        else: return None\n",
        "\n",
        "    else:\n",
        "        return None"
      ]
    },
    {
      "cell_type": "code",
      "execution_count": null,
      "metadata": {
        "id": "hXhv5TWbT0eu",
        "outputId": "e4bebd7f-fef0-43af-e8c2-5c3c29f98d99"
      },
      "outputs": [
        {
          "data": {
            "text/plain": [
              "0         NaN\n",
              "1         NaN\n",
              "2         8.4\n",
              "3         7.3\n",
              "4         4.9\n",
              "         ... \n",
              "29474     2.0\n",
              "29475     9.1\n",
              "29476     3.8\n",
              "29477     6.5\n",
              "29478    10.4\n",
              "Name: cons_avg, Length: 28630, dtype: float64"
            ]
          },
          "execution_count": 1833,
          "metadata": {},
          "output_type": "execute_result"
        }
      ],
      "source": [
        "df['cons_avg'] = df[\"fuel_consumption\"].apply(cons_avg).str.extract('(\\d{1,2}.\\d|\\d{1,3})').astype(\"float\")\n",
        "df['cons_avg']"
      ]
    },
    {
      "cell_type": "code",
      "execution_count": null,
      "metadata": {
        "id": "V4_cH2QlT0eu"
      },
      "outputs": [],
      "source": [
        "df['cons_country'] = df['fuel_consumption'].apply(lambda x: str(x).split('/')[0].strip()).str.extract(r'(\\d{1,2}.\\d|\\d{1,3})').astype(float)\n"
      ]
    },
    {
      "cell_type": "code",
      "execution_count": null,
      "metadata": {
        "id": "Pxwm0Ka0T0ev"
      },
      "outputs": [],
      "source": [
        "#df['cons_country'] = df[\"fuel_consumption\"].apply(cons_country).str.extract('(\\d{1,2}.\\d|\\d{1,3})').astype(\"float\")\n",
        "#df['cons_country']                                            # str.extract('(\\S+)')"
      ]
    },
    {
      "cell_type": "code",
      "execution_count": null,
      "metadata": {
        "id": "y3-Vc24BT0ev",
        "outputId": "fa52d4f3-a777-442e-c559-c9fc210aa6f4"
      },
      "outputs": [
        {
          "data": {
            "text/plain": [
              "0         NaN\n",
              "1         NaN\n",
              "2        10.9\n",
              "3         9.3\n",
              "4         5.7\n",
              "         ... \n",
              "29474     NaN\n",
              "29475    13.2\n",
              "29476     4.3\n",
              "29477     8.6\n",
              "29478    15.3\n",
              "Name: cons_city, Length: 28630, dtype: float64"
            ]
          },
          "execution_count": 1835,
          "metadata": {},
          "output_type": "execute_result"
        }
      ],
      "source": [
        "df['cons_city'] =  df[\"fuel_consumption\"].apply(cons_city).str.extract('(\\d{1,2}.\\d|\\d{1,3})').astype(\"float\")\n",
        "df['cons_city']"
      ]
    },
    {
      "cell_type": "code",
      "execution_count": null,
      "metadata": {
        "id": "O-T34vzPT0ev",
        "outputId": "61266e18-3b1d-464c-999f-be3f36ccb6a9"
      },
      "outputs": [
        {
          "data": {
            "text/plain": [
              "NaN     5245\n",
              "5.0      831\n",
              "4.9      812\n",
              "4.5      690\n",
              "0.0      652\n",
              "        ... \n",
              "16.0       1\n",
              "57.0       1\n",
              "61.0       1\n",
              "14.5       1\n",
              "44.0       1\n",
              "Name: cons_avg, Length: 162, dtype: int64"
            ]
          },
          "execution_count": 1836,
          "metadata": {},
          "output_type": "execute_result"
        }
      ],
      "source": [
        "df['cons_avg'].value_counts(dropna=False)"
      ]
    },
    {
      "cell_type": "code",
      "execution_count": null,
      "metadata": {
        "id": "lHCwZGQHT0ev",
        "outputId": "c1a14277-4f0d-45e6-d96f-6c9279d1fbe0"
      },
      "outputs": [
        {
          "data": {
            "text/plain": [
              "NaN     5245\n",
              "5.0      831\n",
              "4.9      812\n",
              "4.5      690\n",
              "0.0      652\n",
              "        ... \n",
              "16.0       1\n",
              "57.0       1\n",
              "61.0       1\n",
              "14.5       1\n",
              "44.0       1\n",
              "Name: cons_country, Length: 162, dtype: int64"
            ]
          },
          "execution_count": 1837,
          "metadata": {},
          "output_type": "execute_result"
        }
      ],
      "source": [
        "df['cons_country'].value_counts(dropna=False)\n"
      ]
    },
    {
      "cell_type": "code",
      "execution_count": null,
      "metadata": {
        "id": "bWcOOFmBT0ev",
        "outputId": "5c15d760-6cbd-478d-c728-6f696f6e7f6f"
      },
      "outputs": [
        {
          "data": {
            "text/plain": [
              "NaN     8530\n",
              "5.8      494\n",
              "6.4      485\n",
              "5.3      479\n",
              "5.7      464\n",
              "        ... \n",
              "21.5       1\n",
              "50.0       1\n",
              "3.1        1\n",
              "79.0       1\n",
              "76.1       1\n",
              "Name: cons_city, Length: 196, dtype: int64"
            ]
          },
          "execution_count": 1838,
          "metadata": {},
          "output_type": "execute_result"
        }
      ],
      "source": [
        "df['cons_city'].value_counts(dropna=False)"
      ]
    },
    {
      "cell_type": "code",
      "execution_count": null,
      "metadata": {
        "id": "h1Kues9vT0ev"
      },
      "outputs": [],
      "source": [
        "df.drop(\"fuel_consumption\", axis=1, inplace=True)"
      ]
    },
    {
      "cell_type": "code",
      "execution_count": null,
      "metadata": {
        "id": "2HYQNyzvT0ev",
        "outputId": "c096149b-106d-4e09-933f-272a55c12fc0"
      },
      "outputs": [
        {
          "name": "stdout",
          "output_type": "stream",
          "text": [
            " Sütün Adi :empty_weight\n",
            " Nan deger sayisi : 10872\n",
            " Nan yüzdelik sayisi : % (38, 2)\n",
            " Value_count_degeri : [\\n1,395 kg\\n]    233\n",
            "[\\n1,055 kg\\n]    224\n",
            "[\\n1,423 kg\\n]    216\n",
            "[\\n1,165 kg\\n]    200\n",
            "[\\n1,320 kg\\n]    192\n",
            "                 ... \n",
            "[\\n2,655 kg\\n]      1\n",
            "[\\n1,058 kg\\n]      1\n",
            "[\\n2,091 kg\\n]      1\n",
            "[\\n2,497 kg\\n]      1\n",
            "[\\n1,391 kg\\n]      1\n",
            "Name: empty_weight, Length: 1218, dtype: int64\n"
          ]
        }
      ],
      "source": [
        "ilk_bakis(df.empty_weight)"
      ]
    },
    {
      "cell_type": "code",
      "execution_count": null,
      "metadata": {
        "id": "ARx--YCET0ew",
        "outputId": "fdd1f1ef-7344-4d21-8cbd-0484f857244e"
      },
      "outputs": [
        {
          "data": {
            "text/html": [
              "<div>\n",
              "<style scoped>\n",
              "    .dataframe tbody tr th:only-of-type {\n",
              "        vertical-align: middle;\n",
              "    }\n",
              "\n",
              "    .dataframe tbody tr th {\n",
              "        vertical-align: top;\n",
              "    }\n",
              "\n",
              "    .dataframe thead th {\n",
              "        text-align: right;\n",
              "    }\n",
              "</style>\n",
              "<table border=\"1\" class=\"dataframe\">\n",
              "  <thead>\n",
              "    <tr style=\"text-align: right;\">\n",
              "      <th></th>\n",
              "      <th>0</th>\n",
              "    </tr>\n",
              "  </thead>\n",
              "  <tbody>\n",
              "    <tr>\n",
              "      <th>0</th>\n",
              "      <td>NaN</td>\n",
              "    </tr>\n",
              "    <tr>\n",
              "      <th>1</th>\n",
              "      <td>NaN</td>\n",
              "    </tr>\n",
              "    <tr>\n",
              "      <th>2</th>\n",
              "      <td>NaN</td>\n",
              "    </tr>\n",
              "    <tr>\n",
              "      <th>3</th>\n",
              "      <td>NaN</td>\n",
              "    </tr>\n",
              "    <tr>\n",
              "      <th>4</th>\n",
              "      <td>1545.0</td>\n",
              "    </tr>\n",
              "    <tr>\n",
              "      <th>...</th>\n",
              "      <td>...</td>\n",
              "    </tr>\n",
              "    <tr>\n",
              "      <th>29474</th>\n",
              "      <td>2077.0</td>\n",
              "    </tr>\n",
              "    <tr>\n",
              "      <th>29475</th>\n",
              "      <td>1357.0</td>\n",
              "    </tr>\n",
              "    <tr>\n",
              "      <th>29476</th>\n",
              "      <td>1356.0</td>\n",
              "    </tr>\n",
              "    <tr>\n",
              "      <th>29477</th>\n",
              "      <td>1617.0</td>\n",
              "    </tr>\n",
              "    <tr>\n",
              "      <th>29478</th>\n",
              "      <td>1573.0</td>\n",
              "    </tr>\n",
              "  </tbody>\n",
              "</table>\n",
              "<p>28630 rows × 1 columns</p>\n",
              "</div>"
            ],
            "text/plain": [
              "            0\n",
              "0         NaN\n",
              "1         NaN\n",
              "2         NaN\n",
              "3         NaN\n",
              "4      1545.0\n",
              "...       ...\n",
              "29474  2077.0\n",
              "29475  1357.0\n",
              "29476  1356.0\n",
              "29477  1617.0\n",
              "29478  1573.0\n",
              "\n",
              "[28630 rows x 1 columns]"
            ]
          },
          "execution_count": 1841,
          "metadata": {},
          "output_type": "execute_result"
        }
      ],
      "source": [
        "df['empty_weight'].astype(str).str.replace(',', '').str.extract('(\\d+)').astype(\"float\")"
      ]
    },
    {
      "cell_type": "code",
      "execution_count": null,
      "metadata": {
        "id": "VzcMCSXNT0ew",
        "outputId": "4db61fd4-c3ed-4fc6-be4b-d44fec65d73f"
      },
      "outputs": [
        {
          "data": {
            "text/plain": [
              "0           NaN\n",
              "1           NaN\n",
              "2           NaN\n",
              "3           NaN\n",
              "4        1545.0\n",
              "          ...  \n",
              "29474    2077.0\n",
              "29475    1357.0\n",
              "29476    1356.0\n",
              "29477    1617.0\n",
              "29478    1573.0\n",
              "Name: empty_weight, Length: 28630, dtype: float64"
            ]
          },
          "execution_count": 1842,
          "metadata": {},
          "output_type": "execute_result"
        }
      ],
      "source": [
        "df['empty_weight'] = df['empty_weight'].astype(str).str.replace(',', '').str.extract('(\\d+)').astype(\"float\")\n",
        "df['empty_weight']"
      ]
    },
    {
      "cell_type": "code",
      "execution_count": null,
      "metadata": {
        "id": "U9uYrhBaT0ew",
        "outputId": "adc9ba8f-7321-4bbb-c555-93ebbd6a550d"
      },
      "outputs": [
        {
          "data": {
            "text/plain": [
              "NaN       10872\n",
              "1395.0      233\n",
              "1055.0      224\n",
              "1423.0      216\n",
              "1165.0      200\n",
              "          ...  \n",
              "1877.0        1\n",
              "1011.0        1\n",
              "1069.0        1\n",
              "983.0         1\n",
              "1391.0        1\n",
              "Name: empty_weight, Length: 1219, dtype: int64"
            ]
          },
          "execution_count": 1843,
          "metadata": {},
          "output_type": "execute_result"
        }
      ],
      "source": [
        "df['empty_weight'].value_counts(dropna=False)"
      ]
    },
    {
      "cell_type": "code",
      "execution_count": null,
      "metadata": {
        "id": "8-4hpOO1T0ew",
        "outputId": "8754de16-a07d-41a6-c5ed-cadb25272ac7"
      },
      "outputs": [
        {
          "name": "stdout",
          "output_type": "stream",
          "text": [
            " Sütün Adi :model_code\n",
            " Nan deger sayisi : 20263\n",
            " Nan yüzdelik sayisi : % (71, 2)\n",
            " Value_count_degeri : [\\n, 8212/AFJ, \\n]    75\n",
            "[\\n, 1727/AAM, \\n]    64\n",
            "[\\n, 1349/AGI, \\n]    61\n",
            "[\\n, 1889/ABU, \\n]    55\n",
            "[\\n, 7104/AAL, \\n]    53\n",
            "                      ..\n",
            "[\\n, 3333/BJK, \\n]     1\n",
            "[\\n, 3333/BHJ, \\n]     1\n",
            "[\\n, 3333/BPA, \\n]     1\n",
            "[\\n, 3333/BFV, \\n]     1\n",
            "[\\n, 9101/449, \\n]     1\n",
            "Name: model_code, Length: 2186, dtype: int64\n"
          ]
        }
      ],
      "source": [
        "ilk_bakis(df.model_code)"
      ]
    },
    {
      "cell_type": "code",
      "execution_count": null,
      "metadata": {
        "id": "TsEGNyL5T0ew"
      },
      "outputs": [],
      "source": [
        "df.drop(\"model_code\", axis=1, inplace=True)"
      ]
    },
    {
      "cell_type": "code",
      "execution_count": null,
      "metadata": {
        "id": "osRmAqjaT0ew",
        "outputId": "8f9b5b5e-5bae-47e5-e81f-12ee79fc0c49"
      },
      "outputs": [
        {
          "name": "stdout",
          "output_type": "stream",
          "text": [
            " Sütün Adi :general_inspection\n",
            " Nan deger sayisi : 16376\n",
            " Nan yüzdelik sayisi : % (57, 2)\n",
            " Value_count_degeri : New        5883\n",
            "05/2023     286\n",
            "08/2023     280\n",
            "03/2023     268\n",
            "06/2023     266\n",
            "           ... \n",
            "09/2017       1\n",
            "08/2013       1\n",
            "08/2020       1\n",
            "08/2018       1\n",
            "03/2021       1\n",
            "Name: general_inspection, Length: 91, dtype: int64\n"
          ]
        }
      ],
      "source": [
        "ilk_bakis(df.general_inspection)"
      ]
    },
    {
      "cell_type": "code",
      "execution_count": null,
      "metadata": {
        "id": "RCtSaGiWT0ew"
      },
      "outputs": [],
      "source": [
        "df.drop(\"general_inspection\", axis=1, inplace=True)"
      ]
    },
    {
      "cell_type": "code",
      "execution_count": null,
      "metadata": {
        "id": "4RbAnduzT0ew",
        "outputId": "12915779-72f0-4c5c-e842-1c8f86acba95"
      },
      "outputs": [
        {
          "name": "stdout",
          "output_type": "stream",
          "text": [
            " Sütün Adi :full_service_history\n",
            " Nan deger sayisi : 16065\n",
            " Nan yüzdelik sayisi : % (56, 2)\n",
            " Value_count_degeri : Yes    12565\n",
            "Name: full_service_history, dtype: int64\n"
          ]
        }
      ],
      "source": [
        "ilk_bakis(df.full_service_history)"
      ]
    },
    {
      "cell_type": "code",
      "execution_count": null,
      "metadata": {
        "id": "rN5A5e3cT0ew"
      },
      "outputs": [],
      "source": [
        "df[\"full_service_history\"].replace(np.nan, \"No\", inplace=True)"
      ]
    },
    {
      "cell_type": "code",
      "execution_count": null,
      "metadata": {
        "id": "jYkaRndfT0ex",
        "outputId": "3e52c511-a2ac-48c2-faec-ea7c971167f3"
      },
      "outputs": [
        {
          "data": {
            "text/plain": [
              "No     16065\n",
              "Yes    12565\n",
              "Name: full_service_history, dtype: int64"
            ]
          },
          "execution_count": 1848,
          "metadata": {},
          "output_type": "execute_result"
        }
      ],
      "source": [
        "df[\"full_service_history\"].value_counts(dropna=False)"
      ]
    },
    {
      "cell_type": "code",
      "execution_count": null,
      "metadata": {
        "id": "Bh1JXmKQT0ex",
        "outputId": "0f6611e9-2978-47b4-f314-4a6086937f82"
      },
      "outputs": [
        {
          "name": "stdout",
          "output_type": "stream",
          "text": [
            " Sütün Adi :non_smoker_vehicle\n",
            " Nan deger sayisi : 17036\n",
            " Nan yüzdelik sayisi : % (60, 2)\n",
            " Value_count_degeri : Yes    11594\n",
            "Name: non_smoker_vehicle, dtype: int64\n"
          ]
        }
      ],
      "source": [
        "ilk_bakis(df.non_smoker_vehicle)"
      ]
    },
    {
      "cell_type": "code",
      "execution_count": null,
      "metadata": {
        "id": "JsrbZrDDT0ex"
      },
      "outputs": [],
      "source": [
        "df.drop(\"non_smoker_vehicle\", axis=1, inplace=True)"
      ]
    },
    {
      "cell_type": "code",
      "execution_count": null,
      "metadata": {
        "id": "ekoM01zZT0ex",
        "outputId": "ca9be548-f90a-409b-f928-fe36b4488882"
      },
      "outputs": [
        {
          "name": "stdout",
          "output_type": "stream",
          "text": [
            " Sütün Adi :emission_class\n",
            " Nan deger sayisi : 10771\n",
            " Nan yüzdelik sayisi : % (38, 2)\n",
            " Value_count_degeri : Euro 6          6418\n",
            "Euro 6d-TEMP    3399\n",
            "Euro 6d         2858\n",
            "Euro 5          2389\n",
            "Euro 4          1743\n",
            "Euro 3           523\n",
            "Euro 2           217\n",
            "Euro 1           172\n",
            "Euro 6c          140\n",
            "Name: emission_class, dtype: int64\n"
          ]
        }
      ],
      "source": [
        "ilk_bakis(df.emission_class)"
      ]
    },
    {
      "cell_type": "code",
      "execution_count": null,
      "metadata": {
        "id": "7rFdmdCcT0ex"
      },
      "outputs": [],
      "source": [
        "Euro_6 = [\"Euro 6\", \"Euro 6d-TEMP\", \"Euro 6d\", \"Euro 6c\"]\n",
        "\n",
        "def emissionclass(x):\n",
        "    if x in Euro_6:\n",
        "        return \"Euro 6\"\n",
        "    else:\n",
        "        return x\n",
        "\n",
        "df[\"emission_class\"] = df[\"emission_class\"].apply(emissionclass)"
      ]
    },
    {
      "cell_type": "code",
      "execution_count": null,
      "metadata": {
        "id": "tSdUfKL5T0ex",
        "outputId": "93e92827-7114-4639-d83a-fd0550c8997c"
      },
      "outputs": [
        {
          "data": {
            "text/plain": [
              "Euro 6    12815\n",
              "NaN       10771\n",
              "Euro 5     2389\n",
              "Euro 4     1743\n",
              "Euro 3      523\n",
              "Euro 2      217\n",
              "Euro 1      172\n",
              "Name: emission_class, dtype: int64"
            ]
          },
          "execution_count": 1852,
          "metadata": {},
          "output_type": "execute_result"
        }
      ],
      "source": [
        "df[\"emission_class\"].value_counts(dropna=False)"
      ]
    },
    {
      "cell_type": "code",
      "execution_count": null,
      "metadata": {
        "id": "Qdzfbz10T0ex"
      },
      "outputs": [],
      "source": [
        "df.drop(\"emission_class\", axis=1, inplace=True)"
      ]
    },
    {
      "cell_type": "code",
      "execution_count": null,
      "metadata": {
        "id": "YSWE0P90T0ex"
      },
      "outputs": [],
      "source": [
        "df.drop(\"previous_owner\", axis=1, inplace=True)"
      ]
    },
    {
      "cell_type": "code",
      "execution_count": null,
      "metadata": {
        "id": "I6xXvabbT0ex"
      },
      "outputs": [],
      "source": [
        "df.drop(\"co2_emissions\", axis=1, inplace=True)"
      ]
    },
    {
      "cell_type": "code",
      "execution_count": null,
      "metadata": {
        "id": "qLcKzPidT0ex"
      },
      "outputs": [],
      "source": [
        "df.drop(\"empty_weight\", axis=1, inplace=True)"
      ]
    },
    {
      "cell_type": "code",
      "execution_count": null,
      "metadata": {
        "id": "TV_irZEQT0ey"
      },
      "outputs": [],
      "source": [
        "df.drop(\"drivetrain\", axis=1, inplace=True)"
      ]
    },
    {
      "cell_type": "code",
      "execution_count": null,
      "metadata": {
        "id": "LxWAEZKWT0ey"
      },
      "outputs": [],
      "source": [
        "df.drop(\"upholstery\", axis=1, inplace=True)"
      ]
    },
    {
      "cell_type": "code",
      "execution_count": null,
      "metadata": {
        "id": "PKNlCb01T0ey"
      },
      "outputs": [],
      "source": [
        "df.drop(\"extras\", axis=1, inplace=True)"
      ]
    },
    {
      "cell_type": "code",
      "execution_count": null,
      "metadata": {
        "id": "XptPFVCST0ey"
      },
      "outputs": [],
      "source": [
        "df.drop(\"gears\", axis=1, inplace=True)"
      ]
    },
    {
      "cell_type": "code",
      "execution_count": null,
      "metadata": {
        "id": "jO7kTSqlT0ey",
        "outputId": "f82fd695-0399-4a90-cc32-88d1b112f72d"
      },
      "outputs": [
        {
          "ename": "KeyError",
          "evalue": "\"['c'] not found in axis\"",
          "output_type": "error",
          "traceback": [
            "\u001b[1;31m---------------------------------------------------------------------------\u001b[0m",
            "\u001b[1;31mKeyError\u001b[0m                                  Traceback (most recent call last)",
            "Input \u001b[1;32mIn [1861]\u001b[0m, in \u001b[0;36m<cell line: 1>\u001b[1;34m()\u001b[0m\n\u001b[1;32m----> 1\u001b[0m \u001b[43mdf\u001b[49m\u001b[38;5;241;43m.\u001b[39;49m\u001b[43mdrop\u001b[49m\u001b[43m(\u001b[49m\u001b[38;5;124;43m\"\u001b[39;49m\u001b[38;5;124;43mc\u001b[39;49m\u001b[38;5;124;43m\"\u001b[39;49m\u001b[43m,\u001b[49m\u001b[43m \u001b[49m\u001b[43maxis\u001b[49m\u001b[38;5;241;43m=\u001b[39;49m\u001b[38;5;241;43m1\u001b[39;49m\u001b[43m,\u001b[49m\u001b[43m \u001b[49m\u001b[43minplace\u001b[49m\u001b[38;5;241;43m=\u001b[39;49m\u001b[38;5;28;43;01mTrue\u001b[39;49;00m\u001b[43m)\u001b[49m\n",
            "File \u001b[1;32m~\\anaconda3\\lib\\site-packages\\pandas\\util\\_decorators.py:311\u001b[0m, in \u001b[0;36mdeprecate_nonkeyword_arguments.<locals>.decorate.<locals>.wrapper\u001b[1;34m(*args, **kwargs)\u001b[0m\n\u001b[0;32m    305\u001b[0m \u001b[38;5;28;01mif\u001b[39;00m \u001b[38;5;28mlen\u001b[39m(args) \u001b[38;5;241m>\u001b[39m num_allow_args:\n\u001b[0;32m    306\u001b[0m     warnings\u001b[38;5;241m.\u001b[39mwarn(\n\u001b[0;32m    307\u001b[0m         msg\u001b[38;5;241m.\u001b[39mformat(arguments\u001b[38;5;241m=\u001b[39marguments),\n\u001b[0;32m    308\u001b[0m         \u001b[38;5;167;01mFutureWarning\u001b[39;00m,\n\u001b[0;32m    309\u001b[0m         stacklevel\u001b[38;5;241m=\u001b[39mstacklevel,\n\u001b[0;32m    310\u001b[0m     )\n\u001b[1;32m--> 311\u001b[0m \u001b[38;5;28;01mreturn\u001b[39;00m func(\u001b[38;5;241m*\u001b[39margs, \u001b[38;5;241m*\u001b[39m\u001b[38;5;241m*\u001b[39mkwargs)\n",
            "File \u001b[1;32m~\\anaconda3\\lib\\site-packages\\pandas\\core\\frame.py:4954\u001b[0m, in \u001b[0;36mDataFrame.drop\u001b[1;34m(self, labels, axis, index, columns, level, inplace, errors)\u001b[0m\n\u001b[0;32m   4806\u001b[0m \u001b[38;5;129m@deprecate_nonkeyword_arguments\u001b[39m(version\u001b[38;5;241m=\u001b[39m\u001b[38;5;28;01mNone\u001b[39;00m, allowed_args\u001b[38;5;241m=\u001b[39m[\u001b[38;5;124m\"\u001b[39m\u001b[38;5;124mself\u001b[39m\u001b[38;5;124m\"\u001b[39m, \u001b[38;5;124m\"\u001b[39m\u001b[38;5;124mlabels\u001b[39m\u001b[38;5;124m\"\u001b[39m])\n\u001b[0;32m   4807\u001b[0m \u001b[38;5;28;01mdef\u001b[39;00m \u001b[38;5;21mdrop\u001b[39m(\n\u001b[0;32m   4808\u001b[0m     \u001b[38;5;28mself\u001b[39m,\n\u001b[1;32m   (...)\u001b[0m\n\u001b[0;32m   4815\u001b[0m     errors: \u001b[38;5;28mstr\u001b[39m \u001b[38;5;241m=\u001b[39m \u001b[38;5;124m\"\u001b[39m\u001b[38;5;124mraise\u001b[39m\u001b[38;5;124m\"\u001b[39m,\n\u001b[0;32m   4816\u001b[0m ):\n\u001b[0;32m   4817\u001b[0m     \u001b[38;5;124;03m\"\"\"\u001b[39;00m\n\u001b[0;32m   4818\u001b[0m \u001b[38;5;124;03m    Drop specified labels from rows or columns.\u001b[39;00m\n\u001b[0;32m   4819\u001b[0m \n\u001b[1;32m   (...)\u001b[0m\n\u001b[0;32m   4952\u001b[0m \u001b[38;5;124;03m            weight  1.0     0.8\u001b[39;00m\n\u001b[0;32m   4953\u001b[0m \u001b[38;5;124;03m    \"\"\"\u001b[39;00m\n\u001b[1;32m-> 4954\u001b[0m     \u001b[38;5;28;01mreturn\u001b[39;00m \u001b[38;5;28;43msuper\u001b[39;49m\u001b[43m(\u001b[49m\u001b[43m)\u001b[49m\u001b[38;5;241;43m.\u001b[39;49m\u001b[43mdrop\u001b[49m\u001b[43m(\u001b[49m\n\u001b[0;32m   4955\u001b[0m \u001b[43m        \u001b[49m\u001b[43mlabels\u001b[49m\u001b[38;5;241;43m=\u001b[39;49m\u001b[43mlabels\u001b[49m\u001b[43m,\u001b[49m\n\u001b[0;32m   4956\u001b[0m \u001b[43m        \u001b[49m\u001b[43maxis\u001b[49m\u001b[38;5;241;43m=\u001b[39;49m\u001b[43maxis\u001b[49m\u001b[43m,\u001b[49m\n\u001b[0;32m   4957\u001b[0m \u001b[43m        \u001b[49m\u001b[43mindex\u001b[49m\u001b[38;5;241;43m=\u001b[39;49m\u001b[43mindex\u001b[49m\u001b[43m,\u001b[49m\n\u001b[0;32m   4958\u001b[0m \u001b[43m        \u001b[49m\u001b[43mcolumns\u001b[49m\u001b[38;5;241;43m=\u001b[39;49m\u001b[43mcolumns\u001b[49m\u001b[43m,\u001b[49m\n\u001b[0;32m   4959\u001b[0m \u001b[43m        \u001b[49m\u001b[43mlevel\u001b[49m\u001b[38;5;241;43m=\u001b[39;49m\u001b[43mlevel\u001b[49m\u001b[43m,\u001b[49m\n\u001b[0;32m   4960\u001b[0m \u001b[43m        \u001b[49m\u001b[43minplace\u001b[49m\u001b[38;5;241;43m=\u001b[39;49m\u001b[43minplace\u001b[49m\u001b[43m,\u001b[49m\n\u001b[0;32m   4961\u001b[0m \u001b[43m        \u001b[49m\u001b[43merrors\u001b[49m\u001b[38;5;241;43m=\u001b[39;49m\u001b[43merrors\u001b[49m\u001b[43m,\u001b[49m\n\u001b[0;32m   4962\u001b[0m \u001b[43m    \u001b[49m\u001b[43m)\u001b[49m\n",
            "File \u001b[1;32m~\\anaconda3\\lib\\site-packages\\pandas\\core\\generic.py:4267\u001b[0m, in \u001b[0;36mNDFrame.drop\u001b[1;34m(self, labels, axis, index, columns, level, inplace, errors)\u001b[0m\n\u001b[0;32m   4265\u001b[0m \u001b[38;5;28;01mfor\u001b[39;00m axis, labels \u001b[38;5;129;01min\u001b[39;00m axes\u001b[38;5;241m.\u001b[39mitems():\n\u001b[0;32m   4266\u001b[0m     \u001b[38;5;28;01mif\u001b[39;00m labels \u001b[38;5;129;01mis\u001b[39;00m \u001b[38;5;129;01mnot\u001b[39;00m \u001b[38;5;28;01mNone\u001b[39;00m:\n\u001b[1;32m-> 4267\u001b[0m         obj \u001b[38;5;241m=\u001b[39m \u001b[43mobj\u001b[49m\u001b[38;5;241;43m.\u001b[39;49m\u001b[43m_drop_axis\u001b[49m\u001b[43m(\u001b[49m\u001b[43mlabels\u001b[49m\u001b[43m,\u001b[49m\u001b[43m \u001b[49m\u001b[43maxis\u001b[49m\u001b[43m,\u001b[49m\u001b[43m \u001b[49m\u001b[43mlevel\u001b[49m\u001b[38;5;241;43m=\u001b[39;49m\u001b[43mlevel\u001b[49m\u001b[43m,\u001b[49m\u001b[43m \u001b[49m\u001b[43merrors\u001b[49m\u001b[38;5;241;43m=\u001b[39;49m\u001b[43merrors\u001b[49m\u001b[43m)\u001b[49m\n\u001b[0;32m   4269\u001b[0m \u001b[38;5;28;01mif\u001b[39;00m inplace:\n\u001b[0;32m   4270\u001b[0m     \u001b[38;5;28mself\u001b[39m\u001b[38;5;241m.\u001b[39m_update_inplace(obj)\n",
            "File \u001b[1;32m~\\anaconda3\\lib\\site-packages\\pandas\\core\\generic.py:4311\u001b[0m, in \u001b[0;36mNDFrame._drop_axis\u001b[1;34m(self, labels, axis, level, errors, consolidate, only_slice)\u001b[0m\n\u001b[0;32m   4309\u001b[0m         new_axis \u001b[38;5;241m=\u001b[39m axis\u001b[38;5;241m.\u001b[39mdrop(labels, level\u001b[38;5;241m=\u001b[39mlevel, errors\u001b[38;5;241m=\u001b[39merrors)\n\u001b[0;32m   4310\u001b[0m     \u001b[38;5;28;01melse\u001b[39;00m:\n\u001b[1;32m-> 4311\u001b[0m         new_axis \u001b[38;5;241m=\u001b[39m \u001b[43maxis\u001b[49m\u001b[38;5;241;43m.\u001b[39;49m\u001b[43mdrop\u001b[49m\u001b[43m(\u001b[49m\u001b[43mlabels\u001b[49m\u001b[43m,\u001b[49m\u001b[43m \u001b[49m\u001b[43merrors\u001b[49m\u001b[38;5;241;43m=\u001b[39;49m\u001b[43merrors\u001b[49m\u001b[43m)\u001b[49m\n\u001b[0;32m   4312\u001b[0m     indexer \u001b[38;5;241m=\u001b[39m axis\u001b[38;5;241m.\u001b[39mget_indexer(new_axis)\n\u001b[0;32m   4314\u001b[0m \u001b[38;5;66;03m# Case for non-unique axis\u001b[39;00m\n\u001b[0;32m   4315\u001b[0m \u001b[38;5;28;01melse\u001b[39;00m:\n",
            "File \u001b[1;32m~\\anaconda3\\lib\\site-packages\\pandas\\core\\indexes\\base.py:6644\u001b[0m, in \u001b[0;36mIndex.drop\u001b[1;34m(self, labels, errors)\u001b[0m\n\u001b[0;32m   6642\u001b[0m \u001b[38;5;28;01mif\u001b[39;00m mask\u001b[38;5;241m.\u001b[39many():\n\u001b[0;32m   6643\u001b[0m     \u001b[38;5;28;01mif\u001b[39;00m errors \u001b[38;5;241m!=\u001b[39m \u001b[38;5;124m\"\u001b[39m\u001b[38;5;124mignore\u001b[39m\u001b[38;5;124m\"\u001b[39m:\n\u001b[1;32m-> 6644\u001b[0m         \u001b[38;5;28;01mraise\u001b[39;00m \u001b[38;5;167;01mKeyError\u001b[39;00m(\u001b[38;5;124mf\u001b[39m\u001b[38;5;124m\"\u001b[39m\u001b[38;5;132;01m{\u001b[39;00m\u001b[38;5;28mlist\u001b[39m(labels[mask])\u001b[38;5;132;01m}\u001b[39;00m\u001b[38;5;124m not found in axis\u001b[39m\u001b[38;5;124m\"\u001b[39m)\n\u001b[0;32m   6645\u001b[0m     indexer \u001b[38;5;241m=\u001b[39m indexer[\u001b[38;5;241m~\u001b[39mmask]\n\u001b[0;32m   6646\u001b[0m \u001b[38;5;28;01mreturn\u001b[39;00m \u001b[38;5;28mself\u001b[39m\u001b[38;5;241m.\u001b[39mdelete(indexer)\n",
            "\u001b[1;31mKeyError\u001b[0m: \"['c'] not found in axis\""
          ]
        }
      ],
      "source": [
        "df.drop(\"c\", axis=1, inplace=True)"
      ]
    },
    {
      "cell_type": "code",
      "execution_count": null,
      "metadata": {
        "id": "0PWleJO5T0ey",
        "outputId": "e6eaaeed-f29c-46c0-b1f1-2ee5f34ada2b"
      },
      "outputs": [
        {
          "data": {
            "image/png": "[encoded data removed]",
            "text/plain": [
              "<Figure size 1152x1080 with 1 Axes>"
            ]
          },
          "metadata": {
            "needs_background": "light"
          },
          "output_type": "display_data"
        }
      ],
      "source": [
        "show_nulls(df)"
      ]
    },
    {
      "cell_type": "code",
      "execution_count": null,
      "metadata": {
        "id": "KfFsB6MiT0ey",
        "outputId": "d5791490-087f-4f44-f42e-4c54cc6add5c"
      },
      "outputs": [
        {
          "name": "stdout",
          "output_type": "stream",
          "text": [
            " Sütün Adi :emissions_sticker\n",
            " Nan deger sayisi : 19216\n",
            " Nan yüzdelik sayisi : % (67, 2)\n",
            " Value_count_degeri : 4 (Green)         9230\n",
            "1 (No sticker)     176\n",
            "3 (Yellow)           6\n",
            "2 (Red)              2\n",
            "Name: emissions_sticker, dtype: int64\n"
          ]
        }
      ],
      "source": [
        "ilk_bakis(df.emissions_sticker)"
      ]
    },
    {
      "cell_type": "code",
      "execution_count": null,
      "metadata": {
        "id": "UptoaaQkT0ey"
      },
      "outputs": [],
      "source": [
        "df.drop(\"emissions_sticker\", axis=1, inplace=True)"
      ]
    },
    {
      "cell_type": "code",
      "execution_count": null,
      "metadata": {
        "id": "igrkR_zuT0ey",
        "outputId": "9a1a9fc9-8cc5-4b4e-c27f-cca8fdc848e3"
      },
      "outputs": [
        {
          "name": "stdout",
          "output_type": "stream",
          "text": [
            " Sütün Adi :upholstery_colour\n",
            " Nan deger sayisi : 14061\n",
            " Nan yüzdelik sayisi : % (49, 2)\n",
            " Value_count_degeri : Black     10416\n",
            "Grey       2038\n",
            "Other      1003\n",
            "Beige       466\n",
            "Brown       275\n",
            "Red         159\n",
            "White        93\n",
            "Blue         82\n",
            "Orange       23\n",
            "Green         8\n",
            "Yellow        6\n",
            "Name: upholstery_colour, dtype: int64\n"
          ]
        }
      ],
      "source": [
        "ilk_bakis(df.upholstery_colour)"
      ]
    },
    {
      "cell_type": "code",
      "execution_count": null,
      "metadata": {
        "id": "tGXNiFZ1T0ey"
      },
      "outputs": [],
      "source": [
        "Ordinary = [\"Black\", \"White\"]\n",
        "Primary = [\"Red\", \"Yellow\", \"Blue\"]\n",
        "Secondary = [\"Green\", \"Orange\"]\n",
        "Tertiary_Intermediate = [\"Brown\", \"Grey\", \"Beige\"]\n",
        "\n",
        "def coloridentifier(x):\n",
        "    if x in Ordinary:\n",
        "        return \"Ordinary\"\n",
        "    if x in Primary:\n",
        "        return \"Primary\"\n",
        "    if x in Secondary:\n",
        "        return \"Secondary\"\n",
        "    if x in Tertiary_Intermediate:\n",
        "        return \"Tertiary\"\n",
        "    else:\n",
        "        return x\n",
        "\n",
        "df[\"upholstery_colour\"] = df[\"upholstery_colour\"].apply(coloridentifier)"
      ]
    },
    {
      "cell_type": "code",
      "execution_count": null,
      "metadata": {
        "id": "D6IFKe2tT0ez",
        "outputId": "e3feaed0-3867-4fd5-c893-08fe8f48cea1"
      },
      "outputs": [
        {
          "data": {
            "text/plain": [
              "NaN          14061\n",
              "Ordinary     10509\n",
              "Tertiary      2779\n",
              "Other         1003\n",
              "Primary        247\n",
              "Secondary       31\n",
              "Name: upholstery_colour, dtype: int64"
            ]
          },
          "execution_count": 1865,
          "metadata": {},
          "output_type": "execute_result"
        }
      ],
      "source": [
        "df[\"upholstery_colour\"].value_counts(dropna=False)"
      ]
    },
    {
      "cell_type": "code",
      "execution_count": null,
      "metadata": {
        "id": "QB3ZIQxGT0ez"
      },
      "outputs": [],
      "source": [
        "df.drop(\"upholstery_colour\", axis=1, inplace=True)"
      ]
    },
    {
      "cell_type": "code",
      "execution_count": null,
      "metadata": {
        "id": "LPPqTQo9T0ez"
      },
      "outputs": [],
      "source": [
        "#ilk_bakis(df.upholstery_colour)"
      ]
    },
    {
      "cell_type": "code",
      "execution_count": null,
      "metadata": {
        "id": "7ZchiRaWT0ez"
      },
      "outputs": [],
      "source": [
        "#ilk_bakis(df.previous_owner)"
      ]
    },
    {
      "cell_type": "code",
      "execution_count": null,
      "metadata": {
        "id": "3vf8cy-dT0ez"
      },
      "outputs": [],
      "source": [
        "#df[\"previous_owner\"] = df[\"previous_owner\"].str[1]\n",
        "#df[\"previous_owner\"]"
      ]
    },
    {
      "cell_type": "code",
      "execution_count": null,
      "metadata": {
        "id": "GK5SWpkVT0ez",
        "outputId": "77490acd-b739-4317-a6e3-0245589ef0cc"
      },
      "outputs": [
        {
          "ename": "KeyError",
          "evalue": "'previous_owner'",
          "output_type": "error",
          "traceback": [
            "\u001b[1;31m---------------------------------------------------------------------------\u001b[0m",
            "\u001b[1;31mKeyError\u001b[0m                                  Traceback (most recent call last)",
            "File \u001b[1;32m~\\anaconda3\\lib\\site-packages\\pandas\\core\\indexes\\base.py:3621\u001b[0m, in \u001b[0;36mIndex.get_loc\u001b[1;34m(self, key, method, tolerance)\u001b[0m\n\u001b[0;32m   3620\u001b[0m \u001b[38;5;28;01mtry\u001b[39;00m:\n\u001b[1;32m-> 3621\u001b[0m     \u001b[38;5;28;01mreturn\u001b[39;00m \u001b[38;5;28;43mself\u001b[39;49m\u001b[38;5;241;43m.\u001b[39;49m\u001b[43m_engine\u001b[49m\u001b[38;5;241;43m.\u001b[39;49m\u001b[43mget_loc\u001b[49m\u001b[43m(\u001b[49m\u001b[43mcasted_key\u001b[49m\u001b[43m)\u001b[49m\n\u001b[0;32m   3622\u001b[0m \u001b[38;5;28;01mexcept\u001b[39;00m \u001b[38;5;167;01mKeyError\u001b[39;00m \u001b[38;5;28;01mas\u001b[39;00m err:\n",
            "File \u001b[1;32m~\\anaconda3\\lib\\site-packages\\pandas\\_libs\\index.pyx:136\u001b[0m, in \u001b[0;36mpandas._libs.index.IndexEngine.get_loc\u001b[1;34m()\u001b[0m\n",
            "File \u001b[1;32m~\\anaconda3\\lib\\site-packages\\pandas\\_libs\\index.pyx:163\u001b[0m, in \u001b[0;36mpandas._libs.index.IndexEngine.get_loc\u001b[1;34m()\u001b[0m\n",
            "File \u001b[1;32mpandas\\_libs\\hashtable_class_helper.pxi:5198\u001b[0m, in \u001b[0;36mpandas._libs.hashtable.PyObjectHashTable.get_item\u001b[1;34m()\u001b[0m\n",
            "File \u001b[1;32mpandas\\_libs\\hashtable_class_helper.pxi:5206\u001b[0m, in \u001b[0;36mpandas._libs.hashtable.PyObjectHashTable.get_item\u001b[1;34m()\u001b[0m\n",
            "\u001b[1;31mKeyError\u001b[0m: 'previous_owner'",
            "\nThe above exception was the direct cause of the following exception:\n",
            "\u001b[1;31mKeyError\u001b[0m                                  Traceback (most recent call last)",
            "Input \u001b[1;32mIn [1867]\u001b[0m, in \u001b[0;36m<cell line: 1>\u001b[1;34m()\u001b[0m\n\u001b[1;32m----> 1\u001b[0m \u001b[43mdf\u001b[49m\u001b[43m[\u001b[49m\u001b[38;5;124;43m\"\u001b[39;49m\u001b[38;5;124;43mprevious_owner\u001b[39;49m\u001b[38;5;124;43m\"\u001b[39;49m\u001b[43m]\u001b[49m\u001b[38;5;241m.\u001b[39mvalue_counts(dropna\u001b[38;5;241m=\u001b[39m\u001b[38;5;28;01mFalse\u001b[39;00m)\n",
            "File \u001b[1;32m~\\anaconda3\\lib\\site-packages\\pandas\\core\\frame.py:3505\u001b[0m, in \u001b[0;36mDataFrame.__getitem__\u001b[1;34m(self, key)\u001b[0m\n\u001b[0;32m   3503\u001b[0m \u001b[38;5;28;01mif\u001b[39;00m \u001b[38;5;28mself\u001b[39m\u001b[38;5;241m.\u001b[39mcolumns\u001b[38;5;241m.\u001b[39mnlevels \u001b[38;5;241m>\u001b[39m \u001b[38;5;241m1\u001b[39m:\n\u001b[0;32m   3504\u001b[0m     \u001b[38;5;28;01mreturn\u001b[39;00m \u001b[38;5;28mself\u001b[39m\u001b[38;5;241m.\u001b[39m_getitem_multilevel(key)\n\u001b[1;32m-> 3505\u001b[0m indexer \u001b[38;5;241m=\u001b[39m \u001b[38;5;28;43mself\u001b[39;49m\u001b[38;5;241;43m.\u001b[39;49m\u001b[43mcolumns\u001b[49m\u001b[38;5;241;43m.\u001b[39;49m\u001b[43mget_loc\u001b[49m\u001b[43m(\u001b[49m\u001b[43mkey\u001b[49m\u001b[43m)\u001b[49m\n\u001b[0;32m   3506\u001b[0m \u001b[38;5;28;01mif\u001b[39;00m is_integer(indexer):\n\u001b[0;32m   3507\u001b[0m     indexer \u001b[38;5;241m=\u001b[39m [indexer]\n",
            "File \u001b[1;32m~\\anaconda3\\lib\\site-packages\\pandas\\core\\indexes\\base.py:3623\u001b[0m, in \u001b[0;36mIndex.get_loc\u001b[1;34m(self, key, method, tolerance)\u001b[0m\n\u001b[0;32m   3621\u001b[0m     \u001b[38;5;28;01mreturn\u001b[39;00m \u001b[38;5;28mself\u001b[39m\u001b[38;5;241m.\u001b[39m_engine\u001b[38;5;241m.\u001b[39mget_loc(casted_key)\n\u001b[0;32m   3622\u001b[0m \u001b[38;5;28;01mexcept\u001b[39;00m \u001b[38;5;167;01mKeyError\u001b[39;00m \u001b[38;5;28;01mas\u001b[39;00m err:\n\u001b[1;32m-> 3623\u001b[0m     \u001b[38;5;28;01mraise\u001b[39;00m \u001b[38;5;167;01mKeyError\u001b[39;00m(key) \u001b[38;5;28;01mfrom\u001b[39;00m \u001b[38;5;21;01merr\u001b[39;00m\n\u001b[0;32m   3624\u001b[0m \u001b[38;5;28;01mexcept\u001b[39;00m \u001b[38;5;167;01mTypeError\u001b[39;00m:\n\u001b[0;32m   3625\u001b[0m     \u001b[38;5;66;03m# If we have a listlike key, _check_indexing_error will raise\u001b[39;00m\n\u001b[0;32m   3626\u001b[0m     \u001b[38;5;66;03m#  InvalidIndexError. Otherwise we fall through and re-raise\u001b[39;00m\n\u001b[0;32m   3627\u001b[0m     \u001b[38;5;66;03m#  the TypeError.\u001b[39;00m\n\u001b[0;32m   3628\u001b[0m     \u001b[38;5;28mself\u001b[39m\u001b[38;5;241m.\u001b[39m_check_indexing_error(key)\n",
            "\u001b[1;31mKeyError\u001b[0m: 'previous_owner'"
          ]
        }
      ],
      "source": [
        "df[\"previous_owner\"].value_counts(dropna=False)"
      ]
    },
    {
      "cell_type": "code",
      "execution_count": null,
      "metadata": {
        "id": "MQ9jFThxT0ez",
        "outputId": "ac19e043-b710-4f2c-dc58-7b1f88c04413"
      },
      "outputs": [
        {
          "name": "stdout",
          "output_type": "stream",
          "text": [
            " Sütün Adi :energy_efficiency_class\n",
            " Nan deger sayisi : 20826\n",
            " Nan yüzdelik sayisi : % (73, 2)\n",
            " Value_count_degeri : B       2090\n",
            "A       1687\n",
            "C       1133\n",
            "A+      1089\n",
            "D        636\n",
            "A+++     375\n",
            "G        309\n",
            "E        271\n",
            "F        147\n",
            "A++       67\n",
            "Name: energy_efficiency_class, dtype: int64\n"
          ]
        }
      ],
      "source": [
        "ilk_bakis(df.energy_efficiency_class)"
      ]
    },
    {
      "cell_type": "code",
      "execution_count": null,
      "metadata": {
        "id": "xs-SPN3IT0e0"
      },
      "outputs": [],
      "source": []
    },
    {
      "cell_type": "code",
      "execution_count": null,
      "metadata": {
        "id": "PGriV4itT0e0",
        "outputId": "b1717da3-4648-4e55-ccd0-77b201916398"
      },
      "outputs": [
        {
          "data": {
            "text/plain": [
              "NaN     20826\n",
              "B        2090\n",
              "A        1687\n",
              "C        1133\n",
              "A+       1089\n",
              "D         636\n",
              "A+++      375\n",
              "G         309\n",
              "E         271\n",
              "F         147\n",
              "A++        67\n",
              "Name: energy_efficiency_class, dtype: int64"
            ]
          },
          "execution_count": 1869,
          "metadata": {},
          "output_type": "execute_result"
        }
      ],
      "source": [
        "df[\"energy_efficiency_class\"].value_counts(dropna=False)"
      ]
    },
    {
      "cell_type": "code",
      "execution_count": null,
      "metadata": {
        "id": "8EjoqqaOT0e0"
      },
      "outputs": [],
      "source": [
        "df.drop('energy_efficiency_class', axis=1 ,inplace=True)"
      ]
    },
    {
      "cell_type": "code",
      "execution_count": null,
      "metadata": {
        "id": "G0XS_rX3T0e0",
        "outputId": "45012305-af2a-4ca4-f762-1363ea0a4e96"
      },
      "outputs": [
        {
          "name": "stdout",
          "output_type": "stream",
          "text": [
            "<class 'pandas.core.frame.DataFrame'>\n",
            "Int64Index: 28630 entries, 0 to 29478\n",
            "Data columns (total 35 columns):\n",
            " #   Column                   Non-Null Count  Dtype  \n",
            "---  ------                   --------------  -----  \n",
            " 0   make_model               28630 non-null  object \n",
            " 1   make                     28630 non-null  object \n",
            " 2   location                 28630 non-null  object \n",
            " 3   price                    28630 non-null  float64\n",
            " 4   body_type                28630 non-null  object \n",
            " 5   type                     28630 non-null  object \n",
            " 6   doors                    28271 non-null  float64\n",
            " 7   warranty                 13465 non-null  float64\n",
            " 8   mileage                  28629 non-null  float64\n",
            " 9   gearbox                  0 non-null      float64\n",
            " 10  fuel_type                26843 non-null  object \n",
            " 11  paint                    28630 non-null  object \n",
            " 12  seller                   28630 non-null  object \n",
            " 13  seats                    25505 non-null  float64\n",
            " 14  engine_size              27227 non-null  float64\n",
            " 15  gears                    18954 non-null  float64\n",
            " 16  co2_emissions            18594 non-null  float64\n",
            " 17  drivetrain               16893 non-null  object \n",
            " 18  cylinders                18852 non-null  float64\n",
            " 19  comfort_convenience      25433 non-null  object \n",
            " 20  entertainment_media      23644 non-null  object \n",
            " 21  safety_security          25415 non-null  object \n",
            " 22  extras                   23480 non-null  object \n",
            " 23  empty_weight             17758 non-null  float64\n",
            " 24  full_service_history     28630 non-null  object \n",
            " 25  upholstery               18610 non-null  object \n",
            " 26  previous_owner           14015 non-null  object \n",
            " 27  energy_efficiency_class  7804 non-null   object \n",
            " 28  co2_efficiency           7804 non-null   object \n",
            " 29  age                      28628 non-null  float64\n",
            " 30  power_kW                 28058 non-null  float64\n",
            " 31  power_hp                 28058 non-null  float64\n",
            " 32  cons_avg                 23385 non-null  float64\n",
            " 33  cons_country             20100 non-null  float64\n",
            " 34  cons_city                20100 non-null  float64\n",
            "dtypes: float64(17), object(18)\n",
            "memory usage: 8.9+ MB\n"
          ]
        }
      ],
      "source": [
        "df.info()"
      ]
    },
    {
      "cell_type": "code",
      "execution_count": null,
      "metadata": {
        "id": "D7NA25ytT0e0",
        "outputId": "f75efcf7-2466-42c0-af9b-908a77cfb356"
      },
      "outputs": [
        {
          "name": "stdout",
          "output_type": "stream",
          "text": [
            " Sütün Adi :co2_efficiency\n",
            " Nan deger sayisi : 20826\n",
            " Nan yüzdelik sayisi : % (73, 2)\n",
            " Value_count_degeri : Calculated on basis of measured CO₂-emissions taking into account the mass of the vehicle.    7804\n",
            "Name: co2_efficiency, dtype: int64\n"
          ]
        }
      ],
      "source": [
        "ilk_bakis(df.co2_efficiency)"
      ]
    },
    {
      "cell_type": "code",
      "execution_count": null,
      "metadata": {
        "id": "COhkgOQ3T0e0"
      },
      "outputs": [],
      "source": [
        "df.drop(\"co2_efficiency\", axis=1, inplace=True)"
      ]
    },
    {
      "cell_type": "code",
      "execution_count": null,
      "metadata": {
        "id": "CoVYo-12T0e1",
        "outputId": "a76609a0-0b94-4f65-88a2-3d310fb44c68"
      },
      "outputs": [
        {
          "name": "stdout",
          "output_type": "stream",
          "text": [
            " Sütün Adi :comfort_convenience\n",
            " Nan deger sayisi : 3197\n",
            " Nan yüzdelik sayisi : % (11, 2)\n",
            " Value_count_degeri : [Air conditioning, Automatic climate control, Electrical side mirrors, Multi-function steering wheel, Power windows]                                                                                                                                          244\n",
            "[Air conditioning, Automatic climate control, Cruise control]                                                                                                                                                                                                 171\n",
            "[Air conditioning, Automatic climate control, Cruise control, Electrical side mirrors, Multi-function steering wheel, Power windows]                                                                                                                          168\n",
            "[Air conditioning]                                                                                                                                                                                                                                            157\n",
            "[Power windows]                                                                                                                                                                                                                                               150\n",
            "                                                                                                                                                                                                                                                             ... \n",
            "[Air conditioning, Automatic climate control, Multi-function steering wheel, Parking assist system sensors front, Parking assist system sensors rear, Split rear seats]                                                                                         1\n",
            "[Air conditioning, Electrical side mirrors, Leather steering wheel, Power windows, Seat heating, Tinted windows, Wind deflector]                                                                                                                                1\n",
            "[Air conditioning, Electrical side mirrors, Hill Holder, Power windows, Tinted windows]                                                                                                                                                                         1\n",
            "[Air conditioning, Automatic climate control, Electrical side mirrors, Leather steering wheel, Light sensor, Multi-function steering wheel, Parking assist system camera, Power windows, Rain sensor, Split rear seats, Start-stop system, Tinted windows]      1\n",
            "[Air conditioning, Armrest, Cruise control, Electrical side mirrors, Leather steering wheel, Lumbar support, Multi-function steering wheel, Navigation system, Power windows, Seat heating, Tinted windows]                                                     1\n",
            "Name: comfort_convenience, Length: 14438, dtype: int64\n"
          ]
        }
      ],
      "source": [
        "ilk_bakis(df.comfort_convenience)"
      ]
    },
    {
      "cell_type": "code",
      "execution_count": null,
      "metadata": {
        "id": "HIByEZGFT0e1"
      },
      "outputs": [],
      "source": [
        "\n",
        "df[\"comfort_convenience\"] = [\", \".join(item) if type(item) == list else item for item in df[\"comfort_convenience\"]]"
      ]
    },
    {
      "cell_type": "code",
      "execution_count": null,
      "metadata": {
        "id": "KC01MtEeT0e1",
        "outputId": "f5f5fbce-bcfe-41ae-820a-693eaba191e4"
      },
      "outputs": [
        {
          "data": {
            "text/plain": [
              "NaN                                                                                                                                   3197\n",
              "Air conditioning, Automatic climate control, Electrical side mirrors, Multi-function steering wheel, Power windows                     244\n",
              "Air conditioning, Automatic climate control, Cruise control                                                                            171\n",
              "Air conditioning, Automatic climate control, Cruise control, Electrical side mirrors, Multi-function steering wheel, Power windows     168\n",
              "Air conditioning                                                                                                                       157\n",
              "Name: comfort_convenience, dtype: int64"
            ]
          },
          "execution_count": 1875,
          "metadata": {},
          "output_type": "execute_result"
        }
      ],
      "source": [
        "df[\"comfort_convenience\"].value_counts(dropna=False).head()"
      ]
    },
    {
      "cell_type": "code",
      "execution_count": null,
      "metadata": {
        "id": "Uicsg7iOT0e1",
        "outputId": "127fad13-b4b4-4d29-dca8-5b9aab55634b"
      },
      "outputs": [
        {
          "name": "stdout",
          "output_type": "stream",
          "text": [
            " Sütün Adi :entertainment_media\n",
            " Nan deger sayisi : 4986\n",
            " Nan yüzdelik sayisi : % (17, 2)\n",
            " Value_count_degeri : [Bluetooth, USB]                                                                                                                                                             753\n",
            "[Bluetooth]                                                                                                                                                                  665\n",
            "[On-board computer]                                                                                                                                                          662\n",
            "[CD player, On-board computer, Radio]                                                                                                                                        644\n",
            "[Radio]                                                                                                                                                                      425\n",
            "                                                                                                                                                                            ... \n",
            "[Android Auto, Apple CarPlay, Bluetooth, Digital cockpit, Digital radio, Induction charging for smartphones, On-board computer, Radio, Sound system, WLAN / WiFi hotspot]      1\n",
            "[Bluetooth, CD player, Digital cockpit, Digital radio, Hands-free equipment, Integrated music streaming, On-board computer, Sound system, USB, WLAN / WiFi hotspot]            1\n",
            "[Digital cockpit, Digital radio, On-board computer, Radio]                                                                                                                     1\n",
            "[Android Auto, Apple CarPlay, Digital radio, On-board computer, Radio, Sound system, USB, WLAN / WiFi hotspot]                                                                 1\n",
            "[Hands-free equipment, Integrated music streaming, On-board computer, Radio, USB]                                                                                              1\n",
            "Name: entertainment_media, Length: 1944, dtype: int64\n"
          ]
        }
      ],
      "source": [
        "ilk_bakis(df.entertainment_media)"
      ]
    },
    {
      "cell_type": "code",
      "execution_count": null,
      "metadata": {
        "id": "zuqHK9rQT0e1"
      },
      "outputs": [],
      "source": [
        "df.rename(columns={\"\\\\nentertainment_media\\\\n\": \"entertainment_media\"}, inplace=True) # Sütun adı düzenlendi\n",
        "df[\"entertainment_media\"] = df[\"entertainment_media\"].fillna('0') # NaN değerler 0 olarak değiştirildi\n",
        "df[\"entertainment_media\"] = df[\"entertainment_media\"].apply(lambda x: len(x) if isinstance(x, list) else 0) # Liste uzunluğu hesaplandı\n",
        "df[\"entertainment_media\"] = df[\"entertainment_media\"].astype(int) # Sütun tipi int'e dönüştürüldü"
      ]
    },
    {
      "cell_type": "code",
      "execution_count": null,
      "metadata": {
        "id": "aOkj-RnnT0e1"
      },
      "outputs": [],
      "source": []
    },
    {
      "cell_type": "code",
      "execution_count": null,
      "metadata": {
        "id": "Zti34JzRT0e1",
        "outputId": "ed9171bf-13b3-429a-f67f-7a30d1dbf795"
      },
      "outputs": [
        {
          "data": {
            "text/plain": [
              "1    23644\n",
              "0     4986\n",
              "Name: entertainment_media, dtype: int64"
            ]
          },
          "execution_count": 1877,
          "metadata": {},
          "output_type": "execute_result"
        }
      ],
      "source": [
        "df[\"entertainment_media\"].value_counts(dropna=False).head(10)"
      ]
    },
    {
      "cell_type": "code",
      "execution_count": null,
      "metadata": {
        "id": "0yvg5TYZT0e2",
        "outputId": "2e616151-113e-4055-9e7b-e8f17837c575"
      },
      "outputs": [
        {
          "name": "stdout",
          "output_type": "stream",
          "text": [
            " Sütün Adi :extras\n",
            " Nan deger sayisi : 5150\n",
            " Nan yüzdelik sayisi : % (18, 2)\n",
            " Value_count_degeri : [Alloy wheels]                                                                                                                                                                        3408\n",
            "[Alloy wheels, Roof rack]                                                                                                                                                              380\n",
            "[Alloy wheels, Sport seats]                                                                                                                                                            372\n",
            "[Alloy wheels, Touch screen]                                                                                                                                                           231\n",
            "[Alloy wheels, Catalytic Converter, Touch screen]                                                                                                                                      178\n",
            "                                                                                                                                                                                      ... \n",
            "[Alloy wheels (18\"), Automatically dimming interior mirror, Catalytic Converter, E10-enabled, Headlight washer system, Sport package, Sport seats, Sport suspension, Summer tyres]       1\n",
            "[Alloy wheels (18\"), Spoiler, Summer tyres, Trailer hitch]                                                                                                                               1\n",
            "[All season tyres, Alloy wheels, Automatically dimming interior mirror, Catalytic Converter, Headlight washer system, Ski bag, Sport seats, Trailer hitch, Winter tyres]                 1\n",
            "[Alloy wheels, Automatically dimming interior mirror, Headlight washer system, Sport package, Sport seats, Summer tyres]                                                                 1\n",
            "[Alloy wheels, Automatically dimming interior mirror, Ski bag, Trailer hitch]                                                                                                            1\n",
            "Name: extras, Length: 9360, dtype: int64\n"
          ]
        }
      ],
      "source": [
        "ilk_bakis(df.extras)"
      ]
    },
    {
      "cell_type": "code",
      "execution_count": null,
      "metadata": {
        "id": "FTVbrYQrT0e2"
      },
      "outputs": [],
      "source": [
        "#df[\"extras\"] = [\", \".join(item) if type(item) == list else item for item in df[\"extras\"]]"
      ]
    },
    {
      "cell_type": "code",
      "execution_count": null,
      "metadata": {
        "id": "zyB7SJ6-T0e2"
      },
      "outputs": [],
      "source": [
        "df[\"extras\"].value_counts(dropna=False).head(10)"
      ]
    },
    {
      "cell_type": "code",
      "execution_count": null,
      "metadata": {
        "id": "Z8N1Ph_rT0e2",
        "outputId": "b1c462bc-b4ca-4723-8c5f-1a403d8d7321"
      },
      "outputs": [
        {
          "name": "stdout",
          "output_type": "stream",
          "text": [
            " Sütün Adi :safety_security\n",
            " Nan deger sayisi : 3215\n",
            " Nan yüzdelik sayisi : % (11, 2)\n",
            " Value_count_degeri : [Isofix]                                                                                                                                                                                                                                                                                                                                                                                                                                                                                                                       380\n",
            "[ABS, Central door lock, Driver-side airbag, Electronic stability control, Immobilizer, Isofix, Passenger-side airbag, Power steering, Side airbag]                                                                                                                                                                                                                                                                                                                                                                            328\n",
            "[ABS, Central door lock, Driver-side airbag, Immobilizer, Isofix, Passenger-side airbag, Power steering, Side airbag, Traction control]                                                                                                                                                                                                                                                                                                                                                                                        125\n",
            "[ABS, Central door lock, Driver-side airbag, Electronic stability control, Fog lights, Isofix, Power steering, Side airbag]                                                                                                                                                                                                                                                                                                                                                                                                    121\n",
            "[ABS, Fog lights, Side airbag]                                                                                                                                                                                                                                                                                                                                                                                                                                                                                                 100\n",
            "                                                                                                                                                                                                                                                                                                                                                                                                                                                                                                                              ... \n",
            "[Daytime running lights, Emergency brake assistant, Fog lights, Isofix, LED Daytime Running Lights, Lane departure warning system, Power steering, Tire pressure monitoring system]                                                                                                                                                                                                                                                                                                                                              1\n",
            "[ABS, Adaptive Cruise Control, Central door lock, Daytime running lights, Driver drowsiness detection, Driver-side airbag, Electronic stability control, Emergency brake assistant, Emergency system, Fog lights, Full-LED headlights, Glare-free high beam headlights, Immobilizer, Isofix, LED Headlights, Lane departure warning system, Passenger-side airbag, Power steering, Side airbag, Tire pressure monitoring system, Traction control]                                                                               1\n",
            "[ABS, Driver-side airbag, Electronic stability control, Emergency brake assistant, Immobilizer, LED Daytime Running Lights, Passenger-side airbag, Side airbag, Tire pressure monitoring system, Traction control]                                                                                                                                                                                                                                                                                                               1\n",
            "[ABS, Blind spot monitor, Central door lock, Daytime running lights, Distance warning system, Driver drowsiness detection, Driver-side airbag, Electronic stability control, Emergency system, Fog lights, Full-LED headlights, Head airbag, High beam assist, Immobilizer, Isofix, LED Daytime Running Lights, LED Headlights, Lane departure warning system, Passenger-side airbag, Power steering, Side airbag, Speed limit control system, Tire pressure monitoring system, Traction control, Traffic sign recognition]      1\n",
            "[ABS, Alarm system, Central door lock, Central door lock with remote control, Driver-side airbag, Electronic stability control, Fog lights, Head airbag, Immobilizer, Power steering, Side airbag, Traction control]                                                                                                                                                                                                                                                                                                             1\n",
            "Name: safety_security, Length: 12549, dtype: int64\n"
          ]
        }
      ],
      "source": [
        "ilk_bakis(df.safety_security)"
      ]
    },
    {
      "cell_type": "code",
      "execution_count": null,
      "metadata": {
        "id": "qCUDmZgGT0e2"
      },
      "outputs": [],
      "source": [
        "df[\"safety_security\"] = [\", \".join(item) if type(item) == list else item for item in df[\"safety_security\"]]"
      ]
    },
    {
      "cell_type": "code",
      "execution_count": null,
      "metadata": {
        "id": "B5nxciEoT0e2",
        "outputId": "9d2e32d8-b92f-4462-c6df-8d3d40e4b7be"
      },
      "outputs": [
        {
          "data": {
            "text/plain": [
              "NaN                                                                                                                                                  3215\n",
              "Isofix                                                                                                                                                380\n",
              "ABS, Central door lock, Driver-side airbag, Electronic stability control, Immobilizer, Isofix, Passenger-side airbag, Power steering, Side airbag     328\n",
              "ABS, Central door lock, Driver-side airbag, Immobilizer, Isofix, Passenger-side airbag, Power steering, Side airbag, Traction control                 125\n",
              "ABS, Central door lock, Driver-side airbag, Electronic stability control, Fog lights, Isofix, Power steering, Side airbag                             121\n",
              "Name: safety_security, dtype: int64"
            ]
          },
          "execution_count": 1880,
          "metadata": {},
          "output_type": "execute_result"
        }
      ],
      "source": [
        "df[\"safety_security\"].value_counts(dropna=False).head()"
      ]
    },
    {
      "cell_type": "code",
      "execution_count": null,
      "metadata": {
        "id": "u3i4Rtv3T0e2"
      },
      "outputs": [],
      "source": []
    },
    {
      "cell_type": "code",
      "execution_count": null,
      "metadata": {
        "id": "WmvaCZvIT0e2",
        "outputId": "09da1667-f77f-4245-8f91-0a50a6747071"
      },
      "outputs": [
        {
          "data": {
            "text/plain": [
              "3892"
            ]
          },
          "execution_count": 1881,
          "metadata": {},
          "output_type": "execute_result"
        }
      ],
      "source": [
        "\n",
        "df.astype(str).duplicated(keep=False).sum()# sum () ile topöam yinelenen  satir sayisini tespit etmis olduik"
      ]
    },
    {
      "cell_type": "code",
      "execution_count": null,
      "metadata": {
        "id": "UIt8lKbBT0e2",
        "outputId": "018f0a24-a524-4088-c89b-5f9bdccb894d"
      },
      "outputs": [
        {
          "data": {
            "text/html": [
              "<div>\n",
              "<style scoped>\n",
              "    .dataframe tbody tr th:only-of-type {\n",
              "        vertical-align: middle;\n",
              "    }\n",
              "\n",
              "    .dataframe tbody tr th {\n",
              "        vertical-align: top;\n",
              "    }\n",
              "\n",
              "    .dataframe thead th {\n",
              "        text-align: right;\n",
              "    }\n",
              "</style>\n",
              "<table border=\"1\" class=\"dataframe\">\n",
              "  <thead>\n",
              "    <tr style=\"text-align: right;\">\n",
              "      <th></th>\n",
              "      <th>make_model</th>\n",
              "      <th>make</th>\n",
              "      <th>location</th>\n",
              "      <th>price</th>\n",
              "      <th>body_type</th>\n",
              "      <th>type</th>\n",
              "      <th>doors</th>\n",
              "      <th>warranty</th>\n",
              "      <th>mileage</th>\n",
              "      <th>gearbox</th>\n",
              "      <th>...</th>\n",
              "      <th>comfort_convenience</th>\n",
              "      <th>entertainment_media</th>\n",
              "      <th>safety_security</th>\n",
              "      <th>full_service_history</th>\n",
              "      <th>age</th>\n",
              "      <th>power_kW</th>\n",
              "      <th>power_hp</th>\n",
              "      <th>cons_avg</th>\n",
              "      <th>cons_country</th>\n",
              "      <th>cons_city</th>\n",
              "    </tr>\n",
              "  </thead>\n",
              "  <tbody>\n",
              "    <tr>\n",
              "      <th>142</th>\n",
              "      <td>Mercedes-Benz A 45 AMG</td>\n",
              "      <td>Mercedes-Benz</td>\n",
              "      <td>RONDA PONENT 62,  8201 SABADELL, ES</td>\n",
              "      <td>72890.0</td>\n",
              "      <td>Compact</td>\n",
              "      <td>Used</td>\n",
              "      <td>5.0</td>\n",
              "      <td>12.0</td>\n",
              "      <td>12900.0</td>\n",
              "      <td>Automatic</td>\n",
              "      <td>...</td>\n",
              "      <td>NaN</td>\n",
              "      <td>0</td>\n",
              "      <td>NaN</td>\n",
              "      <td>No</td>\n",
              "      <td>1.0</td>\n",
              "      <td>310.0</td>\n",
              "      <td>421.0</td>\n",
              "      <td>8.4</td>\n",
              "      <td>8.4</td>\n",
              "      <td>10.9</td>\n",
              "    </tr>\n",
              "    <tr>\n",
              "      <th>237</th>\n",
              "      <td>Mercedes-Benz CL</td>\n",
              "      <td>Mercedes-Benz</td>\n",
              "      <td>--,  77240 Vert St Denis, FR</td>\n",
              "      <td>39990.0</td>\n",
              "      <td>Compact</td>\n",
              "      <td>Used</td>\n",
              "      <td>5.0</td>\n",
              "      <td>NaN</td>\n",
              "      <td>8500.0</td>\n",
              "      <td>Automatic</td>\n",
              "      <td>...</td>\n",
              "      <td>Air conditioning, Armrest, Automatic climate c...</td>\n",
              "      <td>1</td>\n",
              "      <td>ABS, Central door lock, Central door lock with...</td>\n",
              "      <td>No</td>\n",
              "      <td>0.0</td>\n",
              "      <td>NaN</td>\n",
              "      <td>NaN</td>\n",
              "      <td>NaN</td>\n",
              "      <td>NaN</td>\n",
              "      <td>NaN</td>\n",
              "    </tr>\n",
              "    <tr>\n",
              "      <th>253</th>\n",
              "      <td>Mercedes-Benz CL</td>\n",
              "      <td>Mercedes-Benz</td>\n",
              "      <td>--,  77240 Vert St Denis, FR</td>\n",
              "      <td>39990.0</td>\n",
              "      <td>Compact</td>\n",
              "      <td>Used</td>\n",
              "      <td>5.0</td>\n",
              "      <td>NaN</td>\n",
              "      <td>8500.0</td>\n",
              "      <td>Automatic</td>\n",
              "      <td>...</td>\n",
              "      <td>Air conditioning, Armrest, Automatic climate c...</td>\n",
              "      <td>1</td>\n",
              "      <td>ABS, Central door lock, Central door lock with...</td>\n",
              "      <td>No</td>\n",
              "      <td>0.0</td>\n",
              "      <td>NaN</td>\n",
              "      <td>NaN</td>\n",
              "      <td>NaN</td>\n",
              "      <td>NaN</td>\n",
              "      <td>NaN</td>\n",
              "    </tr>\n",
              "    <tr>\n",
              "      <th>263</th>\n",
              "      <td>Mercedes-Benz CL</td>\n",
              "      <td>Mercedes-Benz</td>\n",
              "      <td>--,  77240 Vert St Denis, FR</td>\n",
              "      <td>39990.0</td>\n",
              "      <td>Compact</td>\n",
              "      <td>Used</td>\n",
              "      <td>5.0</td>\n",
              "      <td>NaN</td>\n",
              "      <td>8500.0</td>\n",
              "      <td>Automatic</td>\n",
              "      <td>...</td>\n",
              "      <td>Air conditioning, Armrest, Automatic climate c...</td>\n",
              "      <td>1</td>\n",
              "      <td>ABS, Central door lock, Central door lock with...</td>\n",
              "      <td>No</td>\n",
              "      <td>0.0</td>\n",
              "      <td>NaN</td>\n",
              "      <td>NaN</td>\n",
              "      <td>NaN</td>\n",
              "      <td>NaN</td>\n",
              "      <td>NaN</td>\n",
              "    </tr>\n",
              "    <tr>\n",
              "      <th>276</th>\n",
              "      <td>Mercedes-Benz A 45 AMG</td>\n",
              "      <td>Mercedes-Benz</td>\n",
              "      <td>RONDA PONENT 62,  8201 SABADELL, ES</td>\n",
              "      <td>72890.0</td>\n",
              "      <td>Compact</td>\n",
              "      <td>Used</td>\n",
              "      <td>5.0</td>\n",
              "      <td>12.0</td>\n",
              "      <td>12900.0</td>\n",
              "      <td>Automatic</td>\n",
              "      <td>...</td>\n",
              "      <td>NaN</td>\n",
              "      <td>0</td>\n",
              "      <td>NaN</td>\n",
              "      <td>No</td>\n",
              "      <td>1.0</td>\n",
              "      <td>310.0</td>\n",
              "      <td>421.0</td>\n",
              "      <td>8.4</td>\n",
              "      <td>8.4</td>\n",
              "      <td>10.9</td>\n",
              "    </tr>\n",
              "    <tr>\n",
              "      <th>...</th>\n",
              "      <td>...</td>\n",
              "      <td>...</td>\n",
              "      <td>...</td>\n",
              "      <td>...</td>\n",
              "      <td>...</td>\n",
              "      <td>...</td>\n",
              "      <td>...</td>\n",
              "      <td>...</td>\n",
              "      <td>...</td>\n",
              "      <td>...</td>\n",
              "      <td>...</td>\n",
              "      <td>...</td>\n",
              "      <td>...</td>\n",
              "      <td>...</td>\n",
              "      <td>...</td>\n",
              "      <td>...</td>\n",
              "      <td>...</td>\n",
              "      <td>...</td>\n",
              "      <td>...</td>\n",
              "      <td>...</td>\n",
              "      <td>...</td>\n",
              "    </tr>\n",
              "    <tr>\n",
              "      <th>29079</th>\n",
              "      <td>Volvo V60 Cross Country</td>\n",
              "      <td>Volvo</td>\n",
              "      <td>Via Ca' Baroncello, 32/B,  36061 Bassano Del G...</td>\n",
              "      <td>32500.0</td>\n",
              "      <td>Station wagon</td>\n",
              "      <td>Used</td>\n",
              "      <td>5.0</td>\n",
              "      <td>NaN</td>\n",
              "      <td>142000.0</td>\n",
              "      <td>Automatic</td>\n",
              "      <td>...</td>\n",
              "      <td>Air conditioning, Armrest, Automatic climate c...</td>\n",
              "      <td>1</td>\n",
              "      <td>Adaptive Cruise Control, Blind spot monitor, D...</td>\n",
              "      <td>No</td>\n",
              "      <td>3.0</td>\n",
              "      <td>140.0</td>\n",
              "      <td>190.0</td>\n",
              "      <td>5.4</td>\n",
              "      <td>5.4</td>\n",
              "      <td>6.3</td>\n",
              "    </tr>\n",
              "    <tr>\n",
              "      <th>29399</th>\n",
              "      <td>Volvo S90</td>\n",
              "      <td>Volvo</td>\n",
              "      <td>Von-Drais-Str. 2,  77855 Achern, DE</td>\n",
              "      <td>31488.0</td>\n",
              "      <td>Sedan</td>\n",
              "      <td>Used</td>\n",
              "      <td>4.0</td>\n",
              "      <td>NaN</td>\n",
              "      <td>84000.0</td>\n",
              "      <td>Automatic</td>\n",
              "      <td>...</td>\n",
              "      <td>Air conditioning, Automatic climate control, A...</td>\n",
              "      <td>1</td>\n",
              "      <td>ABS, Adaptive headlights, Central door lock, D...</td>\n",
              "      <td>No</td>\n",
              "      <td>5.0</td>\n",
              "      <td>173.0</td>\n",
              "      <td>235.0</td>\n",
              "      <td>4.8</td>\n",
              "      <td>4.8</td>\n",
              "      <td>5.7</td>\n",
              "    </tr>\n",
              "    <tr>\n",
              "      <th>29400</th>\n",
              "      <td>Volvo S90</td>\n",
              "      <td>Volvo</td>\n",
              "      <td>Von-Drais-Str. 2,  77855 Achern, DE</td>\n",
              "      <td>31488.0</td>\n",
              "      <td>Sedan</td>\n",
              "      <td>Used</td>\n",
              "      <td>4.0</td>\n",
              "      <td>NaN</td>\n",
              "      <td>84000.0</td>\n",
              "      <td>Automatic</td>\n",
              "      <td>...</td>\n",
              "      <td>Air conditioning, Automatic climate control, A...</td>\n",
              "      <td>1</td>\n",
              "      <td>ABS, Adaptive headlights, Central door lock, D...</td>\n",
              "      <td>No</td>\n",
              "      <td>5.0</td>\n",
              "      <td>173.0</td>\n",
              "      <td>235.0</td>\n",
              "      <td>4.8</td>\n",
              "      <td>4.8</td>\n",
              "      <td>5.7</td>\n",
              "    </tr>\n",
              "    <tr>\n",
              "      <th>29439</th>\n",
              "      <td>Volvo V40</td>\n",
              "      <td>Volvo</td>\n",
              "      <td>19 rue des Alliés,  57050 Metz, FR</td>\n",
              "      <td>18999.0</td>\n",
              "      <td>Sedan</td>\n",
              "      <td>Used</td>\n",
              "      <td>5.0</td>\n",
              "      <td>12.0</td>\n",
              "      <td>93257.0</td>\n",
              "      <td>Automatic</td>\n",
              "      <td>...</td>\n",
              "      <td>Armrest, Automatic climate control, 2 zones, A...</td>\n",
              "      <td>0</td>\n",
              "      <td>ABS, Driver-side airbag, Emergency brake assis...</td>\n",
              "      <td>No</td>\n",
              "      <td>4.0</td>\n",
              "      <td>112.0</td>\n",
              "      <td>152.0</td>\n",
              "      <td>NaN</td>\n",
              "      <td>NaN</td>\n",
              "      <td>NaN</td>\n",
              "    </tr>\n",
              "    <tr>\n",
              "      <th>29441</th>\n",
              "      <td>Volvo V40</td>\n",
              "      <td>Volvo</td>\n",
              "      <td>19 rue des Alliés,  57050 Metz, FR</td>\n",
              "      <td>18999.0</td>\n",
              "      <td>Sedan</td>\n",
              "      <td>Used</td>\n",
              "      <td>5.0</td>\n",
              "      <td>12.0</td>\n",
              "      <td>93257.0</td>\n",
              "      <td>Automatic</td>\n",
              "      <td>...</td>\n",
              "      <td>Armrest, Automatic climate control, 2 zones, A...</td>\n",
              "      <td>0</td>\n",
              "      <td>ABS, Driver-side airbag, Emergency brake assis...</td>\n",
              "      <td>No</td>\n",
              "      <td>4.0</td>\n",
              "      <td>112.0</td>\n",
              "      <td>152.0</td>\n",
              "      <td>NaN</td>\n",
              "      <td>NaN</td>\n",
              "      <td>NaN</td>\n",
              "    </tr>\n",
              "  </tbody>\n",
              "</table>\n",
              "<p>3892 rows × 26 columns</p>\n",
              "</div>"
            ],
            "text/plain": [
              "                    make_model           make  \\\n",
              "142     Mercedes-Benz A 45 AMG  Mercedes-Benz   \n",
              "237           Mercedes-Benz CL  Mercedes-Benz   \n",
              "253           Mercedes-Benz CL  Mercedes-Benz   \n",
              "263           Mercedes-Benz CL  Mercedes-Benz   \n",
              "276     Mercedes-Benz A 45 AMG  Mercedes-Benz   \n",
              "...                        ...            ...   \n",
              "29079  Volvo V60 Cross Country          Volvo   \n",
              "29399                Volvo S90          Volvo   \n",
              "29400                Volvo S90          Volvo   \n",
              "29439                Volvo V40          Volvo   \n",
              "29441                Volvo V40          Volvo   \n",
              "\n",
              "                                                location    price  \\\n",
              "142                  RONDA PONENT 62,  8201 SABADELL, ES  72890.0   \n",
              "237                         --,  77240 Vert St Denis, FR  39990.0   \n",
              "253                         --,  77240 Vert St Denis, FR  39990.0   \n",
              "263                         --,  77240 Vert St Denis, FR  39990.0   \n",
              "276                  RONDA PONENT 62,  8201 SABADELL, ES  72890.0   \n",
              "...                                                  ...      ...   \n",
              "29079  Via Ca' Baroncello, 32/B,  36061 Bassano Del G...  32500.0   \n",
              "29399                Von-Drais-Str. 2,  77855 Achern, DE  31488.0   \n",
              "29400                Von-Drais-Str. 2,  77855 Achern, DE  31488.0   \n",
              "29439                 19 rue des Alliés,  57050 Metz, FR  18999.0   \n",
              "29441                 19 rue des Alliés,  57050 Metz, FR  18999.0   \n",
              "\n",
              "           body_type  type  doors  warranty   mileage    gearbox  ...  \\\n",
              "142          Compact  Used    5.0      12.0   12900.0  Automatic  ...   \n",
              "237          Compact  Used    5.0       NaN    8500.0  Automatic  ...   \n",
              "253          Compact  Used    5.0       NaN    8500.0  Automatic  ...   \n",
              "263          Compact  Used    5.0       NaN    8500.0  Automatic  ...   \n",
              "276          Compact  Used    5.0      12.0   12900.0  Automatic  ...   \n",
              "...              ...   ...    ...       ...       ...        ...  ...   \n",
              "29079  Station wagon  Used    5.0       NaN  142000.0  Automatic  ...   \n",
              "29399          Sedan  Used    4.0       NaN   84000.0  Automatic  ...   \n",
              "29400          Sedan  Used    4.0       NaN   84000.0  Automatic  ...   \n",
              "29439          Sedan  Used    5.0      12.0   93257.0  Automatic  ...   \n",
              "29441          Sedan  Used    5.0      12.0   93257.0  Automatic  ...   \n",
              "\n",
              "                                     comfort_convenience entertainment_media  \\\n",
              "142                                                  NaN                   0   \n",
              "237    Air conditioning, Armrest, Automatic climate c...                   1   \n",
              "253    Air conditioning, Armrest, Automatic climate c...                   1   \n",
              "263    Air conditioning, Armrest, Automatic climate c...                   1   \n",
              "276                                                  NaN                   0   \n",
              "...                                                  ...                 ...   \n",
              "29079  Air conditioning, Armrest, Automatic climate c...                   1   \n",
              "29399  Air conditioning, Automatic climate control, A...                   1   \n",
              "29400  Air conditioning, Automatic climate control, A...                   1   \n",
              "29439  Armrest, Automatic climate control, 2 zones, A...                   0   \n",
              "29441  Armrest, Automatic climate control, 2 zones, A...                   0   \n",
              "\n",
              "                                         safety_security  \\\n",
              "142                                                  NaN   \n",
              "237    ABS, Central door lock, Central door lock with...   \n",
              "253    ABS, Central door lock, Central door lock with...   \n",
              "263    ABS, Central door lock, Central door lock with...   \n",
              "276                                                  NaN   \n",
              "...                                                  ...   \n",
              "29079  Adaptive Cruise Control, Blind spot monitor, D...   \n",
              "29399  ABS, Adaptive headlights, Central door lock, D...   \n",
              "29400  ABS, Adaptive headlights, Central door lock, D...   \n",
              "29439  ABS, Driver-side airbag, Emergency brake assis...   \n",
              "29441  ABS, Driver-side airbag, Emergency brake assis...   \n",
              "\n",
              "       full_service_history  age  power_kW power_hp  cons_avg cons_country  \\\n",
              "142                      No  1.0     310.0    421.0       8.4          8.4   \n",
              "237                      No  0.0       NaN      NaN       NaN          NaN   \n",
              "253                      No  0.0       NaN      NaN       NaN          NaN   \n",
              "263                      No  0.0       NaN      NaN       NaN          NaN   \n",
              "276                      No  1.0     310.0    421.0       8.4          8.4   \n",
              "...                     ...  ...       ...      ...       ...          ...   \n",
              "29079                    No  3.0     140.0    190.0       5.4          5.4   \n",
              "29399                    No  5.0     173.0    235.0       4.8          4.8   \n",
              "29400                    No  5.0     173.0    235.0       4.8          4.8   \n",
              "29439                    No  4.0     112.0    152.0       NaN          NaN   \n",
              "29441                    No  4.0     112.0    152.0       NaN          NaN   \n",
              "\n",
              "      cons_city  \n",
              "142        10.9  \n",
              "237         NaN  \n",
              "253         NaN  \n",
              "263         NaN  \n",
              "276        10.9  \n",
              "...         ...  \n",
              "29079       6.3  \n",
              "29399       5.7  \n",
              "29400       5.7  \n",
              "29439       NaN  \n",
              "29441       NaN  \n",
              "\n",
              "[3892 rows x 26 columns]"
            ]
          },
          "execution_count": 1882,
          "metadata": {},
          "output_type": "execute_result"
        }
      ],
      "source": [
        "df[df.astype(str).duplicated(keep=False)]"
      ]
    },
    {
      "cell_type": "code",
      "execution_count": null,
      "metadata": {
        "id": "BoH1DzacT0e2"
      },
      "outputs": [],
      "source": []
    },
    {
      "cell_type": "code",
      "execution_count": null,
      "metadata": {
        "id": "al45C2xzT0e3"
      },
      "outputs": [],
      "source": []
    },
    {
      "cell_type": "code",
      "execution_count": null,
      "metadata": {
        "id": "UGrhP9eJT0e3"
      },
      "outputs": [],
      "source": [
        "def drop_columns_nan(dataframe, percentage=50):\n",
        "    nan_percent = dataframe.isna().sum() / len(dataframe) * 100\n",
        "\n",
        "    # get the column names with more than percentage% NaN values\n",
        "    cols_to_drop = nan_percent[nan_percent > percentage].index.tolist()\n",
        "\n",
        "    # drop the columns that exist in the DataFrame\n",
        "    cols_to_drop_existing = [col for col in cols_to_drop if col in dataframe.columns]\n",
        "    dataframe = dataframe.drop(cols_to_drop_existing, axis=1)\n",
        "\n",
        "    return dataframe\n",
        "\n",
        "# DROP\n",
        "columns_to_drop = ['offer_number','colour', 'desc_lang', 'desc_lang2', 'desc_en', 'fuel_consumption', 'fuel_consumption_comb', 'address', 'latitude', 'longitude', 'short_description', 'desc']\n",
        "df = drop_columns_nan(df, 20)\n",
        "df = df.drop(columns_to_drop, axis=1, errors='ignore')\n",
        "df = df.drop('power', axis=1, errors='ignore')"
      ]
    },
    {
      "cell_type": "code",
      "execution_count": null,
      "metadata": {
        "id": "FQYiZuncT0e3"
      },
      "outputs": [],
      "source": []
    },
    {
      "cell_type": "code",
      "execution_count": null,
      "metadata": {
        "id": "hUuQQAv_T0e3"
      },
      "outputs": [],
      "source": []
    },
    {
      "cell_type": "code",
      "execution_count": null,
      "metadata": {
        "id": "fuUdC7KFT0e3"
      },
      "outputs": [],
      "source": [
        "#df.drop_duplicates(keep='first', inplace=True) # 850 adet nun satırı ve tekrar eden verileri silmek için\n",
        "#df.reset_index(drop=True, inplace=True) # index ifadeleri tekrar düzenlemek için"
      ]
    },
    {
      "cell_type": "code",
      "execution_count": null,
      "metadata": {
        "id": "Hfi5fHq-T0e3"
      },
      "outputs": [],
      "source": [
        "def def_fill_miss0(data, col_num, agg_func, col_target, first_col, second_col=None, third_col=None):\n",
        "    '''\n",
        "\n",
        "    This function is created to fill in missing data according to similar properties of other columns.\n",
        "\n",
        "    '''\n",
        "    indexes = data[data[col_target].isnull()==True].index\n",
        "\n",
        "    if agg_func == 'mode':\n",
        "        if col_num == 1:\n",
        "            for i in indexes:\n",
        "                a = data[data[first_col]==data[first_col][i]][col_target].mode()\n",
        "                if len(a) > 0:\n",
        "                    data[col_target][i] = a[0]\n",
        "                else:\n",
        "                    data[col_target][i] = data[col_target].mode()[0]"
      ]
    },
    {
      "cell_type": "code",
      "execution_count": null,
      "metadata": {
        "id": "A1v5ND45T0e3"
      },
      "outputs": [],
      "source": [
        "def def_fill_miss1(data, col_num, agg_func, col_target, first_col, second_col=None, third_col=None):\n",
        "    '''\n",
        "\n",
        "    This function is created to fill in missing data according to similar properties of other columns.\n",
        "\n",
        "    '''\n",
        "    indexes = data[data[col_target].isnull()==True].index\n",
        "\n",
        "    if agg_func == 'mode':\n",
        "        if col_num == 1:\n",
        "            for i in indexes:\n",
        "                a = data[data[first_col]==data[first_col][i]][col_target].mode()\n",
        "                if len(a) > 0:\n",
        "                    data[col_target][i] = a[0]\n",
        "                else:\n",
        "                    data[col_target][i] = data[col_target].mode()[0]\n",
        "        elif col_num == 2:\n",
        "                for i in indexes:\n",
        "                    a = data[(data[first_col]==data[first_col][i]) & (data[second_col]==data[second_col][i])][col_target].mode()\n",
        "                    if len(a) > 0:\n",
        "                        data[col_target][i] = a[0]\n",
        "                    else:\n",
        "                        aa = data[data[first_col]==data[first_col][i]][col_target].mode()\n",
        "                        if len(aa) > 0:\n",
        "                            data[col_target][i] = aa[0]\n",
        "                        else:\n",
        "                            data[col_target][i] = data[col_target].mode()[0]"
      ]
    },
    {
      "cell_type": "code",
      "execution_count": null,
      "metadata": {
        "id": "RfhYh6bmT0e3"
      },
      "outputs": [],
      "source": [
        "#**KATAGORIK DEGERLERI SAYILSALA CEVIRIYORUZ**"
      ]
    },
    {
      "cell_type": "code",
      "execution_count": null,
      "metadata": {
        "id": "yCYnau9pT0e3"
      },
      "outputs": [],
      "source": [
        "Modelx0, labels0 = pd.factorize(df[\"make_model\"])\n",
        "df[\"make_model\"] = Modelx0"
      ]
    },
    {
      "cell_type": "code",
      "execution_count": null,
      "metadata": {
        "id": "UUijJgH6T0e3"
      },
      "outputs": [],
      "source": [
        "Modelx0, labels0 = pd.factorize(df[\"make\"])\n",
        "df[\"make\"] = Modelx0"
      ]
    },
    {
      "cell_type": "code",
      "execution_count": null,
      "metadata": {
        "id": "hTGTANeRT0e4"
      },
      "outputs": [],
      "source": [
        "Modelx0, labels0 = pd.factorize(df[\"seats\"])\n",
        "df[\"seats\"] = Modelx0"
      ]
    },
    {
      "cell_type": "code",
      "execution_count": null,
      "metadata": {
        "id": "qqz0Bfc5T0e4"
      },
      "outputs": [],
      "source": [
        "Modelx0, labels0 = pd.factorize(df[\"doors\"])\n",
        "df[\"doors\"] = Modelx0"
      ]
    },
    {
      "cell_type": "code",
      "execution_count": null,
      "metadata": {
        "id": "2YJ1h50hT0e4"
      },
      "outputs": [],
      "source": [
        "Modelx0, labels0 = pd.factorize(df[\"fuel_type\"])\n",
        "df[\"fuel_type\"] = Modelx0"
      ]
    },
    {
      "cell_type": "code",
      "execution_count": null,
      "metadata": {
        "id": "ZFBQ6rfdT0e4"
      },
      "outputs": [],
      "source": [
        "Modelx0, labels0 = pd.factorize(df[\"safety_security\"])\n",
        "df[\"safety_security\"] = Modelx0"
      ]
    },
    {
      "cell_type": "code",
      "execution_count": null,
      "metadata": {
        "id": "rIn83_vXT0e4"
      },
      "outputs": [],
      "source": [
        "Modelx0, labels0 = pd.factorize(df[\"power_kW\"])\n",
        "df[\"power_kW\"] = Modelx0"
      ]
    },
    {
      "cell_type": "code",
      "execution_count": null,
      "metadata": {
        "id": "Lgu49DazT0e4"
      },
      "outputs": [],
      "source": [
        "Modelx0, labels0 = pd.factorize(df[\"cons_avg\"])\n",
        "df[\"cons_avg\"] = Modelx0"
      ]
    },
    {
      "cell_type": "code",
      "execution_count": null,
      "metadata": {
        "id": "sP6GBX6QT0e4"
      },
      "outputs": [],
      "source": [
        "Modelx0, labels0 = pd.factorize(df[\"cons_country\"])\n",
        "df[\"cons_country\"] = Modelx0"
      ]
    },
    {
      "cell_type": "code",
      "execution_count": null,
      "metadata": {
        "id": "2z4kbTKjT0e4"
      },
      "outputs": [],
      "source": [
        "Modelx0, labels0 = pd.factorize(df[\"cons_city\"])\n",
        "df[\"cons_city\"] = Modelx0"
      ]
    },
    {
      "cell_type": "code",
      "execution_count": null,
      "metadata": {
        "id": "xeFCoV7OT0e4"
      },
      "outputs": [],
      "source": [
        "Modelx0, labels0 = pd.factorize(df[\"location\"])\n",
        "df[\"location\"] = Modelx0"
      ]
    },
    {
      "cell_type": "code",
      "execution_count": null,
      "metadata": {
        "id": "_br_0PitT0e4"
      },
      "outputs": [],
      "source": [
        "Modelx0, labels0 = pd.factorize(df[\"body_type\"])\n",
        "df[\"body_type\"] = Modelx0"
      ]
    },
    {
      "cell_type": "code",
      "execution_count": null,
      "metadata": {
        "id": "93gcmLJiT0e5"
      },
      "outputs": [],
      "source": [
        "Modelx0, labels0 = pd.factorize(df[\"type\"])\n",
        "df[\"type\"] = Modelx0"
      ]
    },
    {
      "cell_type": "code",
      "execution_count": null,
      "metadata": {
        "id": "LkiDNO85T0e5"
      },
      "outputs": [],
      "source": [
        "Modelx0, labels0 = pd.factorize(df[\"warranty\"])\n",
        "df[\"warranty\"] = Modelx0"
      ]
    },
    {
      "cell_type": "code",
      "execution_count": null,
      "metadata": {
        "id": "vH4XxFJ0T0e5"
      },
      "outputs": [],
      "source": [
        "Modelx0, labels0 = pd.factorize(df[\"gearbox\"])\n",
        "df[\"gearbox\"] = Modelx0"
      ]
    },
    {
      "cell_type": "code",
      "execution_count": null,
      "metadata": {
        "id": "iceCdwLTT0e5"
      },
      "outputs": [],
      "source": [
        "Modelx0, labels0 = pd.factorize(df[\"cylinders\"])\n",
        "df[\"cylinders\"] = Modelx0"
      ]
    },
    {
      "cell_type": "code",
      "execution_count": null,
      "metadata": {
        "id": "cR1tNL8pT0e5"
      },
      "outputs": [],
      "source": [
        "Modelx0, labels0 = pd.factorize(df[\"comfort_convenience\"])\n",
        "df[\"comfort_convenience\"] = Modelx0"
      ]
    },
    {
      "cell_type": "code",
      "execution_count": null,
      "metadata": {
        "id": "75kney_LT0e5"
      },
      "outputs": [],
      "source": [
        "Modelx0, labels0  = pd.factorize(df[\"power_hp\"])\n",
        "df[\"power_hp\"] = Modelx0"
      ]
    },
    {
      "cell_type": "code",
      "execution_count": null,
      "metadata": {
        "id": "8LeL7ye-T0e5"
      },
      "outputs": [],
      "source": [
        "Modelx0, labels0  = pd.factorize(df[\"paint\"])\n",
        "df[\"paint\"] = Modelx0"
      ]
    },
    {
      "cell_type": "code",
      "execution_count": null,
      "metadata": {
        "id": "K6I0ZJfUT0e5"
      },
      "outputs": [],
      "source": [
        "odelx0, labels0  = pd.factorize(df[\"seller\"])\n",
        "df[\"seller\"] = Modelx0"
      ]
    },
    {
      "cell_type": "code",
      "execution_count": null,
      "metadata": {
        "id": "7Ndx3fELT0e5"
      },
      "outputs": [],
      "source": [
        "Modelx0, labels0  = pd.factorize(df[\"full_service_history\"])\n",
        "df[\"full_service_history\"] = Modelx0"
      ]
    },
    {
      "cell_type": "raw",
      "metadata": {
        "id": "wBtAli_MT0e5"
      },
      "source": [
        "df.info()"
      ]
    },
    {
      "cell_type": "code",
      "execution_count": null,
      "metadata": {
        "id": "KZlZWFr8T0e5",
        "outputId": "0ccb0d6c-4713-4c77-e608-db420ef66c20"
      },
      "outputs": [
        {
          "data": {
            "image/png": "[encoded data removed]",
            "text/plain": [
              "<Figure size 1152x1080 with 1 Axes>"
            ]
          },
          "metadata": {
            "needs_background": "light"
          },
          "output_type": "display_data"
        }
      ],
      "source": [
        " show_nulls(df)"
      ]
    },
    {
      "cell_type": "code",
      "execution_count": null,
      "metadata": {
        "id": "-jnd-agqT0e6",
        "outputId": "05eee2f3-6da3-40e2-baa9-333427ce7924"
      },
      "outputs": [
        {
          "data": {
            "text/html": [
              "<div>\n",
              "<style scoped>\n",
              "    .dataframe tbody tr th:only-of-type {\n",
              "        vertical-align: middle;\n",
              "    }\n",
              "\n",
              "    .dataframe tbody tr th {\n",
              "        vertical-align: top;\n",
              "    }\n",
              "\n",
              "    .dataframe thead th {\n",
              "        text-align: right;\n",
              "    }\n",
              "</style>\n",
              "<table border=\"1\" class=\"dataframe\">\n",
              "  <thead>\n",
              "    <tr style=\"text-align: right;\">\n",
              "      <th></th>\n",
              "      <th>0</th>\n",
              "      <th>1</th>\n",
              "      <th>2</th>\n",
              "    </tr>\n",
              "  </thead>\n",
              "  <tbody>\n",
              "    <tr>\n",
              "      <th>make_model</th>\n",
              "      <td>Mercedes-Benz A 160</td>\n",
              "      <td>Mercedes-Benz EQE 350</td>\n",
              "      <td>Mercedes-Benz A 45 AMG</td>\n",
              "    </tr>\n",
              "    <tr>\n",
              "      <th>make</th>\n",
              "      <td>Mercedes-Benz</td>\n",
              "      <td>Mercedes-Benz</td>\n",
              "      <td>Mercedes-Benz</td>\n",
              "    </tr>\n",
              "    <tr>\n",
              "      <th>location</th>\n",
              "      <td>P.I. EL PALMAR C/FORJA 6,  11500 PUERTO DE SAN...</td>\n",
              "      <td>APARTADO DE CORREOS 1032,  26140 LOGROÑO, ES</td>\n",
              "      <td>PORT. TARRACO, MOLL DE LLEVANT, Nº 5, LOC. 6-8...</td>\n",
              "    </tr>\n",
              "    <tr>\n",
              "      <th>price</th>\n",
              "      <td>16950.0</td>\n",
              "      <td>80900.0</td>\n",
              "      <td>69900.0</td>\n",
              "    </tr>\n",
              "    <tr>\n",
              "      <th>body_type</th>\n",
              "      <td>Compact</td>\n",
              "      <td>Compact</td>\n",
              "      <td>Compact</td>\n",
              "    </tr>\n",
              "    <tr>\n",
              "      <th>type</th>\n",
              "      <td>Used</td>\n",
              "      <td>Pre-registered</td>\n",
              "      <td>Used</td>\n",
              "    </tr>\n",
              "    <tr>\n",
              "      <th>doors</th>\n",
              "      <td>5.0</td>\n",
              "      <td>4.0</td>\n",
              "      <td>5.0</td>\n",
              "    </tr>\n",
              "    <tr>\n",
              "      <th>warranty</th>\n",
              "      <td>24.0</td>\n",
              "      <td>24.0</td>\n",
              "      <td>12.0</td>\n",
              "    </tr>\n",
              "    <tr>\n",
              "      <th>mileage</th>\n",
              "      <td>120200.0</td>\n",
              "      <td>5000.0</td>\n",
              "      <td>18900.0</td>\n",
              "    </tr>\n",
              "    <tr>\n",
              "      <th>gearbox</th>\n",
              "      <td>Manual</td>\n",
              "      <td>Automatic</td>\n",
              "      <td>Automatic</td>\n",
              "    </tr>\n",
              "    <tr>\n",
              "      <th>fuel_type</th>\n",
              "      <td>Diesel</td>\n",
              "      <td>Electric</td>\n",
              "      <td>Benzine</td>\n",
              "    </tr>\n",
              "    <tr>\n",
              "      <th>paint</th>\n",
              "      <td>Metallic</td>\n",
              "      <td>Uni/basic</td>\n",
              "      <td>Uni/basic</td>\n",
              "    </tr>\n",
              "    <tr>\n",
              "      <th>seller</th>\n",
              "      <td>Dealer</td>\n",
              "      <td>Dealer</td>\n",
              "      <td>Dealer</td>\n",
              "    </tr>\n",
              "    <tr>\n",
              "      <th>seats</th>\n",
              "      <td>NaN</td>\n",
              "      <td>5.0</td>\n",
              "      <td>5.0</td>\n",
              "    </tr>\n",
              "    <tr>\n",
              "      <th>engine_size</th>\n",
              "      <td>0</td>\n",
              "      <td>1</td>\n",
              "      <td>1991</td>\n",
              "    </tr>\n",
              "    <tr>\n",
              "      <th>cylinders</th>\n",
              "      <td>NaN</td>\n",
              "      <td>NaN</td>\n",
              "      <td>4.0</td>\n",
              "    </tr>\n",
              "    <tr>\n",
              "      <th>comfort_convenience</th>\n",
              "      <td>NaN</td>\n",
              "      <td>NaN</td>\n",
              "      <td>NaN</td>\n",
              "    </tr>\n",
              "    <tr>\n",
              "      <th>entertainment_media</th>\n",
              "      <td>0</td>\n",
              "      <td>0</td>\n",
              "      <td>0</td>\n",
              "    </tr>\n",
              "    <tr>\n",
              "      <th>safety_security</th>\n",
              "      <td>NaN</td>\n",
              "      <td>NaN</td>\n",
              "      <td>NaN</td>\n",
              "    </tr>\n",
              "    <tr>\n",
              "      <th>full_service_history</th>\n",
              "      <td>No</td>\n",
              "      <td>No</td>\n",
              "      <td>No</td>\n",
              "    </tr>\n",
              "    <tr>\n",
              "      <th>age</th>\n",
              "      <td>6.0</td>\n",
              "      <td>0.0</td>\n",
              "      <td>2.0</td>\n",
              "    </tr>\n",
              "    <tr>\n",
              "      <th>power_kW</th>\n",
              "      <td>NaN</td>\n",
              "      <td>215.0</td>\n",
              "      <td>310.0</td>\n",
              "    </tr>\n",
              "    <tr>\n",
              "      <th>power_hp</th>\n",
              "      <td>NaN</td>\n",
              "      <td>292.0</td>\n",
              "      <td>421.0</td>\n",
              "    </tr>\n",
              "    <tr>\n",
              "      <th>cons_avg</th>\n",
              "      <td>NaN</td>\n",
              "      <td>NaN</td>\n",
              "      <td>8.4</td>\n",
              "    </tr>\n",
              "    <tr>\n",
              "      <th>cons_country</th>\n",
              "      <td>NaN</td>\n",
              "      <td>NaN</td>\n",
              "      <td>8.4</td>\n",
              "    </tr>\n",
              "    <tr>\n",
              "      <th>cons_city</th>\n",
              "      <td>NaN</td>\n",
              "      <td>NaN</td>\n",
              "      <td>10.9</td>\n",
              "    </tr>\n",
              "  </tbody>\n",
              "</table>\n",
              "</div>"
            ],
            "text/plain": [
              "                                                                      0  \\\n",
              "make_model                                          Mercedes-Benz A 160   \n",
              "make                                                      Mercedes-Benz   \n",
              "location              P.I. EL PALMAR C/FORJA 6,  11500 PUERTO DE SAN...   \n",
              "price                                                           16950.0   \n",
              "body_type                                                       Compact   \n",
              "type                                                               Used   \n",
              "doors                                                               5.0   \n",
              "warranty                                                           24.0   \n",
              "mileage                                                        120200.0   \n",
              "gearbox                                                          Manual   \n",
              "fuel_type                                                        Diesel   \n",
              "paint                                                          Metallic   \n",
              "seller                                                           Dealer   \n",
              "seats                                                               NaN   \n",
              "engine_size                                                           0   \n",
              "cylinders                                                           NaN   \n",
              "comfort_convenience                                                 NaN   \n",
              "entertainment_media                                                   0   \n",
              "safety_security                                                     NaN   \n",
              "full_service_history                                                 No   \n",
              "age                                                                 6.0   \n",
              "power_kW                                                            NaN   \n",
              "power_hp                                                            NaN   \n",
              "cons_avg                                                            NaN   \n",
              "cons_country                                                        NaN   \n",
              "cons_city                                                           NaN   \n",
              "\n",
              "                                                                 1  \\\n",
              "make_model                                   Mercedes-Benz EQE 350   \n",
              "make                                                 Mercedes-Benz   \n",
              "location              APARTADO DE CORREOS 1032,  26140 LOGROÑO, ES   \n",
              "price                                                      80900.0   \n",
              "body_type                                                  Compact   \n",
              "type                                                Pre-registered   \n",
              "doors                                                          4.0   \n",
              "warranty                                                      24.0   \n",
              "mileage                                                     5000.0   \n",
              "gearbox                                                  Automatic   \n",
              "fuel_type                                                 Electric   \n",
              "paint                                                    Uni/basic   \n",
              "seller                                                      Dealer   \n",
              "seats                                                          5.0   \n",
              "engine_size                                                      1   \n",
              "cylinders                                                      NaN   \n",
              "comfort_convenience                                            NaN   \n",
              "entertainment_media                                              0   \n",
              "safety_security                                                NaN   \n",
              "full_service_history                                            No   \n",
              "age                                                            0.0   \n",
              "power_kW                                                     215.0   \n",
              "power_hp                                                     292.0   \n",
              "cons_avg                                                       NaN   \n",
              "cons_country                                                   NaN   \n",
              "cons_city                                                      NaN   \n",
              "\n",
              "                                                                      2  \n",
              "make_model                                       Mercedes-Benz A 45 AMG  \n",
              "make                                                      Mercedes-Benz  \n",
              "location              PORT. TARRACO, MOLL DE LLEVANT, Nº 5, LOC. 6-8...  \n",
              "price                                                           69900.0  \n",
              "body_type                                                       Compact  \n",
              "type                                                               Used  \n",
              "doors                                                               5.0  \n",
              "warranty                                                           12.0  \n",
              "mileage                                                         18900.0  \n",
              "gearbox                                                       Automatic  \n",
              "fuel_type                                                       Benzine  \n",
              "paint                                                         Uni/basic  \n",
              "seller                                                           Dealer  \n",
              "seats                                                               5.0  \n",
              "engine_size                                                        1991  \n",
              "cylinders                                                           4.0  \n",
              "comfort_convenience                                                 NaN  \n",
              "entertainment_media                                                   0  \n",
              "safety_security                                                     NaN  \n",
              "full_service_history                                                 No  \n",
              "age                                                                 2.0  \n",
              "power_kW                                                          310.0  \n",
              "power_hp                                                          421.0  \n",
              "cons_avg                                                            8.4  \n",
              "cons_country                                                        8.4  \n",
              "cons_city                                                          10.9  "
            ]
          },
          "execution_count": 1888,
          "metadata": {},
          "output_type": "execute_result"
        }
      ],
      "source": [
        "df.head(3).T"
      ]
    },
    {
      "cell_type": "code",
      "execution_count": null,
      "metadata": {
        "id": "J5uvbQ4BT0e6"
      },
      "outputs": [],
      "source": []
    },
    {
      "cell_type": "code",
      "execution_count": null,
      "metadata": {
        "id": "n2yRmd5BT0e6"
      },
      "outputs": [],
      "source": []
    },
    {
      "cell_type": "code",
      "execution_count": null,
      "metadata": {
        "id": "-U-ueLe9T0e6"
      },
      "outputs": [],
      "source": []
    },
    {
      "cell_type": "code",
      "execution_count": null,
      "metadata": {
        "id": "J5Dr234sT0e6"
      },
      "outputs": [],
      "source": []
    },
    {
      "cell_type": "code",
      "execution_count": null,
      "metadata": {
        "scrolled": true,
        "id": "4sUFP_O5T0e6"
      },
      "outputs": [],
      "source": []
    },
    {
      "cell_type": "markdown",
      "metadata": {
        "id": "uGeKSdYds1MD"
      },
      "source": [
        "# PART- 2 `( Handling With Missing Vales )`"
      ]
    },
    {
      "cell_type": "code",
      "execution_count": null,
      "metadata": {
        "id": "jEvUqq88T0e6"
      },
      "outputs": [],
      "source": [
        "def def_fill_miss0(data, col_num, agg_func, col_target, first_col, second_col=None, third_col=None):\n",
        "    '''\n",
        "\n",
        "    This function is created to fill in missing data according to similar properties of other columns.\n",
        "\n",
        "    '''\n",
        "    indexes = data[data[col_target].isnull()==True].index\n",
        "\n",
        "    if agg_func == 'mode':\n",
        "        if col_num == 1:\n",
        "            for i in indexes:\n",
        "                a = data[data[first_col]==data[first_col][i]][col_target].mode()\n",
        "                if len(a) > 0:\n",
        "                    data[col_target][i] = a[0]\n",
        "                else:\n",
        "                    data[col_target][i] = data[col_target].mode()[0]"
      ]
    },
    {
      "cell_type": "code",
      "execution_count": null,
      "metadata": {
        "id": "WDZnqBhbs1ME"
      },
      "outputs": [],
      "source": [
        "def fillwithMode(col):\n",
        "    print(df[col].isna().value_counts())\n",
        "    df[col] = df.groupby(['make_model', 'body_type','age','fuel_type'])[col].transform(lambda x: x.fillna(x.mode()[0]) if not x.mode().empty else np.nan)\n",
        "    df[col] = df.groupby(['make_model', 'body_type','fuel_type'])[col].transform(lambda x: x.fillna(x.mode()[0]) if not x.mode().empty else np.nan)\n",
        "    df[col] = df.groupby(['make_model', 'body_type'])[col].transform(lambda x: x.fillna(x.mode()[0]) if not x.mode().empty else np.nan)\n",
        "    df[col] = df.groupby(['make_model'])[col].transform(lambda x: x.fillna(x.mode()[0]) if not x.mode().empty else np.nan)\n",
        "    print('after')\n",
        "    print(df[col].isna().value_counts())"
      ]
    },
    {
      "cell_type": "code",
      "execution_count": null,
      "metadata": {
        "id": "mnU1o96qT0e6"
      },
      "outputs": [],
      "source": [
        "def fillwith(col):\n",
        "    print(df[col].isna().value_counts())\n",
        "    df[col] = df.groupby(['make_model', 'body_type','age'])[col].transform(lambda x: x.fillna(x.mean()))\n",
        "    df[col] = df.groupby(['make_model', 'body_type','age','fuel_type'])[col].transform(lambda x: x.fillna(x.mean()))\n",
        "    df[col] = df.groupby(['make_model', 'body_type','fuel_type'])[col].transform(lambda x: x.fillna(x.mean()))\n",
        "    df[col] = df.groupby(['make_model', 'body_type'])[col].transform(lambda x: x.fillna(x.mean()))\n",
        "    df[col] = df.groupby(['make_model'])[col].transform(lambda x: x.fillna(x.mean()))\n",
        "    df[col] = df.groupby(['make'])[col].transform(lambda x: x.fillna(x.mean()))\n",
        "    print('after')\n",
        "    print(df[col].isna().value_counts())"
      ]
    },
    {
      "cell_type": "code",
      "execution_count": null,
      "metadata": {
        "id": "4jVzK-EhT0e7",
        "outputId": "4ce4ba26-027e-4d59-9ca4-0f773f3fd613"
      },
      "outputs": [
        {
          "data": {
            "text/plain": [
              "0          0\n",
              "1          1\n",
              "2          2\n",
              "3          3\n",
              "4          2\n",
              "        ... \n",
              "29474    594\n",
              "29475    580\n",
              "29476    582\n",
              "29477    594\n",
              "29478    578\n",
              "Name: make_model, Length: 28630, dtype: int64"
            ]
          },
          "execution_count": 1658,
          "metadata": {},
          "output_type": "execute_result"
        }
      ],
      "source": [
        "df.make_model"
      ]
    },
    {
      "cell_type": "code",
      "execution_count": null,
      "metadata": {
        "id": "V07BNQkMT0e7"
      },
      "outputs": [],
      "source": []
    },
    {
      "cell_type": "code",
      "execution_count": null,
      "metadata": {
        "id": "s6yzce12T0e7"
      },
      "outputs": [],
      "source": []
    },
    {
      "cell_type": "code",
      "execution_count": null,
      "metadata": {
        "id": "RomOVxtgT0e7",
        "outputId": "8c2e5f67-c999-4420-fd78-7728c1d8a664"
      },
      "outputs": [
        {
          "name": "stdout",
          "output_type": "stream",
          "text": [
            "<class 'pandas.core.frame.DataFrame'>\n",
            "Int64Index: 28630 entries, 0 to 29478\n",
            "Data columns (total 26 columns):\n",
            " #   Column                Non-Null Count  Dtype  \n",
            "---  ------                --------------  -----  \n",
            " 0   make_model            28630 non-null  int64  \n",
            " 1   make                  28630 non-null  int64  \n",
            " 2   location              28630 non-null  object \n",
            " 3   price                 28630 non-null  float64\n",
            " 4   body_type             28630 non-null  int64  \n",
            " 5   type                  28630 non-null  int64  \n",
            " 6   doors                 28630 non-null  int64  \n",
            " 7   warranty              28630 non-null  int64  \n",
            " 8   mileage               28629 non-null  float64\n",
            " 9   gearbox               28630 non-null  int64  \n",
            " 10  fuel_type             28630 non-null  int64  \n",
            " 11  paint                 28630 non-null  object \n",
            " 12  seller                28630 non-null  object \n",
            " 13  seats                 28630 non-null  int64  \n",
            " 14  engine_size           28630 non-null  int32  \n",
            " 15  cylinders             28630 non-null  int64  \n",
            " 16  comfort_convenience   28630 non-null  int64  \n",
            " 17  entertainment_media   28630 non-null  int32  \n",
            " 18  safety_security       28630 non-null  int64  \n",
            " 19  full_service_history  28630 non-null  object \n",
            " 20  age                   28628 non-null  float64\n",
            " 21  power_kW              28630 non-null  int64  \n",
            " 22  power_hp              28630 non-null  int64  \n",
            " 23  cons_avg              28630 non-null  int64  \n",
            " 24  cons_country          28630 non-null  int64  \n",
            " 25  cons_city             28630 non-null  int64  \n",
            "dtypes: float64(3), int32(2), int64(17), object(4)\n",
            "memory usage: 6.7+ MB\n"
          ]
        }
      ],
      "source": [
        "df.info()"
      ]
    },
    {
      "cell_type": "code",
      "execution_count": null,
      "metadata": {
        "id": "APxJn0aXT0e7",
        "outputId": "a82a4f04-1199-49d6-8d92-abdf00e05f26"
      },
      "outputs": [
        {
          "name": "stdout",
          "output_type": "stream",
          "text": [
            "False    28630\n",
            "Name: gearbox, dtype: int64\n",
            "after\n",
            "False    28630\n",
            "Name: gearbox, dtype: int64\n"
          ]
        }
      ],
      "source": [
        "fillwithMode('gearbox')"
      ]
    },
    {
      "cell_type": "code",
      "execution_count": null,
      "metadata": {
        "id": "XRjxegRXT0e7"
      },
      "outputs": [],
      "source": [
        "Modelx4, labels4 = pd.factorize(df[\"body_type\"])\n",
        "df[\"body_type\"] = Modelx4"
      ]
    },
    {
      "cell_type": "code",
      "execution_count": null,
      "metadata": {
        "id": "d7Mxsj3dT0e7",
        "outputId": "e6eac238-0cee-486b-b4c4-081f8061c8da"
      },
      "outputs": [
        {
          "name": "stdout",
          "output_type": "stream",
          "text": [
            "False    28630\n",
            "Name: type, dtype: int64\n",
            "after\n",
            "False    28630\n",
            "Name: type, dtype: int64\n"
          ]
        }
      ],
      "source": [
        "fillwithMode('type')"
      ]
    },
    {
      "cell_type": "code",
      "execution_count": null,
      "metadata": {
        "id": "1yCS63RmT0e7"
      },
      "outputs": [],
      "source": [
        "Modelx1, labels1 = pd.factorize(df[\"make_model\"])\n",
        "df[\"make_model\"] = Modelx1"
      ]
    },
    {
      "cell_type": "code",
      "execution_count": null,
      "metadata": {
        "id": "WGCGZe7kT0e7",
        "outputId": "2ad44cb9-feb0-40ef-c05e-a769f6c828df"
      },
      "outputs": [
        {
          "name": "stdout",
          "output_type": "stream",
          "text": [
            "False    28630\n",
            "Name: location, dtype: int64\n",
            "after\n",
            "False    28630\n",
            "Name: location, dtype: int64\n"
          ]
        }
      ],
      "source": [
        "fillwithMode('location')"
      ]
    },
    {
      "cell_type": "code",
      "execution_count": null,
      "metadata": {
        "id": "bpPDmoTuT0e8",
        "outputId": "2495b328-3ba8-4b51-a76d-b588d970f842"
      },
      "outputs": [
        {
          "name": "stdout",
          "output_type": "stream",
          "text": [
            "False    28630\n",
            "Name: full_service_history, dtype: int64\n",
            "after\n",
            "False    28630\n",
            "Name: full_service_history, dtype: int64\n"
          ]
        }
      ],
      "source": [
        "fillwithMode('full_service_history')"
      ]
    },
    {
      "cell_type": "code",
      "execution_count": null,
      "metadata": {
        "id": "yA3QAaMYT0e8",
        "outputId": "75057a49-33f2-4840-93d3-1c6d95408786"
      },
      "outputs": [
        {
          "name": "stdout",
          "output_type": "stream",
          "text": [
            "False    28630\n",
            "Name: engine_size, dtype: int64\n",
            "after\n",
            "False    28630\n",
            "Name: engine_size, dtype: int64\n"
          ]
        }
      ],
      "source": [
        "fillwith('engine_size')"
      ]
    },
    {
      "cell_type": "code",
      "execution_count": null,
      "metadata": {
        "id": "k05DW-9xT0e8",
        "outputId": "3202f807-8a8e-4861-cbac-7e1345b95546"
      },
      "outputs": [
        {
          "data": {
            "text/plain": [
              "False    28630\n",
              "Name: engine_size, dtype: int64"
            ]
          },
          "execution_count": 1665,
          "metadata": {},
          "output_type": "execute_result"
        }
      ],
      "source": [
        "df.engine_size.isna().value_counts()"
      ]
    },
    {
      "cell_type": "code",
      "execution_count": null,
      "metadata": {
        "id": "sugKToAoT0e8"
      },
      "outputs": [],
      "source": [
        "#fillwith('fuel_consumption_avg')"
      ]
    },
    {
      "cell_type": "code",
      "execution_count": null,
      "metadata": {
        "id": "fexvhiuKT0e8"
      },
      "outputs": [],
      "source": [
        "#Modelx5, labels5 = pd.factorize(df[\"Type\"])\n",
        "#df[\"Type\"] = Modelx5"
      ]
    },
    {
      "cell_type": "code",
      "execution_count": null,
      "metadata": {
        "id": "ul2tmw31T0e8",
        "outputId": "5f53b3b3-c178-495c-f66f-48818e11bfda"
      },
      "outputs": [
        {
          "name": "stdout",
          "output_type": "stream",
          "text": [
            "False    28630\n",
            "Name: comfort_convenience, dtype: int64\n",
            "after\n",
            "False    28630\n",
            "Name: comfort_convenience, dtype: int64\n"
          ]
        }
      ],
      "source": [
        "fillwithMode('comfort_convenience')"
      ]
    },
    {
      "cell_type": "code",
      "execution_count": null,
      "metadata": {
        "id": "D4Tp6i0zT0e8",
        "outputId": "15f2b58f-9ed7-4e8f-dbf0-aa0fe5f6c573"
      },
      "outputs": [
        {
          "name": "stdout",
          "output_type": "stream",
          "text": [
            "False    28630\n",
            "Name: safety_security, dtype: int64\n",
            "after\n",
            "False    28630\n",
            "Name: safety_security, dtype: int64\n"
          ]
        }
      ],
      "source": [
        "fillwithMode('safety_security')"
      ]
    },
    {
      "cell_type": "code",
      "execution_count": null,
      "metadata": {
        "id": "8Se6QM6ST0e9"
      },
      "outputs": [],
      "source": [
        "#fillwithMode('extras')"
      ]
    },
    {
      "cell_type": "code",
      "execution_count": null,
      "metadata": {
        "id": "Bl5c8O4ET0e9",
        "outputId": "04462934-51c3-4d76-c5b3-2a4ade7965b9"
      },
      "outputs": [
        {
          "name": "stdout",
          "output_type": "stream",
          "text": [
            "False    28630\n",
            "Name: entertainment_media, dtype: int64\n",
            "after\n",
            "False    28600\n",
            "True        30\n",
            "Name: entertainment_media, dtype: int64\n"
          ]
        }
      ],
      "source": [
        "fillwithMode('entertainment_media')"
      ]
    },
    {
      "cell_type": "code",
      "execution_count": null,
      "metadata": {
        "id": "IDS9ST2aT0e9",
        "outputId": "00775c73-3dde-4a6c-faf6-0b6c12d82494"
      },
      "outputs": [
        {
          "name": "stdout",
          "output_type": "stream",
          "text": [
            "False    28630\n",
            "Name: full_service_history, dtype: int64\n",
            "after\n",
            "False    28630\n",
            "Name: full_service_history, dtype: int64\n"
          ]
        }
      ],
      "source": [
        "fillwithMode('full_service_history')"
      ]
    },
    {
      "cell_type": "code",
      "execution_count": null,
      "metadata": {
        "id": "3rZQCByZT0e9",
        "outputId": "dac2193c-474b-43a4-cf25-2d02de9cd0de"
      },
      "outputs": [
        {
          "name": "stdout",
          "output_type": "stream",
          "text": [
            "False    28630\n",
            "Name: paint, dtype: int64\n",
            "after\n",
            "False    28630\n",
            "Name: paint, dtype: int64\n"
          ]
        }
      ],
      "source": [
        "fillwithMode('paint')"
      ]
    },
    {
      "cell_type": "code",
      "execution_count": null,
      "metadata": {
        "id": "O6BqYSvPT0e9",
        "outputId": "54e72e45-094a-4db8-b979-ba3c45db0e3d"
      },
      "outputs": [
        {
          "name": "stdout",
          "output_type": "stream",
          "text": [
            "False    28630\n",
            "Name: seller, dtype: int64\n",
            "after\n",
            "False    28630\n",
            "Name: seller, dtype: int64\n"
          ]
        }
      ],
      "source": [
        "fillwithMode('seller')"
      ]
    },
    {
      "cell_type": "code",
      "execution_count": null,
      "metadata": {
        "id": "eIkQdxzaT0e9",
        "outputId": "4efb18d9-68b7-432e-be71-2b8f9aba2823"
      },
      "outputs": [
        {
          "name": "stdout",
          "output_type": "stream",
          "text": [
            "False    28058\n",
            "True       572\n",
            "Name: power_kW, dtype: int64\n",
            "after\n",
            "False    28595\n",
            "True        35\n",
            "Name: power_kW, dtype: int64\n"
          ]
        }
      ],
      "source": [
        "fillwithMode('power_kW')"
      ]
    },
    {
      "cell_type": "code",
      "execution_count": null,
      "metadata": {
        "id": "1qqJVuNtT0e9",
        "outputId": "fec777a2-1333-4582-d401-92c4228668e0"
      },
      "outputs": [
        {
          "name": "stdout",
          "output_type": "stream",
          "text": [
            "False    27973\n",
            "True       657\n",
            "Name: cons_avg, dtype: int64\n",
            "after\n",
            "False    27973\n",
            "True       657\n",
            "Name: cons_avg, dtype: int64\n"
          ]
        }
      ],
      "source": [
        "fillwithMode('cons_avg')"
      ]
    },
    {
      "cell_type": "code",
      "execution_count": null,
      "metadata": {
        "id": "DBScj6PKT0e9",
        "outputId": "dec5cff4-9fe8-486d-ca88-81bc09609d71"
      },
      "outputs": [
        {
          "name": "stdout",
          "output_type": "stream",
          "text": [
            "False    27973\n",
            "True       657\n",
            "Name: cons_country, dtype: int64\n",
            "after\n",
            "False    27973\n",
            "True       657\n",
            "Name: cons_country, dtype: int64\n"
          ]
        }
      ],
      "source": [
        "fillwithMode('cons_country')"
      ]
    },
    {
      "cell_type": "code",
      "execution_count": null,
      "metadata": {
        "id": "3aD0aXN8T0e9",
        "outputId": "0a750478-0c3a-4b06-ec73-b98d0ab934c6"
      },
      "outputs": [
        {
          "name": "stdout",
          "output_type": "stream",
          "text": [
            "False    27874\n",
            "True       756\n",
            "Name: cons_city, dtype: int64\n",
            "after\n",
            "False    27874\n",
            "True       756\n",
            "Name: cons_city, dtype: int64\n"
          ]
        }
      ],
      "source": [
        "fillwithMode('cons_city')"
      ]
    },
    {
      "cell_type": "code",
      "execution_count": null,
      "metadata": {
        "id": "K6iefPGuT0e-"
      },
      "outputs": [],
      "source": []
    },
    {
      "cell_type": "code",
      "execution_count": null,
      "metadata": {
        "id": "ccJDgUUOT0e-"
      },
      "outputs": [],
      "source": [
        "df.fillna(method='ffill', inplace=True)\n",
        "df.fillna(method='bfill', inplace=True)"
      ]
    },
    {
      "cell_type": "code",
      "execution_count": null,
      "metadata": {
        "id": "qBKq9d59T0e-",
        "outputId": "664116ed-1149-40f4-e324-13b0ea2ad073"
      },
      "outputs": [
        {
          "data": {
            "text/plain": [
              "make_model  make   location  price  body_type  type   doors  warranty  mileage  gearbox  fuel_type  paint  seller  seats  engine_size  cylinders  comfort_convenience  entertainment_media  safety_security  full_service_history  age    power_kW  power_hp  cons_avg  cons_country  cons_city\n",
              "False       False  False     False  False      False  False  False     False    False    False      False  False   False  False        False      False                False                False            False                 False  False     False     False     False         False        28630\n",
              "dtype: int64"
            ]
          },
          "execution_count": 1672,
          "metadata": {},
          "output_type": "execute_result"
        }
      ],
      "source": [
        "df.isna().value_counts()"
      ]
    },
    {
      "cell_type": "code",
      "execution_count": null,
      "metadata": {
        "id": "G5-hseULT0e-",
        "outputId": "122c211f-e0c6-4bdd-975d-11ee51621e30"
      },
      "outputs": [
        {
          "data": {
            "text/html": [
              "<div>\n",
              "<style scoped>\n",
              "    .dataframe tbody tr th:only-of-type {\n",
              "        vertical-align: middle;\n",
              "    }\n",
              "\n",
              "    .dataframe tbody tr th {\n",
              "        vertical-align: top;\n",
              "    }\n",
              "\n",
              "    .dataframe thead th {\n",
              "        text-align: right;\n",
              "    }\n",
              "</style>\n",
              "<table border=\"1\" class=\"dataframe\">\n",
              "  <thead>\n",
              "    <tr style=\"text-align: right;\">\n",
              "      <th></th>\n",
              "      <th>make_model</th>\n",
              "      <th>make</th>\n",
              "      <th>location</th>\n",
              "      <th>price</th>\n",
              "      <th>body_type</th>\n",
              "      <th>type</th>\n",
              "      <th>doors</th>\n",
              "      <th>warranty</th>\n",
              "      <th>mileage</th>\n",
              "      <th>gearbox</th>\n",
              "      <th>...</th>\n",
              "      <th>comfort_convenience</th>\n",
              "      <th>entertainment_media</th>\n",
              "      <th>safety_security</th>\n",
              "      <th>full_service_history</th>\n",
              "      <th>age</th>\n",
              "      <th>power_kW</th>\n",
              "      <th>power_hp</th>\n",
              "      <th>cons_avg</th>\n",
              "      <th>cons_country</th>\n",
              "      <th>cons_city</th>\n",
              "    </tr>\n",
              "  </thead>\n",
              "  <tbody>\n",
              "    <tr>\n",
              "      <th>0</th>\n",
              "      <td>Mercedes-Benz A 160</td>\n",
              "      <td>Mercedes-Benz</td>\n",
              "      <td>P.I. EL PALMAR C/FORJA 6,  11500 PUERTO DE SAN...</td>\n",
              "      <td>16950.0</td>\n",
              "      <td>Compact</td>\n",
              "      <td>Used</td>\n",
              "      <td>5.0</td>\n",
              "      <td>24.0</td>\n",
              "      <td>120200.0</td>\n",
              "      <td>Manual</td>\n",
              "      <td>...</td>\n",
              "      <td>NaN</td>\n",
              "      <td>0</td>\n",
              "      <td>NaN</td>\n",
              "      <td>No</td>\n",
              "      <td>6.0</td>\n",
              "      <td>NaN</td>\n",
              "      <td>NaN</td>\n",
              "      <td>NaN</td>\n",
              "      <td>NaN</td>\n",
              "      <td>NaN</td>\n",
              "    </tr>\n",
              "    <tr>\n",
              "      <th>1</th>\n",
              "      <td>Mercedes-Benz EQE 350</td>\n",
              "      <td>Mercedes-Benz</td>\n",
              "      <td>APARTADO DE CORREOS 1032,  26140 LOGROÑO, ES</td>\n",
              "      <td>80900.0</td>\n",
              "      <td>Compact</td>\n",
              "      <td>Pre-registered</td>\n",
              "      <td>4.0</td>\n",
              "      <td>24.0</td>\n",
              "      <td>5000.0</td>\n",
              "      <td>Automatic</td>\n",
              "      <td>...</td>\n",
              "      <td>NaN</td>\n",
              "      <td>0</td>\n",
              "      <td>NaN</td>\n",
              "      <td>No</td>\n",
              "      <td>0.0</td>\n",
              "      <td>215.0</td>\n",
              "      <td>292.0</td>\n",
              "      <td>NaN</td>\n",
              "      <td>NaN</td>\n",
              "      <td>NaN</td>\n",
              "    </tr>\n",
              "    <tr>\n",
              "      <th>2</th>\n",
              "      <td>Mercedes-Benz A 45 AMG</td>\n",
              "      <td>Mercedes-Benz</td>\n",
              "      <td>PORT. TARRACO, MOLL DE LLEVANT, Nº 5, LOC. 6-8...</td>\n",
              "      <td>69900.0</td>\n",
              "      <td>Compact</td>\n",
              "      <td>Used</td>\n",
              "      <td>5.0</td>\n",
              "      <td>12.0</td>\n",
              "      <td>18900.0</td>\n",
              "      <td>Automatic</td>\n",
              "      <td>...</td>\n",
              "      <td>NaN</td>\n",
              "      <td>0</td>\n",
              "      <td>NaN</td>\n",
              "      <td>No</td>\n",
              "      <td>2.0</td>\n",
              "      <td>310.0</td>\n",
              "      <td>421.0</td>\n",
              "      <td>8.4</td>\n",
              "      <td>8.4</td>\n",
              "      <td>10.9</td>\n",
              "    </tr>\n",
              "    <tr>\n",
              "      <th>3</th>\n",
              "      <td>Mercedes-Benz A 35 AMG</td>\n",
              "      <td>Mercedes-Benz</td>\n",
              "      <td>Carrer de Provença, 31 Local,  8029 BARCELONA, ES</td>\n",
              "      <td>46990.0</td>\n",
              "      <td>Compact</td>\n",
              "      <td>Used</td>\n",
              "      <td>5.0</td>\n",
              "      <td>12.0</td>\n",
              "      <td>18995.0</td>\n",
              "      <td>Automatic</td>\n",
              "      <td>...</td>\n",
              "      <td>Air conditioning, Automatic climate control, P...</td>\n",
              "      <td>1</td>\n",
              "      <td>ABS, Central door lock, Driver-side airbag, El...</td>\n",
              "      <td>No</td>\n",
              "      <td>2.0</td>\n",
              "      <td>225.0</td>\n",
              "      <td>306.0</td>\n",
              "      <td>7.3</td>\n",
              "      <td>7.3</td>\n",
              "      <td>9.3</td>\n",
              "    </tr>\n",
              "    <tr>\n",
              "      <th>4</th>\n",
              "      <td>Mercedes-Benz A 45 AMG</td>\n",
              "      <td>Mercedes-Benz</td>\n",
              "      <td>CARRIL ARAGONES 4,  30007 CASILLAS, ES</td>\n",
              "      <td>16800.0</td>\n",
              "      <td>Compact</td>\n",
              "      <td>Used</td>\n",
              "      <td>5.0</td>\n",
              "      <td>12.0</td>\n",
              "      <td>197000.0</td>\n",
              "      <td>Automatic</td>\n",
              "      <td>...</td>\n",
              "      <td>Air conditioning, Electrical side mirrors, Mul...</td>\n",
              "      <td>1</td>\n",
              "      <td>ABS, Central door lock, Driver-side airbag, El...</td>\n",
              "      <td>No</td>\n",
              "      <td>7.0</td>\n",
              "      <td>100.0</td>\n",
              "      <td>136.0</td>\n",
              "      <td>4.9</td>\n",
              "      <td>4.9</td>\n",
              "      <td>5.7</td>\n",
              "    </tr>\n",
              "    <tr>\n",
              "      <th>...</th>\n",
              "      <td>...</td>\n",
              "      <td>...</td>\n",
              "      <td>...</td>\n",
              "      <td>...</td>\n",
              "      <td>...</td>\n",
              "      <td>...</td>\n",
              "      <td>...</td>\n",
              "      <td>...</td>\n",
              "      <td>...</td>\n",
              "      <td>...</td>\n",
              "      <td>...</td>\n",
              "      <td>...</td>\n",
              "      <td>...</td>\n",
              "      <td>...</td>\n",
              "      <td>...</td>\n",
              "      <td>...</td>\n",
              "      <td>...</td>\n",
              "      <td>...</td>\n",
              "      <td>...</td>\n",
              "      <td>...</td>\n",
              "      <td>...</td>\n",
              "    </tr>\n",
              "    <tr>\n",
              "      <th>29474</th>\n",
              "      <td>Volvo S90</td>\n",
              "      <td>Volvo</td>\n",
              "      <td>HERMANOS LUMIERE Nº16,  29004 MALAGA, ES</td>\n",
              "      <td>37600.0</td>\n",
              "      <td>Sedan</td>\n",
              "      <td>Used</td>\n",
              "      <td>4.0</td>\n",
              "      <td>12.0</td>\n",
              "      <td>40345.0</td>\n",
              "      <td>Automatic</td>\n",
              "      <td>...</td>\n",
              "      <td>Air conditioning, Automatic climate control, M...</td>\n",
              "      <td>1</td>\n",
              "      <td>ABS, Central door lock, Driver-side airbag, El...</td>\n",
              "      <td>No</td>\n",
              "      <td>3.0</td>\n",
              "      <td>288.0</td>\n",
              "      <td>392.0</td>\n",
              "      <td>2.0</td>\n",
              "      <td>2.0</td>\n",
              "      <td>NaN</td>\n",
              "    </tr>\n",
              "    <tr>\n",
              "      <th>29475</th>\n",
              "      <td>Volvo S40</td>\n",
              "      <td>Volvo</td>\n",
              "      <td>Stobbeweg 6,  2461 EX TER AAR, NL</td>\n",
              "      <td>5499.0</td>\n",
              "      <td>Sedan</td>\n",
              "      <td>Used</td>\n",
              "      <td>4.0</td>\n",
              "      <td>NaN</td>\n",
              "      <td>145000.0</td>\n",
              "      <td>Automatic</td>\n",
              "      <td>...</td>\n",
              "      <td>Air conditioning, Armrest, Automatic climate c...</td>\n",
              "      <td>1</td>\n",
              "      <td>ABS, Central door lock, Central door lock with...</td>\n",
              "      <td>Yes</td>\n",
              "      <td>18.0</td>\n",
              "      <td>125.0</td>\n",
              "      <td>170.0</td>\n",
              "      <td>9.1</td>\n",
              "      <td>9.1</td>\n",
              "      <td>13.2</td>\n",
              "    </tr>\n",
              "    <tr>\n",
              "      <th>29476</th>\n",
              "      <td>Volvo C30</td>\n",
              "      <td>Volvo</td>\n",
              "      <td>Sur rendez-vous,  5060 Sambreville, BE</td>\n",
              "      <td>7300.0</td>\n",
              "      <td>Sedan</td>\n",
              "      <td>Used</td>\n",
              "      <td>3.0</td>\n",
              "      <td>13.0</td>\n",
              "      <td>96000.0</td>\n",
              "      <td>Manual</td>\n",
              "      <td>...</td>\n",
              "      <td>Air conditioning, Armrest, Automatic climate c...</td>\n",
              "      <td>1</td>\n",
              "      <td>ABS, Alarm system, Central door lock with remo...</td>\n",
              "      <td>Yes</td>\n",
              "      <td>11.0</td>\n",
              "      <td>84.0</td>\n",
              "      <td>114.0</td>\n",
              "      <td>3.8</td>\n",
              "      <td>3.8</td>\n",
              "      <td>4.3</td>\n",
              "    </tr>\n",
              "    <tr>\n",
              "      <th>29477</th>\n",
              "      <td>Volvo S90</td>\n",
              "      <td>Volvo</td>\n",
              "      <td>Bergambachterstraat 5,  2871 JB SCHOONHOVEN, NL</td>\n",
              "      <td>29900.0</td>\n",
              "      <td>Sedan</td>\n",
              "      <td>Used</td>\n",
              "      <td>4.0</td>\n",
              "      <td>12.0</td>\n",
              "      <td>94343.0</td>\n",
              "      <td>Automatic</td>\n",
              "      <td>...</td>\n",
              "      <td>Air conditioning, Armrest, Automatic climate c...</td>\n",
              "      <td>1</td>\n",
              "      <td>Adaptive Cruise Control, Adaptive headlights, ...</td>\n",
              "      <td>Yes</td>\n",
              "      <td>5.0</td>\n",
              "      <td>187.0</td>\n",
              "      <td>254.0</td>\n",
              "      <td>6.5</td>\n",
              "      <td>6.5</td>\n",
              "      <td>8.6</td>\n",
              "    </tr>\n",
              "    <tr>\n",
              "      <th>29478</th>\n",
              "      <td>Volvo S80</td>\n",
              "      <td>Volvo</td>\n",
              "      <td>Lage Ham 106,  5102 AE DONGEN, NL</td>\n",
              "      <td>4440.0</td>\n",
              "      <td>Sedan</td>\n",
              "      <td>Used</td>\n",
              "      <td>4.0</td>\n",
              "      <td>NaN</td>\n",
              "      <td>230047.0</td>\n",
              "      <td>Automatic</td>\n",
              "      <td>...</td>\n",
              "      <td>Air conditioning, Armrest, Cruise control, Ele...</td>\n",
              "      <td>1</td>\n",
              "      <td>ABS, Alarm system, Central door lock, Central ...</td>\n",
              "      <td>No</td>\n",
              "      <td>20.0</td>\n",
              "      <td>147.0</td>\n",
              "      <td>200.0</td>\n",
              "      <td>10.4</td>\n",
              "      <td>10.4</td>\n",
              "      <td>15.3</td>\n",
              "    </tr>\n",
              "  </tbody>\n",
              "</table>\n",
              "<p>28630 rows × 26 columns</p>\n",
              "</div>"
            ],
            "text/plain": [
              "                   make_model           make  \\\n",
              "0         Mercedes-Benz A 160  Mercedes-Benz   \n",
              "1       Mercedes-Benz EQE 350  Mercedes-Benz   \n",
              "2      Mercedes-Benz A 45 AMG  Mercedes-Benz   \n",
              "3      Mercedes-Benz A 35 AMG  Mercedes-Benz   \n",
              "4      Mercedes-Benz A 45 AMG  Mercedes-Benz   \n",
              "...                       ...            ...   \n",
              "29474               Volvo S90          Volvo   \n",
              "29475               Volvo S40          Volvo   \n",
              "29476               Volvo C30          Volvo   \n",
              "29477               Volvo S90          Volvo   \n",
              "29478               Volvo S80          Volvo   \n",
              "\n",
              "                                                location    price body_type  \\\n",
              "0      P.I. EL PALMAR C/FORJA 6,  11500 PUERTO DE SAN...  16950.0   Compact   \n",
              "1           APARTADO DE CORREOS 1032,  26140 LOGROÑO, ES  80900.0   Compact   \n",
              "2      PORT. TARRACO, MOLL DE LLEVANT, Nº 5, LOC. 6-8...  69900.0   Compact   \n",
              "3      Carrer de Provença, 31 Local,  8029 BARCELONA, ES  46990.0   Compact   \n",
              "4                 CARRIL ARAGONES 4,  30007 CASILLAS, ES  16800.0   Compact   \n",
              "...                                                  ...      ...       ...   \n",
              "29474           HERMANOS LUMIERE Nº16,  29004 MALAGA, ES  37600.0     Sedan   \n",
              "29475                  Stobbeweg 6,  2461 EX TER AAR, NL   5499.0     Sedan   \n",
              "29476             Sur rendez-vous,  5060 Sambreville, BE   7300.0     Sedan   \n",
              "29477    Bergambachterstraat 5,  2871 JB SCHOONHOVEN, NL  29900.0     Sedan   \n",
              "29478                  Lage Ham 106,  5102 AE DONGEN, NL   4440.0     Sedan   \n",
              "\n",
              "                 type  doors  warranty   mileage    gearbox  ...  \\\n",
              "0                Used    5.0      24.0  120200.0     Manual  ...   \n",
              "1      Pre-registered    4.0      24.0    5000.0  Automatic  ...   \n",
              "2                Used    5.0      12.0   18900.0  Automatic  ...   \n",
              "3                Used    5.0      12.0   18995.0  Automatic  ...   \n",
              "4                Used    5.0      12.0  197000.0  Automatic  ...   \n",
              "...               ...    ...       ...       ...        ...  ...   \n",
              "29474            Used    4.0      12.0   40345.0  Automatic  ...   \n",
              "29475            Used    4.0       NaN  145000.0  Automatic  ...   \n",
              "29476            Used    3.0      13.0   96000.0     Manual  ...   \n",
              "29477            Used    4.0      12.0   94343.0  Automatic  ...   \n",
              "29478            Used    4.0       NaN  230047.0  Automatic  ...   \n",
              "\n",
              "                                     comfort_convenience entertainment_media  \\\n",
              "0                                                    NaN                   0   \n",
              "1                                                    NaN                   0   \n",
              "2                                                    NaN                   0   \n",
              "3      Air conditioning, Automatic climate control, P...                   1   \n",
              "4      Air conditioning, Electrical side mirrors, Mul...                   1   \n",
              "...                                                  ...                 ...   \n",
              "29474  Air conditioning, Automatic climate control, M...                   1   \n",
              "29475  Air conditioning, Armrest, Automatic climate c...                   1   \n",
              "29476  Air conditioning, Armrest, Automatic climate c...                   1   \n",
              "29477  Air conditioning, Armrest, Automatic climate c...                   1   \n",
              "29478  Air conditioning, Armrest, Cruise control, Ele...                   1   \n",
              "\n",
              "                                         safety_security  \\\n",
              "0                                                    NaN   \n",
              "1                                                    NaN   \n",
              "2                                                    NaN   \n",
              "3      ABS, Central door lock, Driver-side airbag, El...   \n",
              "4      ABS, Central door lock, Driver-side airbag, El...   \n",
              "...                                                  ...   \n",
              "29474  ABS, Central door lock, Driver-side airbag, El...   \n",
              "29475  ABS, Central door lock, Central door lock with...   \n",
              "29476  ABS, Alarm system, Central door lock with remo...   \n",
              "29477  Adaptive Cruise Control, Adaptive headlights, ...   \n",
              "29478  ABS, Alarm system, Central door lock, Central ...   \n",
              "\n",
              "       full_service_history   age  power_kW power_hp  cons_avg cons_country  \\\n",
              "0                        No   6.0       NaN      NaN       NaN          NaN   \n",
              "1                        No   0.0     215.0    292.0       NaN          NaN   \n",
              "2                        No   2.0     310.0    421.0       8.4          8.4   \n",
              "3                        No   2.0     225.0    306.0       7.3          7.3   \n",
              "4                        No   7.0     100.0    136.0       4.9          4.9   \n",
              "...                     ...   ...       ...      ...       ...          ...   \n",
              "29474                    No   3.0     288.0    392.0       2.0          2.0   \n",
              "29475                   Yes  18.0     125.0    170.0       9.1          9.1   \n",
              "29476                   Yes  11.0      84.0    114.0       3.8          3.8   \n",
              "29477                   Yes   5.0     187.0    254.0       6.5          6.5   \n",
              "29478                    No  20.0     147.0    200.0      10.4         10.4   \n",
              "\n",
              "      cons_city  \n",
              "0           NaN  \n",
              "1           NaN  \n",
              "2          10.9  \n",
              "3           9.3  \n",
              "4           5.7  \n",
              "...         ...  \n",
              "29474       NaN  \n",
              "29475      13.2  \n",
              "29476       4.3  \n",
              "29477       8.6  \n",
              "29478      15.3  \n",
              "\n",
              "[28630 rows x 26 columns]"
            ]
          },
          "execution_count": 1889,
          "metadata": {},
          "output_type": "execute_result"
        }
      ],
      "source": [
        "df"
      ]
    },
    {
      "cell_type": "code",
      "execution_count": null,
      "metadata": {
        "id": "FO4RQLG9T0e-"
      },
      "outputs": [],
      "source": []
    },
    {
      "cell_type": "code",
      "execution_count": null,
      "metadata": {
        "id": "hyQSuGOdT0e-"
      },
      "outputs": [],
      "source": [
        "#df['hp'] = df.groupby(['make_model', 'body_type'])['hp'].transform(lambda x: x.fillna(x.mean()))"
      ]
    },
    {
      "cell_type": "code",
      "execution_count": null,
      "metadata": {
        "id": "vrPebawMT0e-"
      },
      "outputs": [],
      "source": [
        "#df['hp'] = df.groupby(['make_model', 'body_type'])['hp'].transform(lambda x: x.fillna(x.mean()))"
      ]
    },
    {
      "cell_type": "code",
      "execution_count": null,
      "metadata": {
        "id": "WO0Nrw3kT0e-"
      },
      "outputs": [],
      "source": [
        "#df['hp'] = df.groupby(['make_model'])['hp'].transform(lambda x: x.fillna(x.mean()))"
      ]
    },
    {
      "cell_type": "code",
      "execution_count": null,
      "metadata": {
        "scrolled": true,
        "id": "PvvE7jDTT0e-",
        "outputId": "9a0c6e1e-2b3e-48c3-c640-7aa280c5311e"
      },
      "outputs": [
        {
          "data": {
            "image/png": "[encoded data removed]",
            "text/plain": [
              "<Figure size 1152x1080 with 1 Axes>"
            ]
          },
          "metadata": {
            "needs_background": "light"
          },
          "output_type": "display_data"
        }
      ],
      "source": [
        "show_nulls(df)"
      ]
    },
    {
      "cell_type": "code",
      "execution_count": null,
      "metadata": {
        "id": "zHjdvc9KT0e_",
        "outputId": "fca5bb64-16d2-4412-d197-73bf41fd4531"
      },
      "outputs": [
        {
          "data": {
            "text/plain": [
              "0         Metallic\n",
              "1        Uni/basic\n",
              "2        Uni/basic\n",
              "3        Uni/basic\n",
              "4         Metallic\n",
              "           ...    \n",
              "29474    Uni/basic\n",
              "29475    Uni/basic\n",
              "29476     Metallic\n",
              "29477     Metallic\n",
              "29478    Uni/basic\n",
              "Name: paint, Length: 28630, dtype: object"
            ]
          },
          "execution_count": 1701,
          "metadata": {},
          "output_type": "execute_result"
        }
      ],
      "source": [
        "df.paint"
      ]
    },
    {
      "cell_type": "code",
      "execution_count": null,
      "metadata": {
        "id": "4l5ZbTrJT0e_"
      },
      "outputs": [],
      "source": [
        "df.to_csv('cleaned_and_Handling_data2.csv', index=False)"
      ]
    },
    {
      "cell_type": "code",
      "execution_count": null,
      "metadata": {
        "id": "QJpJOyf_T0e_"
      },
      "outputs": [],
      "source": []
    },
    {
      "cell_type": "code",
      "execution_count": null,
      "metadata": {
        "id": "bionGX58T0e_"
      },
      "outputs": [],
      "source": []
    },
    {
      "cell_type": "markdown",
      "metadata": {
        "id": "gPPdPAu5s1ME"
      },
      "source": [
        "# PART- 3 `( Handling With Outliers )`"
      ]
    },
    {
      "cell_type": "code",
      "execution_count": null,
      "metadata": {
        "id": "Is4HLjHWs1MF"
      },
      "outputs": [],
      "source": []
    },
    {
      "cell_type": "markdown",
      "metadata": {
        "id": "EKxmsgfts1MG"
      },
      "source": [
        "# Final Step (Checking final situation of data via graphs)"
      ]
    },
    {
      "cell_type": "code",
      "execution_count": null,
      "metadata": {
        "id": "8mgL_Bd0s1MG"
      },
      "outputs": [],
      "source": []
    },
    {
      "cell_type": "markdown",
      "metadata": {
        "id": "2PgUVPoes1MH"
      },
      "source": [
        "## Export dataframe to csv file (without dummy)"
      ]
    },
    {
      "cell_type": "code",
      "execution_count": null,
      "metadata": {
        "id": "Byg_o2ZMs1MI"
      },
      "outputs": [],
      "source": [
        "df.to_csv(\"final_scout_not_dummy.csv\", index=False)"
      ]
    },
    {
      "cell_type": "markdown",
      "metadata": {
        "id": "hrw9hr-3s1MJ"
      },
      "source": [
        "# Dummy Operation"
      ]
    },
    {
      "cell_type": "code",
      "execution_count": null,
      "metadata": {
        "id": "faDyWTC9s1MJ"
      },
      "outputs": [],
      "source": []
    },
    {
      "cell_type": "markdown",
      "metadata": {
        "id": "DUOdihlqs1MJ"
      },
      "source": [
        "## Export dataframe to csv file (dummy)"
      ]
    },
    {
      "cell_type": "code",
      "execution_count": null,
      "metadata": {
        "id": "IJT7Yl1Us1MK"
      },
      "outputs": [],
      "source": [
        "df_dummied.to_csv(\"final_scout_dummy.csv\", index=False)"
      ]
    }
  ],
  "metadata": {
    "colab": {
      "provenance": [],
      "include_colab_link": true
    },
    "kernelspec": {
      "display_name": "Python 3 (ipykernel)",
      "language": "python",
      "name": "python3"
    },
    "language_info": {
      "codemirror_mode": {
        "name": "ipython",
        "version": 3
      },
      "file_extension": ".py",
      "mimetype": "text/x-python",
      "name": "python",
      "nbconvert_exporter": "python",
      "pygments_lexer": "ipython3",
      "version": "3.9.12"
    },
    "toc": {
      "base_numbering": 1,
      "nav_menu": {},
      "number_sections": false,
      "sideBar": true,
      "skip_h1_title": false,
      "title_cell": "Table of Contents",
      "title_sidebar": "Contents",
      "toc_cell": false,
      "toc_position": {},
      "toc_section_display": true,
      "toc_window_display": false
    }
  },
  "nbformat": 4,
  "nbformat_minor": 0
}