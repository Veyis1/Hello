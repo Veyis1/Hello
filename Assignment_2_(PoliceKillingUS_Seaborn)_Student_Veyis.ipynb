{
  "cells": [
    {
      "cell_type": "markdown",
      "metadata": {
        "id": "view-in-github",
        "colab_type": "text"
      },
      "source": [
        "<a href=\"https://colab.research.google.com/github/Veyis1/Hello/blob/main/Assignment_2_(PoliceKillingUS_Seaborn)_Student_Veyis.ipynb\" target=\"_parent\"><img src=\"https://colab.research.google.com/assets/colab-badge.svg\" alt=\"Open In Colab\"/></a>"
      ]
    },
    {
      "cell_type": "markdown",
      "metadata": {
        "id": "Crn14DLz2alD"
      },
      "source": [
        "___\n",
        "\n",
        "<a href=\"https://lms.clarusway.com/course/view.php?id=7435\"><img align=\"center\" src=\"https://i.ibb.co/6Z5pQxD/lmss.png\" alt=\"Open in Clarusway LMS\" width=\"70\" height=\"200\" title=\"Open Clarusway Learning Management Sytem\"></a>\n",
        "\n",
        "___\n",
        "\n",
        "<a href=\"https://clarusway.com/\"><img align=\"center\" src=\"https://docs.google.com/uc?id=1lY0Uj5R04yMY3-ZppPWxqCr5pvBLYPnV\" alt=\"CLRSWY\" width=\"450\" height=\"200\" title=\"Welcome to Place Where You can Reinvent Yourself\"></a><br/>\n",
        "\n",
        "## <p style=\"background-color:#FDFEFE; font-family:newtimeroman; color:#9d4f8c; font-size:120%; text-align:center; border-radius:10px 10px;\">Way to Reinvent Yourself</p>\n",
        "\n",
        "<p style=\"text-align: center;\"><img src=\"https://i.ibb.co/99DQ3TY/DS-Courses.png\" class=\"img-fluid\" \n",
        "alt=\"CLRSWY\"></p>\n",
        "\n",
        "\n",
        "\n",
        "## <p style=\"background-color:#9d4f8c; font-family:newtimeroman; color:#FFF9ED; font-size:150%; text-align:center; border-radius:10px 10px;\">POLICE KILLING US - SEABORN VISUALiZATION TASK</p>\n",
        "\n",
        "<img src=https://i.ibb.co/z8vpsJM/police-killing-us.png width=\"700\" height=\"200\">  \n",
        "\n",
        "[Photo Credit: Wikipedia](https://en.wikipedia.org/wiki/Lists_of_killings_by_law_enforcement_officers_in_the_United_States#cite_note-1)\n",
        "\n",
        "\n",
        "\n",
        "## <p style=\"background-color:#FDFEFE; font-family:newtimeroman; color:#060108; font-size:200%; text-align:center; border-radius:10px 10px;\">Data Visualization with Python</p>\n",
        "\n",
        "![Image_Assignment](https://i.ibb.co/cY9HhF7/bnote-assignment.gif)\n",
        "\n",
        "## <p style=\"background-color:#FDFEFE; font-family:newtimeroman; color:#4d77cf; font-size:150%; text-align:center; border-radius:10px 10px;\">Assignment 02 (PoliceKillingUS-Seaborn)</p>"
      ]
    },
    {
      "cell_type": "markdown",
      "metadata": {
        "id": "h468ROl6jUuI"
      },
      "source": [
        "<a id=\"toc\"></a>\n",
        "\n",
        "## <p style=\"background-color:#9d4f8c; font-family:newtimeroman; color:#FFF9ED; font-size:150%; text-align:center; border-radius:10px 10px;\">CONTENT</p>\n",
        "\n",
        "* [ABOUT THE DATASET & CONTEXT](#00)\n",
        "* [ABOUT THE FEATURES](#000)\n",
        "* [IMPORTING LIBRARIES NEEDED IN THIS NOTEBOOK](#0)\n",
        "* [INSTRUCTIONS (Tasks in the Assignment)](#1)\n",
        "* [TASK-01 PLOT AGE BY GENDER IN TERMS OF MANNER OF DEATH](#2)\n",
        "    * [1.1 Box plot of age in both genders separeted by manner of death](#2.1)\n",
        "    * [1.2 Box plot of age in both genders separeted by manner of death](#2.2)\n",
        "* [TASK-02 PLOT 12 MOST DANGEROUS CITIES](#3)\n",
        "* [TASK-03 PLOT 20 MOST DANGEROUS STATES](#4)\n",
        "* [TASK-04 PLOT THE KILLED PEOPLE HAVING MENTAL-ILLNESS OR NOT](#5) \n",
        "* [TASK-05 PLOT THE NUMBER OF THREAT TYPES](#6)\n",
        "* [TASK-06 PLOT THE NUMBER OF FLEE TYPES](#7)\n",
        "* [THE END OF THE ASSIGNMENT-02](#8)"
      ]
    },
    {
      "cell_type": "markdown",
      "metadata": {
        "id": "BS4BdPayjUuI"
      },
      "source": [
        "<a id=\"toc\"></a>\n",
        "\n",
        "## <p style=\"background-color:#9d4f8c; font-family:newtimeroman; color:#FFF9ED; font-size:150%; text-align:center; border-radius:10px 10px;\">ABOUT THE DATASET & CONTEXT</p>\n",
        "\n",
        "\"In 2015, The Washington Post began to log [every fatal shooting](https://www.washingtonpost.com/graphics/national/police-shootings-year-end/) by an on-duty police officer in the United States. In that time there have been [more than 5,000 such shootings](https://www.washingtonpost.com/nation/2019/08/09/what-weve-learned-about-police-shootings-years-after-ferguson/?arc404=true) recorded by The Post. After [Michael Brown, an unarmed Black man, was killed](https://www.washingtonpost.com/policeshootings/) in 2014 by police in Ferguson, Mo., a Post investigation found that the [FBI undercounted fatal police shootings](https://www.washingtonpost.com/news/post-nation/wp/2014/09/08/how-many-police-shootings-a-year-no-one-knows/) by more than half. This is because reporting by police departments is voluntary and many departments fail to do so. The Washington Post’s data relies primarily on news accounts, social media postings and police reports. Analysis of more than five years of data reveals that the number and circumstances of fatal shootings and the overall demographics of the victims have remained relatively constant...\" [SOURCE ==> Washington Post Article](https://www.washingtonpost.com/graphics/investigations/police-shootings-database/)\n",
        "\n",
        "[For more information about this story](https://www.washingtonpost.com/graphics/investigations/police-shootings-database/)\n",
        "\n",
        "\n",
        "This dataset has been prepared by The Washington Post (they keep updating it on runtime) with every fatal shooting in the United States by a police officer in the line of duty since Jan. 1, 2015.\n",
        "\n",
        "[2016 PoliceKillingUS DATASET](https://www.washingtonpost.com/graphics/national/police-shootings-2016/)<br>\n",
        "[2017 PoliceKillingUS DATASET](https://www.washingtonpost.com/graphics/national/police-shootings-2017/)<br>\n",
        "[2018 PoliceKillingUS DATASET](https://www.washingtonpost.com/graphics/2018/national/police-shootings-2018/)<br>\n",
        "[2019 PoliceKillingUS DATASET](https://www.washingtonpost.com/graphics/2019/national/police-shootings-2019/)<br>\n",
        "[2020 PoliceKillingUS DATASET](https://www.washingtonpost.com/graphics/national/police-shootings-2017/)<br>\n",
        "\n",
        "\n",
        "**In this assignment, you are supposed to do the exercise yourself to see if you can solve it. While solving the tasks if you need to remember some subjects, please repeat inclass materails in the course and udemy course videos if provided to you.**"
      ]
    },
    {
      "cell_type": "markdown",
      "metadata": {
        "id": "-uQdJD5TjUuJ"
      },
      "source": [
        "## <p style=\"background-color:#9d4f8c; font-family:newtimeroman; color:#FFF9ED; font-size:150%; text-align:center; border-radius:10px 10px;\">ABOUT THE FEATURES</p>\n",
        "\n",
        "<a id=\"00\"></a>\n",
        "<a href=\"#toc\" class=\"btn btn-primary btn-sm\" role=\"button\" aria-pressed=\"true\" \n",
        "style=\"color:blue; background-color:#dfa8e4\" data-toggle=\"popover\">Content</a>\n",
        "\n",
        "The file fatal-police-shootings-data.csv contains data about each fatal shooting in CSV format. The file can be downloaded at this URL. Each row has the following variables:\n",
        "\n",
        "- **id:** a unique identifier for each victim\n",
        "- **name:** the name of the victim\n",
        "- **date:** the date of the fatal shooting in YYYY-MM-DD format\n",
        "- **manner_of_death:** shot, shot and Tasered\n",
        "- **armed:** indicates that the victim was armed with some sort of implement that a police officer believed could inflict harm\n",
        "    - undetermined: it is not known whether or not the victim had a weapon\n",
        "    - unknown: the victim was armed, but it is not known what the object was\n",
        "    - unarmed: the victim was not armed\n",
        "- **age:** the age of the victim\n",
        "- **gender:** the gender of the victim. The Post identifies victims by the gender they identify with if reports indicate that it differs from their biological sex.\n",
        "    - M: Male\n",
        "    - F: Female\n",
        "    - None: unknown\n",
        "- **race:**\n",
        "    - W: White, non-Hispanic\n",
        "    - B: Black, non-Hispanic\n",
        "    - A: Asian\n",
        "    - N: Native American\n",
        "    - H: Hispanic\n",
        "    - O: Other\n",
        "    - None: unknown\n",
        "- **city:** the municipality where the fatal shooting took place. Note that in some cases this field may contain a county name if a more specific municipality is unavailable or unknown.\n",
        "- **state:** two-letter postal code abbreviation\n",
        "- **signs of mental illness:** News reports have indicated the victim had a history of mental health issues, expressed suicidal intentions or was experiencing mental distress at the time of the shooting.\n",
        "- **threat_level:** The threat_level column was used to flag incidents for the story by Amy Brittain in October 2015. http://www.washingtonpost.com/sf/investigative/2015/10/24/on-duty-under-fire/ As described in the story, the general criteria for the attack label was that there was the most direct and immediate threat to life. That would include incidents where officers or others were shot at, threatened with a gun, attacked with other weapons or physical force, etc. The attack category is meant to flag the highest level of threat. The other and undetermined categories represent all remaining cases. Other includes many incidents where officers or others faced significant threats.\n",
        "- **flee:** News reports have indicated the victim was moving away from officers\n",
        "    - Foot\n",
        "    - Car\n",
        "    - Not fleeing\n",
        "\n",
        "The threat column and the fleeing column are not necessarily related. For example, there is an incident in which the suspect is fleeing and at the same time turns to fire at gun at the officer. Also, attacks represent a status immediately before fatal shots by police while fleeing could begin slightly earlier and involve a chase.\n",
        "- **body_camera:** News reports have indicated an officer was wearing a body camera and it may have recorded some portion of the incident.\n",
        "\n",
        "[SOURCE](https://github.com/washingtonpost/data-police-shootings)"
      ]
    },
    {
      "cell_type": "markdown",
      "metadata": {
        "id": "USUO-a_xjUuK"
      },
      "source": [
        "## <p style=\"background-color:#9d4f8c; font-family:newtimeroman; color:#FFF9ED; font-size:150%; text-align:center; border-radius:10px 10px;\">IMPORTING LIBRARIES NEEDED IN THIS NOTEBOOK</p>\n",
        "\n",
        "<a id=\"000\"></a>\n",
        "<a href=\"#toc\" class=\"btn btn-primary btn-sm\" role=\"button\" aria-pressed=\"true\" \n",
        "style=\"color:blue; background-color:#dfa8e4\" data-toggle=\"popover\">Content</a>"
      ]
    },
    {
      "cell_type": "code",
      "execution_count": null,
      "metadata": {
        "_cell_guid": "5fdcd462-5466-40f5-9992-dc31a9a174f2",
        "_uuid": "dab5021d92c7210270cec270470e4ae179a1de01",
        "id": "HC70KTrg2alE"
      },
      "outputs": [],
      "source": [
        "import numpy as np \n",
        "import pandas as pd\n",
        "\n",
        "import seaborn as sns\n",
        "import matplotlib.pyplot as plt\n",
        "%matplotlib inline\n",
        "\n",
        "from collections import Counter\n",
        "\n",
        "import warnings\n",
        "warnings.filterwarnings('ignore') "
      ]
    },
    {
      "cell_type": "markdown",
      "metadata": {
        "id": "eJHNSQuwjUuL"
      },
      "source": [
        "## <p style=\"background-color:#9d4f8c; font-family:newtimeroman; color:#FFF9ED; font-size:150%; text-align:center; border-radius:10px 10px;\">INSTRUCTIONS (Tasks in the Assignment)</p>\n",
        "\n",
        "<a id=\"1\"></a>\n",
        "<a href=\"#toc\" class=\"btn btn-primary btn-sm\" role=\"button\" aria-pressed=\"true\" \n",
        "style=\"color:blue; background-color:#dfa8e4\" data-toggle=\"popover\">Content</a>\n",
        "\n",
        "**In this assignment you're required to handle with the following tasks:** \n",
        "\n",
        "- **Task 1.** Using Box and Swarm Plots, plotting Age by Gender in terms of \"Manner of Death\" column of DataFrame named as \"kill\"<br>\n",
        "- **Task 2.** Plotting Most dangerous cities<br>\n",
        "- **Task 3.** Plotting Most dangerous states<br>\n",
        "- **Task 4.** Plotting the killed people having mental illness or not<br>\n",
        "- **Task 5.** Plotting threat types<br>\n",
        "- **Task 6.** Plotting flee types<br>\n",
        "\n",
        "Before diving into the tasks in the assignment, you have to read the dataset. If you have some obatacles while reading the dataset, we recommend you make a research on 🤔 \"how to read the dataset in Pandas\" and 🧐 play with the parameters inside the pandas.read_csv() method. You can use encoding=\"windows-1252\" parameter for reading this dataset.\n",
        "\n",
        "⚠️ In this assignment you are supposed to make some visualizations according to the following questions. So, unless otherwise stated, you do NOT need to follow any Exploratory Data Analysis steps, such as handling missing values & outliers, dropping duplicates, and etc., or apply any Pandas method for preparing the dataset to Machine Learning modelling ⚠️\n",
        "\n",
        "**Now Let us first try to load and read the PoliceKillingsUS dataset. [SOURCE](https://towardsdatascience.com/learn-how-to-read-data-into-a-pandas-dataframe-in-5-minutes-122af8e0b9db) for learning how to read data into a Pandas DataFrame in 5 minutes.** "
      ]
    },
    {
      "cell_type": "code",
      "execution_count": null,
      "metadata": {
        "_cell_guid": "abb0685f-f844-43f8-84c0-4cd54361c7bf",
        "_uuid": "9c06ed7c41db79ae9d940f2d52aeff23621b3037",
        "id": "o0KjRfoR2alF"
      },
      "outputs": [],
      "source": [
        "# Reading and assigning the data to an object named \"kill\"\n",
        "\n",
        "# YOUR CODE IS HERE\n",
        "\n",
        "kill = pd.read_csv('PoliceKillingsUS.csv', encoding=\"windows-1252\")\n"
      ]
    },
    {
      "cell_type": "markdown",
      "metadata": {
        "_uuid": "bfb975b648fbcbd1c6cdf1634f01e01371924a8c",
        "id": "olpSFCOo2alG",
        "outputId": "521c8b5e-ce68-4e49-ca71-dc4cdf65cddf"
      },
      "source": [
        "Desired Output:\n",
        "\n",
        "<img src=https://i.ibb.co/bF8hKvn/DV1-1a.png width=\"800\" height=\"200\">  "
      ]
    },
    {
      "cell_type": "code",
      "execution_count": null,
      "metadata": {
        "id": "ghC_-9AJjUuM",
        "outputId": "9d7b9be5-a3d8-4391-926e-404bec7300c3"
      },
      "outputs": [
        {
          "data": {
            "text/html": [
              "<div>\n",
              "<style scoped>\n",
              "    .dataframe tbody tr th:only-of-type {\n",
              "        vertical-align: middle;\n",
              "    }\n",
              "\n",
              "    .dataframe tbody tr th {\n",
              "        vertical-align: top;\n",
              "    }\n",
              "\n",
              "    .dataframe thead th {\n",
              "        text-align: right;\n",
              "    }\n",
              "</style>\n",
              "<table border=\"1\" class=\"dataframe\">\n",
              "  <thead>\n",
              "    <tr style=\"text-align: right;\">\n",
              "      <th></th>\n",
              "      <th>id</th>\n",
              "      <th>name</th>\n",
              "      <th>date</th>\n",
              "      <th>manner_of_death</th>\n",
              "      <th>armed</th>\n",
              "      <th>age</th>\n",
              "      <th>gender</th>\n",
              "      <th>race</th>\n",
              "      <th>city</th>\n",
              "      <th>state</th>\n",
              "      <th>signs_of_mental_illness</th>\n",
              "      <th>threat_level</th>\n",
              "      <th>flee</th>\n",
              "      <th>body_camera</th>\n",
              "    </tr>\n",
              "  </thead>\n",
              "  <tbody>\n",
              "    <tr>\n",
              "      <th>0</th>\n",
              "      <td>3</td>\n",
              "      <td>Tim Elliot</td>\n",
              "      <td>02/01/15</td>\n",
              "      <td>shot</td>\n",
              "      <td>gun</td>\n",
              "      <td>53.0</td>\n",
              "      <td>M</td>\n",
              "      <td>A</td>\n",
              "      <td>Shelton</td>\n",
              "      <td>WA</td>\n",
              "      <td>True</td>\n",
              "      <td>attack</td>\n",
              "      <td>Not fleeing</td>\n",
              "      <td>False</td>\n",
              "    </tr>\n",
              "    <tr>\n",
              "      <th>1</th>\n",
              "      <td>4</td>\n",
              "      <td>Lewis Lee Lembke</td>\n",
              "      <td>02/01/15</td>\n",
              "      <td>shot</td>\n",
              "      <td>gun</td>\n",
              "      <td>47.0</td>\n",
              "      <td>M</td>\n",
              "      <td>W</td>\n",
              "      <td>Aloha</td>\n",
              "      <td>OR</td>\n",
              "      <td>False</td>\n",
              "      <td>attack</td>\n",
              "      <td>Not fleeing</td>\n",
              "      <td>False</td>\n",
              "    </tr>\n",
              "    <tr>\n",
              "      <th>2</th>\n",
              "      <td>5</td>\n",
              "      <td>John Paul Quintero</td>\n",
              "      <td>03/01/15</td>\n",
              "      <td>shot and Tasered</td>\n",
              "      <td>unarmed</td>\n",
              "      <td>23.0</td>\n",
              "      <td>M</td>\n",
              "      <td>H</td>\n",
              "      <td>Wichita</td>\n",
              "      <td>KS</td>\n",
              "      <td>False</td>\n",
              "      <td>other</td>\n",
              "      <td>Not fleeing</td>\n",
              "      <td>False</td>\n",
              "    </tr>\n",
              "    <tr>\n",
              "      <th>3</th>\n",
              "      <td>8</td>\n",
              "      <td>Matthew Hoffman</td>\n",
              "      <td>04/01/15</td>\n",
              "      <td>shot</td>\n",
              "      <td>toy weapon</td>\n",
              "      <td>32.0</td>\n",
              "      <td>M</td>\n",
              "      <td>W</td>\n",
              "      <td>San Francisco</td>\n",
              "      <td>CA</td>\n",
              "      <td>True</td>\n",
              "      <td>attack</td>\n",
              "      <td>Not fleeing</td>\n",
              "      <td>False</td>\n",
              "    </tr>\n",
              "    <tr>\n",
              "      <th>4</th>\n",
              "      <td>9</td>\n",
              "      <td>Michael Rodriguez</td>\n",
              "      <td>04/01/15</td>\n",
              "      <td>shot</td>\n",
              "      <td>nail gun</td>\n",
              "      <td>39.0</td>\n",
              "      <td>M</td>\n",
              "      <td>H</td>\n",
              "      <td>Evans</td>\n",
              "      <td>CO</td>\n",
              "      <td>False</td>\n",
              "      <td>attack</td>\n",
              "      <td>Not fleeing</td>\n",
              "      <td>False</td>\n",
              "    </tr>\n",
              "  </tbody>\n",
              "</table>\n",
              "</div>"
            ],
            "text/plain": [
              "   id                name      date   manner_of_death       armed   age  \\\n",
              "0   3          Tim Elliot  02/01/15              shot         gun  53.0   \n",
              "1   4    Lewis Lee Lembke  02/01/15              shot         gun  47.0   \n",
              "2   5  John Paul Quintero  03/01/15  shot and Tasered     unarmed  23.0   \n",
              "3   8     Matthew Hoffman  04/01/15              shot  toy weapon  32.0   \n",
              "4   9   Michael Rodriguez  04/01/15              shot    nail gun  39.0   \n",
              "\n",
              "  gender race           city state  signs_of_mental_illness threat_level  \\\n",
              "0      M    A        Shelton    WA                     True       attack   \n",
              "1      M    W          Aloha    OR                    False       attack   \n",
              "2      M    H        Wichita    KS                    False        other   \n",
              "3      M    W  San Francisco    CA                     True       attack   \n",
              "4      M    H          Evans    CO                    False       attack   \n",
              "\n",
              "          flee  body_camera  \n",
              "0  Not fleeing        False  \n",
              "1  Not fleeing        False  \n",
              "2  Not fleeing        False  \n",
              "3  Not fleeing        False  \n",
              "4  Not fleeing        False  "
            ]
          },
          "execution_count": 163,
          "metadata": {},
          "output_type": "execute_result"
        }
      ],
      "source": [
        "# YOUR CODE IS HERE\n",
        "kill.head(5)"
      ]
    },
    {
      "cell_type": "raw",
      "metadata": {
        "id": "xp8aNrgVjUuM"
      },
      "source": [
        "Desired Output:\n",
        "\n",
        "(2535, 14)"
      ]
    },
    {
      "cell_type": "code",
      "execution_count": null,
      "metadata": {
        "id": "9BCwC8CujUuN",
        "outputId": "ad7a0bfd-cdf4-4024-cec5-54de7f5abf4c"
      },
      "outputs": [
        {
          "data": {
            "text/plain": [
              "(2535, 14)"
            ]
          },
          "execution_count": 161,
          "metadata": {},
          "output_type": "execute_result"
        }
      ],
      "source": [
        "# YOUR CODE IS HERE\n",
        "kill.shape\n"
      ]
    },
    {
      "cell_type": "raw",
      "metadata": {
        "id": "fU-dcOMXjUuN"
      },
      "source": [
        "Desired Output:\n",
        "\n",
        "id                           0\n",
        "name                         0\n",
        "date                         0\n",
        "manner_of_death              0\n",
        "armed                        9\n",
        "age                         77\n",
        "gender                       0\n",
        "race                       195\n",
        "city                         0\n",
        "state                        0\n",
        "signs_of_mental_illness      0\n",
        "threat_level                 0\n",
        "flee                        65\n",
        "body_camera                  0\n",
        "dtype: int64"
      ]
    },
    {
      "cell_type": "code",
      "execution_count": null,
      "metadata": {
        "id": "fUtQqLucjUuN",
        "outputId": "2ed08cbe-4bbe-4a0a-aa25-197dac48edc3"
      },
      "outputs": [
        {
          "data": {
            "text/plain": [
              "id                           0\n",
              "name                         0\n",
              "date                         0\n",
              "manner_of_death              0\n",
              "armed                        9\n",
              "age                         77\n",
              "gender                       0\n",
              "race                       195\n",
              "city                         0\n",
              "state                        0\n",
              "signs_of_mental_illness      0\n",
              "threat_level                 0\n",
              "flee                        65\n",
              "body_camera                  0\n",
              "dtype: int64"
            ]
          },
          "execution_count": 9,
          "metadata": {},
          "output_type": "execute_result"
        }
      ],
      "source": [
        "# Let's drop the null values in the dataset\n",
        "\n",
        "# YOUR CODE IS HERE\n",
        "\n",
        "kill.isnull().sum()"
      ]
    },
    {
      "cell_type": "code",
      "execution_count": null,
      "metadata": {
        "id": "hG8Cb6lT2alH"
      },
      "outputs": [],
      "source": [
        "# YOUR CODE IS HERE\n",
        "\n",
        "kill.dropna(inplace=True)"
      ]
    },
    {
      "cell_type": "raw",
      "metadata": {
        "id": "e6SoEPqM5Ujz",
        "outputId": "168bd9fc-094a-4b1f-8c43-d14cef5d02ef"
      },
      "source": [
        "Desired Output:\n",
        "\n",
        "(2254, 14)"
      ]
    },
    {
      "cell_type": "markdown",
      "metadata": {
        "id": "z6bRTsVVjUuO"
      },
      "source": [
        "## <p style=\"background-color:#9d4f8c; font-family:newtimeroman; color:#FFF9ED; font-size:150%; text-align:center; border-radius:10px 10px;\">Task-01: Plot Age by Gender in terms of \"Manner of Death\"</p>\n",
        "\n",
        "<a id=\"2\"></a>\n",
        "<a href=\"#toc\" class=\"btn btn-primary btn-sm\" role=\"button\" aria-pressed=\"true\" \n",
        "style=\"color:blue; background-color:#dfa8e4\" data-toggle=\"popover\">Content</a>"
      ]
    },
    {
      "cell_type": "markdown",
      "metadata": {
        "id": "nvNnlb1ZjUuO"
      },
      "source": [
        "### <p style=\"background-color:#9d4f8c; font-family:newtimeroman; color:#FFF9ED; font-size:125%; text-align:left; border-radius:10px 10px;\">1.1 Box plot of age in both genders separeted by manner of death.</p>\n",
        "\n",
        "<a id=\"2.1\"></a>\n",
        "<a href=\"#toc\" class=\"btn btn-primary btn-sm\" role=\"button\" aria-pressed=\"true\" \n",
        "style=\"color:blue; background-color:#dfa8e4\" data-toggle=\"popover\">Content</a>"
      ]
    },
    {
      "cell_type": "code",
      "execution_count": null,
      "metadata": {
        "id": "mtwz0KurjUuO",
        "outputId": "518052a8-875e-432c-d6bc-25f60ed76a64"
      },
      "outputs": [
        {
          "data": {
            "image/png": "[encoded data removed]",
            "text/plain": [
              "<Figure size 432x288 with 1 Axes>"
            ]
          },
          "metadata": {
            "needs_background": "light"
          },
          "output_type": "display_data"
        }
      ],
      "source": [
        "# YOUR CODE IS HERE\n",
        "\n",
        "sns.boxplot(x=kill.manner_of_death, y=kill.age);"
      ]
    },
    {
      "cell_type": "code",
      "execution_count": null,
      "metadata": {
        "id": "dDWFQ_EPjUuO",
        "outputId": "5f9fd060-199a-42f9-9aa3-fb750df967e8"
      },
      "outputs": [
        {
          "data": {
            "text/html": [
              "<div>\n",
              "<style scoped>\n",
              "    .dataframe tbody tr th:only-of-type {\n",
              "        vertical-align: middle;\n",
              "    }\n",
              "\n",
              "    .dataframe tbody tr th {\n",
              "        vertical-align: top;\n",
              "    }\n",
              "\n",
              "    .dataframe thead th {\n",
              "        text-align: right;\n",
              "    }\n",
              "</style>\n",
              "<table border=\"1\" class=\"dataframe\">\n",
              "  <thead>\n",
              "    <tr style=\"text-align: right;\">\n",
              "      <th></th>\n",
              "      <th>id</th>\n",
              "      <th>name</th>\n",
              "      <th>date</th>\n",
              "      <th>manner_of_death</th>\n",
              "      <th>armed</th>\n",
              "      <th>age</th>\n",
              "      <th>gender</th>\n",
              "      <th>race</th>\n",
              "      <th>city</th>\n",
              "      <th>state</th>\n",
              "      <th>signs_of_mental_illness</th>\n",
              "      <th>threat_level</th>\n",
              "      <th>flee</th>\n",
              "      <th>body_camera</th>\n",
              "    </tr>\n",
              "  </thead>\n",
              "  <tbody>\n",
              "    <tr>\n",
              "      <th>0</th>\n",
              "      <td>3</td>\n",
              "      <td>Tim Elliot</td>\n",
              "      <td>02/01/15</td>\n",
              "      <td>shot</td>\n",
              "      <td>gun</td>\n",
              "      <td>53.0</td>\n",
              "      <td>M</td>\n",
              "      <td>A</td>\n",
              "      <td>Shelton</td>\n",
              "      <td>WA</td>\n",
              "      <td>True</td>\n",
              "      <td>attack</td>\n",
              "      <td>Not fleeing</td>\n",
              "      <td>False</td>\n",
              "    </tr>\n",
              "    <tr>\n",
              "      <th>1</th>\n",
              "      <td>4</td>\n",
              "      <td>Lewis Lee Lembke</td>\n",
              "      <td>02/01/15</td>\n",
              "      <td>shot</td>\n",
              "      <td>gun</td>\n",
              "      <td>47.0</td>\n",
              "      <td>M</td>\n",
              "      <td>W</td>\n",
              "      <td>Aloha</td>\n",
              "      <td>OR</td>\n",
              "      <td>False</td>\n",
              "      <td>attack</td>\n",
              "      <td>Not fleeing</td>\n",
              "      <td>False</td>\n",
              "    </tr>\n",
              "    <tr>\n",
              "      <th>2</th>\n",
              "      <td>5</td>\n",
              "      <td>John Paul Quintero</td>\n",
              "      <td>03/01/15</td>\n",
              "      <td>shot and Tasered</td>\n",
              "      <td>unarmed</td>\n",
              "      <td>23.0</td>\n",
              "      <td>M</td>\n",
              "      <td>H</td>\n",
              "      <td>Wichita</td>\n",
              "      <td>KS</td>\n",
              "      <td>False</td>\n",
              "      <td>other</td>\n",
              "      <td>Not fleeing</td>\n",
              "      <td>False</td>\n",
              "    </tr>\n",
              "    <tr>\n",
              "      <th>3</th>\n",
              "      <td>8</td>\n",
              "      <td>Matthew Hoffman</td>\n",
              "      <td>04/01/15</td>\n",
              "      <td>shot</td>\n",
              "      <td>toy weapon</td>\n",
              "      <td>32.0</td>\n",
              "      <td>M</td>\n",
              "      <td>W</td>\n",
              "      <td>San Francisco</td>\n",
              "      <td>CA</td>\n",
              "      <td>True</td>\n",
              "      <td>attack</td>\n",
              "      <td>Not fleeing</td>\n",
              "      <td>False</td>\n",
              "    </tr>\n",
              "    <tr>\n",
              "      <th>4</th>\n",
              "      <td>9</td>\n",
              "      <td>Michael Rodriguez</td>\n",
              "      <td>04/01/15</td>\n",
              "      <td>shot</td>\n",
              "      <td>nail gun</td>\n",
              "      <td>39.0</td>\n",
              "      <td>M</td>\n",
              "      <td>H</td>\n",
              "      <td>Evans</td>\n",
              "      <td>CO</td>\n",
              "      <td>False</td>\n",
              "      <td>attack</td>\n",
              "      <td>Not fleeing</td>\n",
              "      <td>False</td>\n",
              "    </tr>\n",
              "  </tbody>\n",
              "</table>\n",
              "</div>"
            ],
            "text/plain": [
              "   id                name      date   manner_of_death       armed   age  \\\n",
              "0   3          Tim Elliot  02/01/15              shot         gun  53.0   \n",
              "1   4    Lewis Lee Lembke  02/01/15              shot         gun  47.0   \n",
              "2   5  John Paul Quintero  03/01/15  shot and Tasered     unarmed  23.0   \n",
              "3   8     Matthew Hoffman  04/01/15              shot  toy weapon  32.0   \n",
              "4   9   Michael Rodriguez  04/01/15              shot    nail gun  39.0   \n",
              "\n",
              "  gender race           city state  signs_of_mental_illness threat_level  \\\n",
              "0      M    A        Shelton    WA                     True       attack   \n",
              "1      M    W          Aloha    OR                    False       attack   \n",
              "2      M    H        Wichita    KS                    False        other   \n",
              "3      M    W  San Francisco    CA                     True       attack   \n",
              "4      M    H          Evans    CO                    False       attack   \n",
              "\n",
              "          flee  body_camera  \n",
              "0  Not fleeing        False  \n",
              "1  Not fleeing        False  \n",
              "2  Not fleeing        False  \n",
              "3  Not fleeing        False  \n",
              "4  Not fleeing        False  "
            ]
          },
          "execution_count": 19,
          "metadata": {},
          "output_type": "execute_result"
        }
      ],
      "source": [
        "\n",
        "kill.head()\n"
      ]
    },
    {
      "cell_type": "markdown",
      "metadata": {
        "id": "Fh85UhQ_jUuO"
      },
      "source": [
        "Desired Output:\n",
        "\n",
        "<img src=https://i.ibb.co/bF8hKvn/DV1-1a.png width=\"800\" height=\"200\">  "
      ]
    },
    {
      "cell_type": "code",
      "execution_count": null,
      "metadata": {
        "id": "kwadPl7gjUuO",
        "outputId": "9485e400-0946-4dfb-eb23-852a07024c2a"
      },
      "outputs": [
        {
          "data": {
            "text/html": [
              "<div>\n",
              "<style scoped>\n",
              "    .dataframe tbody tr th:only-of-type {\n",
              "        vertical-align: middle;\n",
              "    }\n",
              "\n",
              "    .dataframe tbody tr th {\n",
              "        vertical-align: top;\n",
              "    }\n",
              "\n",
              "    .dataframe thead th {\n",
              "        text-align: right;\n",
              "    }\n",
              "</style>\n",
              "<table border=\"1\" class=\"dataframe\">\n",
              "  <thead>\n",
              "    <tr style=\"text-align: right;\">\n",
              "      <th></th>\n",
              "      <th>id</th>\n",
              "      <th>name</th>\n",
              "      <th>date</th>\n",
              "      <th>manner_of_death</th>\n",
              "      <th>armed</th>\n",
              "      <th>age</th>\n",
              "      <th>gender</th>\n",
              "      <th>race</th>\n",
              "      <th>city</th>\n",
              "      <th>state</th>\n",
              "      <th>signs_of_mental_illness</th>\n",
              "      <th>threat_level</th>\n",
              "      <th>flee</th>\n",
              "      <th>body_camera</th>\n",
              "    </tr>\n",
              "  </thead>\n",
              "  <tbody>\n",
              "    <tr>\n",
              "      <th>286</th>\n",
              "      <td>373</td>\n",
              "      <td>Rodolfo Velazquez</td>\n",
              "      <td>16/04/15</td>\n",
              "      <td>shot</td>\n",
              "      <td>knife</td>\n",
              "      <td>47.0</td>\n",
              "      <td>M</td>\n",
              "      <td>H</td>\n",
              "      <td>Shafter</td>\n",
              "      <td>CA</td>\n",
              "      <td>False</td>\n",
              "      <td>other</td>\n",
              "      <td>Not fleeing</td>\n",
              "      <td>False</td>\n",
              "    </tr>\n",
              "    <tr>\n",
              "      <th>2325</th>\n",
              "      <td>2583</td>\n",
              "      <td>Buford Shane Whitson</td>\n",
              "      <td>15/05/17</td>\n",
              "      <td>shot</td>\n",
              "      <td>gun</td>\n",
              "      <td>47.0</td>\n",
              "      <td>M</td>\n",
              "      <td>W</td>\n",
              "      <td>Johnson City</td>\n",
              "      <td>TN</td>\n",
              "      <td>True</td>\n",
              "      <td>attack</td>\n",
              "      <td>Other</td>\n",
              "      <td>False</td>\n",
              "    </tr>\n",
              "    <tr>\n",
              "      <th>486</th>\n",
              "      <td>610</td>\n",
              "      <td>John Leonard Berry</td>\n",
              "      <td>06/07/15</td>\n",
              "      <td>shot and Tasered</td>\n",
              "      <td>vehicle</td>\n",
              "      <td>31.0</td>\n",
              "      <td>M</td>\n",
              "      <td>W</td>\n",
              "      <td>Lakewood</td>\n",
              "      <td>CA</td>\n",
              "      <td>True</td>\n",
              "      <td>attack</td>\n",
              "      <td>Other</td>\n",
              "      <td>False</td>\n",
              "    </tr>\n",
              "    <tr>\n",
              "      <th>208</th>\n",
              "      <td>228</td>\n",
              "      <td>Shane Watkins</td>\n",
              "      <td>19/03/15</td>\n",
              "      <td>shot</td>\n",
              "      <td>box cutter</td>\n",
              "      <td>39.0</td>\n",
              "      <td>M</td>\n",
              "      <td>W</td>\n",
              "      <td>Lawrence County</td>\n",
              "      <td>AL</td>\n",
              "      <td>True</td>\n",
              "      <td>other</td>\n",
              "      <td>Not fleeing</td>\n",
              "      <td>True</td>\n",
              "    </tr>\n",
              "    <tr>\n",
              "      <th>2525</th>\n",
              "      <td>2820</td>\n",
              "      <td>Deltra Henderson</td>\n",
              "      <td>27/07/17</td>\n",
              "      <td>shot</td>\n",
              "      <td>gun</td>\n",
              "      <td>39.0</td>\n",
              "      <td>M</td>\n",
              "      <td>B</td>\n",
              "      <td>Homer</td>\n",
              "      <td>LA</td>\n",
              "      <td>False</td>\n",
              "      <td>attack</td>\n",
              "      <td>Car</td>\n",
              "      <td>False</td>\n",
              "    </tr>\n",
              "    <tr>\n",
              "      <th>2143</th>\n",
              "      <td>2393</td>\n",
              "      <td>Earl Riley</td>\n",
              "      <td>28/02/17</td>\n",
              "      <td>shot</td>\n",
              "      <td>gun</td>\n",
              "      <td>25.0</td>\n",
              "      <td>M</td>\n",
              "      <td>B</td>\n",
              "      <td>Houston</td>\n",
              "      <td>TX</td>\n",
              "      <td>False</td>\n",
              "      <td>attack</td>\n",
              "      <td>Not fleeing</td>\n",
              "      <td>False</td>\n",
              "    </tr>\n",
              "    <tr>\n",
              "      <th>1788</th>\n",
              "      <td>2000</td>\n",
              "      <td>Jay Johannes Holmgren</td>\n",
              "      <td>28/10/16</td>\n",
              "      <td>shot</td>\n",
              "      <td>gun</td>\n",
              "      <td>37.0</td>\n",
              "      <td>M</td>\n",
              "      <td>W</td>\n",
              "      <td>Morris</td>\n",
              "      <td>MN</td>\n",
              "      <td>False</td>\n",
              "      <td>attack</td>\n",
              "      <td>Other</td>\n",
              "      <td>False</td>\n",
              "    </tr>\n",
              "    <tr>\n",
              "      <th>1151</th>\n",
              "      <td>1320</td>\n",
              "      <td>Cedric Ford</td>\n",
              "      <td>25/02/16</td>\n",
              "      <td>shot</td>\n",
              "      <td>gun</td>\n",
              "      <td>38.0</td>\n",
              "      <td>M</td>\n",
              "      <td>B</td>\n",
              "      <td>Hesston</td>\n",
              "      <td>KS</td>\n",
              "      <td>True</td>\n",
              "      <td>attack</td>\n",
              "      <td>Not fleeing</td>\n",
              "      <td>False</td>\n",
              "    </tr>\n",
              "    <tr>\n",
              "      <th>322</th>\n",
              "      <td>416</td>\n",
              "      <td>Joshua Deysie</td>\n",
              "      <td>29/04/15</td>\n",
              "      <td>shot</td>\n",
              "      <td>gun</td>\n",
              "      <td>33.0</td>\n",
              "      <td>M</td>\n",
              "      <td>H</td>\n",
              "      <td>Mesa</td>\n",
              "      <td>AZ</td>\n",
              "      <td>True</td>\n",
              "      <td>attack</td>\n",
              "      <td>Not fleeing</td>\n",
              "      <td>False</td>\n",
              "    </tr>\n",
              "    <tr>\n",
              "      <th>1532</th>\n",
              "      <td>1723</td>\n",
              "      <td>Derek Love</td>\n",
              "      <td>21/07/16</td>\n",
              "      <td>shot</td>\n",
              "      <td>gun</td>\n",
              "      <td>50.0</td>\n",
              "      <td>M</td>\n",
              "      <td>B</td>\n",
              "      <td>Chicago</td>\n",
              "      <td>IL</td>\n",
              "      <td>False</td>\n",
              "      <td>attack</td>\n",
              "      <td>Not fleeing</td>\n",
              "      <td>False</td>\n",
              "    </tr>\n",
              "  </tbody>\n",
              "</table>\n",
              "</div>"
            ],
            "text/plain": [
              "        id                   name      date   manner_of_death       armed  \\\n",
              "286    373      Rodolfo Velazquez  16/04/15              shot       knife   \n",
              "2325  2583   Buford Shane Whitson  15/05/17              shot         gun   \n",
              "486    610     John Leonard Berry  06/07/15  shot and Tasered     vehicle   \n",
              "208    228          Shane Watkins  19/03/15              shot  box cutter   \n",
              "2525  2820       Deltra Henderson  27/07/17              shot         gun   \n",
              "2143  2393             Earl Riley  28/02/17              shot         gun   \n",
              "1788  2000  Jay Johannes Holmgren  28/10/16              shot         gun   \n",
              "1151  1320            Cedric Ford  25/02/16              shot         gun   \n",
              "322    416          Joshua Deysie  29/04/15              shot         gun   \n",
              "1532  1723             Derek Love  21/07/16              shot         gun   \n",
              "\n",
              "       age gender race             city state  signs_of_mental_illness  \\\n",
              "286   47.0      M    H          Shafter    CA                    False   \n",
              "2325  47.0      M    W     Johnson City    TN                     True   \n",
              "486   31.0      M    W         Lakewood    CA                     True   \n",
              "208   39.0      M    W  Lawrence County    AL                     True   \n",
              "2525  39.0      M    B            Homer    LA                    False   \n",
              "2143  25.0      M    B          Houston    TX                    False   \n",
              "1788  37.0      M    W           Morris    MN                    False   \n",
              "1151  38.0      M    B          Hesston    KS                     True   \n",
              "322   33.0      M    H             Mesa    AZ                     True   \n",
              "1532  50.0      M    B          Chicago    IL                    False   \n",
              "\n",
              "     threat_level         flee  body_camera  \n",
              "286         other  Not fleeing        False  \n",
              "2325       attack        Other        False  \n",
              "486        attack        Other        False  \n",
              "208         other  Not fleeing         True  \n",
              "2525       attack          Car        False  \n",
              "2143       attack  Not fleeing        False  \n",
              "1788       attack        Other        False  \n",
              "1151       attack  Not fleeing        False  \n",
              "322        attack  Not fleeing        False  \n",
              "1532       attack  Not fleeing        False  "
            ]
          },
          "execution_count": 22,
          "metadata": {},
          "output_type": "execute_result"
        }
      ],
      "source": [
        "# Be noticed that your output may be different from the one below\n",
        "\n",
        "# YOUR CODE IS HERE\n",
        "kill.sample(10)"
      ]
    },
    {
      "cell_type": "markdown",
      "metadata": {
        "id": "rofuOgthjUuP"
      },
      "source": [
        "Desired Output:\n",
        "\n",
        "<img src=https://i.ibb.co/cY90CMv/DV2-1a.png width=\"700\" height=\"200\">  "
      ]
    },
    {
      "cell_type": "code",
      "execution_count": null,
      "metadata": {
        "id": "vWjxr466jUuP",
        "outputId": "84ab082a-b343-4f32-c785-ee3623c54002"
      },
      "outputs": [
        {
          "data": {
            "text/plain": [
              "array(['shot', 'shot and Tasered'], dtype=object)"
            ]
          },
          "execution_count": 30,
          "metadata": {},
          "output_type": "execute_result"
        }
      ],
      "source": [
        "# YOUR CODE IS HERE\n",
        "kill.manner_of_death.unique()"
      ]
    },
    {
      "cell_type": "raw",
      "metadata": {
        "id": "Ix5rSrJvjUuP"
      },
      "source": [
        "Desired Output:\n",
        "\n",
        "array(['shot', 'shot and Tasered'], dtype=object)"
      ]
    },
    {
      "cell_type": "markdown",
      "metadata": {
        "id": "kAN1jKeE2alO"
      },
      "source": [
        "**INSTRUCTION: Demonstrate the Qurtiles of age in both genders separeted by manner of death.**"
      ]
    },
    {
      "cell_type": "code",
      "execution_count": null,
      "metadata": {
        "id": "Irx9S0gMjUuP",
        "outputId": "57365070-2434-4e57-e454-ae1093aa0e70"
      },
      "outputs": [
        {
          "data": {
            "image/png": "[encoded data removed]",
            "text/plain": [
              "<Figure size 432x288 with 1 Axes>"
            ]
          },
          "metadata": {
            "needs_background": "light"
          },
          "output_type": "display_data"
        }
      ],
      "source": [
        "# With Seaborn Boxplot\n",
        "\n",
        "# YOUR CODE IS HERE\n",
        "sns.boxplot(x=kill.gender, y=kill.age, hue=kill.manner_of_death);\n",
        "plt.legend(loc=(1.05,0.85));"
      ]
    },
    {
      "cell_type": "markdown",
      "metadata": {
        "id": "ntiEhwn0jUuQ"
      },
      "source": [
        "Desired Output:\n",
        "\n",
        "<img src=https://i.ibb.co/yFZXX8J/DV2-1b.png width=\"700\" height=\"200\">  "
      ]
    },
    {
      "cell_type": "markdown",
      "metadata": {
        "_uuid": "9b3ff5b459aa93bbce95ba93f6939708473ef040",
        "id": "KXtWPEIy2alO"
      },
      "source": [
        "### <p style=\"background-color:#9d4f8c; font-family:newtimeroman; color:#FFF9ED; font-size:125%; text-align:left; border-radius:10px 10px;\">1.2 Swarm Plot of age in both genders separeted by manner of death.</p>\n",
        "\n",
        "<a id=\"2.2\"></a>\n",
        "<a href=\"#toc\" class=\"btn btn-primary btn-sm\" role=\"button\" aria-pressed=\"true\" \n",
        "style=\"color:blue; background-color:#dfa8e4\" data-toggle=\"popover\">Content</a>"
      ]
    },
    {
      "cell_type": "markdown",
      "metadata": {
        "id": "lDAkV5tK2alO"
      },
      "source": [
        "**INSTRUCTION: Demonstrate the age in both genders separeted by manner of death by a swarm plot.**"
      ]
    },
    {
      "cell_type": "code",
      "execution_count": null,
      "metadata": {
        "id": "IC1SoflUjUuQ",
        "outputId": "d90749bd-6990-4b4a-8b40-63f7fe5160d4"
      },
      "outputs": [
        {
          "data": {
            "image/png": "[encoded data removed]",
            "text/plain": [
              "<Figure size 432x288 with 1 Axes>"
            ]
          },
          "metadata": {
            "needs_background": "light"
          },
          "output_type": "display_data"
        }
      ],
      "source": [
        "# With Seaborn Swarmplot\n",
        "\n",
        "# YOUR CODE IS HERE\n",
        "sns.swarmplot(x=kill.gender, y=kill.age, hue=kill.manner_of_death);\n",
        "plt.legend(loc=(0.4,0.85));\n"
      ]
    },
    {
      "cell_type": "markdown",
      "metadata": {
        "id": "VFVzECtNjUuQ"
      },
      "source": [
        "Desired Output:\n",
        "\n",
        "<img src=https://i.ibb.co/w4fg9WR/DV2-1c.png width=\"600\" height=\"200\">  "
      ]
    },
    {
      "cell_type": "markdown",
      "metadata": {
        "id": "PjDifPQ82alT"
      },
      "source": [
        "## <p style=\"background-color:#9d4f8c; font-family:newtimeroman; color:#FFF9ED; font-size:150%; text-align:center; border-radius:10px 10px;\">Task-02: Plot Most Dangerous Cities</p>\n",
        "\n",
        "<a id=\"3\"></a>\n",
        "<a href=\"#toc\" class=\"btn btn-primary btn-sm\" role=\"button\" aria-pressed=\"true\" \n",
        "style=\"color:blue; background-color:#dfa8e4\" data-toggle=\"popover\">Content</a>"
      ]
    },
    {
      "cell_type": "code",
      "execution_count": null,
      "metadata": {
        "id": "arlyEHGgjUuR",
        "outputId": "85ade972-7cfb-4dd7-afa3-b48ef2cce3d2"
      },
      "outputs": [
        {
          "data": {
            "text/html": [
              "<div>\n",
              "<style scoped>\n",
              "    .dataframe tbody tr th:only-of-type {\n",
              "        vertical-align: middle;\n",
              "    }\n",
              "\n",
              "    .dataframe tbody tr th {\n",
              "        vertical-align: top;\n",
              "    }\n",
              "\n",
              "    .dataframe thead th {\n",
              "        text-align: right;\n",
              "    }\n",
              "</style>\n",
              "<table border=\"1\" class=\"dataframe\">\n",
              "  <thead>\n",
              "    <tr style=\"text-align: right;\">\n",
              "      <th></th>\n",
              "      <th>id</th>\n",
              "      <th>name</th>\n",
              "      <th>date</th>\n",
              "      <th>manner_of_death</th>\n",
              "      <th>armed</th>\n",
              "      <th>age</th>\n",
              "      <th>gender</th>\n",
              "      <th>race</th>\n",
              "      <th>city</th>\n",
              "      <th>state</th>\n",
              "      <th>signs_of_mental_illness</th>\n",
              "      <th>threat_level</th>\n",
              "      <th>flee</th>\n",
              "      <th>body_camera</th>\n",
              "    </tr>\n",
              "  </thead>\n",
              "  <tbody>\n",
              "    <tr>\n",
              "      <th>0</th>\n",
              "      <td>3</td>\n",
              "      <td>Tim Elliot</td>\n",
              "      <td>02/01/15</td>\n",
              "      <td>shot</td>\n",
              "      <td>gun</td>\n",
              "      <td>53.0</td>\n",
              "      <td>M</td>\n",
              "      <td>A</td>\n",
              "      <td>Shelton</td>\n",
              "      <td>WA</td>\n",
              "      <td>True</td>\n",
              "      <td>attack</td>\n",
              "      <td>Not fleeing</td>\n",
              "      <td>False</td>\n",
              "    </tr>\n",
              "    <tr>\n",
              "      <th>1</th>\n",
              "      <td>4</td>\n",
              "      <td>Lewis Lee Lembke</td>\n",
              "      <td>02/01/15</td>\n",
              "      <td>shot</td>\n",
              "      <td>gun</td>\n",
              "      <td>47.0</td>\n",
              "      <td>M</td>\n",
              "      <td>W</td>\n",
              "      <td>Aloha</td>\n",
              "      <td>OR</td>\n",
              "      <td>False</td>\n",
              "      <td>attack</td>\n",
              "      <td>Not fleeing</td>\n",
              "      <td>False</td>\n",
              "    </tr>\n",
              "    <tr>\n",
              "      <th>2</th>\n",
              "      <td>5</td>\n",
              "      <td>John Paul Quintero</td>\n",
              "      <td>03/01/15</td>\n",
              "      <td>shot and Tasered</td>\n",
              "      <td>unarmed</td>\n",
              "      <td>23.0</td>\n",
              "      <td>M</td>\n",
              "      <td>H</td>\n",
              "      <td>Wichita</td>\n",
              "      <td>KS</td>\n",
              "      <td>False</td>\n",
              "      <td>other</td>\n",
              "      <td>Not fleeing</td>\n",
              "      <td>False</td>\n",
              "    </tr>\n",
              "    <tr>\n",
              "      <th>3</th>\n",
              "      <td>8</td>\n",
              "      <td>Matthew Hoffman</td>\n",
              "      <td>04/01/15</td>\n",
              "      <td>shot</td>\n",
              "      <td>toy weapon</td>\n",
              "      <td>32.0</td>\n",
              "      <td>M</td>\n",
              "      <td>W</td>\n",
              "      <td>San Francisco</td>\n",
              "      <td>CA</td>\n",
              "      <td>True</td>\n",
              "      <td>attack</td>\n",
              "      <td>Not fleeing</td>\n",
              "      <td>False</td>\n",
              "    </tr>\n",
              "    <tr>\n",
              "      <th>4</th>\n",
              "      <td>9</td>\n",
              "      <td>Michael Rodriguez</td>\n",
              "      <td>04/01/15</td>\n",
              "      <td>shot</td>\n",
              "      <td>nail gun</td>\n",
              "      <td>39.0</td>\n",
              "      <td>M</td>\n",
              "      <td>H</td>\n",
              "      <td>Evans</td>\n",
              "      <td>CO</td>\n",
              "      <td>False</td>\n",
              "      <td>attack</td>\n",
              "      <td>Not fleeing</td>\n",
              "      <td>False</td>\n",
              "    </tr>\n",
              "    <tr>\n",
              "      <th>...</th>\n",
              "      <td>...</td>\n",
              "      <td>...</td>\n",
              "      <td>...</td>\n",
              "      <td>...</td>\n",
              "      <td>...</td>\n",
              "      <td>...</td>\n",
              "      <td>...</td>\n",
              "      <td>...</td>\n",
              "      <td>...</td>\n",
              "      <td>...</td>\n",
              "      <td>...</td>\n",
              "      <td>...</td>\n",
              "      <td>...</td>\n",
              "      <td>...</td>\n",
              "    </tr>\n",
              "    <tr>\n",
              "      <th>2519</th>\n",
              "      <td>2805</td>\n",
              "      <td>Aries Clark</td>\n",
              "      <td>25/07/17</td>\n",
              "      <td>shot</td>\n",
              "      <td>undetermined</td>\n",
              "      <td>16.0</td>\n",
              "      <td>M</td>\n",
              "      <td>B</td>\n",
              "      <td>Marion</td>\n",
              "      <td>AR</td>\n",
              "      <td>False</td>\n",
              "      <td>undetermined</td>\n",
              "      <td>Not fleeing</td>\n",
              "      <td>False</td>\n",
              "    </tr>\n",
              "    <tr>\n",
              "      <th>2523</th>\n",
              "      <td>2808</td>\n",
              "      <td>Kesharn K. Burney</td>\n",
              "      <td>26/07/17</td>\n",
              "      <td>shot</td>\n",
              "      <td>vehicle</td>\n",
              "      <td>25.0</td>\n",
              "      <td>M</td>\n",
              "      <td>B</td>\n",
              "      <td>Dayton</td>\n",
              "      <td>OH</td>\n",
              "      <td>False</td>\n",
              "      <td>attack</td>\n",
              "      <td>Car</td>\n",
              "      <td>False</td>\n",
              "    </tr>\n",
              "    <tr>\n",
              "      <th>2525</th>\n",
              "      <td>2820</td>\n",
              "      <td>Deltra Henderson</td>\n",
              "      <td>27/07/17</td>\n",
              "      <td>shot</td>\n",
              "      <td>gun</td>\n",
              "      <td>39.0</td>\n",
              "      <td>M</td>\n",
              "      <td>B</td>\n",
              "      <td>Homer</td>\n",
              "      <td>LA</td>\n",
              "      <td>False</td>\n",
              "      <td>attack</td>\n",
              "      <td>Car</td>\n",
              "      <td>False</td>\n",
              "    </tr>\n",
              "    <tr>\n",
              "      <th>2533</th>\n",
              "      <td>2817</td>\n",
              "      <td>Isaiah Tucker</td>\n",
              "      <td>31/07/17</td>\n",
              "      <td>shot</td>\n",
              "      <td>vehicle</td>\n",
              "      <td>28.0</td>\n",
              "      <td>M</td>\n",
              "      <td>B</td>\n",
              "      <td>Oshkosh</td>\n",
              "      <td>WI</td>\n",
              "      <td>False</td>\n",
              "      <td>attack</td>\n",
              "      <td>Car</td>\n",
              "      <td>True</td>\n",
              "    </tr>\n",
              "    <tr>\n",
              "      <th>2534</th>\n",
              "      <td>2815</td>\n",
              "      <td>Dwayne Jeune</td>\n",
              "      <td>31/07/17</td>\n",
              "      <td>shot</td>\n",
              "      <td>knife</td>\n",
              "      <td>32.0</td>\n",
              "      <td>M</td>\n",
              "      <td>B</td>\n",
              "      <td>Brooklyn</td>\n",
              "      <td>NY</td>\n",
              "      <td>True</td>\n",
              "      <td>attack</td>\n",
              "      <td>Not fleeing</td>\n",
              "      <td>False</td>\n",
              "    </tr>\n",
              "  </tbody>\n",
              "</table>\n",
              "<p>2254 rows × 14 columns</p>\n",
              "</div>"
            ],
            "text/plain": [
              "        id                name      date   manner_of_death         armed  \\\n",
              "0        3          Tim Elliot  02/01/15              shot           gun   \n",
              "1        4    Lewis Lee Lembke  02/01/15              shot           gun   \n",
              "2        5  John Paul Quintero  03/01/15  shot and Tasered       unarmed   \n",
              "3        8     Matthew Hoffman  04/01/15              shot    toy weapon   \n",
              "4        9   Michael Rodriguez  04/01/15              shot      nail gun   \n",
              "...    ...                 ...       ...               ...           ...   \n",
              "2519  2805         Aries Clark  25/07/17              shot  undetermined   \n",
              "2523  2808   Kesharn K. Burney  26/07/17              shot       vehicle   \n",
              "2525  2820    Deltra Henderson  27/07/17              shot           gun   \n",
              "2533  2817       Isaiah Tucker  31/07/17              shot       vehicle   \n",
              "2534  2815        Dwayne Jeune  31/07/17              shot         knife   \n",
              "\n",
              "       age gender race           city state  signs_of_mental_illness  \\\n",
              "0     53.0      M    A        Shelton    WA                     True   \n",
              "1     47.0      M    W          Aloha    OR                    False   \n",
              "2     23.0      M    H        Wichita    KS                    False   \n",
              "3     32.0      M    W  San Francisco    CA                     True   \n",
              "4     39.0      M    H          Evans    CO                    False   \n",
              "...    ...    ...  ...            ...   ...                      ...   \n",
              "2519  16.0      M    B         Marion    AR                    False   \n",
              "2523  25.0      M    B         Dayton    OH                    False   \n",
              "2525  39.0      M    B          Homer    LA                    False   \n",
              "2533  28.0      M    B        Oshkosh    WI                    False   \n",
              "2534  32.0      M    B       Brooklyn    NY                     True   \n",
              "\n",
              "      threat_level         flee  body_camera  \n",
              "0           attack  Not fleeing        False  \n",
              "1           attack  Not fleeing        False  \n",
              "2            other  Not fleeing        False  \n",
              "3           attack  Not fleeing        False  \n",
              "4           attack  Not fleeing        False  \n",
              "...            ...          ...          ...  \n",
              "2519  undetermined  Not fleeing        False  \n",
              "2523        attack          Car        False  \n",
              "2525        attack          Car        False  \n",
              "2533        attack          Car         True  \n",
              "2534        attack  Not fleeing        False  \n",
              "\n",
              "[2254 rows x 14 columns]"
            ]
          },
          "execution_count": 50,
          "metadata": {},
          "output_type": "execute_result"
        }
      ],
      "source": [
        "# YOUR CODE IS HERE\n",
        "kill\n"
      ]
    },
    {
      "cell_type": "raw",
      "metadata": {
        "id": "sLdMWroNjUuR"
      },
      "source": [
        "Desired Output:\n",
        "\n",
        "Los Angeles     35\n",
        "Phoenix         28\n",
        "Houston         24\n",
        "Chicago         22\n",
        "Austin          18\n",
        "Las Vegas       17\n",
        "Columbus        16\n",
        "Miami           15\n",
        "San Antonio     15\n",
        "Indianapolis    14\n",
        "St. Louis       14\n",
        "Bakersfield     13\n",
        "Name: city, dtype: int64"
      ]
    },
    {
      "cell_type": "code",
      "execution_count": null,
      "metadata": {
        "id": "xqyPXBLKjUuR",
        "outputId": "13f6911e-b5f3-44e3-ae11-38ca7f272dbe"
      },
      "outputs": [
        {
          "data": {
            "image/png": "[encoded data removed]",
            "text/plain": [
              "<Figure size 720x432 with 1 Axes>"
            ]
          },
          "metadata": {
            "needs_background": "light"
          },
          "output_type": "display_data"
        }
      ],
      "source": [
        "\n",
        "plt.figure(figsize=(10, 6))\n",
        "sns.barplot(x=kill['city'].value_counts(ascending=False).head(12).index, y=kill['city'].value_counts(ascending=False).head(12).values)\n",
        "\n",
        "for i, count in enumerate(kill['city'].value_counts(ascending=False).head(12).values):\n",
        "    plt.text(i, count, str(count), ha='center', va='bottom')\n",
        "\n",
        "plt.xlabel('City')\n",
        "plt.ylabel('Count')\n",
        "plt.title('Most Dangerous Cities')\n",
        "plt.xticks(rotation=45, ha='right')\n",
        "plt.show()"
      ]
    },
    {
      "cell_type": "code",
      "execution_count": null,
      "metadata": {
        "id": "D1WYA3-ojUuR"
      },
      "outputs": [],
      "source": []
    },
    {
      "cell_type": "markdown",
      "metadata": {
        "id": "ZrHgqZ5fjUuR"
      },
      "source": [
        "Desired Output:\n",
        "\n",
        "<img src=https://i.ibb.co/Ctxg6HF/DV2-2a.png width=\"500\" height=\"200\">  "
      ]
    },
    {
      "cell_type": "code",
      "execution_count": null,
      "metadata": {
        "id": "F8eJOenejUuR",
        "outputId": "4a36477e-111f-4896-b3d7-38e70eb36cbc"
      },
      "outputs": [
        {
          "data": {
            "image/png": "[encoded data removed]",
            "text/plain": [
              "<Figure size 720x432 with 1 Axes>"
            ]
          },
          "metadata": {
            "needs_background": "light"
          },
          "output_type": "display_data"
        }
      ],
      "source": [
        "# With Seaborn Countplot\n",
        "\n",
        "# YOUR CODE IS HERE\n",
        "plt.figure(figsize=(10, 6))\n",
        "sns.countplot(data=kill, x='city', order=kill['city'].value_counts(ascending=False).head(12).index)\n",
        "\n",
        "for i, count in enumerate(kill['city'].value_counts(ascending=False).head(12).values):\n",
        "    plt.text(i, count, str(count), ha='center', va='bottom')\n",
        "\n",
        "plt.xlabel('City')\n",
        "plt.ylabel('Count')\n",
        "plt.title('Most Dangerous Cities')\n",
        "plt.xticks(rotation=45, ha='right')\n",
        "plt.show()\n"
      ]
    },
    {
      "cell_type": "markdown",
      "metadata": {
        "id": "D-4zRiSpjUuX"
      },
      "source": [
        "Desired Output:\n",
        "\n",
        "<img src=https://i.ibb.co/SysLN7P/DV2-2b.png width=\"500\" height=\"200\">  "
      ]
    },
    {
      "cell_type": "markdown",
      "metadata": {
        "id": "fRkQXetu2alU"
      },
      "source": [
        "## <p style=\"background-color:#9d4f8c; font-family:newtimeroman; color:#FFF9ED; font-size:150%; text-align:center; border-radius:10px 10px;\">Task-03: Plot 20 Most Dangerous States</p>\n",
        "\n",
        "<a id=\"4\"></a>\n",
        "<a href=\"#toc\" class=\"btn btn-primary btn-sm\" role=\"button\" aria-pressed=\"true\" \n",
        "style=\"color:blue; background-color:#dfa8e4\" data-toggle=\"popover\">Content</a>"
      ]
    },
    {
      "cell_type": "code",
      "execution_count": null,
      "metadata": {
        "id": "UtE4FQSqjUuX",
        "outputId": "50658e9a-fb55-4088-aaf4-a4f526b8f194"
      },
      "outputs": [
        {
          "data": {
            "text/plain": [
              "CA    366\n",
              "TX    200\n",
              "FL    136\n",
              "AZ    105\n",
              "OH     70\n",
              "NC     66\n",
              "OK     65\n",
              "CO     63\n",
              "GA     61\n",
              "MO     58\n",
              "TN     56\n",
              "IL     56\n",
              "WA     51\n",
              "LA     47\n",
              "AL     45\n",
              "PA     45\n",
              "NY     43\n",
              "VA     43\n",
              "WI     42\n",
              "NM     41\n",
              "Name: state, dtype: int64"
            ]
          },
          "execution_count": 106,
          "metadata": {},
          "output_type": "execute_result"
        }
      ],
      "source": [
        "# YOUR CODE IS HERE\n",
        "kill.state.value_counts().head(20)\n"
      ]
    },
    {
      "cell_type": "raw",
      "metadata": {
        "id": "k5xRQ9qQjUuX"
      },
      "source": [
        "Desired Output:\n",
        "\n",
        "CA    366\n",
        "TX    200\n",
        "FL    136\n",
        "AZ    105\n",
        "OH     70\n",
        "NC     66\n",
        "OK     65\n",
        "CO     63\n",
        "GA     61\n",
        "MO     58\n",
        "TN     56\n",
        "IL     56\n",
        "WA     51\n",
        "LA     47\n",
        "AL     45\n",
        "PA     45\n",
        "NY     43\n",
        "VA     43\n",
        "WI     42\n",
        "NM     41\n",
        "Name: state, dtype: int64"
      ]
    },
    {
      "cell_type": "code",
      "execution_count": null,
      "metadata": {
        "id": "E-BJBSbijUuY",
        "outputId": "6a511b7b-408e-477b-c095-9c580ed62d01"
      },
      "outputs": [
        {
          "data": {
            "image/png": "[encoded data removed]",
            "text/plain": [
              "<Figure size 720x432 with 1 Axes>"
            ]
          },
          "metadata": {
            "needs_background": "light"
          },
          "output_type": "display_data"
        }
      ],
      "source": [
        "# With Seaborn Barplot\n",
        "\n",
        "# YOUR CODE IS HERE\n",
        "\n",
        "\n",
        "plt.figure(figsize=(10, 6))\n",
        "sns.barplot(x=kill['state'].value_counts(ascending=False).head(20).index, y=kill['state'].value_counts(ascending=False).head(20).values)\n",
        "\n",
        "for i, count in enumerate(kill['state'].value_counts(ascending=False).head(20).values):\n",
        "    plt.text(i, count, str(count), ha='center', va='bottom')\n",
        "\n",
        "plt.xlabel('State')\n",
        "plt.ylabel('Count')\n",
        "plt.title('Most Dangerous States')\n",
        "plt.xticks(rotation=45, ha='right')\n",
        "plt.show()"
      ]
    },
    {
      "cell_type": "markdown",
      "metadata": {
        "id": "fRkSZxpZjUuY"
      },
      "source": [
        "Desired Output:\n",
        "\n",
        "<img src=https://i.ibb.co/51dP6Rf/DV3-3a.png width=\"550\" height=\"200\">  "
      ]
    },
    {
      "cell_type": "code",
      "execution_count": null,
      "metadata": {
        "id": "GRvCdJxnjUuY",
        "outputId": "1dcbefd3-e4f3-4b87-e7fc-d90275b2129a"
      },
      "outputs": [
        {
          "data": {
            "image/png": "[encoded data removed]",
            "text/plain": [
              "<Figure size 720x432 with 1 Axes>"
            ]
          },
          "metadata": {
            "needs_background": "light"
          },
          "output_type": "display_data"
        }
      ],
      "source": [
        "# With Seaborn Countplot\n",
        "\n",
        "# YOUR CODE IS HERE\n",
        "\n",
        "plt.figure(figsize=(10, 6))\n",
        "sns.countplot(data=kill, x='state', order=kill['state'].value_counts(ascending=False).head(20).index)\n",
        "\n",
        "for i, count in enumerate(kill['state'].value_counts(ascending=False).head(20).values):\n",
        "    plt.text(i, count, str(count), ha='center', va='bottom')\n",
        "\n",
        "plt.xlabel('State')\n",
        "plt.ylabel('Count')\n",
        "plt.title('Most Dangerous States')\n",
        "plt.xticks(rotation=45, ha='right')\n",
        "plt.show()\n"
      ]
    },
    {
      "cell_type": "markdown",
      "metadata": {
        "id": "6bOMwC0fjUuY"
      },
      "source": [
        "Desired Output:\n",
        "\n",
        "<img src=https://i.ibb.co/4MJMf4J/DV3-3b.png width=\"550\" height=\"200\">  "
      ]
    },
    {
      "cell_type": "code",
      "execution_count": null,
      "metadata": {
        "id": "JsS35CjW2alU",
        "outputId": "77c0043c-b2e9-47c5-8c16-75965c08b161"
      },
      "outputs": [
        {
          "data": {
            "text/plain": [
              "CA    366\n",
              "TX    200\n",
              "FL    136\n",
              "AZ    105\n",
              "OH     70\n",
              "NC     66\n",
              "OK     65\n",
              "CO     63\n",
              "GA     61\n",
              "MO     58\n",
              "TN     56\n",
              "IL     56\n",
              "WA     51\n",
              "LA     47\n",
              "PA     45\n",
              "AL     45\n",
              "NY     43\n",
              "VA     43\n",
              "WI     42\n",
              "NM     41\n",
              "Name: state, dtype: int64"
            ]
          },
          "execution_count": 211,
          "metadata": {
            "tags": []
          },
          "output_type": "execute_result"
        }
      ],
      "source": []
    },
    {
      "cell_type": "markdown",
      "metadata": {
        "id": "pMtlcHaS2alU"
      },
      "source": [
        "## <p style=\"background-color:#9d4f8c; font-family:newtimeroman; color:#FFF9ED; font-size:150%; text-align:center; border-radius:10px 10px;\">Task-04: Plot the Killed People Having Mental-Illness or Not</p>\n",
        "\n",
        "<a id=\"5\"></a>\n",
        "<a href=\"#toc\" class=\"btn btn-primary btn-sm\" role=\"button\" aria-pressed=\"true\" \n",
        "style=\"color:blue; background-color:#dfa8e4\" data-toggle=\"popover\">Content</a>"
      ]
    },
    {
      "cell_type": "code",
      "execution_count": null,
      "metadata": {
        "id": "gZmsocnXjUuZ",
        "outputId": "7fc29f0e-531d-4ee1-fa18-38a724504447"
      },
      "outputs": [
        {
          "data": {
            "text/plain": [
              "False    1681\n",
              "True      573\n",
              "Name: signs_of_mental_illness, dtype: int64"
            ]
          },
          "execution_count": 111,
          "metadata": {},
          "output_type": "execute_result"
        }
      ],
      "source": [
        "# YOUR CODE IS HERE\n",
        "kill.signs_of_mental_illness.value_counts()\n"
      ]
    },
    {
      "cell_type": "raw",
      "metadata": {
        "id": "E2ASzG9ejUuZ"
      },
      "source": [
        "Desired Output:\n",
        "\n",
        "False    1681\n",
        "True      573\n",
        "Name: signs_of_mental_illness, dtype: int64"
      ]
    },
    {
      "cell_type": "code",
      "execution_count": null,
      "metadata": {
        "id": "Ig7SP1H5jUua"
      },
      "outputs": [],
      "source": []
    },
    {
      "cell_type": "code",
      "execution_count": null,
      "metadata": {
        "id": "qSsBVjATjUua",
        "outputId": "ed7b9509-9f26-43d8-9006-cb3634c2f831"
      },
      "outputs": [
        {
          "data": {
            "image/png": "[encoded data removed]",
            "text/plain": [
              "<Figure size 432x288 with 1 Axes>"
            ]
          },
          "metadata": {
            "needs_background": "light"
          },
          "output_type": "display_data"
        }
      ],
      "source": [
        "# With Seaborn Barplot\n",
        "\n",
        "# YOUR CODE IS HERE\n",
        "sns.barplot(x=kill.signs_of_mental_illness.value_counts().index, y=kill.signs_of_mental_illness.value_counts().values)\n",
        "for i, count in enumerate(kill.signs_of_mental_illness.value_counts().values):\n",
        "    plt.text(i, count, str(count), ha='center', va='bottom')\n"
      ]
    },
    {
      "cell_type": "markdown",
      "metadata": {
        "id": "reloKtmbjUua"
      },
      "source": [
        "Desired Output:\n",
        "\n",
        "<img src=https://i.ibb.co/FWWBXVW/DV2-4a.png width=\"500\" height=\"200\">  "
      ]
    },
    {
      "cell_type": "code",
      "execution_count": null,
      "metadata": {
        "id": "ran8cgXnjUua",
        "outputId": "c06faab2-5900-4ef9-fc02-34fd68eba497"
      },
      "outputs": [
        {
          "data": {
            "image/png": "[encoded data removed]",
            "text/plain": [
              "<Figure size 720x432 with 1 Axes>"
            ]
          },
          "metadata": {
            "needs_background": "light"
          },
          "output_type": "display_data"
        }
      ],
      "source": [
        "plt.figure(figsize=(10, 6))\n",
        "sns.countplot(x=kill.signs_of_mental_illness)\n",
        "\n",
        "counts = kill.signs_of_mental_illness.value_counts()\n",
        "for i, count in enumerate(counts):\n",
        "    plt.text(i, count, f'{count:.2f}', ha='center', va='bottom', rotation=45)\n",
        "\n",
        "plt.xlabel('Signs of Mental Illness')\n",
        "plt.ylabel('Count')\n",
        "\n",
        "plt.xticks(rotation=45)\n",
        "plt.show()"
      ]
    },
    {
      "cell_type": "markdown",
      "metadata": {
        "id": "8tLQcbTpjUub"
      },
      "source": [
        "Desired Output:\n",
        "\n",
        "<img src=https://i.ibb.co/tPCCzG6/DV2-4b.png width=\"500\" height=\"200\">  "
      ]
    },
    {
      "cell_type": "markdown",
      "metadata": {
        "id": "6tVp5fRT2alV"
      },
      "source": [
        "## <p style=\"background-color:#9d4f8c; font-family:newtimeroman; color:#FFF9ED; font-size:150%; text-align:center; border-radius:10px 10px;\">Task-05: Plot the Number of Threat Types</p>\n",
        "\n",
        "<a id=\"6\"></a>\n",
        "<a href=\"#toc\" class=\"btn btn-primary btn-sm\" role=\"button\" aria-pressed=\"true\" \n",
        "style=\"color:blue; background-color:#dfa8e4\" data-toggle=\"popover\">Content</a>"
      ]
    },
    {
      "cell_type": "code",
      "execution_count": null,
      "metadata": {
        "id": "FPcoJlE7jUub",
        "outputId": "d9bc49c2-50d1-47e1-c692-c1024bfa1ab9"
      },
      "outputs": [
        {
          "data": {
            "text/plain": [
              "attack          1462\n",
              "other            677\n",
              "undetermined     115\n",
              "Name: threat_level, dtype: int64"
            ]
          },
          "execution_count": 137,
          "metadata": {},
          "output_type": "execute_result"
        }
      ],
      "source": [
        "# YOUR CODE IS HERE\n",
        "kill.threat_level.value_counts()\n"
      ]
    },
    {
      "cell_type": "raw",
      "metadata": {
        "id": "B4FD39RGjUuc"
      },
      "source": [
        "Desired Output:\n",
        "\n",
        "attack          1462\n",
        "other            677\n",
        "undetermined     115\n",
        "Name: threat_level, dtype: int64"
      ]
    },
    {
      "cell_type": "code",
      "execution_count": null,
      "metadata": {
        "id": "Di4jrC7AjUuc"
      },
      "outputs": [],
      "source": []
    },
    {
      "cell_type": "code",
      "execution_count": null,
      "metadata": {
        "id": "Uxthcm3sjUuc",
        "outputId": "3ffc0a81-023c-4fee-b7ab-0789a992b34b"
      },
      "outputs": [
        {
          "data": {
            "image/png": "[encoded data removed]",
            "text/plain": [
              "<Figure size 432x288 with 1 Axes>"
            ]
          },
          "metadata": {
            "needs_background": "light"
          },
          "output_type": "display_data"
        }
      ],
      "source": [
        "# With Seaborn Barplot\n",
        "\n",
        "# YOUR CODE IS HERE\n",
        "\n",
        "sns.barplot(x=kill.threat_level.value_counts().index, y=kill.threat_level.value_counts().values)\n",
        "for i, count in enumerate(kill.threat_level.value_counts().values):\n",
        "    plt.text(i, count, str(count), ha='center', va='bottom')\n"
      ]
    },
    {
      "cell_type": "markdown",
      "metadata": {
        "id": "bcukuqfljUud"
      },
      "source": [
        "Desired Output:\n",
        "\n",
        "<img src=https://i.ibb.co/3mCnNtg/DV2-5a.png width=\"500\" height=\"200\">  "
      ]
    },
    {
      "cell_type": "code",
      "execution_count": null,
      "metadata": {
        "id": "9SDLfqEfjUud",
        "outputId": "23e7032f-4b11-46a3-c485-97374f6ac4c6"
      },
      "outputs": [
        {
          "data": {
            "image/png": "[encoded data removed]",
            "text/plain": [
              "<Figure size 720x432 with 1 Axes>"
            ]
          },
          "metadata": {
            "needs_background": "light"
          },
          "output_type": "display_data"
        }
      ],
      "source": [
        "plt.figure(figsize=(10, 6))\n",
        "sns.countplot(x=kill.threat_level)\n",
        "\n",
        "counts = kill.threat_level.value_counts()\n",
        "for i, count in enumerate(counts):\n",
        "    plt.text(i, count, str(count), ha='center', va='bottom')\n",
        "\n",
        "plt.xlabel('Threat Level')\n",
        "plt.ylabel('Count')\n",
        "plt.title('Threat Level Distribution')\n",
        "\n",
        "plt.show()"
      ]
    },
    {
      "cell_type": "markdown",
      "metadata": {
        "id": "Ny0HVD6njUud"
      },
      "source": [
        "Desired Output:\n",
        "\n",
        "<img src=https://i.ibb.co/sFQx6CY/DV2-5b.png width=\"500\" height=\"200\">  "
      ]
    },
    {
      "cell_type": "markdown",
      "metadata": {
        "id": "LfPMzBjF2alV"
      },
      "source": [
        "## <p style=\"background-color:#9d4f8c; font-family:newtimeroman; color:#FFF9ED; font-size:150%; text-align:center; border-radius:10px 10px;\">Task-06: Plot the Number of Flee Types</p>\n",
        "\n",
        "<a id=\"7\"></a>\n",
        "<a href=\"#toc\" class=\"btn btn-primary btn-sm\" role=\"button\" aria-pressed=\"true\" \n",
        "style=\"color:blue; background-color:#dfa8e4\" data-toggle=\"popover\">Content</a>"
      ]
    },
    {
      "cell_type": "code",
      "execution_count": null,
      "metadata": {
        "id": "Y8aORPHrjUue",
        "outputId": "3aeb5adf-bcd0-49c7-815d-883980f9e124"
      },
      "outputs": [
        {
          "data": {
            "text/plain": [
              "Not fleeing    1528\n",
              "Car             360\n",
              "Foot            278\n",
              "Other            88\n",
              "Name: flee, dtype: int64"
            ]
          },
          "execution_count": 156,
          "metadata": {},
          "output_type": "execute_result"
        }
      ],
      "source": [
        "# YOUR CODE IS HERE\n",
        "kill.flee.value_counts()\n"
      ]
    },
    {
      "cell_type": "raw",
      "metadata": {
        "id": "YBqDIWaijUue"
      },
      "source": [
        "Desired Output:\n",
        "\n",
        "Not fleeing    1528\n",
        "Car             360\n",
        "Foot            278\n",
        "Other            88\n",
        "Name: flee, dtype: int64"
      ]
    },
    {
      "cell_type": "code",
      "execution_count": null,
      "metadata": {
        "id": "zEULhe1tjUuf",
        "outputId": "16521cb3-b86c-4d70-aa25-118f45a318fe"
      },
      "outputs": [
        {
          "data": {
            "image/png": "[encoded data removed]",
            "text/plain": [
              "<Figure size 432x288 with 1 Axes>"
            ]
          },
          "metadata": {
            "needs_background": "light"
          },
          "output_type": "display_data"
        }
      ],
      "source": [
        "# With Seaborn Barplot\n",
        "\n",
        "# YOUR CODE IS HERE\n",
        "\n",
        "\n",
        "sns.barplot(x=kill.flee.value_counts().index, y=kill.flee.value_counts().values)\n",
        "for i, count in enumerate(kill.flee.value_counts().values):\n",
        "    plt.text(i, count, str(count), ha='center', va='bottom')"
      ]
    },
    {
      "cell_type": "markdown",
      "metadata": {
        "id": "CZ619WsRjUuf"
      },
      "source": [
        "Desired Output:\n",
        "\n",
        "<img src=https://i.ibb.co/tYkDSB6/DV2-6a.png width=\"500\" height=\"200\">  "
      ]
    },
    {
      "cell_type": "code",
      "execution_count": null,
      "metadata": {
        "id": "NSNRqeVPjUuf",
        "outputId": "4f9ff58f-abc1-48ea-9e03-95d1a17a2ce3"
      },
      "outputs": [
        {
          "data": {
            "image/png": "[encoded data removed]",
            "text/plain": [
              "<Figure size 720x432 with 1 Axes>"
            ]
          },
          "metadata": {
            "needs_background": "light"
          },
          "output_type": "display_data"
        }
      ],
      "source": [
        "# With Seaborn Countplot\n",
        "\n",
        "# YOUR CODE IS HERE\n",
        "\n",
        "plt.figure(figsize=(10, 6))\n",
        "sns.countplot(x=kill.flee)\n",
        "\n",
        "counts = kill.flee.value_counts()\n",
        "for i, count in enumerate(counts):\n",
        "    plt.text(i, count, str(count), ha='center', va='bottom')\n",
        "\n",
        "plt.xlabel('Threat Level')\n",
        "plt.ylabel('Count')\n",
        "plt.title('Threat Level Distribution')\n",
        "\n",
        "plt.show()"
      ]
    },
    {
      "cell_type": "markdown",
      "metadata": {
        "id": "RacCgmINjUug"
      },
      "source": [
        "Desired Output:\n",
        "\n",
        "<img src=https://i.ibb.co/fXXc4xn/DV2-6b.png width=\"500\" height=\"200\">  "
      ]
    },
    {
      "cell_type": "markdown",
      "metadata": {
        "id": "mEW3K462_ml0"
      },
      "source": [
        "<a id=\"8\"></a>\n",
        "<a href=\"#toc\" class=\"btn btn-primary btn-sm\" role=\"button\" aria-pressed=\"true\" \n",
        "style=\"color:blue; background-color:#dfa8e4\" data-toggle=\"popover\">Content</a>\n",
        "\n",
        "## <p style=\"background-color:#9d4f8c; font-family:newtimeroman; color:#FFF9ED; font-size:150%; text-align:center; border-radius:10px 10px;\">THE END OF THE ASSIGNMENT-02</p>\n",
        "\n",
        "# Now. it's time to relax! Take your time and sip your coffee\n",
        "\n",
        "<img src=https://i.ibb.co/jZD3Mqb/relaxing.jpg width=\"800\" height=\"200\">  \n",
        "\n",
        "\n",
        "<p style=\"text-align: center;\"><img src=\"https://i.ibb.co/99DQ3TY/DS-Courses.png\" class=\"img-fluid\" \n",
        "alt=\"CLRSWY\"></p>\n",
        "\n",
        "<a href=\"https://clarusway.com/\"><img align=\"center\" src=\"https://docs.google.com/uc?id=1lY0Uj5R04yMY3-ZppPWxqCr5pvBLYPnV\" alt=\"CLRSWY\" title=\"Way to Reinvent Yourself\"></a><br/>\n",
        "\n",
        "\n",
        "## <p style=\"background-color:#FDFEFE; font-family:newtimeroman; color:#9d4f8c; font-size:120%; text-align:center; border-radius:10px 10px;\">Way to Reinvent Yourself</p>\n",
        "___"
      ]
    }
  ],
  "metadata": {
    "colab": {
      "provenance": [],
      "include_colab_link": true
    },
    "kernelspec": {
      "display_name": "Python 3 (ipykernel)",
      "language": "python",
      "name": "python3"
    },
    "language_info": {
      "codemirror_mode": {
        "name": "ipython",
        "version": 3
      },
      "file_extension": ".py",
      "mimetype": "text/x-python",
      "name": "python",
      "nbconvert_exporter": "python",
      "pygments_lexer": "ipython3",
      "version": "3.9.12"
    },
    "toc": {
      "base_numbering": 1,
      "nav_menu": {},
      "number_sections": false,
      "sideBar": true,
      "skip_h1_title": false,
      "title_cell": "Table of Contents",
      "title_sidebar": "Contents",
      "toc_cell": false,
      "toc_position": {
        "height": "calc(100% - 180px)",
        "left": "10px",
        "top": "150px",
        "width": "304.475px"
      },
      "toc_section_display": true,
      "toc_window_display": true
    }
  },
  "nbformat": 4,
  "nbformat_minor": 0
}